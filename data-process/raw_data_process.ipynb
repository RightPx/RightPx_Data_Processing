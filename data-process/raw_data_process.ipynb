{
 "cells": [
  {
   "cell_type": "markdown",
   "id": "c984b75d",
   "metadata": {},
   "source": [
    "### Setting up the configuration  "
   ]
  },
  {
   "cell_type": "code",
   "execution_count": 1,
   "id": "89d6f77f",
   "metadata": {},
   "outputs": [
    {
     "data": {
      "text/html": [
       "Current session configs: <tt>{'executorMemory': '150G', 'proxyUser': 'assumed-role_DataEngineer_RightPX_rajendra_zignaai_com', 'kind': 'pyspark'}</tt><br>"
      ],
      "text/plain": [
       "<IPython.core.display.HTML object>"
      ]
     },
     "metadata": {},
     "output_type": "display_data"
    },
    {
     "data": {
      "text/html": [
       "No active sessions."
      ],
      "text/plain": [
       "<IPython.core.display.HTML object>"
      ]
     },
     "metadata": {},
     "output_type": "display_data"
    }
   ],
   "source": [
    "%%configure -f \n",
    "{\"executorMemory\":\"150G\"}"
   ]
  },
  {
   "cell_type": "markdown",
   "id": "2624ebfb",
   "metadata": {},
   "source": [
    "### Setting up the iceberg configuration  "
   ]
  },
  {
   "cell_type": "code",
   "execution_count": 2,
   "id": "a02ebe00",
   "metadata": {},
   "outputs": [
    {
     "data": {
      "text/html": [
       "Current session configs: <tt>{'conf': {'spark.sql.files.maxPartitionBytes': '1073741824'}, 'proxyUser': 'assumed-role_DataEngineer_RightPX_rajendra_zignaai_com', 'kind': 'pyspark'}</tt><br>"
      ],
      "text/plain": [
       "<IPython.core.display.HTML object>"
      ]
     },
     "metadata": {},
     "output_type": "display_data"
    },
    {
     "data": {
      "text/html": [
       "No active sessions."
      ],
      "text/plain": [
       "<IPython.core.display.HTML object>"
      ]
     },
     "metadata": {},
     "output_type": "display_data"
    }
   ],
   "source": [
    "%%configure -f\n",
    "{\n",
    "  \"conf\": {\n",
    "    \"spark.sql.files.maxPartitionBytes\": \"1073741824\"\n",
    "  }\n",
    "}"
   ]
  },
  {
   "cell_type": "markdown",
   "id": "35ed9ca4",
   "metadata": {},
   "source": [
    "### Here we are starting the spark application"
   ]
  },
  {
   "cell_type": "code",
   "execution_count": 3,
   "id": "fc11cba2",
   "metadata": {},
   "outputs": [
    {
     "data": {
      "application/vnd.jupyter.widget-view+json": {
       "model_id": "6c58aabc70ee4111aa5f1ffd7752d114",
       "version_major": 2,
       "version_minor": 0
      },
      "text/plain": [
       "VBox()"
      ]
     },
     "metadata": {},
     "output_type": "display_data"
    },
    {
     "name": "stdout",
     "output_type": "stream",
     "text": [
      "Starting Spark application\n"
     ]
    },
    {
     "data": {
      "text/html": [
       "<table>\n",
       "<tr><th>ID</th><th>YARN Application ID</th><th>Kind</th><th>State</th><th>Spark UI</th><th>Driver log</th><th>User</th><th>Current session?</th></tr><tr><td>4</td><td>application_1683567174230_0005</td><td>pyspark</td><td>idle</td><td><a target=\"_blank\" href=\"http://ip-192-168-39-201.ec2.internal:20888/proxy/application_1683567174230_0005/\" class=\"emr-proxy-link\" emr-resource=\"j-FIRWW629ZC5R\n",
       "\" application-id=\"application_1683567174230_0005\">Link</a></td><td><a target=\"_blank\" href=\"http://ip-192-168-35-69.ec2.internal:8042/node/containerlogs/container_1683567174230_0005_01_000001/livy\" >Link</a></td><td>None</td><td>✔</td></tr></table>"
      ],
      "text/plain": [
       "<IPython.core.display.HTML object>"
      ]
     },
     "metadata": {},
     "output_type": "display_data"
    },
    {
     "data": {
      "application/vnd.jupyter.widget-view+json": {
       "model_id": "",
       "version_major": 2,
       "version_minor": 0
      },
      "text/plain": [
       "FloatProgress(value=0.0, bar_style='info', description='Progress:', layout=Layout(height='25px', width='50%'),…"
      ]
     },
     "metadata": {},
     "output_type": "display_data"
    },
    {
     "name": "stdout",
     "output_type": "stream",
     "text": [
      "SparkSession available as 'spark'.\n"
     ]
    },
    {
     "data": {
      "application/vnd.jupyter.widget-view+json": {
       "model_id": "",
       "version_major": 2,
       "version_minor": 0
      },
      "text/plain": [
       "FloatProgress(value=0.0, bar_style='info', description='Progress:', layout=Layout(height='25px', width='50%'),…"
      ]
     },
     "metadata": {},
     "output_type": "display_data"
    }
   ],
   "source": [
    "from pyspark.sql import SparkSession\n",
    "from pyspark.sql import types as T\n",
    "import pyspark.sql.functions as F\n",
    "from pyspark.sql.functions import lit\n",
    "from pyspark.sql.types import IntegerType,BooleanType,DateType,LongType,DoubleType, StringType\n",
    "from pyspark.sql.functions import row_number,lit,col,when\n",
    "from pyspark.sql.window import Window\n",
    "from pyspark.sql.functions import *\n",
    "import time\n",
    "spark = SparkSession.builder \\\n",
    "    .master(\"yarn\") \\\n",
    "    .appName(\"Excellus-UHC-1\") \\\n",
    "    .getOrCreate()\n"
   ]
  },
  {
   "cell_type": "markdown",
   "id": "87abaf9b",
   "metadata": {},
   "source": [
    "### The below function is used to structure(flatten) the unstructured raw data schema "
   ]
  },
  {
   "cell_type": "code",
   "execution_count": 4,
   "id": "b2d6cf02",
   "metadata": {},
   "outputs": [
    {
     "data": {
      "application/vnd.jupyter.widget-view+json": {
       "model_id": "46d990ea6d5a4ec39ad2be500b0ab066",
       "version_major": 2,
       "version_minor": 0
      },
      "text/plain": [
       "VBox()"
      ]
     },
     "metadata": {},
     "output_type": "display_data"
    },
    {
     "data": {
      "application/vnd.jupyter.widget-view+json": {
       "model_id": "",
       "version_major": 2,
       "version_minor": 0
      },
      "text/plain": [
       "FloatProgress(value=0.0, bar_style='info', description='Progress:', layout=Layout(height='25px', width='50%'),…"
      ]
     },
     "metadata": {},
     "output_type": "display_data"
    }
   ],
   "source": [
    "def flatten(df):\n",
    "    complex_fields = dict([\n",
    "        (field.name, field.dataType) \n",
    "        for field in df.schema.fields \n",
    "        if isinstance(field.dataType, T.ArrayType) or isinstance(field.dataType, T.StructType)\n",
    "    ])\n",
    "    \n",
    "    qualify = list(complex_fields.keys())[0] + \"_\"\n",
    "\n",
    "    while len(complex_fields) != 0:\n",
    "        col_name = list(complex_fields.keys())[0]\n",
    "        \n",
    "        if isinstance(complex_fields[col_name], T.StructType):\n",
    "            expanded = [F.col(col_name + '.' + k).alias(col_name + '_' + k) \n",
    "                        for k in [ n.name for n in  complex_fields[col_name]]\n",
    "                       ]\n",
    "            \n",
    "            df = df.select(\"*\", *expanded).drop(col_name)\n",
    "    \n",
    "        elif isinstance(complex_fields[col_name], T.ArrayType): \n",
    "            df = df.withColumn(col_name, F.explode_outer(col_name))\n",
    "    \n",
    "      \n",
    "        complex_fields = dict([\n",
    "            (field.name, field.dataType)\n",
    "            for field in df.schema.fields\n",
    "            if isinstance(field.dataType, T.ArrayType) or isinstance(field.dataType, T.StructType)\n",
    "        ])\n",
    "        \n",
    "    for df_col_name in df.columns:\n",
    "        df = df.withColumnRenamed(df_col_name, df_col_name.replace(qualify, \"\"))\n",
    "    return df"
   ]
  },
  {
   "cell_type": "markdown",
   "id": "df435a57",
   "metadata": {},
   "source": [
    "### Here bellow we have to provide the S3 URI where the \"uhc_reporting_details.csv\" file is saved and we are reading that csv file"
   ]
  },
  {
   "cell_type": "code",
   "execution_count": 5,
   "id": "10f18861",
   "metadata": {},
   "outputs": [
    {
     "data": {
      "application/vnd.jupyter.widget-view+json": {
       "model_id": "1bd7968e49994de8b75f09e5e6468410",
       "version_major": 2,
       "version_minor": 0
      },
      "text/plain": [
       "VBox()"
      ]
     },
     "metadata": {},
     "output_type": "display_data"
    },
    {
     "data": {
      "application/vnd.jupyter.widget-view+json": {
       "model_id": "",
       "version_major": 2,
       "version_minor": 0
      },
      "text/plain": [
       "FloatProgress(value=0.0, bar_style='info', description='Progress:', layout=Layout(height='25px', width='50%'),…"
      ]
     },
     "metadata": {},
     "output_type": "display_data"
    }
   ],
   "source": [
    "path = \"s3://zigna-nsa-data-staging/reporting-details/Q2-2023/may-wellmark-uhc/may_wellmark_uhc_reporting_details.csv\"\n",
    "# uhc_files = spark.read.parquet(path)\n",
    "uhc_files = spark.read.options(header = True).csv(path)"
   ]
  },
  {
   "cell_type": "markdown",
   "id": "78077299",
   "metadata": {},
   "source": [
    "### Here we are checking the schema(structure) of the imported csv file and this file will have 5 columns\n",
    "<br>\n",
    "0.Index\n",
    "<br>\n",
    "1.file_name\n",
    "<br>\n",
    "2.reporting_entity_name\n",
    "<br>\n",
    "3.reporting_entity_type\n",
    "<br>\n",
    "4.last_updated_on\n",
    "<br>\n",
    "5.version"
   ]
  },
  {
   "cell_type": "code",
   "execution_count": 6,
   "id": "dc66fbba",
   "metadata": {},
   "outputs": [
    {
     "data": {
      "application/vnd.jupyter.widget-view+json": {
       "model_id": "60cddf6a689843a1a1764aef46d974cc",
       "version_major": 2,
       "version_minor": 0
      },
      "text/plain": [
       "VBox()"
      ]
     },
     "metadata": {},
     "output_type": "display_data"
    },
    {
     "data": {
      "application/vnd.jupyter.widget-view+json": {
       "model_id": "",
       "version_major": 2,
       "version_minor": 0
      },
      "text/plain": [
       "FloatProgress(value=0.0, bar_style='info', description='Progress:', layout=Layout(height='25px', width='50%'),…"
      ]
     },
     "metadata": {},
     "output_type": "display_data"
    },
    {
     "name": "stdout",
     "output_type": "stream",
     "text": [
      "root\n",
      " |-- file_name: string (nullable = true)\n",
      " |-- reporting_entity_name: string (nullable = true)\n",
      " |-- reporting_entity_type: string (nullable = true)\n",
      " |-- last_updated_on: string (nullable = true)\n",
      " |-- version: string (nullable = true)"
     ]
    }
   ],
   "source": [
    "uhc_files.printSchema()"
   ]
  },
  {
   "cell_type": "markdown",
   "id": "0c3a6b25",
   "metadata": {},
   "source": [
    "### Here we are collecting and assigning the 5 variables data separately"
   ]
  },
  {
   "cell_type": "code",
   "execution_count": 7,
   "id": "3829eb9c",
   "metadata": {},
   "outputs": [
    {
     "data": {
      "application/vnd.jupyter.widget-view+json": {
       "model_id": "446e13794bf941d7bfcf5992544dc88e",
       "version_major": 2,
       "version_minor": 0
      },
      "text/plain": [
       "VBox()"
      ]
     },
     "metadata": {},
     "output_type": "display_data"
    },
    {
     "data": {
      "application/vnd.jupyter.widget-view+json": {
       "model_id": "",
       "version_major": 2,
       "version_minor": 0
      },
      "text/plain": [
       "FloatProgress(value=0.0, bar_style='info', description='Progress:', layout=Layout(height='25px', width='50%'),…"
      ]
     },
     "metadata": {},
     "output_type": "display_data"
    }
   ],
   "source": [
    "files = uhc_files[['file_name']].collect()\n",
    "ren = uhc_files[['reporting_entity_name']].collect()\n",
    "ret = uhc_files[['reporting_entity_type']].collect()\n",
    "lun = uhc_files[['last_updated_on']].collect()\n",
    "ver = uhc_files[['version']].collect()"
   ]
  },
  {
   "cell_type": "markdown",
   "id": "bf0058f4",
   "metadata": {},
   "source": [
    "### Here we are crearting 5 lists and adding the the above 5 variables data to process by using the index "
   ]
  },
  {
   "cell_type": "code",
   "execution_count": 8,
   "id": "2e4eb22d",
   "metadata": {},
   "outputs": [
    {
     "data": {
      "application/vnd.jupyter.widget-view+json": {
       "model_id": "ed1bc422ebdc4078abb3d4405ebce739",
       "version_major": 2,
       "version_minor": 0
      },
      "text/plain": [
       "VBox()"
      ]
     },
     "metadata": {},
     "output_type": "display_data"
    },
    {
     "data": {
      "application/vnd.jupyter.widget-view+json": {
       "model_id": "",
       "version_major": 2,
       "version_minor": 0
      },
      "text/plain": [
       "FloatProgress(value=0.0, bar_style='info', description='Progress:', layout=Layout(height='25px', width='50%'),…"
      ]
     },
     "metadata": {},
     "output_type": "display_data"
    }
   ],
   "source": [
    "file_names = []\n",
    "rep_name = []\n",
    "rep_type = []\n",
    "last_up_on = []\n",
    "vers = []\n",
    "for i,j,k,l, m in zip(files,ren,ret,lun,ver):\n",
    "    file_names.append(i['file_name'])\n",
    "    rep_name.append(j['reporting_entity_name'])\n",
    "    rep_type.append(k['reporting_entity_type'])\n",
    "    last_up_on.append(l['last_updated_on'])\n",
    "    vers.append(m['version'])"
   ]
  },
  {
   "cell_type": "code",
   "execution_count": 9,
   "id": "879aa6b3",
   "metadata": {},
   "outputs": [
    {
     "data": {
      "application/vnd.jupyter.widget-view+json": {
       "model_id": "2ef1a32e19bc41a69daf4dfb7ff0458a",
       "version_major": 2,
       "version_minor": 0
      },
      "text/plain": [
       "VBox()"
      ]
     },
     "metadata": {},
     "output_type": "display_data"
    },
    {
     "data": {
      "application/vnd.jupyter.widget-view+json": {
       "model_id": "",
       "version_major": 2,
       "version_minor": 0
      },
      "text/plain": [
       "FloatProgress(value=0.0, bar_style='info', description='Progress:', layout=Layout(height='25px', width='50%'),…"
      ]
     },
     "metadata": {},
     "output_type": "display_data"
    },
    {
     "name": "stdout",
     "output_type": "stream",
     "text": [
      "37"
     ]
    }
   ],
   "source": [
    "len(file_names)"
   ]
  },
  {
   "cell_type": "markdown",
   "id": "cf27cdf1",
   "metadata": {},
   "source": [
    "### Here we are just checking that we are getting the proper output as we required or not"
   ]
  },
  {
   "cell_type": "code",
   "execution_count": 9,
   "id": "efcbb4ab",
   "metadata": {
    "scrolled": false
   },
   "outputs": [
    {
     "data": {
      "application/vnd.jupyter.widget-view+json": {
       "model_id": "11adf56c8e7e44b9a7c7a6d55bc90b37",
       "version_major": 2,
       "version_minor": 0
      },
      "text/plain": [
       "VBox()"
      ]
     },
     "metadata": {},
     "output_type": "display_data"
    },
    {
     "data": {
      "application/vnd.jupyter.widget-view+json": {
       "model_id": "",
       "version_major": 2,
       "version_minor": 0
      },
      "text/plain": [
       "FloatProgress(value=0.0, bar_style='info', description='Progress:', layout=Layout(height='25px', width='50%'),…"
      ]
     },
     "metadata": {},
     "output_type": "display_data"
    },
    {
     "name": "stdout",
     "output_type": "stream",
     "text": [
      "'2023-05-01_Surest_Third-Party-Administrator_DOCTORS-ON-DEMAND_UNITEDHEALTHCARE-CHOICE-PLUS_-DD_UCEQ_in-network-rates'"
     ]
    }
   ],
   "source": [
    "idx = 12\n",
    "file_names[idx]"
   ]
  },
  {
   "cell_type": "markdown",
   "id": "ea54e716",
   "metadata": {},
   "source": [
    "### Here we have to change the number to the index number of the file which we want to process now"
   ]
  },
  {
   "cell_type": "code",
   "execution_count": 153,
   "id": "a7ead388",
   "metadata": {
    "scrolled": true
   },
   "outputs": [
    {
     "data": {
      "application/vnd.jupyter.widget-view+json": {
       "model_id": "ae016f7107da426093cd5f2fa2c75d23",
       "version_major": 2,
       "version_minor": 0
      },
      "text/plain": [
       "VBox()"
      ]
     },
     "metadata": {},
     "output_type": "display_data"
    },
    {
     "data": {
      "application/vnd.jupyter.widget-view+json": {
       "model_id": "",
       "version_major": 2,
       "version_minor": 0
      },
      "text/plain": [
       "FloatProgress(value=0.0, bar_style='info', description='Progress:', layout=Layout(height='25px', width='50%'),…"
      ]
     },
     "metadata": {},
     "output_type": "display_data"
    },
    {
     "name": "stdout",
     "output_type": "stream",
     "text": [
      "United HealthCare Services, Inc.\n",
      "Third-Party Administrator\n",
      "2023-05-01\n",
      "1.0.0"
     ]
    }
   ],
   "source": [
    "ff = file_names[idx]\n",
    "rn = rep_name[idx]\n",
    "rt = rep_type[idx]\n",
    "luo = last_up_on[idx]\n",
    "versi = vers[idx]\n",
    "print(f'{rn}')\n",
    "print(f'{rt}')\n",
    "print(f'{luo}')\n",
    "print(f'{versi}')"
   ]
  },
  {
   "cell_type": "markdown",
   "id": "d851bf7a",
   "metadata": {},
   "source": [
    "### Here we are assiging the 'fname' to 'in_path', so that we can read the in_network file from that in_network raw data path"
   ]
  },
  {
   "cell_type": "code",
   "execution_count": null,
   "id": "4fa20f93",
   "metadata": {},
   "outputs": [],
   "source": []
  },
  {
   "cell_type": "code",
   "execution_count": 154,
   "id": "0c4b74ad",
   "metadata": {
    "scrolled": true
   },
   "outputs": [
    {
     "data": {
      "application/vnd.jupyter.widget-view+json": {
       "model_id": "1f717906edab4290a7342376cbadbcac",
       "version_major": 2,
       "version_minor": 0
      },
      "text/plain": [
       "VBox()"
      ]
     },
     "metadata": {},
     "output_type": "display_data"
    },
    {
     "data": {
      "application/vnd.jupyter.widget-view+json": {
       "model_id": "",
       "version_major": 2,
       "version_minor": 0
      },
      "text/plain": [
       "FloatProgress(value=0.0, bar_style='info', description='Progress:', layout=Layout(height='25px', width='50%'),…"
      ]
     },
     "metadata": {},
     "output_type": "display_data"
    },
    {
     "name": "stdout",
     "output_type": "stream",
     "text": [
      "Link: s3://zigna-nsa-data-staging/raw-json-files/Q2-2023/may-wellmark-uhc/2023-05-01_United-HealthCare-Services--Inc-_Third-Party-Administrator_Navigate-EPO_636_in-network-rates.json \n",
      "\n",
      "File name: 2023-05-01_United-HealthCare-Services--Inc-_Third-Party-Administrator_Navigate-EPO_636_in-network-rates \n",
      "\n",
      " Processed file name : United-HealthCare-Services--Inc-_Third-Party-Administrator_Navigate-EPO_636"
     ]
    }
   ],
   "source": [
    "in_net = \"s3://zigna-nsa-data-staging/raw-json-files/Q2-2023/may-wellmark-uhc/\" + ff + \".json\"\n",
    "processed_fname = ff.replace('2023-05-01_','').replace('_in-network-rates','')\n",
    "print(f'Link: {in_net} \\n\\nFile name: {ff} \\n\\n Processed file name : {processed_fname}')"
   ]
  },
  {
   "cell_type": "code",
   "execution_count": null,
   "id": "2a7d7e13",
   "metadata": {},
   "outputs": [],
   "source": []
  },
  {
   "cell_type": "markdown",
   "id": "08fa274a",
   "metadata": {},
   "source": [
    "### Bellow we are creating the provider_referenece raw data file path by using in_path and splitting the file name from the link and assiging it to the 'fname'"
   ]
  },
  {
   "cell_type": "code",
   "execution_count": 155,
   "id": "2e1f1207",
   "metadata": {
    "scrolled": true
   },
   "outputs": [
    {
     "data": {
      "application/vnd.jupyter.widget-view+json": {
       "model_id": "389bb58d9a754160b7c5b1090d6a55c6",
       "version_major": 2,
       "version_minor": 0
      },
      "text/plain": [
       "VBox()"
      ]
     },
     "metadata": {},
     "output_type": "display_data"
    },
    {
     "data": {
      "application/vnd.jupyter.widget-view+json": {
       "model_id": "",
       "version_major": 2,
       "version_minor": 0
      },
      "text/plain": [
       "FloatProgress(value=0.0, bar_style='info', description='Progress:', layout=Layout(height='25px', width='50%'),…"
      ]
     },
     "metadata": {},
     "output_type": "display_data"
    },
    {
     "name": "stdout",
     "output_type": "stream",
     "text": [
      "'s3://zigna-nsa-data-staging/provider-references/Q2-2023/may-wellmark-uhc/2023-05-01_United-HealthCare-Services--Inc-_Third-Party-Administrator_Navigate-EPO_636_in-network-rates/'"
     ]
    }
   ],
   "source": [
    "prov_ref = in_net.replace('raw-json-files','provider-references').replace('.json','') + '/'\n",
    "prov_ref"
   ]
  },
  {
   "cell_type": "markdown",
   "id": "b92acc1b",
   "metadata": {},
   "source": [
    "# in-network level"
   ]
  },
  {
   "cell_type": "markdown",
   "id": "ce038594",
   "metadata": {},
   "source": [
    "### Here we are reading the in_netwrork raw data json file"
   ]
  },
  {
   "cell_type": "code",
   "execution_count": 156,
   "id": "318b7e87",
   "metadata": {},
   "outputs": [
    {
     "data": {
      "application/vnd.jupyter.widget-view+json": {
       "model_id": "9bbe17aa0410451a8f5d005b03a0f152",
       "version_major": 2,
       "version_minor": 0
      },
      "text/plain": [
       "VBox()"
      ]
     },
     "metadata": {},
     "output_type": "display_data"
    },
    {
     "data": {
      "application/vnd.jupyter.widget-view+json": {
       "model_id": "",
       "version_major": 2,
       "version_minor": 0
      },
      "text/plain": [
       "FloatProgress(value=0.0, bar_style='info', description='Progress:', layout=Layout(height='25px', width='50%'),…"
      ]
     },
     "metadata": {},
     "output_type": "display_data"
    }
   ],
   "source": [
    "# fname = '2023-04-01_UMR--Inc-_Third-Party-Administrator_ALLIANCE-WITH-NEHA-H-W-3-TIER_UHC-OPTIONS-TRAVEL-WITH-MULTIPLAN-BENCHMARK_WOBC_58TQ_in-network-rates'\n",
    "# in_net = 's3://zigna-nsa-data-staging/test/test-uhc/uhc-test9/'+fname+'.json'\n",
    "# prov_ref = 's3://zigna-nsa-data-staging/test/test-uhc/provider-references/'+fname+'/'\n",
    "df1 = spark.read.options(allowNumericLeadingZero = True).json(in_net)"
   ]
  },
  {
   "cell_type": "code",
   "execution_count": 157,
   "id": "bfed3f1d",
   "metadata": {},
   "outputs": [
    {
     "data": {
      "application/vnd.jupyter.widget-view+json": {
       "model_id": "2779aa79f2ee4951b6769a0cefb17987",
       "version_major": 2,
       "version_minor": 0
      },
      "text/plain": [
       "VBox()"
      ]
     },
     "metadata": {},
     "output_type": "display_data"
    },
    {
     "data": {
      "application/vnd.jupyter.widget-view+json": {
       "model_id": "",
       "version_major": 2,
       "version_minor": 0
      },
      "text/plain": [
       "FloatProgress(value=0.0, bar_style='info', description='Progress:', layout=Layout(height='25px', width='50%'),…"
      ]
     },
     "metadata": {},
     "output_type": "display_data"
    },
    {
     "name": "stdout",
     "output_type": "stream",
     "text": [
      "root\n",
      " |-- _corrupt_record: string (nullable = true)\n",
      " |-- billing_code: string (nullable = true)\n",
      " |-- billing_code_type: string (nullable = true)\n",
      " |-- billing_code_type_version: string (nullable = true)\n",
      " |-- covered_services: array (nullable = true)\n",
      " |    |-- element: string (containsNull = true)\n",
      " |-- description: string (nullable = true)\n",
      " |-- name: string (nullable = true)\n",
      " |-- negotiated_rates: array (nullable = true)\n",
      " |    |-- element: struct (containsNull = true)\n",
      " |    |    |-- negotiated_prices: array (nullable = true)\n",
      " |    |    |    |-- element: struct (containsNull = true)\n",
      " |    |    |    |    |-- additional_information: string (nullable = true)\n",
      " |    |    |    |    |-- billing_class: string (nullable = true)\n",
      " |    |    |    |    |-- billing_code_modifier: array (nullable = true)\n",
      " |    |    |    |    |    |-- element: string (containsNull = true)\n",
      " |    |    |    |    |-- expiration_date: string (nullable = true)\n",
      " |    |    |    |    |-- negotiated_rate: double (nullable = true)\n",
      " |    |    |    |    |-- negotiated_type: string (nullable = true)\n",
      " |    |    |    |    |-- service_code: array (nullable = true)\n",
      " |    |    |    |    |    |-- element: string (containsNull = true)\n",
      " |    |    |-- provider_references: array (nullable = true)\n",
      " |    |    |    |-- element: long (containsNull = true)\n",
      " |-- negotiation_arrangement: string (nullable = true)"
     ]
    }
   ],
   "source": [
    "df1.printSchema()"
   ]
  },
  {
   "cell_type": "code",
   "execution_count": 158,
   "id": "71bff332",
   "metadata": {},
   "outputs": [
    {
     "data": {
      "application/vnd.jupyter.widget-view+json": {
       "model_id": "168046ba40f5469bb17faaf34fc52395",
       "version_major": 2,
       "version_minor": 0
      },
      "text/plain": [
       "VBox()"
      ]
     },
     "metadata": {},
     "output_type": "display_data"
    },
    {
     "data": {
      "application/vnd.jupyter.widget-view+json": {
       "model_id": "",
       "version_major": 2,
       "version_minor": 0
      },
      "text/plain": [
       "FloatProgress(value=0.0, bar_style='info', description='Progress:', layout=Layout(height='25px', width='50%'),…"
      ]
     },
     "metadata": {},
     "output_type": "display_data"
    }
   ],
   "source": [
    "df2 = flatten(df1)"
   ]
  },
  {
   "cell_type": "code",
   "execution_count": 159,
   "id": "2ffc9ad9",
   "metadata": {},
   "outputs": [
    {
     "data": {
      "application/vnd.jupyter.widget-view+json": {
       "model_id": "ceaa4919ee4943d9923a5632ed80da49",
       "version_major": 2,
       "version_minor": 0
      },
      "text/plain": [
       "VBox()"
      ]
     },
     "metadata": {},
     "output_type": "display_data"
    },
    {
     "data": {
      "application/vnd.jupyter.widget-view+json": {
       "model_id": "",
       "version_major": 2,
       "version_minor": 0
      },
      "text/plain": [
       "FloatProgress(value=0.0, bar_style='info', description='Progress:', layout=Layout(height='25px', width='50%'),…"
      ]
     },
     "metadata": {},
     "output_type": "display_data"
    },
    {
     "name": "stdout",
     "output_type": "stream",
     "text": [
      "root\n",
      " |-- _corrupt_record: string (nullable = true)\n",
      " |-- billing_code: string (nullable = true)\n",
      " |-- billing_code_type: string (nullable = true)\n",
      " |-- billing_code_type_version: string (nullable = true)\n",
      " |-- covered_services: string (nullable = true)\n",
      " |-- description: string (nullable = true)\n",
      " |-- name: string (nullable = true)\n",
      " |-- negotiation_arrangement: string (nullable = true)\n",
      " |-- negotiated_rates_provider_references: long (nullable = true)\n",
      " |-- negotiated_rates_negotiated_prices_additional_information: string (nullable = true)\n",
      " |-- negotiated_rates_negotiated_prices_billing_class: string (nullable = true)\n",
      " |-- negotiated_rates_negotiated_prices_billing_code_modifier: string (nullable = true)\n",
      " |-- negotiated_rates_negotiated_prices_expiration_date: string (nullable = true)\n",
      " |-- negotiated_rates_negotiated_prices_negotiated_rate: double (nullable = true)\n",
      " |-- negotiated_rates_negotiated_prices_negotiated_type: string (nullable = true)\n",
      " |-- negotiated_rates_negotiated_prices_service_code: string (nullable = true)"
     ]
    }
   ],
   "source": [
    "df2.printSchema()"
   ]
  },
  {
   "cell_type": "code",
   "execution_count": 160,
   "id": "a502d496",
   "metadata": {},
   "outputs": [
    {
     "data": {
      "application/vnd.jupyter.widget-view+json": {
       "model_id": "5812c72666aa49b9a4ea438f2b55b67a",
       "version_major": 2,
       "version_minor": 0
      },
      "text/plain": [
       "VBox()"
      ]
     },
     "metadata": {},
     "output_type": "display_data"
    },
    {
     "data": {
      "application/vnd.jupyter.widget-view+json": {
       "model_id": "",
       "version_major": 2,
       "version_minor": 0
      },
      "text/plain": [
       "FloatProgress(value=0.0, bar_style='info', description='Progress:', layout=Layout(height='25px', width='50%'),…"
      ]
     },
     "metadata": {},
     "output_type": "display_data"
    }
   ],
   "source": [
    "# df2[['covered_services']].distinct().show()"
   ]
  },
  {
   "cell_type": "code",
   "execution_count": 161,
   "id": "3fcc3d4f",
   "metadata": {},
   "outputs": [
    {
     "data": {
      "application/vnd.jupyter.widget-view+json": {
       "model_id": "8659d3a5707b4c0b9c7d7960f025f681",
       "version_major": 2,
       "version_minor": 0
      },
      "text/plain": [
       "VBox()"
      ]
     },
     "metadata": {},
     "output_type": "display_data"
    },
    {
     "data": {
      "application/vnd.jupyter.widget-view+json": {
       "model_id": "",
       "version_major": 2,
       "version_minor": 0
      },
      "text/plain": [
       "FloatProgress(value=0.0, bar_style='info', description='Progress:', layout=Layout(height='25px', width='50%'),…"
      ]
     },
     "metadata": {},
     "output_type": "display_data"
    }
   ],
   "source": [
    "df2 = df2.drop(\"covered_services\")"
   ]
  },
  {
   "cell_type": "code",
   "execution_count": 162,
   "id": "26b148ec",
   "metadata": {},
   "outputs": [
    {
     "data": {
      "application/vnd.jupyter.widget-view+json": {
       "model_id": "522a055177d64f70bba1df75d9f031ab",
       "version_major": 2,
       "version_minor": 0
      },
      "text/plain": [
       "VBox()"
      ]
     },
     "metadata": {},
     "output_type": "display_data"
    },
    {
     "data": {
      "application/vnd.jupyter.widget-view+json": {
       "model_id": "",
       "version_major": 2,
       "version_minor": 0
      },
      "text/plain": [
       "FloatProgress(value=0.0, bar_style='info', description='Progress:', layout=Layout(height='25px', width='50%'),…"
      ]
     },
     "metadata": {},
     "output_type": "display_data"
    }
   ],
   "source": [
    "# rn = 'UMR, Inc.'\n",
    "# rt ='Third-Party Administrator'\n",
    "luo = '05-01-2023'\n",
    "# versi = '1.0.0'\n",
    "df2 = df2.withColumn('reporting_entity_name',lit(rn))\n",
    "df2 = df2.withColumn('reporting_entity_type',lit(rt))\n",
    "df2 = df2.withColumn('last_updated_on',lit(luo))\n",
    "df2 = df2.withColumn('version',lit(versi))"
   ]
  },
  {
   "cell_type": "code",
   "execution_count": 163,
   "id": "fc1b01e3",
   "metadata": {},
   "outputs": [
    {
     "data": {
      "application/vnd.jupyter.widget-view+json": {
       "model_id": "0c576c4bc5934737b4020ec092d094d3",
       "version_major": 2,
       "version_minor": 0
      },
      "text/plain": [
       "VBox()"
      ]
     },
     "metadata": {},
     "output_type": "display_data"
    },
    {
     "data": {
      "application/vnd.jupyter.widget-view+json": {
       "model_id": "",
       "version_major": 2,
       "version_minor": 0
      },
      "text/plain": [
       "FloatProgress(value=0.0, bar_style='info', description='Progress:', layout=Layout(height='25px', width='50%'),…"
      ]
     },
     "metadata": {},
     "output_type": "display_data"
    }
   ],
   "source": [
    "df2 = df2.drop('_corrupt_record')"
   ]
  },
  {
   "cell_type": "code",
   "execution_count": 164,
   "id": "cf9ed3de",
   "metadata": {},
   "outputs": [
    {
     "data": {
      "application/vnd.jupyter.widget-view+json": {
       "model_id": "3a40156e2f7048be9f520afbaa64d271",
       "version_major": 2,
       "version_minor": 0
      },
      "text/plain": [
       "VBox()"
      ]
     },
     "metadata": {},
     "output_type": "display_data"
    },
    {
     "data": {
      "application/vnd.jupyter.widget-view+json": {
       "model_id": "",
       "version_major": 2,
       "version_minor": 0
      },
      "text/plain": [
       "FloatProgress(value=0.0, bar_style='info', description='Progress:', layout=Layout(height='25px', width='50%'),…"
      ]
     },
     "metadata": {},
     "output_type": "display_data"
    },
    {
     "name": "stdout",
     "output_type": "stream",
     "text": [
      "2023-05-01_United-HealthCare-Services--Inc-_Third-Party-Administrator_Navigate-EPO_636_in-network-rates \n",
      " United-HealthCare-Services--Inc-_Third-Party-Administrator_Navigate-EPO_636"
     ]
    }
   ],
   "source": [
    "# ff = in_net.replace('s3://zigna-nsa-data-staging/test/test-uhc/uhc-test7/',\"\").replace(\"_in-network-rates.json\",\"\")\n",
    "# processed_fname =in_net.replace('s3://zigna-nsa-data-staging/test/test-uhc/uhc-test7/2023-04-01_',\"\").replace(\"_in-network-rates.json\",\"\")\n",
    "\n",
    "print(ff,\"\\n\",processed_fname)"
   ]
  },
  {
   "cell_type": "code",
   "execution_count": 165,
   "id": "66866916",
   "metadata": {
    "vscode": {
     "languageId": "plaintext"
    }
   },
   "outputs": [
    {
     "data": {
      "application/vnd.jupyter.widget-view+json": {
       "model_id": "564818ac3fb244cc8801023e0f4b697c",
       "version_major": 2,
       "version_minor": 0
      },
      "text/plain": [
       "VBox()"
      ]
     },
     "metadata": {},
     "output_type": "display_data"
    },
    {
     "data": {
      "application/vnd.jupyter.widget-view+json": {
       "model_id": "",
       "version_major": 2,
       "version_minor": 0
      },
      "text/plain": [
       "FloatProgress(value=0.0, bar_style='info', description='Progress:', layout=Layout(height='25px', width='50%'),…"
      ]
     },
     "metadata": {},
     "output_type": "display_data"
    }
   ],
   "source": [
    "df2 = df2.withColumn(\"service_code\", when(df2.negotiated_rates_negotiated_prices_service_code == \"11\",\"Office\")\n",
    "                                 .when(df2.negotiated_rates_negotiated_prices_service_code == \"20\",\"Urgent Care\")                            \n",
    "                                 .when(df2.negotiated_rates_negotiated_prices_service_code.isin(['21','22','23']),\"IP/OP/ED\")\n",
    "                                 .otherwise(\"All Other\"))"
   ]
  },
  {
   "cell_type": "code",
   "execution_count": 166,
   "id": "05f87866",
   "metadata": {},
   "outputs": [
    {
     "data": {
      "application/vnd.jupyter.widget-view+json": {
       "model_id": "a222f4591bd1458a8c7e55ad96d9bb74",
       "version_major": 2,
       "version_minor": 0
      },
      "text/plain": [
       "VBox()"
      ]
     },
     "metadata": {},
     "output_type": "display_data"
    },
    {
     "data": {
      "application/vnd.jupyter.widget-view+json": {
       "model_id": "",
       "version_major": 2,
       "version_minor": 0
      },
      "text/plain": [
       "FloatProgress(value=0.0, bar_style='info', description='Progress:', layout=Layout(height='25px', width='50%'),…"
      ]
     },
     "metadata": {},
     "output_type": "display_data"
    }
   ],
   "source": [
    "df2 = df2.withColumnRenamed('negotiated_prices_expiration_date','expiration_date')\n",
    "df2 = df2.drop('negotiated_prices_service_code')\n",
    "df2 = df2.drop('negotiated_rates_negotiated_prices_service_code')\n",
    "df2 = df2.withColumnRenamed('negotiated_prices_negotiated_rate','negotiated_rate').withColumnRenamed('negotiated_prices_negotiated_type','negotiated_type').withColumnRenamed('negotiated_prices_additional_information','additional_information')\n",
    "df2 = df2.withColumnRenamed('negotiated_prices_billing_class','billing_class').withColumnRenamed('negotiated_prices_billing_code_modifier','billing_code_modifier')\n",
    "df2 = df2.withColumnRenamed('negotiated_rates_negotiated_prices_expiration_date','expiration_date').withColumnRenamed('negotiated_rates_provider_references','provider_references')\n",
    "df2 = df2.withColumnRenamed('negotiated_rates_negotiated_prices_negotiated_rate','negotiated_rate').withColumnRenamed('negotiated_rates_negotiated_prices_negotiated_type','negotiated_type').withColumnRenamed('negotiated_rates_negotiated_prices_additional_information','additional_information')\n",
    "df2 = df2.withColumnRenamed('negotiated_rates_negotiated_prices_billing_class','billing_class').withColumnRenamed('negotiated_rates_negotiated_prices_billing_code_modifier','billing_code_modifier')\n",
    "df2 = df2.withColumn('covered_billing_code',lit('')).withColumn('covered_billing_code_type',lit('')).withColumn('covered_billing_code_type_version',lit('')).withColumn('covered_description',lit(''))\n",
    "df2 = df2.withColumn('bundled_billing_code',lit('')).withColumn('bundled_billing_code_type',lit('')).withColumn('bundled_billing_code_type_version',lit('')).withColumn('bundled_description',lit(''))\n",
    "df2 = df2.withColumn('file_name',lit(ff)).withColumn('location',lit('')).withColumn('processed_file_name',lit(processed_fname))\n",
    "# df2 = df2.withColumn('additional_information',lit(''))\n",
    "df2 = df2.withColumn(\"negotiated_rate\",df2.negotiated_rate.cast(DoubleType()))"
   ]
  },
  {
   "cell_type": "code",
   "execution_count": 167,
   "id": "8a10d424",
   "metadata": {},
   "outputs": [
    {
     "data": {
      "application/vnd.jupyter.widget-view+json": {
       "model_id": "ad3d7b31e16a4d6b9edde523ff243127",
       "version_major": 2,
       "version_minor": 0
      },
      "text/plain": [
       "VBox()"
      ]
     },
     "metadata": {},
     "output_type": "display_data"
    },
    {
     "data": {
      "application/vnd.jupyter.widget-view+json": {
       "model_id": "",
       "version_major": 2,
       "version_minor": 0
      },
      "text/plain": [
       "FloatProgress(value=0.0, bar_style='info', description='Progress:', layout=Layout(height='25px', width='50%'),…"
      ]
     },
     "metadata": {},
     "output_type": "display_data"
    }
   ],
   "source": [
    "df3 =  df2.dropna(subset=['negotiated_rate'])"
   ]
  },
  {
   "cell_type": "code",
   "execution_count": 168,
   "id": "16e68b3d",
   "metadata": {
    "vscode": {
     "languageId": "plaintext"
    }
   },
   "outputs": [
    {
     "data": {
      "application/vnd.jupyter.widget-view+json": {
       "model_id": "94bb8834ae6144c684a926e1fbfc0545",
       "version_major": 2,
       "version_minor": 0
      },
      "text/plain": [
       "VBox()"
      ]
     },
     "metadata": {},
     "output_type": "display_data"
    },
    {
     "data": {
      "application/vnd.jupyter.widget-view+json": {
       "model_id": "",
       "version_major": 2,
       "version_minor": 0
      },
      "text/plain": [
       "FloatProgress(value=0.0, bar_style='info', description='Progress:', layout=Layout(height='25px', width='50%'),…"
      ]
     },
     "metadata": {},
     "output_type": "display_data"
    }
   ],
   "source": [
    "df3 = df3.filter(df3.negotiated_rate > 0.0)"
   ]
  },
  {
   "cell_type": "code",
   "execution_count": 169,
   "id": "9dce72f5",
   "metadata": {},
   "outputs": [
    {
     "data": {
      "application/vnd.jupyter.widget-view+json": {
       "model_id": "48da8dfacb0c47ddb87b1446cf419814",
       "version_major": 2,
       "version_minor": 0
      },
      "text/plain": [
       "VBox()"
      ]
     },
     "metadata": {},
     "output_type": "display_data"
    },
    {
     "data": {
      "application/vnd.jupyter.widget-view+json": {
       "model_id": "",
       "version_major": 2,
       "version_minor": 0
      },
      "text/plain": [
       "FloatProgress(value=0.0, bar_style='info', description='Progress:', layout=Layout(height='25px', width='50%'),…"
      ]
     },
     "metadata": {},
     "output_type": "display_data"
    }
   ],
   "source": [
    "df3_reordered =  df3.select(\"file_name\",\"processed_file_name\",\"reporting_entity_name\",\"reporting_entity_type\",\"last_updated_on\",\"version\",\"billing_code\",\"billing_code_type\",\"billing_code_type_version\",\"name\",\"description\",\"billing_class\",\"billing_code_modifier\",\"negotiation_arrangement\",\"negotiated_type\",\"negotiated_rate\",\"service_code\",\"provider_references\",\"location\",\"expiration_date\",\"additional_information\",\"covered_billing_code\",\"covered_billing_code_type\",\"covered_billing_code_type_version\",\"covered_description\",\"bundled_billing_code\",\"bundled_billing_code_type\",\"bundled_billing_code_type_version\",\"bundled_description\")"
   ]
  },
  {
   "cell_type": "code",
   "execution_count": 170,
   "id": "0c614985",
   "metadata": {},
   "outputs": [
    {
     "data": {
      "application/vnd.jupyter.widget-view+json": {
       "model_id": "c6612098b20140b988b6c4a8ccd1ab79",
       "version_major": 2,
       "version_minor": 0
      },
      "text/plain": [
       "VBox()"
      ]
     },
     "metadata": {},
     "output_type": "display_data"
    },
    {
     "data": {
      "application/vnd.jupyter.widget-view+json": {
       "model_id": "",
       "version_major": 2,
       "version_minor": 0
      },
      "text/plain": [
       "FloatProgress(value=0.0, bar_style='info', description='Progress:', layout=Layout(height='25px', width='50%'),…"
      ]
     },
     "metadata": {},
     "output_type": "display_data"
    },
    {
     "name": "stdout",
     "output_type": "stream",
     "text": [
      "root\n",
      " |-- file_name: string (nullable = false)\n",
      " |-- processed_file_name: string (nullable = false)\n",
      " |-- reporting_entity_name: string (nullable = false)\n",
      " |-- reporting_entity_type: string (nullable = false)\n",
      " |-- last_updated_on: string (nullable = false)\n",
      " |-- version: string (nullable = false)\n",
      " |-- billing_code: string (nullable = true)\n",
      " |-- billing_code_type: string (nullable = true)\n",
      " |-- billing_code_type_version: string (nullable = true)\n",
      " |-- name: string (nullable = true)\n",
      " |-- description: string (nullable = true)\n",
      " |-- billing_class: string (nullable = true)\n",
      " |-- billing_code_modifier: string (nullable = true)\n",
      " |-- negotiation_arrangement: string (nullable = true)\n",
      " |-- negotiated_type: string (nullable = true)\n",
      " |-- negotiated_rate: double (nullable = true)\n",
      " |-- service_code: string (nullable = false)\n",
      " |-- provider_references: long (nullable = true)\n",
      " |-- location: string (nullable = false)\n",
      " |-- expiration_date: string (nullable = true)\n",
      " |-- additional_information: string (nullable = true)\n",
      " |-- covered_billing_code: string (nullable = false)\n",
      " |-- covered_billing_code_type: string (nullable = false)\n",
      " |-- covered_billing_code_type_version: string (nullable = false)\n",
      " |-- covered_description: string (nullable = false)\n",
      " |-- bundled_billing_code: string (nullable = false)\n",
      " |-- bundled_billing_code_type: string (nullable = false)\n",
      " |-- bundled_billing_code_type_version: string (nullable = false)\n",
      " |-- bundled_description: string (nullable = false)\n",
      "\n",
      "29"
     ]
    }
   ],
   "source": [
    "df3_reordered.printSchema()\n",
    "len(df3_reordered.columns)"
   ]
  },
  {
   "cell_type": "code",
   "execution_count": 171,
   "id": "1c8a63c4",
   "metadata": {},
   "outputs": [
    {
     "data": {
      "application/vnd.jupyter.widget-view+json": {
       "model_id": "54eaaa8bb8ec4e5ab98a4efcbd55a0ba",
       "version_major": 2,
       "version_minor": 0
      },
      "text/plain": [
       "VBox()"
      ]
     },
     "metadata": {},
     "output_type": "display_data"
    },
    {
     "data": {
      "application/vnd.jupyter.widget-view+json": {
       "model_id": "",
       "version_major": 2,
       "version_minor": 0
      },
      "text/plain": [
       "FloatProgress(value=0.0, bar_style='info', description='Progress:', layout=Layout(height='25px', width='50%'),…"
      ]
     },
     "metadata": {},
     "output_type": "display_data"
    }
   ],
   "source": [
    "# df3_reordered.count()"
   ]
  },
  {
   "cell_type": "code",
   "execution_count": 172,
   "id": "36e7eaa1",
   "metadata": {},
   "outputs": [
    {
     "data": {
      "application/vnd.jupyter.widget-view+json": {
       "model_id": "1883b4be2991400ca6ea31123cfb6b9b",
       "version_major": 2,
       "version_minor": 0
      },
      "text/plain": [
       "VBox()"
      ]
     },
     "metadata": {},
     "output_type": "display_data"
    },
    {
     "data": {
      "application/vnd.jupyter.widget-view+json": {
       "model_id": "",
       "version_major": 2,
       "version_minor": 0
      },
      "text/plain": [
       "FloatProgress(value=0.0, bar_style='info', description='Progress:', layout=Layout(height='25px', width='50%'),…"
      ]
     },
     "metadata": {},
     "output_type": "display_data"
    }
   ],
   "source": [
    "# df3_reordered_deduped.distinct().count()"
   ]
  },
  {
   "cell_type": "code",
   "execution_count": 173,
   "id": "9a37590b",
   "metadata": {},
   "outputs": [
    {
     "data": {
      "application/vnd.jupyter.widget-view+json": {
       "model_id": "de83c3431db345aab8e8860597c9427e",
       "version_major": 2,
       "version_minor": 0
      },
      "text/plain": [
       "VBox()"
      ]
     },
     "metadata": {},
     "output_type": "display_data"
    },
    {
     "data": {
      "application/vnd.jupyter.widget-view+json": {
       "model_id": "",
       "version_major": 2,
       "version_minor": 0
      },
      "text/plain": [
       "FloatProgress(value=0.0, bar_style='info', description='Progress:', layout=Layout(height='25px', width='50%'),…"
      ]
     },
     "metadata": {},
     "output_type": "display_data"
    }
   ],
   "source": [
    "# df3_reordered[['service_code']].distinct().show()"
   ]
  },
  {
   "cell_type": "code",
   "execution_count": 174,
   "id": "4ce9a819",
   "metadata": {},
   "outputs": [
    {
     "data": {
      "application/vnd.jupyter.widget-view+json": {
       "model_id": "ed855ba86e4349a3aaaf5ae374456a54",
       "version_major": 2,
       "version_minor": 0
      },
      "text/plain": [
       "VBox()"
      ]
     },
     "metadata": {},
     "output_type": "display_data"
    },
    {
     "data": {
      "application/vnd.jupyter.widget-view+json": {
       "model_id": "",
       "version_major": 2,
       "version_minor": 0
      },
      "text/plain": [
       "FloatProgress(value=0.0, bar_style='info', description='Progress:', layout=Layout(height='25px', width='50%'),…"
      ]
     },
     "metadata": {},
     "output_type": "display_data"
    },
    {
     "name": "stdout",
     "output_type": "stream",
     "text": [
      "+-----------------+\n",
      "|billing_code_type|\n",
      "+-----------------+\n",
      "|           MS-DRG|\n",
      "|               RC|\n",
      "|              CPT|\n",
      "|              ICD|\n",
      "|            HCPCS|\n",
      "|         CSTM-ALL|\n",
      "+-----------------+"
     ]
    }
   ],
   "source": [
    "df3_reordered[['billing_code_type']].distinct().show()"
   ]
  },
  {
   "cell_type": "code",
   "execution_count": 175,
   "id": "03cb2e86",
   "metadata": {},
   "outputs": [
    {
     "data": {
      "application/vnd.jupyter.widget-view+json": {
       "model_id": "57e0d45406f343d3b910816b0a9ea3fd",
       "version_major": 2,
       "version_minor": 0
      },
      "text/plain": [
       "VBox()"
      ]
     },
     "metadata": {},
     "output_type": "display_data"
    },
    {
     "data": {
      "application/vnd.jupyter.widget-view+json": {
       "model_id": "",
       "version_major": 2,
       "version_minor": 0
      },
      "text/plain": [
       "FloatProgress(value=0.0, bar_style='info', description='Progress:', layout=Layout(height='25px', width='50%'),…"
      ]
     },
     "metadata": {},
     "output_type": "display_data"
    },
    {
     "name": "stdout",
     "output_type": "stream",
     "text": [
      "+--------------------+--------------------+---------------------+---------------------+---------------+-------+------------+-----------------+-------------------------+--------------------+--------------------+-------------+---------------------+-----------------------+---------------+---------------+------------+-------------------+--------+---------------+----------------------+--------------------+-------------------------+---------------------------------+-------------------+--------------------+-------------------------+---------------------------------+-------------------+\n",
      "|           file_name| processed_file_name|reporting_entity_name|reporting_entity_type|last_updated_on|version|billing_code|billing_code_type|billing_code_type_version|                name|         description|billing_class|billing_code_modifier|negotiation_arrangement|negotiated_type|negotiated_rate|service_code|provider_references|location|expiration_date|additional_information|covered_billing_code|covered_billing_code_type|covered_billing_code_type_version|covered_description|bundled_billing_code|bundled_billing_code_type|bundled_billing_code_type_version|bundled_description|\n",
      "+--------------------+--------------------+---------------------+---------------------+---------------+-------+------------+-----------------+-------------------------+--------------------+--------------------+-------------+---------------------+-----------------------+---------------+---------------+------------+-------------------+--------+---------------+----------------------+--------------------+-------------------------+---------------------------------+-------------------+--------------------+-------------------------+---------------------------------+-------------------+\n",
      "|2023-05-01_United...|United-HealthCare...| United HealthCare...| Third-Party Admin...|     05-01-2023|  1.0.0|       0001A|              CPT|                     2022|IMM ADMN SARSCOV2...|Immunization admi...| professional|                 null|                    ffs|     negotiated|          47.93|      Office|              43724|        |     9999-12-31|                      |                    |                         |                                 |                   |                    |                         |                                 |                   |\n",
      "|2023-05-01_United...|United-HealthCare...| United HealthCare...| Third-Party Admin...|     05-01-2023|  1.0.0|       0001A|              CPT|                     2022|IMM ADMN SARSCOV2...|Immunization admi...| professional|                 null|                    ffs|     negotiated|           53.5|      Office|              19971|        |     9999-12-31|                      |                    |                         |                                 |                   |                    |                         |                                 |                   |\n",
      "|2023-05-01_United...|United-HealthCare...| United HealthCare...| Third-Party Admin...|     05-01-2023|  1.0.0|       0001A|              CPT|                     2022|IMM ADMN SARSCOV2...|Immunization admi...| professional|                 null|                    ffs|     negotiated|          43.69|      Office|              44398|        |     9999-12-31|                      |                    |                         |                                 |                   |                    |                         |                                 |                   |\n",
      "|2023-05-01_United...|United-HealthCare...| United HealthCare...| Third-Party Admin...|     05-01-2023|  1.0.0|       0001A|              CPT|                     2022|IMM ADMN SARSCOV2...|Immunization admi...| professional|                 null|                    ffs|     negotiated|          34.33|      Office|              21625|        |     9999-12-31|                      |                    |                         |                                 |                   |                    |                         |                                 |                   |\n",
      "|2023-05-01_United...|United-HealthCare...| United HealthCare...| Third-Party Admin...|     05-01-2023|  1.0.0|       0001A|              CPT|                     2022|IMM ADMN SARSCOV2...|Immunization admi...| professional|                 null|                    ffs|     negotiated|           33.2|      Office|              52425|        |     9999-12-31|                      |                    |                         |                                 |                   |                    |                         |                                 |                   |\n",
      "|2023-05-01_United...|United-HealthCare...| United HealthCare...| Third-Party Admin...|     05-01-2023|  1.0.0|       0001A|              CPT|                     2022|IMM ADMN SARSCOV2...|Immunization admi...| professional|                 null|                    ffs|     negotiated|           41.5|      Office|              10944|        |     9999-12-31|                      |                    |                         |                                 |                   |                    |                         |                                 |                   |\n",
      "|2023-05-01_United...|United-HealthCare...| United HealthCare...| Third-Party Admin...|     05-01-2023|  1.0.0|       0001A|              CPT|                     2022|IMM ADMN SARSCOV2...|Immunization admi...| professional|                 null|                    ffs|     negotiated|           41.5|      Office|              23896|        |     9999-12-31|                      |                    |                         |                                 |                   |                    |                         |                                 |                   |\n",
      "|2023-05-01_United...|United-HealthCare...| United HealthCare...| Third-Party Admin...|     05-01-2023|  1.0.0|       0001A|              CPT|                     2022|IMM ADMN SARSCOV2...|Immunization admi...| professional|                 null|                    ffs|     negotiated|          34.34|      Office|              29490|        |     9999-12-31|                      |                    |                         |                                 |                   |                    |                         |                                 |                   |\n",
      "|2023-05-01_United...|United-HealthCare...| United HealthCare...| Third-Party Admin...|     05-01-2023|  1.0.0|       0001A|              CPT|                     2022|IMM ADMN SARSCOV2...|Immunization admi...| professional|                 null|                    ffs|     negotiated|          41.14|      Office|               5508|        |     9999-12-31|                      |                    |                         |                                 |                   |                    |                         |                                 |                   |\n",
      "|2023-05-01_United...|United-HealthCare...| United HealthCare...| Third-Party Admin...|     05-01-2023|  1.0.0|       0001A|              CPT|                     2022|IMM ADMN SARSCOV2...|Immunization admi...| professional|                 null|                    ffs|     negotiated|          61.02|      Office|               4119|        |     9999-12-31|                      |                    |                         |                                 |                   |                    |                         |                                 |                   |\n",
      "|2023-05-01_United...|United-HealthCare...| United HealthCare...| Third-Party Admin...|     05-01-2023|  1.0.0|       0001A|              CPT|                     2022|IMM ADMN SARSCOV2...|Immunization admi...| professional|                 null|                    ffs|     negotiated|          37.79|      Office|              10835|        |     9999-12-31|                      |                    |                         |                                 |                   |                    |                         |                                 |                   |\n",
      "|2023-05-01_United...|United-HealthCare...| United HealthCare...| Third-Party Admin...|     05-01-2023|  1.0.0|       0001A|              CPT|                     2022|IMM ADMN SARSCOV2...|Immunization admi...| professional|                 null|                    ffs|     negotiated|          27.56|      Office|              52023|        |     9999-12-31|                      |                    |                         |                                 |                   |                    |                         |                                 |                   |\n",
      "|2023-05-01_United...|United-HealthCare...| United HealthCare...| Third-Party Admin...|     05-01-2023|  1.0.0|       0001A|              CPT|                     2022|IMM ADMN SARSCOV2...|Immunization admi...| professional|                 null|                    ffs|     negotiated|          60.75|      Office|              30366|        |     9999-12-31|                      |                    |                         |                                 |                   |                    |                         |                                 |                   |\n",
      "|2023-05-01_United...|United-HealthCare...| United HealthCare...| Third-Party Admin...|     05-01-2023|  1.0.0|       0001A|              CPT|                     2022|IMM ADMN SARSCOV2...|Immunization admi...| professional|                 null|                    ffs|     negotiated|          58.09|      Office|              17719|        |     9999-12-31|                      |                    |                         |                                 |                   |                    |                         |                                 |                   |\n",
      "|2023-05-01_United...|United-HealthCare...| United HealthCare...| Third-Party Admin...|     05-01-2023|  1.0.0|       0001A|              CPT|                     2022|IMM ADMN SARSCOV2...|Immunization admi...| professional|                 null|                    ffs|     negotiated|          52.53|      Office|              45530|        |     9999-12-31|                      |                    |                         |                                 |                   |                    |                         |                                 |                   |\n",
      "|2023-05-01_United...|United-HealthCare...| United HealthCare...| Third-Party Admin...|     05-01-2023|  1.0.0|       0001A|              CPT|                     2022|IMM ADMN SARSCOV2...|Immunization admi...| professional|                 null|                    ffs|     negotiated|           39.1|      Office|              46562|        |     9999-12-31|                      |                    |                         |                                 |                   |                    |                         |                                 |                   |\n",
      "|2023-05-01_United...|United-HealthCare...| United HealthCare...| Third-Party Admin...|     05-01-2023|  1.0.0|       0001A|              CPT|                     2022|IMM ADMN SARSCOV2...|Immunization admi...| professional|                 null|                    ffs|     negotiated|          38.38|      Office|               6229|        |     9999-12-31|                      |                    |                         |                                 |                   |                    |                         |                                 |                   |\n",
      "|2023-05-01_United...|United-HealthCare...| United HealthCare...| Third-Party Admin...|     05-01-2023|  1.0.0|       0001A|              CPT|                     2022|IMM ADMN SARSCOV2...|Immunization admi...| professional|                 null|                    ffs|     negotiated|          25.95|      Office|              49590|        |     9999-12-31|                      |                    |                         |                                 |                   |                    |                         |                                 |                   |\n",
      "|2023-05-01_United...|United-HealthCare...| United HealthCare...| Third-Party Admin...|     05-01-2023|  1.0.0|       0001A|              CPT|                     2022|IMM ADMN SARSCOV2...|Immunization admi...| professional|                 null|                    ffs|     negotiated|          30.06|      Office|              46626|        |     9999-12-31|                      |                    |                         |                                 |                   |                    |                         |                                 |                   |\n",
      "|2023-05-01_United...|United-HealthCare...| United HealthCare...| Third-Party Admin...|     05-01-2023|  1.0.0|       0001A|              CPT|                     2022|IMM ADMN SARSCOV2...|Immunization admi...| professional|                 null|                    ffs|     negotiated|          35.28|      Office|              20552|        |     9999-12-31|                      |                    |                         |                                 |                   |                    |                         |                                 |                   |\n",
      "+--------------------+--------------------+---------------------+---------------------+---------------+-------+------------+-----------------+-------------------------+--------------------+--------------------+-------------+---------------------+-----------------------+---------------+---------------+------------+-------------------+--------+---------------+----------------------+--------------------+-------------------------+---------------------------------+-------------------+--------------------+-------------------------+---------------------------------+-------------------+\n",
      "only showing top 20 rows"
     ]
    }
   ],
   "source": [
    "df3_reordered.show()"
   ]
  },
  {
   "cell_type": "code",
   "execution_count": null,
   "id": "55b88d11",
   "metadata": {},
   "outputs": [],
   "source": []
  },
  {
   "cell_type": "code",
   "execution_count": 176,
   "id": "90d096df",
   "metadata": {},
   "outputs": [
    {
     "data": {
      "application/vnd.jupyter.widget-view+json": {
       "model_id": "5c9cbe14374c44f68b3264694ce18c57",
       "version_major": 2,
       "version_minor": 0
      },
      "text/plain": [
       "VBox()"
      ]
     },
     "metadata": {},
     "output_type": "display_data"
    },
    {
     "data": {
      "application/vnd.jupyter.widget-view+json": {
       "model_id": "",
       "version_major": 2,
       "version_minor": 0
      },
      "text/plain": [
       "FloatProgress(value=0.0, bar_style='info', description='Progress:', layout=Layout(height='25px', width='50%'),…"
      ]
     },
     "metadata": {},
     "output_type": "display_data"
    }
   ],
   "source": [
    "df3_reordered_deduped = df3_reordered.distinct()"
   ]
  },
  {
   "cell_type": "code",
   "execution_count": null,
   "id": "6c93f783",
   "metadata": {},
   "outputs": [],
   "source": []
  },
  {
   "cell_type": "code",
   "execution_count": null,
   "id": "d5412bec",
   "metadata": {},
   "outputs": [],
   "source": []
  },
  {
   "cell_type": "code",
   "execution_count": 177,
   "id": "3b7c8215",
   "metadata": {},
   "outputs": [
    {
     "data": {
      "application/vnd.jupyter.widget-view+json": {
       "model_id": "e22c83c0c05b4d4980d53bb0085fd8b2",
       "version_major": 2,
       "version_minor": 0
      },
      "text/plain": [
       "VBox()"
      ]
     },
     "metadata": {},
     "output_type": "display_data"
    },
    {
     "data": {
      "application/vnd.jupyter.widget-view+json": {
       "model_id": "",
       "version_major": 2,
       "version_minor": 0
      },
      "text/plain": [
       "FloatProgress(value=0.0, bar_style='info', description='Progress:', layout=Layout(height='25px', width='50%'),…"
      ]
     },
     "metadata": {},
     "output_type": "display_data"
    }
   ],
   "source": [
    "if str(df3_reordered_deduped.schema[\"file_name\"].dataType) == 'StringType' and str(df3_reordered_deduped.schema[\"negotiated_rate\"].dataType) == 'DoubleType' and str(df3_reordered_deduped.schema[\"reporting_entity_name\"].dataType) == 'StringType' and str(df3_reordered_deduped.schema[\"reporting_entity_type\"].dataType) == 'StringType' and str(df3_reordered_deduped.schema[\"last_updated_on\"].dataType) == 'StringType' and str(df3_reordered_deduped.schema[\"version\"].dataType) == 'StringType' and str(df3_reordered_deduped.schema[\"billing_code\"].dataType) == 'StringType'and str(df3_reordered_deduped.schema[\"billing_code_type\"].dataType) == 'StringType' and str(df3_reordered_deduped.schema[\"billing_code_type_version\"].dataType) == 'StringType'and str(df3_reordered_deduped.schema[\"description\"].dataType) == 'StringType' and str(df3_reordered_deduped.schema[\"name\"].dataType) == 'StringType' and str(df3_reordered_deduped.schema[\"billing_class\"].dataType) == 'StringType'and str(df3_reordered_deduped.schema[\"billing_code_modifier\"].dataType) == 'StringType'and str(df3_reordered_deduped.schema[\"negotiation_arrangement\"].dataType) == 'StringType' and str(df3_reordered_deduped.schema[\"negotiated_type\"].dataType) == 'StringType' and str(df3_reordered_deduped.schema[\"service_code\"].dataType) == 'StringType' and str(df3_reordered_deduped.schema[\"provider_references\"].dataType) == 'LongType'and str(df3_reordered_deduped.schema[\"location\"].dataType) == 'StringType' and str(df3_reordered_deduped.schema[\"expiration_date\"].dataType) == 'StringType'and str(df3_reordered_deduped.schema[\"additional_information\"].dataType) == 'StringType'and str(df3_reordered_deduped.schema[\"bundled_billing_code\"].dataType) == 'StringType' and str(df3_reordered_deduped.schema[\"bundled_billing_code_type\"].dataType) == 'StringType' and str(df3_reordered_deduped.schema[\"bundled_billing_code_type_version\"].dataType) == 'StringType'and str(df3_reordered_deduped.schema[\"bundled_description\"].dataType) == 'StringType' and str(df3_reordered_deduped.schema[\"covered_billing_code\"].dataType) == 'StringType' and str(df3_reordered_deduped.schema[\"covered_billing_code_type\"].dataType) == 'StringType' and str(df3_reordered_deduped.schema[\"covered_billing_code_type_version\"].dataType) == 'StringType'and str(df3_reordered_deduped.schema[\"covered_description\"].dataType) == 'StringType' and str(df3_reordered_deduped.schema[\"processed_file_name\"].dataType) == 'StringType' and len(df3_reordered_deduped.columns) == 29:\n",
    "    df3_reordered_deduped.write.mode(\"append\").parquet(f\"s3://zigna-nsa-payer-data-parquet-staging/Q2-2023/wellmark/may-wellmark-uhc/may-wellmark-uhc-in-network/{ff}/\")\n",
    "#     print('true')\n",
    "else:\n",
    "    print('error')"
   ]
  },
  {
   "cell_type": "code",
   "execution_count": null,
   "id": "e6f70408",
   "metadata": {},
   "outputs": [],
   "source": []
  },
  {
   "cell_type": "code",
   "execution_count": null,
   "id": "aabd42a5",
   "metadata": {},
   "outputs": [],
   "source": []
  },
  {
   "cell_type": "code",
   "execution_count": null,
   "id": "d5c9aa22",
   "metadata": {},
   "outputs": [],
   "source": []
  },
  {
   "cell_type": "markdown",
   "id": "8ad55918",
   "metadata": {},
   "source": [
    "### We have check the sample data, to make sure the data is looking fine to process further\n",
    "<br>\n",
    "If you find anything wrong in the data please raise a flag"
   ]
  },
  {
   "cell_type": "code",
   "execution_count": 174,
   "id": "2a128267",
   "metadata": {
    "scrolled": true
   },
   "outputs": [
    {
     "data": {
      "application/vnd.jupyter.widget-view+json": {
       "model_id": "72fe2309bbf046a8a2293f33dbe18dc8",
       "version_major": 2,
       "version_minor": 0
      },
      "text/plain": [
       "VBox()"
      ]
     },
     "metadata": {},
     "output_type": "display_data"
    },
    {
     "data": {
      "application/vnd.jupyter.widget-view+json": {
       "model_id": "",
       "version_major": 2,
       "version_minor": 0
      },
      "text/plain": [
       "FloatProgress(value=0.0, bar_style='info', description='Progress:', layout=Layout(height='25px', width='50%'),…"
      ]
     },
     "metadata": {},
     "output_type": "display_data"
    }
   ],
   "source": [
    "# df3_reordered_deduped.show(n=1000)"
   ]
  },
  {
   "cell_type": "markdown",
   "id": "486717ad",
   "metadata": {},
   "source": [
    "### Need to cross check the distinct values in 'billing_code_type' columns"
   ]
  },
  {
   "cell_type": "code",
   "execution_count": 175,
   "id": "8fca9131",
   "metadata": {},
   "outputs": [
    {
     "data": {
      "application/vnd.jupyter.widget-view+json": {
       "model_id": "73b0624c753941ddb3812e24a491e6c8",
       "version_major": 2,
       "version_minor": 0
      },
      "text/plain": [
       "VBox()"
      ]
     },
     "metadata": {},
     "output_type": "display_data"
    },
    {
     "data": {
      "application/vnd.jupyter.widget-view+json": {
       "model_id": "",
       "version_major": 2,
       "version_minor": 0
      },
      "text/plain": [
       "FloatProgress(value=0.0, bar_style='info', description='Progress:', layout=Layout(height='25px', width='50%'),…"
      ]
     },
     "metadata": {},
     "output_type": "display_data"
    }
   ],
   "source": [
    "# df3_reordered_deduped[['billing_code_type']].distinct().show()"
   ]
  },
  {
   "cell_type": "markdown",
   "id": "9b91d73e",
   "metadata": {},
   "source": [
    "### Need to cross check the distinct values in 'negotiated_type' columns"
   ]
  },
  {
   "cell_type": "code",
   "execution_count": 176,
   "id": "14f4a0eb",
   "metadata": {},
   "outputs": [
    {
     "data": {
      "application/vnd.jupyter.widget-view+json": {
       "model_id": "98088ffeb34242998577279e9237f910",
       "version_major": 2,
       "version_minor": 0
      },
      "text/plain": [
       "VBox()"
      ]
     },
     "metadata": {},
     "output_type": "display_data"
    },
    {
     "data": {
      "application/vnd.jupyter.widget-view+json": {
       "model_id": "",
       "version_major": 2,
       "version_minor": 0
      },
      "text/plain": [
       "FloatProgress(value=0.0, bar_style='info', description='Progress:', layout=Layout(height='25px', width='50%'),…"
      ]
     },
     "metadata": {},
     "output_type": "display_data"
    }
   ],
   "source": [
    "# df3_reordered_deduped[['negotiation_arrangement']].distinct().show()"
   ]
  },
  {
   "cell_type": "code",
   "execution_count": 177,
   "id": "03784ccc",
   "metadata": {},
   "outputs": [
    {
     "data": {
      "application/vnd.jupyter.widget-view+json": {
       "model_id": "5cf29756b7c44578a57a833bdcdac82b",
       "version_major": 2,
       "version_minor": 0
      },
      "text/plain": [
       "VBox()"
      ]
     },
     "metadata": {},
     "output_type": "display_data"
    },
    {
     "data": {
      "application/vnd.jupyter.widget-view+json": {
       "model_id": "",
       "version_major": 2,
       "version_minor": 0
      },
      "text/plain": [
       "FloatProgress(value=0.0, bar_style='info', description='Progress:', layout=Layout(height='25px', width='50%'),…"
      ]
     },
     "metadata": {},
     "output_type": "display_data"
    }
   ],
   "source": [
    "# df3_reordered_deduped[['negotiated_type']].distinct().show()"
   ]
  },
  {
   "cell_type": "markdown",
   "id": "206d21b4",
   "metadata": {},
   "source": [
    "### Need to cross check the distinct values in 'billing_class' columns"
   ]
  },
  {
   "cell_type": "code",
   "execution_count": 178,
   "id": "e3cf2d50",
   "metadata": {},
   "outputs": [
    {
     "data": {
      "application/vnd.jupyter.widget-view+json": {
       "model_id": "a63e37a9d47446bcacb7292f12d3ad89",
       "version_major": 2,
       "version_minor": 0
      },
      "text/plain": [
       "VBox()"
      ]
     },
     "metadata": {},
     "output_type": "display_data"
    },
    {
     "data": {
      "application/vnd.jupyter.widget-view+json": {
       "model_id": "",
       "version_major": 2,
       "version_minor": 0
      },
      "text/plain": [
       "FloatProgress(value=0.0, bar_style='info', description='Progress:', layout=Layout(height='25px', width='50%'),…"
      ]
     },
     "metadata": {},
     "output_type": "display_data"
    }
   ],
   "source": [
    "# df3_reordered_deduped[['billing_class']].distinct().show()"
   ]
  },
  {
   "cell_type": "code",
   "execution_count": 179,
   "id": "5eff895b",
   "metadata": {},
   "outputs": [
    {
     "data": {
      "application/vnd.jupyter.widget-view+json": {
       "model_id": "287f021f9e714ac386a1bff12fcd0f94",
       "version_major": 2,
       "version_minor": 0
      },
      "text/plain": [
       "VBox()"
      ]
     },
     "metadata": {},
     "output_type": "display_data"
    },
    {
     "data": {
      "application/vnd.jupyter.widget-view+json": {
       "model_id": "",
       "version_major": 2,
       "version_minor": 0
      },
      "text/plain": [
       "FloatProgress(value=0.0, bar_style='info', description='Progress:', layout=Layout(height='25px', width='50%'),…"
      ]
     },
     "metadata": {},
     "output_type": "display_data"
    }
   ],
   "source": [
    "# bc = df3_reordered_deduped.filter(df3_reordered_deduped.billing_code_type == 'APR-DRG')\n",
    "# bc[['billing_code_type']].distinct().show()"
   ]
  },
  {
   "cell_type": "code",
   "execution_count": 180,
   "id": "05f1d557",
   "metadata": {},
   "outputs": [
    {
     "data": {
      "application/vnd.jupyter.widget-view+json": {
       "model_id": "42f0d5017dba4906a4246b63dd94fc3d",
       "version_major": 2,
       "version_minor": 0
      },
      "text/plain": [
       "VBox()"
      ]
     },
     "metadata": {},
     "output_type": "display_data"
    },
    {
     "data": {
      "application/vnd.jupyter.widget-view+json": {
       "model_id": "",
       "version_major": 2,
       "version_minor": 0
      },
      "text/plain": [
       "FloatProgress(value=0.0, bar_style='info', description='Progress:', layout=Layout(height='25px', width='50%'),…"
      ]
     },
     "metadata": {},
     "output_type": "display_data"
    }
   ],
   "source": [
    "# bc = df3_reordered_deduped.filter(df3_reordered_deduped.billing_code_type == 'MS-DRG')\n",
    "# bc[['billing_code']].distinct().show()"
   ]
  },
  {
   "cell_type": "code",
   "execution_count": null,
   "id": "2db9895e",
   "metadata": {},
   "outputs": [],
   "source": []
  },
  {
   "cell_type": "markdown",
   "id": "05bea224",
   "metadata": {},
   "source": [
    "# Provider references level\n"
   ]
  },
  {
   "cell_type": "markdown",
   "id": "31e1a675",
   "metadata": {},
   "source": [
    "### Here we are reading the provider_references raw data file"
   ]
  },
  {
   "cell_type": "markdown",
   "id": "74135c03",
   "metadata": {},
   "source": [
    "# idxx"
   ]
  },
  {
   "cell_type": "code",
   "execution_count": 203,
   "id": "ba6a6357",
   "metadata": {
    "scrolled": false
   },
   "outputs": [
    {
     "data": {
      "application/vnd.jupyter.widget-view+json": {
       "model_id": "1dfb1fa4ca484be0b87806dd3dca5ad3",
       "version_major": 2,
       "version_minor": 0
      },
      "text/plain": [
       "VBox()"
      ]
     },
     "metadata": {},
     "output_type": "display_data"
    },
    {
     "data": {
      "application/vnd.jupyter.widget-view+json": {
       "model_id": "",
       "version_major": 2,
       "version_minor": 0
      },
      "text/plain": [
       "FloatProgress(value=0.0, bar_style='info', description='Progress:', layout=Layout(height='25px', width='50%'),…"
      ]
     },
     "metadata": {},
     "output_type": "display_data"
    },
    {
     "name": "stdout",
     "output_type": "stream",
     "text": [
      "'2023-05-01_Surest_Third-Party-Administrator_UHSS---TERMED-GROUP_UNITEDHEALTHCARE-CHOICE-PLUS_-K_UBNT_in-network-rates'"
     ]
    }
   ],
   "source": [
    "idx = 36\n",
    "file_names[idx]"
   ]
  },
  {
   "cell_type": "code",
   "execution_count": 204,
   "id": "ac78fe61",
   "metadata": {
    "scrolled": true
   },
   "outputs": [
    {
     "data": {
      "application/vnd.jupyter.widget-view+json": {
       "model_id": "e86c863e643845609ee20697b4539f23",
       "version_major": 2,
       "version_minor": 0
      },
      "text/plain": [
       "VBox()"
      ]
     },
     "metadata": {},
     "output_type": "display_data"
    },
    {
     "data": {
      "application/vnd.jupyter.widget-view+json": {
       "model_id": "",
       "version_major": 2,
       "version_minor": 0
      },
      "text/plain": [
       "FloatProgress(value=0.0, bar_style='info', description='Progress:', layout=Layout(height='25px', width='50%'),…"
      ]
     },
     "metadata": {},
     "output_type": "display_data"
    }
   ],
   "source": [
    "ff = file_names[idx]"
   ]
  },
  {
   "cell_type": "code",
   "execution_count": 205,
   "id": "7dc92a7d",
   "metadata": {
    "scrolled": true
   },
   "outputs": [
    {
     "data": {
      "application/vnd.jupyter.widget-view+json": {
       "model_id": "cf7145b699ff48bdb6fb9a67101233e6",
       "version_major": 2,
       "version_minor": 0
      },
      "text/plain": [
       "VBox()"
      ]
     },
     "metadata": {},
     "output_type": "display_data"
    },
    {
     "data": {
      "application/vnd.jupyter.widget-view+json": {
       "model_id": "",
       "version_major": 2,
       "version_minor": 0
      },
      "text/plain": [
       "FloatProgress(value=0.0, bar_style='info', description='Progress:', layout=Layout(height='25px', width='50%'),…"
      ]
     },
     "metadata": {},
     "output_type": "display_data"
    },
    {
     "name": "stdout",
     "output_type": "stream",
     "text": [
      "Link: s3://zigna-nsa-data-staging/raw-json-files/Q2-2023/may-wellmark-uhc/2023-05-01_Surest_Third-Party-Administrator_UHSS---TERMED-GROUP_UNITEDHEALTHCARE-CHOICE-PLUS_-K_UBNT_in-network-rates.json \n",
      "\n",
      "File name: 2023-05-01_Surest_Third-Party-Administrator_UHSS---TERMED-GROUP_UNITEDHEALTHCARE-CHOICE-PLUS_-K_UBNT_in-network-rates \n",
      "\n",
      " Processed file name : Surest_Third-Party-Administrator_UHSS---TERMED-GROUP_UNITEDHEALTHCARE-CHOICE-PLUS_-K_UBNT"
     ]
    }
   ],
   "source": [
    "in_net = \"s3://zigna-nsa-data-staging/raw-json-files/Q2-2023/may-wellmark-uhc/\" + ff + \".json\"\n",
    "processed_fname = ff.replace('2023-05-01_','').replace('_in-network-rates','')\n",
    "print(f'Link: {in_net} \\n\\nFile name: {ff} \\n\\n Processed file name : {processed_fname}')"
   ]
  },
  {
   "cell_type": "markdown",
   "id": "cb0de9e9",
   "metadata": {},
   "source": [
    "### Bellow we are creating the provider_referenece raw data file path by using in_path and splitting the file name from the link and assiging it to the 'fname'"
   ]
  },
  {
   "cell_type": "code",
   "execution_count": 206,
   "id": "a6b0305c",
   "metadata": {
    "scrolled": true
   },
   "outputs": [
    {
     "data": {
      "application/vnd.jupyter.widget-view+json": {
       "model_id": "b9431b934f104d53b1985bce8857b0f9",
       "version_major": 2,
       "version_minor": 0
      },
      "text/plain": [
       "VBox()"
      ]
     },
     "metadata": {},
     "output_type": "display_data"
    },
    {
     "data": {
      "application/vnd.jupyter.widget-view+json": {
       "model_id": "",
       "version_major": 2,
       "version_minor": 0
      },
      "text/plain": [
       "FloatProgress(value=0.0, bar_style='info', description='Progress:', layout=Layout(height='25px', width='50%'),…"
      ]
     },
     "metadata": {},
     "output_type": "display_data"
    },
    {
     "name": "stdout",
     "output_type": "stream",
     "text": [
      "'s3://zigna-nsa-data-staging/provider-references/Q2-2023/may-wellmark-uhc/2023-05-01_Surest_Third-Party-Administrator_UHSS---TERMED-GROUP_UNITEDHEALTHCARE-CHOICE-PLUS_-K_UBNT_in-network-rates/'"
     ]
    }
   ],
   "source": [
    "prov_ref = in_net.replace('raw-json-files','provider-references').replace('.json','') + '/'\n",
    "prov_ref"
   ]
  },
  {
   "cell_type": "code",
   "execution_count": null,
   "id": "e4125ed1",
   "metadata": {},
   "outputs": [],
   "source": []
  },
  {
   "cell_type": "code",
   "execution_count": 207,
   "id": "7079b312",
   "metadata": {
    "scrolled": false
   },
   "outputs": [
    {
     "data": {
      "application/vnd.jupyter.widget-view+json": {
       "model_id": "e79420ab008c4287bb8755e48d969e49",
       "version_major": 2,
       "version_minor": 0
      },
      "text/plain": [
       "VBox()"
      ]
     },
     "metadata": {},
     "output_type": "display_data"
    },
    {
     "data": {
      "application/vnd.jupyter.widget-view+json": {
       "model_id": "",
       "version_major": 2,
       "version_minor": 0
      },
      "text/plain": [
       "FloatProgress(value=0.0, bar_style='info', description='Progress:', layout=Layout(height='25px', width='50%'),…"
      ]
     },
     "metadata": {},
     "output_type": "display_data"
    }
   ],
   "source": [
    "df4 = spark.read.options(allowNumericLeadingZero = True).json(prov_ref)"
   ]
  },
  {
   "cell_type": "code",
   "execution_count": 208,
   "id": "8505c15f",
   "metadata": {},
   "outputs": [
    {
     "data": {
      "application/vnd.jupyter.widget-view+json": {
       "model_id": "da95cedc07814272ba33e838cea900f3",
       "version_major": 2,
       "version_minor": 0
      },
      "text/plain": [
       "VBox()"
      ]
     },
     "metadata": {},
     "output_type": "display_data"
    },
    {
     "data": {
      "application/vnd.jupyter.widget-view+json": {
       "model_id": "",
       "version_major": 2,
       "version_minor": 0
      },
      "text/plain": [
       "FloatProgress(value=0.0, bar_style='info', description='Progress:', layout=Layout(height='25px', width='50%'),…"
      ]
     },
     "metadata": {},
     "output_type": "display_data"
    },
    {
     "name": "stdout",
     "output_type": "stream",
     "text": [
      "root\n",
      " |-- provider_group_id: long (nullable = true)\n",
      " |-- provider_groups: array (nullable = true)\n",
      " |    |-- element: struct (containsNull = true)\n",
      " |    |    |-- npi: array (nullable = true)\n",
      " |    |    |    |-- element: long (containsNull = true)\n",
      " |    |    |-- tin: struct (nullable = true)\n",
      " |    |    |    |-- type: string (nullable = true)\n",
      " |    |    |    |-- value: string (nullable = true)"
     ]
    }
   ],
   "source": [
    "df4.printSchema()"
   ]
  },
  {
   "cell_type": "code",
   "execution_count": 209,
   "id": "2eb62b77",
   "metadata": {},
   "outputs": [
    {
     "data": {
      "application/vnd.jupyter.widget-view+json": {
       "model_id": "cb081b67cf16417faa61b75f30f8901f",
       "version_major": 2,
       "version_minor": 0
      },
      "text/plain": [
       "VBox()"
      ]
     },
     "metadata": {},
     "output_type": "display_data"
    },
    {
     "data": {
      "application/vnd.jupyter.widget-view+json": {
       "model_id": "",
       "version_major": 2,
       "version_minor": 0
      },
      "text/plain": [
       "FloatProgress(value=0.0, bar_style='info', description='Progress:', layout=Layout(height='25px', width='50%'),…"
      ]
     },
     "metadata": {},
     "output_type": "display_data"
    }
   ],
   "source": [
    "df5 = flatten(df4)"
   ]
  },
  {
   "cell_type": "code",
   "execution_count": 210,
   "id": "5eb24443",
   "metadata": {},
   "outputs": [
    {
     "data": {
      "application/vnd.jupyter.widget-view+json": {
       "model_id": "c79b346c0771421c85a43e2d5f2d27bd",
       "version_major": 2,
       "version_minor": 0
      },
      "text/plain": [
       "VBox()"
      ]
     },
     "metadata": {},
     "output_type": "display_data"
    },
    {
     "data": {
      "application/vnd.jupyter.widget-view+json": {
       "model_id": "",
       "version_major": 2,
       "version_minor": 0
      },
      "text/plain": [
       "FloatProgress(value=0.0, bar_style='info', description='Progress:', layout=Layout(height='25px', width='50%'),…"
      ]
     },
     "metadata": {},
     "output_type": "display_data"
    },
    {
     "name": "stdout",
     "output_type": "stream",
     "text": [
      "2023-05-01_Surest_Third-Party-Administrator_UHSS---TERMED-GROUP_UNITEDHEALTHCARE-CHOICE-PLUS_-K_UBNT_in-network-rates \n",
      " Surest_Third-Party-Administrator_UHSS---TERMED-GROUP_UNITEDHEALTHCARE-CHOICE-PLUS_-K_UBNT"
     ]
    }
   ],
   "source": [
    "df5 = df5.withColumn(\"npi\",df5.npi.cast(StringType()))\n",
    "df5 = df5.withColumn('file_name',lit(ff)).withColumn('processed_file_name',lit(processed_fname))\n",
    "print(ff,'\\n',processed_fname)"
   ]
  },
  {
   "cell_type": "code",
   "execution_count": 211,
   "id": "cddf2806",
   "metadata": {},
   "outputs": [
    {
     "data": {
      "application/vnd.jupyter.widget-view+json": {
       "model_id": "3c984abbe1be4387a9c220963f664bf8",
       "version_major": 2,
       "version_minor": 0
      },
      "text/plain": [
       "VBox()"
      ]
     },
     "metadata": {},
     "output_type": "display_data"
    },
    {
     "data": {
      "application/vnd.jupyter.widget-view+json": {
       "model_id": "",
       "version_major": 2,
       "version_minor": 0
      },
      "text/plain": [
       "FloatProgress(value=0.0, bar_style='info', description='Progress:', layout=Layout(height='25px', width='50%'),…"
      ]
     },
     "metadata": {},
     "output_type": "display_data"
    },
    {
     "name": "stdout",
     "output_type": "stream",
     "text": [
      "root\n",
      " |-- provider_group_id: long (nullable = true)\n",
      " |-- npi: string (nullable = true)\n",
      " |-- tin_type: string (nullable = true)\n",
      " |-- tin_value: string (nullable = true)\n",
      " |-- file_name: string (nullable = false)\n",
      " |-- processed_file_name: string (nullable = false)"
     ]
    }
   ],
   "source": [
    "df5.printSchema()"
   ]
  },
  {
   "cell_type": "code",
   "execution_count": 212,
   "id": "5e928a3e",
   "metadata": {},
   "outputs": [
    {
     "data": {
      "application/vnd.jupyter.widget-view+json": {
       "model_id": "2cb8870a22694035bde4cedd8a429f1f",
       "version_major": 2,
       "version_minor": 0
      },
      "text/plain": [
       "VBox()"
      ]
     },
     "metadata": {},
     "output_type": "display_data"
    },
    {
     "data": {
      "application/vnd.jupyter.widget-view+json": {
       "model_id": "",
       "version_major": 2,
       "version_minor": 0
      },
      "text/plain": [
       "FloatProgress(value=0.0, bar_style='info', description='Progress:', layout=Layout(height='25px', width='50%'),…"
      ]
     },
     "metadata": {},
     "output_type": "display_data"
    },
    {
     "name": "stdout",
     "output_type": "stream",
     "text": [
      "2813207"
     ]
    }
   ],
   "source": [
    "df6 = df5.distinct()\n",
    "df6.count()"
   ]
  },
  {
   "cell_type": "code",
   "execution_count": 213,
   "id": "c3c74c66",
   "metadata": {},
   "outputs": [
    {
     "data": {
      "application/vnd.jupyter.widget-view+json": {
       "model_id": "e10a321940754554bc7ccc0d73508fef",
       "version_major": 2,
       "version_minor": 0
      },
      "text/plain": [
       "VBox()"
      ]
     },
     "metadata": {},
     "output_type": "display_data"
    },
    {
     "data": {
      "application/vnd.jupyter.widget-view+json": {
       "model_id": "",
       "version_major": 2,
       "version_minor": 0
      },
      "text/plain": [
       "FloatProgress(value=0.0, bar_style='info', description='Progress:', layout=Layout(height='25px', width='50%'),…"
      ]
     },
     "metadata": {},
     "output_type": "display_data"
    }
   ],
   "source": [
    "# pgi = df6[['provider_group_id']].distinct().collect()\n",
    "# upgi = []\n",
    "# for i in pgi:\n",
    "#     upgi.append(i['provider_group_id'])\n",
    "# inpgi = df3_reordered[['provider_references']].distinct().collect()\n",
    "# inupgi = []\n",
    "# for i in inpgi:\n",
    "#     inupgi.append(i['provider_references'])"
   ]
  },
  {
   "cell_type": "code",
   "execution_count": 201,
   "id": "edaf3e8a",
   "metadata": {},
   "outputs": [
    {
     "data": {
      "application/vnd.jupyter.widget-view+json": {
       "model_id": "a10f53f97e4648b584b3377dcbd7bf65",
       "version_major": 2,
       "version_minor": 0
      },
      "text/plain": [
       "VBox()"
      ]
     },
     "metadata": {},
     "output_type": "display_data"
    },
    {
     "data": {
      "application/vnd.jupyter.widget-view+json": {
       "model_id": "",
       "version_major": 2,
       "version_minor": 0
      },
      "text/plain": [
       "FloatProgress(value=0.0, bar_style='info', description='Progress:', layout=Layout(height='25px', width='50%'),…"
      ]
     },
     "metadata": {},
     "output_type": "display_data"
    }
   ],
   "source": [
    "# print(len(upgi),len(inupgi),len(set(upgi).intersection(set(inupgi))))"
   ]
  },
  {
   "cell_type": "code",
   "execution_count": null,
   "id": "250fe96f",
   "metadata": {},
   "outputs": [],
   "source": []
  },
  {
   "cell_type": "code",
   "execution_count": null,
   "id": "d0ea5f89",
   "metadata": {},
   "outputs": [],
   "source": []
  },
  {
   "cell_type": "code",
   "execution_count": null,
   "id": "3473b466",
   "metadata": {},
   "outputs": [],
   "source": []
  },
  {
   "cell_type": "code",
   "execution_count": 214,
   "id": "e4a2c1c1",
   "metadata": {},
   "outputs": [
    {
     "data": {
      "application/vnd.jupyter.widget-view+json": {
       "model_id": "e94e7fbe2cd44032b80ab95e36529833",
       "version_major": 2,
       "version_minor": 0
      },
      "text/plain": [
       "VBox()"
      ]
     },
     "metadata": {},
     "output_type": "display_data"
    },
    {
     "data": {
      "application/vnd.jupyter.widget-view+json": {
       "model_id": "",
       "version_major": 2,
       "version_minor": 0
      },
      "text/plain": [
       "FloatProgress(value=0.0, bar_style='info', description='Progress:', layout=Layout(height='25px', width='50%'),…"
      ]
     },
     "metadata": {},
     "output_type": "display_data"
    }
   ],
   "source": [
    "if str(df6.schema[\"provider_group_id\"].dataType) == 'LongType' and str(df6.schema[\"npi\"].dataType) == 'StringType' and str(df6.schema[\"tin_type\"].dataType) == 'StringType' and str(df6.schema[\"tin_value\"].dataType) == 'StringType' and str(df6.schema[\"file_name\"].dataType) == 'StringType' and str(df6.schema[\"processed_file_name\"].dataType) == 'StringType' and len(df6.columns)==6:\n",
    "    \n",
    "    df6.write.mode(\"append\").parquet(f\"s3://zigna-nsa-payer-data-parquet-staging/Q2-2023/wellmark/may-wellmark-uhc/may-wellmark-uhc-provider-references/{ff}/\")\n",
    "else:\n",
    "    print('error')"
   ]
  },
  {
   "cell_type": "code",
   "execution_count": null,
   "id": "763bf905",
   "metadata": {},
   "outputs": [],
   "source": []
  },
  {
   "cell_type": "code",
   "execution_count": null,
   "id": "c4908b63",
   "metadata": {},
   "outputs": [],
   "source": []
  },
  {
   "cell_type": "code",
   "execution_count": null,
   "id": "a4a50d56",
   "metadata": {},
   "outputs": [],
   "source": []
  },
  {
   "cell_type": "code",
   "execution_count": null,
   "id": "0f55db75",
   "metadata": {},
   "outputs": [],
   "source": []
  },
  {
   "cell_type": "code",
   "execution_count": null,
   "id": "d6c01e67",
   "metadata": {},
   "outputs": [],
   "source": []
  },
  {
   "cell_type": "code",
   "execution_count": null,
   "id": "d364edbd",
   "metadata": {},
   "outputs": [],
   "source": []
  },
  {
   "cell_type": "code",
   "execution_count": null,
   "id": "e7e5ec32",
   "metadata": {},
   "outputs": [],
   "source": []
  },
  {
   "cell_type": "code",
   "execution_count": null,
   "id": "d08b546e",
   "metadata": {},
   "outputs": [],
   "source": []
  },
  {
   "cell_type": "code",
   "execution_count": null,
   "id": "e607c4a4",
   "metadata": {},
   "outputs": [],
   "source": []
  },
  {
   "cell_type": "markdown",
   "id": "f280a801",
   "metadata": {},
   "source": [
    "### checking for size of the dataframe"
   ]
  },
  {
   "cell_type": "code",
   "execution_count": 495,
   "id": "27d643cc",
   "metadata": {},
   "outputs": [
    {
     "data": {
      "application/vnd.jupyter.widget-view+json": {
       "model_id": "d5029b648b7749c3bceeaf54cfedf062",
       "version_major": 2,
       "version_minor": 0
      },
      "text/plain": [
       "VBox()"
      ]
     },
     "metadata": {},
     "output_type": "display_data"
    },
    {
     "data": {
      "application/vnd.jupyter.widget-view+json": {
       "model_id": "",
       "version_major": 2,
       "version_minor": 0
      },
      "text/plain": [
       "FloatProgress(value=0.0, bar_style='info', description='Progress:', layout=Layout(height='25px', width='50%'),…"
      ]
     },
     "metadata": {},
     "output_type": "display_data"
    }
   ],
   "source": [
    "\n",
    "# df6.count()"
   ]
  },
  {
   "cell_type": "markdown",
   "id": "9ac8677f",
   "metadata": {},
   "source": [
    "\n",
    "\n",
    "\n",
    "\n",
    "## Before running the bellow line of code please make sure the path"
   ]
  },
  {
   "cell_type": "markdown",
   "id": "684dde32",
   "metadata": {},
   "source": [
    "### Here we are generating parquet files"
   ]
  },
  {
   "cell_type": "code",
   "execution_count": null,
   "id": "52858d0e",
   "metadata": {},
   "outputs": [],
   "source": []
  },
  {
   "cell_type": "code",
   "execution_count": null,
   "id": "eb764939",
   "metadata": {},
   "outputs": [],
   "source": []
  },
  {
   "cell_type": "code",
   "execution_count": null,
   "id": "b2abfaa9",
   "metadata": {},
   "outputs": [],
   "source": []
  },
  {
   "cell_type": "code",
   "execution_count": 10,
   "id": "6ab30fc4",
   "metadata": {},
   "outputs": [
    {
     "data": {
      "application/vnd.jupyter.widget-view+json": {
       "model_id": "abb4654543a242c6a5228afab929099c",
       "version_major": 2,
       "version_minor": 0
      },
      "text/plain": [
       "VBox()"
      ]
     },
     "metadata": {},
     "output_type": "display_data"
    },
    {
     "data": {
      "application/vnd.jupyter.widget-view+json": {
       "model_id": "",
       "version_major": 2,
       "version_minor": 0
      },
      "text/plain": [
       "FloatProgress(value=0.0, bar_style='info', description='Progress:', layout=Layout(height='25px', width='50%'),…"
      ]
     },
     "metadata": {},
     "output_type": "display_data"
    }
   ],
   "source": [
    "import time"
   ]
  },
  {
   "cell_type": "code",
   "execution_count": 11,
   "id": "7f145769",
   "metadata": {},
   "outputs": [
    {
     "data": {
      "application/vnd.jupyter.widget-view+json": {
       "model_id": "6e7c07e6b8b64795b5f02515ed5f36e2",
       "version_major": 2,
       "version_minor": 0
      },
      "text/plain": [
       "VBox()"
      ]
     },
     "metadata": {},
     "output_type": "display_data"
    },
    {
     "data": {
      "application/vnd.jupyter.widget-view+json": {
       "model_id": "",
       "version_major": 2,
       "version_minor": 0
      },
      "text/plain": [
       "FloatProgress(value=0.0, bar_style='info', description='Progress:', layout=Layout(height='25px', width='50%'),…"
      ]
     },
     "metadata": {},
     "output_type": "display_data"
    }
   ],
   "source": [
    "error = []"
   ]
  },
  {
   "cell_type": "code",
   "execution_count": 12,
   "id": "53d53637",
   "metadata": {},
   "outputs": [
    {
     "data": {
      "application/vnd.jupyter.widget-view+json": {
       "model_id": "6c59a2b5cd2b4e7d91673b773a734539",
       "version_major": 2,
       "version_minor": 0
      },
      "text/plain": [
       "VBox()"
      ]
     },
     "metadata": {},
     "output_type": "display_data"
    },
    {
     "data": {
      "application/vnd.jupyter.widget-view+json": {
       "model_id": "",
       "version_major": 2,
       "version_minor": 0
      },
      "text/plain": [
       "FloatProgress(value=0.0, bar_style='info', description='Progress:', layout=Layout(height='25px', width='50%'),…"
      ]
     },
     "metadata": {},
     "output_type": "display_data"
    }
   ],
   "source": [
    "for idx in [32,33,34,35,36]: #\n",
    "    ff = file_names[idx]\n",
    "    rn = rep_name[idx]\n",
    "    rt = rep_type[idx]\n",
    "    luo = last_up_on[idx]\n",
    "    versi = vers[idx]\n",
    "    in_net = \"s3://zigna-nsa-data-staging/raw-json-files/Q2-2023/may-wellmark-uhc/\" + ff + \".json\"\n",
    "    processed_fname = ff.replace('2023-05-01_','').replace('_in-network-rates','')\n",
    "    prov_ref = in_net.replace('raw-json-files','provider-references').replace('.json','') + '/'\n",
    "    df1 = spark.read.options(allowNumericLeadingZero = True).json(in_net)\n",
    "    df2 = flatten(df1)\n",
    "    df2 = df2.drop(\"covered_services\")\n",
    "    luo = '05-01-2023'\n",
    "    df2 = df2.withColumn('reporting_entity_name',lit(rn))\n",
    "    df2 = df2.withColumn('reporting_entity_type',lit(rt))\n",
    "    df2 = df2.withColumn('last_updated_on',lit(luo))\n",
    "    df2 = df2.withColumn('version',lit(versi))\n",
    "    df2 = df2.drop('_corrupt_record')\n",
    "    if 'negotiated_rates_negotiated_prices_service_code' in list(df2.columns):\n",
    "        df2 = df2.withColumn(\"service_code\", when(df2.negotiated_rates_negotiated_prices_service_code == \"11\",\"Office\")\n",
    "                                         .when(df2.negotiated_rates_negotiated_prices_service_code == \"20\",\"Urgent Care\")                            \n",
    "                                         .when(df2.negotiated_rates_negotiated_prices_service_code.isin(['21','22','23']),\"IP/OP/ED\")\n",
    "                                         .otherwise(\"All Other\"))\n",
    "    else:\n",
    "        df2 = df2.withColumn(\"service_code\", when(df2.negotiated_prices_service_code == \"11\",\"Office\")\n",
    "                                         .when(df2.negotiated_prices_service_code == \"20\",\"Urgent Care\")                            \n",
    "                                         .when(df2.negotiated_prices_service_code.isin(['21','22','23']),\"IP/OP/ED\")\n",
    "                                         .otherwise(\"All Other\"))\n",
    "    df2 = df2.withColumnRenamed('negotiated_prices_expiration_date','expiration_date')\n",
    "    df2 = df2.drop('negotiated_prices_service_code')\n",
    "    df2 = df2.drop('negotiated_rates_negotiated_prices_service_code')\n",
    "    df2 = df2.drop('negotiated_prices_service_code')\n",
    "    df2 = df2.withColumnRenamed('negotiated_prices_negotiated_rate','negotiated_rate').withColumnRenamed('negotiated_prices_negotiated_type','negotiated_type').withColumnRenamed('negotiated_prices_additional_information','additional_information')\n",
    "    df2 = df2.withColumnRenamed('negotiated_prices_billing_class','billing_class').withColumnRenamed('negotiated_prices_billing_code_modifier','billing_code_modifier')\n",
    "    df2 = df2.withColumnRenamed('negotiated_rates_negotiated_prices_expiration_date','expiration_date').withColumnRenamed('negotiated_rates_provider_references','provider_references')\n",
    "    df2 = df2.withColumnRenamed('negotiated_rates_negotiated_prices_negotiated_rate','negotiated_rate').withColumnRenamed('negotiated_rates_negotiated_prices_negotiated_type','negotiated_type').withColumnRenamed('negotiated_rates_negotiated_prices_additional_information','additional_information')\n",
    "    df2 = df2.withColumnRenamed('negotiated_rates_negotiated_prices_billing_class','billing_class').withColumnRenamed('negotiated_rates_negotiated_prices_billing_code_modifier','billing_code_modifier')\n",
    "    df2 = df2.withColumn('covered_billing_code',lit('')).withColumn('covered_billing_code_type',lit('')).withColumn('covered_billing_code_type_version',lit('')).withColumn('covered_description',lit(''))\n",
    "    df2 = df2.withColumn('bundled_billing_code',lit('')).withColumn('bundled_billing_code_type',lit('')).withColumn('bundled_billing_code_type_version',lit('')).withColumn('bundled_description',lit(''))\n",
    "    df2 = df2.withColumn('file_name',lit(ff)).withColumn('location',lit('')).withColumn('processed_file_name',lit(processed_fname))\n",
    "    # df2 = df2.withColumn('additional_information',lit(''))\n",
    "    df2 = df2.withColumn(\"negotiated_rate\",df2.negotiated_rate.cast(DoubleType()))\n",
    "    df3 =  df2.dropna(subset=['negotiated_rate'])\n",
    "    df3 = df3.filter(df3.negotiated_rate > 0.0)\n",
    "    df3_reordered =  df3.select(\"file_name\",\"processed_file_name\",\"reporting_entity_name\",\"reporting_entity_type\",\"last_updated_on\",\"version\",\"billing_code\",\"billing_code_type\",\"billing_code_type_version\",\"name\",\"description\",\"billing_class\",\"billing_code_modifier\",\"negotiation_arrangement\",\"negotiated_type\",\"negotiated_rate\",\"service_code\",\"provider_references\",\"location\",\"expiration_date\",\"additional_information\",\"covered_billing_code\",\"covered_billing_code_type\",\"covered_billing_code_type_version\",\"covered_description\",\"bundled_billing_code\",\"bundled_billing_code_type\",\"bundled_billing_code_type_version\",\"bundled_description\")\n",
    "    df3_reordered_deduped = df3_reordered.distinct()\n",
    "    if str(df3_reordered_deduped.schema[\"file_name\"].dataType) == 'StringType' and str(df3_reordered_deduped.schema[\"negotiated_rate\"].dataType) == 'DoubleType' and str(df3_reordered_deduped.schema[\"reporting_entity_name\"].dataType) == 'StringType' and str(df3_reordered_deduped.schema[\"reporting_entity_type\"].dataType) == 'StringType' and str(df3_reordered_deduped.schema[\"last_updated_on\"].dataType) == 'StringType' and str(df3_reordered_deduped.schema[\"version\"].dataType) == 'StringType' and str(df3_reordered_deduped.schema[\"billing_code\"].dataType) == 'StringType'and str(df3_reordered_deduped.schema[\"billing_code_type\"].dataType) == 'StringType' and str(df3_reordered_deduped.schema[\"billing_code_type_version\"].dataType) == 'StringType'and str(df3_reordered_deduped.schema[\"description\"].dataType) == 'StringType' and str(df3_reordered_deduped.schema[\"name\"].dataType) == 'StringType' and str(df3_reordered_deduped.schema[\"billing_class\"].dataType) == 'StringType'and str(df3_reordered_deduped.schema[\"billing_code_modifier\"].dataType) == 'StringType'and str(df3_reordered_deduped.schema[\"negotiation_arrangement\"].dataType) == 'StringType' and str(df3_reordered_deduped.schema[\"negotiated_type\"].dataType) == 'StringType' and str(df3_reordered_deduped.schema[\"service_code\"].dataType) == 'StringType' and str(df3_reordered_deduped.schema[\"provider_references\"].dataType) == 'LongType'and str(df3_reordered_deduped.schema[\"location\"].dataType) == 'StringType' and str(df3_reordered_deduped.schema[\"expiration_date\"].dataType) == 'StringType'and str(df3_reordered_deduped.schema[\"additional_information\"].dataType) == 'StringType'and str(df3_reordered_deduped.schema[\"bundled_billing_code\"].dataType) == 'StringType' and str(df3_reordered_deduped.schema[\"bundled_billing_code_type\"].dataType) == 'StringType' and str(df3_reordered_deduped.schema[\"bundled_billing_code_type_version\"].dataType) == 'StringType'and str(df3_reordered_deduped.schema[\"bundled_description\"].dataType) == 'StringType' and str(df3_reordered_deduped.schema[\"covered_billing_code\"].dataType) == 'StringType' and str(df3_reordered_deduped.schema[\"covered_billing_code_type\"].dataType) == 'StringType' and str(df3_reordered_deduped.schema[\"covered_billing_code_type_version\"].dataType) == 'StringType'and str(df3_reordered_deduped.schema[\"covered_description\"].dataType) == 'StringType' and str(df3_reordered_deduped.schema[\"processed_file_name\"].dataType) == 'StringType' and len(df3_reordered_deduped.columns) == 29:\n",
    "        df3_reordered_deduped.write.mode(\"append\").parquet(f\"s3://zigna-nsa-payer-data-parquet-staging/Q2-2023/wellmark/may-wellmark-uhc/may-wellmark-uhc-in-network/{ff}/\")\n",
    "    else:\n",
    "        print('error')\n",
    "        error.append(idx)\n",
    "    time.sleep(5)"
   ]
  },
  {
   "cell_type": "code",
   "execution_count": 12,
   "id": "38850531",
   "metadata": {},
   "outputs": [
    {
     "data": {
      "application/vnd.jupyter.widget-view+json": {
       "model_id": "0ae8374d696c4ccc8e50d1b21325c0c8",
       "version_major": 2,
       "version_minor": 0
      },
      "text/plain": [
       "VBox()"
      ]
     },
     "metadata": {},
     "output_type": "display_data"
    },
    {
     "data": {
      "application/vnd.jupyter.widget-view+json": {
       "model_id": "",
       "version_major": 2,
       "version_minor": 0
      },
      "text/plain": [
       "FloatProgress(value=0.0, bar_style='info', description='Progress:', layout=Layout(height='25px', width='50%'),…"
      ]
     },
     "metadata": {},
     "output_type": "display_data"
    },
    {
     "name": "stdout",
     "output_type": "stream",
     "text": [
      "[]"
     ]
    }
   ],
   "source": [
    "error"
   ]
  },
  {
   "cell_type": "raw",
   "id": "a9c35b93",
   "metadata": {},
   "source": []
  },
  {
   "cell_type": "code",
   "execution_count": 16,
   "id": "bc6467de",
   "metadata": {},
   "outputs": [
    {
     "data": {
      "application/vnd.jupyter.widget-view+json": {
       "model_id": "173a6d7daa4343ff9f625a8abf250054",
       "version_major": 2,
       "version_minor": 0
      },
      "text/plain": [
       "VBox()"
      ]
     },
     "metadata": {},
     "output_type": "display_data"
    },
    {
     "data": {
      "application/vnd.jupyter.widget-view+json": {
       "model_id": "",
       "version_major": 2,
       "version_minor": 0
      },
      "text/plain": [
       "FloatProgress(value=0.0, bar_style='info', description='Progress:', layout=Layout(height='25px', width='50%'),…"
      ]
     },
     "metadata": {},
     "output_type": "display_data"
    },
    {
     "name": "stdout",
     "output_type": "stream",
     "text": [
      "'2023-05-01_United-HealthCare-Services--Inc-_Third-Party-Administrator_GIL-75_EE_in-network-rates'"
     ]
    }
   ],
   "source": [
    "file_names[9]"
   ]
  },
  {
   "cell_type": "code",
   "execution_count": 13,
   "id": "1efd8388",
   "metadata": {},
   "outputs": [
    {
     "data": {
      "application/vnd.jupyter.widget-view+json": {
       "model_id": "cd5899747c6c47ecac74f009eedd6c8d",
       "version_major": 2,
       "version_minor": 0
      },
      "text/plain": [
       "VBox()"
      ]
     },
     "metadata": {},
     "output_type": "display_data"
    },
    {
     "data": {
      "application/vnd.jupyter.widget-view+json": {
       "model_id": "",
       "version_major": 2,
       "version_minor": 0
      },
      "text/plain": [
       "FloatProgress(value=0.0, bar_style='info', description='Progress:', layout=Layout(height='25px', width='50%'),…"
      ]
     },
     "metadata": {},
     "output_type": "display_data"
    },
    {
     "name": "stdout",
     "output_type": "stream",
     "text": [
      "+--------------------+--------------------+---------------------+---------------------+---------------+-------+------------+-----------------+-------------------------+--------------------+--------------------+-------------+---------------------+-----------------------+---------------+---------------+------------+-------------------+--------+---------------+----------------------+--------------------+-------------------------+---------------------------------+-------------------+--------------------+-------------------------+---------------------------------+-------------------+\n",
      "|           file_name| processed_file_name|reporting_entity_name|reporting_entity_type|last_updated_on|version|billing_code|billing_code_type|billing_code_type_version|                name|         description|billing_class|billing_code_modifier|negotiation_arrangement|negotiated_type|negotiated_rate|service_code|provider_references|location|expiration_date|additional_information|covered_billing_code|covered_billing_code_type|covered_billing_code_type_version|covered_description|bundled_billing_code|bundled_billing_code_type|bundled_billing_code_type_version|bundled_description|\n",
      "+--------------------+--------------------+---------------------+---------------------+---------------+-------+------------+-----------------+-------------------------+--------------------+--------------------+-------------+---------------------+-----------------------+---------------+---------------+------------+-------------------+--------+---------------+----------------------+--------------------+-------------------------+---------------------------------+-------------------+--------------------+-------------------------+---------------------------------+-------------------+\n",
      "|2023-05-01_United...|United-HealthCare...| United HealthCare...| Third-Party Admin...|     05-01-2023|  1.0.0|       L0464|            HCPCS|                     2022|TLSO TRIPLANAR 4 ...|Thoracic-lumbar-s...| professional|                   NU|                    ffs|     negotiated|        1568.23|   All Other|                130|        |     9999-12-31|                      |                    |                         |                                 |                   |                    |                         |                                 |                   |\n",
      "|2023-05-01_United...|United-HealthCare...| United HealthCare...| Third-Party Admin...|     05-01-2023|  1.0.0|       L0466|            HCPCS|                     2022|TLSO SAGITTAL CON...|Thoracic-lumbar-s...| professional|                   NU|                    ffs|     negotiated|         487.75|   All Other|                767|        |     9999-12-31|                      |                    |                         |                                 |                   |                    |                         |                                 |                   |\n",
      "|2023-05-01_United...|United-HealthCare...| United HealthCare...| Third-Party Admin...|     05-01-2023|  1.0.0|       L0468|            HCPCS|                     2022|TLSO SAGITTAL-COR...|Thoracic-lumbar-s...| professional|                 null|                    ffs|     negotiated|         983.19|   All Other|                225|        |     9999-12-31|                      |                    |                         |                                 |                   |                    |                         |                                 |                   |\n",
      "|2023-05-01_United...|United-HealthCare...| United HealthCare...| Third-Party Admin...|     05-01-2023|  1.0.0|       L0468|            HCPCS|                     2022|TLSO SAGITTAL-COR...|Thoracic-lumbar-s...| professional|                 null|                    ffs|     negotiated|         501.63|   All Other|                168|        |     9999-12-31|                      |                    |                         |                                 |                   |                    |                         |                                 |                   |\n",
      "|2023-05-01_United...|United-HealthCare...| United HealthCare...| Third-Party Admin...|     05-01-2023|  1.0.0|       L0469|            HCPCS|                     2022|TLSO SAGITTAL-COR...|Thoracic-lumbar-s...| professional|                 null|                    ffs|     negotiated|         823.69|      Office|                191|        |     9999-12-31|                      |                    |                         |                                 |                   |                    |                         |                                 |                   |\n",
      "|2023-05-01_United...|United-HealthCare...| United HealthCare...| Third-Party Admin...|     05-01-2023|  1.0.0|       L0469|            HCPCS|                     2022|TLSO SAGITTAL-COR...|Thoracic-lumbar-s...| professional|                 null|                    ffs|     negotiated|          415.2|    IP/OP/ED|                413|        |     9999-12-31|                      |                    |                         |                                 |                   |                    |                         |                                 |                   |\n",
      "|2023-05-01_United...|United-HealthCare...| United HealthCare...| Third-Party Admin...|     05-01-2023|  1.0.0|       L0470|            HCPCS|                     2022|TLSO TRIPLANAR PO...|Thoracic-lumbar-s...| professional|                 null|                    ffs|     negotiated|         822.45|      Office|                848|        |     9999-12-31|                      |                    |                         |                                 |                   |                    |                         |                                 |                   |\n",
      "|2023-05-01_United...|United-HealthCare...| United HealthCare...| Third-Party Admin...|     05-01-2023|  1.0.0|       L0470|            HCPCS|                     2022|TLSO TRIPLANAR PO...|Thoracic-lumbar-s...| professional|                 null|                    ffs|     negotiated|         822.45|      Office|                571|        |     9999-12-31|                      |                    |                         |                                 |                   |                    |                         |                                 |                   |\n",
      "|2023-05-01_United...|United-HealthCare...| United HealthCare...| Third-Party Admin...|     05-01-2023|  1.0.0|       L0472|            HCPCS|                     2022|TLSO TRIPLANAR HY...|Thoracic-lumbar-s...| professional|                   NU|                    ffs|     negotiated|         427.14|   All Other|                139|        |     9999-12-31|                      |                    |                         |                                 |                   |                    |                         |                                 |                   |\n",
      "|2023-05-01_United...|United-HealthCare...| United HealthCare...| Third-Party Admin...|     05-01-2023|  1.0.0|       L0472|            HCPCS|                     2022|TLSO TRIPLANAR HY...|Thoracic-lumbar-s...| professional|                   NU|                    ffs|     negotiated|          464.3|      Office|                186|        |     9999-12-31|                      |                    |                         |                                 |                   |                    |                         |                                 |                   |\n",
      "|2023-05-01_United...|United-HealthCare...| United HealthCare...| Third-Party Admin...|     05-01-2023|  1.0.0|       L0472|            HCPCS|                     2022|TLSO TRIPLANAR HY...|Thoracic-lumbar-s...| professional|                 null|                    ffs|     negotiated|         427.14|    IP/OP/ED|                 55|        |     9999-12-31|                      |                    |                         |                                 |                   |                    |                         |                                 |                   |\n",
      "|2023-05-01_United...|United-HealthCare...| United HealthCare...| Third-Party Admin...|     05-01-2023|  1.0.0|       L0480|            HCPCS|                     2022|TLSO TRIPLANAR 1 ...|Thoracic-lumbar-s...| professional|                 null|                    ffs|     negotiated|        2156.72|   All Other|                453|        |     9999-12-31|                      |                    |                         |                                 |                   |                    |                         |                                 |                   |\n",
      "|2023-05-01_United...|United-HealthCare...| United HealthCare...| Third-Party Admin...|     05-01-2023|  1.0.0|       L0480|            HCPCS|                     2022|TLSO TRIPLANAR 1 ...|Thoracic-lumbar-s...| professional|                   NU|                    ffs|     negotiated|        4334.48|      Office|                472|        |     9999-12-31|                      |                    |                         |                                 |                   |                    |                         |                                 |                   |\n",
      "|2023-05-01_United...|United-HealthCare...| United HealthCare...| Third-Party Admin...|     05-01-2023|  1.0.0|       L0480|            HCPCS|                     2022|TLSO TRIPLANAR 1 ...|Thoracic-lumbar-s...| professional|                   NU|                    ffs|     negotiated|        2247.56|      Office|                366|        |     9999-12-31|                      |                    |                         |                                 |                   |                    |                         |                                 |                   |\n",
      "|2023-05-01_United...|United-HealthCare...| United HealthCare...| Third-Party Admin...|     05-01-2023|  1.0.0|       L0482|            HCPCS|                     2022|TLSO TRIPLANAR 1 ...|Thoracic-lumbar-s...| professional|                   NU|                    ffs|     negotiated|        1824.52|    IP/OP/ED|                672|        |     9999-12-31|                      |                    |                         |                                 |                   |                    |                         |                                 |                   |\n",
      "|2023-05-01_United...|United-HealthCare...| United HealthCare...| Third-Party Admin...|     05-01-2023|  1.0.0|       L0484|            HCPCS|                     2022|TLSO TRIPLANAR 2 ...|Thoracic-lumbar-s...| professional|                 null|                    ffs|     negotiated|        4536.72|      Office|                334|        |     9999-12-31|                      |                    |                         |                                 |                   |                    |                         |                                 |                   |\n",
      "|2023-05-01_United...|United-HealthCare...| United HealthCare...| Third-Party Admin...|     05-01-2023|  1.0.0|       L0486|            HCPCS|                     2022|TLSO TRIPLANAR 2 ...|Thoracic-lumbar-s...| professional|                   NU|                    ffs|     negotiated|        2628.29|   All Other|                156|        |     9999-12-31|                      |                    |                         |                                 |                   |                    |                         |                                 |                   |\n",
      "|2023-05-01_United...|United-HealthCare...| United HealthCare...| Third-Party Admin...|     05-01-2023|  1.0.0|       L0488|            HCPCS|                     2022|TLSO TRIPLANAR 1 ...|Thoracic-lumbar-s...| professional|                   NU|                    ffs|     negotiated|        1151.21|   All Other|                617|        |     9999-12-31|                      |                    |                         |                                 |                   |                    |                         |                                 |                   |\n",
      "|2023-05-01_United...|United-HealthCare...| United HealthCare...| Third-Party Admin...|     05-01-2023|  1.0.0|       L0488|            HCPCS|                     2022|TLSO TRIPLANAR 1 ...|Thoracic-lumbar-s...| professional|                   NU|                    ffs|     negotiated|        2954.81|   All Other|                588|        |     9999-12-31|                      |                    |                         |                                 |                   |                    |                         |                                 |                   |\n",
      "|2023-05-01_United...|United-HealthCare...| United HealthCare...| Third-Party Admin...|     05-01-2023|  1.0.0|       L0490|            HCPCS|                     2022|TLSO SAGIT-CORONA...|Thoracic-lumbar-s...| professional|                 null|                    ffs|     negotiated|         671.49|    IP/OP/ED|                172|        |     9999-12-31|                      |                    |                         |                                 |                   |                    |                         |                                 |                   |\n",
      "+--------------------+--------------------+---------------------+---------------------+---------------+-------+------------+-----------------+-------------------------+--------------------+--------------------+-------------+---------------------+-----------------------+---------------+---------------+------------+-------------------+--------+---------------+----------------------+--------------------+-------------------------+---------------------------------+-------------------+--------------------+-------------------------+---------------------------------+-------------------+\n",
      "only showing top 20 rows"
     ]
    }
   ],
   "source": [
    "df3_reordered_deduped[[]].show()"
   ]
  },
  {
   "cell_type": "code",
   "execution_count": null,
   "id": "db015f6d",
   "metadata": {},
   "outputs": [],
   "source": []
  }
 ],
 "metadata": {
  "kernelspec": {
   "display_name": "PySpark",
   "language": "python",
   "name": "pysparkkernel"
  },
  "language_info": {
   "codemirror_mode": {
    "name": "python",
    "version": 3
   },
   "file_extension": ".py",
   "mimetype": "text/x-python",
   "name": "pyspark",
   "pygments_lexer": "python3"
  }
 },
 "nbformat": 4,
 "nbformat_minor": 5
}
