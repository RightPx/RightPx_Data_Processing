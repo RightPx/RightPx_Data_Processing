{
 "cells": [
  {
   "cell_type": "code",
   "execution_count": 1,
   "id": "b6edfa13",
   "metadata": {},
   "outputs": [
    {
     "data": {
      "text/html": [
       "Current session configs: <tt>{'executorMemory': '200G', 'proxyUser': 'assumed-role_DataEngineer_RightPX_sunitha_zignaai_com', 'kind': 'pyspark'}</tt><br>"
      ],
      "text/plain": [
       "<IPython.core.display.HTML object>"
      ]
     },
     "metadata": {},
     "output_type": "display_data"
    },
    {
     "data": {
      "text/html": [
       "No active sessions."
      ],
      "text/plain": [
       "<IPython.core.display.HTML object>"
      ]
     },
     "metadata": {},
     "output_type": "display_data"
    }
   ],
   "source": [
    "%%configure -f \n",
    "{\"executorMemory\":\"200G\"}"
   ]
  },
  {
   "cell_type": "code",
   "execution_count": 2,
   "id": "f26038ef",
   "metadata": {},
   "outputs": [
    {
     "data": {
      "text/html": [
       "Current session configs: <tt>{'conf': {'spark.sql.files.maxPartitionBytes': '1073741824'}, 'proxyUser': 'assumed-role_DataEngineer_RightPX_sunitha_zignaai_com', 'kind': 'pyspark'}</tt><br>"
      ],
      "text/plain": [
       "<IPython.core.display.HTML object>"
      ]
     },
     "metadata": {},
     "output_type": "display_data"
    },
    {
     "data": {
      "text/html": [
       "No active sessions."
      ],
      "text/plain": [
       "<IPython.core.display.HTML object>"
      ]
     },
     "metadata": {},
     "output_type": "display_data"
    }
   ],
   "source": [
    "%%configure -f\n",
    "{\n",
    "  \"conf\": {\n",
    "    \"spark.sql.files.maxPartitionBytes\": \"1073741824\"\n",
    "  }\n",
    "}"
   ]
  },
  {
   "cell_type": "code",
   "execution_count": 3,
   "id": "d3b463bb",
   "metadata": {},
   "outputs": [
    {
     "data": {
      "application/vnd.jupyter.widget-view+json": {
       "model_id": "f367ac9e214145cf8240d3e89e3112d2",
       "version_major": 2,
       "version_minor": 0
      },
      "text/plain": [
       "VBox()"
      ]
     },
     "metadata": {},
     "output_type": "display_data"
    },
    {
     "name": "stdout",
     "output_type": "stream",
     "text": [
      "Starting Spark application\n"
     ]
    },
    {
     "data": {
      "text/html": [
       "<table>\n",
       "<tr><th>ID</th><th>YARN Application ID</th><th>Kind</th><th>State</th><th>Spark UI</th><th>Driver log</th><th>User</th><th>Current session?</th></tr><tr><td>1</td><td>application_1684227770878_0002</td><td>pyspark</td><td>idle</td><td><a target=\"_blank\" href=\"http://ip-192-168-37-72.ec2.internal:20888/proxy/application_1684227770878_0002/\" class=\"emr-proxy-link\" emr-resource=\"j-MR2MAM4S66O0\n",
       "\" application-id=\"application_1684227770878_0002\">Link</a></td><td><a target=\"_blank\" href=\"http://ip-192-168-35-208.ec2.internal:8042/node/containerlogs/container_1684227770878_0002_01_000001/livy\" >Link</a></td><td>None</td><td>✔</td></tr></table>"
      ],
      "text/plain": [
       "<IPython.core.display.HTML object>"
      ]
     },
     "metadata": {},
     "output_type": "display_data"
    },
    {
     "data": {
      "application/vnd.jupyter.widget-view+json": {
       "model_id": "",
       "version_major": 2,
       "version_minor": 0
      },
      "text/plain": [
       "FloatProgress(value=0.0, bar_style='info', description='Progress:', layout=Layout(height='25px', width='50%'),…"
      ]
     },
     "metadata": {},
     "output_type": "display_data"
    },
    {
     "name": "stdout",
     "output_type": "stream",
     "text": [
      "SparkSession available as 'spark'.\n"
     ]
    },
    {
     "data": {
      "application/vnd.jupyter.widget-view+json": {
       "model_id": "",
       "version_major": 2,
       "version_minor": 0
      },
      "text/plain": [
       "FloatProgress(value=0.0, bar_style='info', description='Progress:', layout=Layout(height='25px', width='50%'),…"
      ]
     },
     "metadata": {},
     "output_type": "display_data"
    }
   ],
   "source": [
    "from pyspark.sql import SparkSession\n",
    "from pyspark.sql import types as T\n",
    "import pyspark.sql.functions as F\n",
    "from pyspark.sql.functions import lit\n",
    "from pyspark.sql.types import IntegerType,BooleanType,DateType,LongType,DoubleType, StringType\n",
    "from pyspark.sql.functions import row_number,lit,col,when, concat_ws\n",
    "from pyspark.sql.window import Window\n",
    "import time\n",
    "spark = SparkSession.builder \\\n",
    "    .master(\"yarn\") \\\n",
    "    .appName(\"Wellmark-UHC\") \\\n",
    "    .getOrCreate()"
   ]
  },
  {
   "cell_type": "code",
   "execution_count": null,
   "id": "f7a5e10e",
   "metadata": {},
   "outputs": [],
   "source": []
  },
  {
   "cell_type": "code",
   "execution_count": null,
   "id": "f18e3b69",
   "metadata": {},
   "outputs": [],
   "source": []
  },
  {
   "cell_type": "code",
   "execution_count": null,
   "id": "5ab8a6ae",
   "metadata": {},
   "outputs": [],
   "source": []
  },
  {
   "cell_type": "code",
   "execution_count": 4,
   "id": "6bf34b22",
   "metadata": {},
   "outputs": [
    {
     "data": {
      "application/vnd.jupyter.widget-view+json": {
       "model_id": "377686ef73a34aa293d939ba54e69169",
       "version_major": 2,
       "version_minor": 0
      },
      "text/plain": [
       "VBox()"
      ]
     },
     "metadata": {},
     "output_type": "display_data"
    },
    {
     "data": {
      "application/vnd.jupyter.widget-view+json": {
       "model_id": "",
       "version_major": 2,
       "version_minor": 0
      },
      "text/plain": [
       "FloatProgress(value=0.0, bar_style='info', description='Progress:', layout=Layout(height='25px', width='50%'),…"
      ]
     },
     "metadata": {},
     "output_type": "display_data"
    }
   ],
   "source": [
    "npi_table = spark.read.parquet(\"s3://zigna-nsa-data-staging/metadata/Q2-2023/helper-tables/may-wellmark-hosp-ancillary-npi-table/\")"
   ]
  },
  {
   "cell_type": "code",
   "execution_count": 5,
   "id": "dd7f8319",
   "metadata": {},
   "outputs": [
    {
     "data": {
      "application/vnd.jupyter.widget-view+json": {
       "model_id": "b2d6ed896c9a48af959c2132e1540552",
       "version_major": 2,
       "version_minor": 0
      },
      "text/plain": [
       "VBox()"
      ]
     },
     "metadata": {},
     "output_type": "display_data"
    },
    {
     "data": {
      "application/vnd.jupyter.widget-view+json": {
       "model_id": "",
       "version_major": 2,
       "version_minor": 0
      },
      "text/plain": [
       "FloatProgress(value=0.0, bar_style='info', description='Progress:', layout=Layout(height='25px', width='50%'),…"
      ]
     },
     "metadata": {},
     "output_type": "display_data"
    },
    {
     "name": "stdout",
     "output_type": "stream",
     "text": [
      "root\n",
      " |-- npi: string (nullable = true)\n",
      " |-- entity_type_code: string (nullable = true)\n",
      " |-- provider_organization_name_legal_business_name: string (nullable = true)\n",
      " |-- provider_credential_text: integer (nullable = true)\n",
      " |-- provider_business_practice_location_address_city_name: string (nullable = true)\n",
      " |-- provider_business_practice_location_address_state_name: string (nullable = true)\n",
      " |-- postal_code: string (nullable = true)\n",
      " |-- healthcare_provider_taxonomy_code: string (nullable = true)\n",
      " |-- provider_type: string (nullable = true)\n",
      " |-- mapped_from: string (nullable = true)\n",
      " |-- feb_excellus_npi: string (nullable = true)\n",
      " |-- code: string (nullable = true)\n",
      " |-- grouping: string (nullable = true)\n",
      " |-- classification: string (nullable = true)\n",
      " |-- specialization: string (nullable = true)\n",
      " |-- display_name: string (nullable = true)\n",
      " |-- section: string (nullable = true)\n",
      " |-- provider_name: string (nullable = true)\n",
      " |-- zip: string (nullable = true)\n",
      " |-- state: string (nullable = true)\n",
      " |-- county: string (nullable = true)\n",
      " |-- region: string (nullable = true)\n",
      " |-- provider_credential: string (nullable = true)\n",
      " |-- provider_specialty_description: string (nullable = true)\n",
      " |-- provider_specialty_group: string (nullable = true)\n",
      " |-- inclusion: integer (nullable = true)\n",
      " |-- primary_city: string (nullable = true)\n",
      "\n",
      "27"
     ]
    }
   ],
   "source": [
    "npi_table.printSchema()\n",
    "len(npi_table.columns)"
   ]
  },
  {
   "cell_type": "code",
   "execution_count": 6,
   "id": "4280cc29",
   "metadata": {},
   "outputs": [
    {
     "data": {
      "application/vnd.jupyter.widget-view+json": {
       "model_id": "6707c3a23654408ea50b38a9c09a2756",
       "version_major": 2,
       "version_minor": 0
      },
      "text/plain": [
       "VBox()"
      ]
     },
     "metadata": {},
     "output_type": "display_data"
    },
    {
     "data": {
      "application/vnd.jupyter.widget-view+json": {
       "model_id": "",
       "version_major": 2,
       "version_minor": 0
      },
      "text/plain": [
       "FloatProgress(value=0.0, bar_style='info', description='Progress:', layout=Layout(height='25px', width='50%'),…"
      ]
     },
     "metadata": {},
     "output_type": "display_data"
    }
   ],
   "source": [
    "npi_table = npi_table.withColumnRenamed('provider_business_practice_location_address_city_name', 'provider_city_name').withColumnRenamed(\n",
    "    'provider_business_practice_location_address_state_name', 'provider_state_name').withColumnRenamed('postal_code', 'provider_postal_code').withColumnRenamed('npi', 'master_npi')\n",
    "# npi_table = npi_table.withColumn(\"primary_city\",npi_table.primary_city.cast(StringType()))"
   ]
  },
  {
   "cell_type": "code",
   "execution_count": 7,
   "id": "c363597a",
   "metadata": {},
   "outputs": [
    {
     "data": {
      "application/vnd.jupyter.widget-view+json": {
       "model_id": "792463c761ca4ef3900154293b344a42",
       "version_major": 2,
       "version_minor": 0
      },
      "text/plain": [
       "VBox()"
      ]
     },
     "metadata": {},
     "output_type": "display_data"
    },
    {
     "data": {
      "application/vnd.jupyter.widget-view+json": {
       "model_id": "",
       "version_major": 2,
       "version_minor": 0
      },
      "text/plain": [
       "FloatProgress(value=0.0, bar_style='info', description='Progress:', layout=Layout(height='25px', width='50%'),…"
      ]
     },
     "metadata": {},
     "output_type": "display_data"
    }
   ],
   "source": [
    "npi_table=npi_table.orderBy('provider_name')"
   ]
  },
  {
   "cell_type": "code",
   "execution_count": 8,
   "id": "4e0bb039",
   "metadata": {},
   "outputs": [
    {
     "data": {
      "application/vnd.jupyter.widget-view+json": {
       "model_id": "377eb0e1a96d476f908318d41bcfda2c",
       "version_major": 2,
       "version_minor": 0
      },
      "text/plain": [
       "VBox()"
      ]
     },
     "metadata": {},
     "output_type": "display_data"
    },
    {
     "data": {
      "application/vnd.jupyter.widget-view+json": {
       "model_id": "",
       "version_major": 2,
       "version_minor": 0
      },
      "text/plain": [
       "FloatProgress(value=0.0, bar_style='info', description='Progress:', layout=Layout(height='25px', width='50%'),…"
      ]
     },
     "metadata": {},
     "output_type": "display_data"
    },
    {
     "name": "stdout",
     "output_type": "stream",
     "text": [
      "+--------------------+-----+\n",
      "|              region|count|\n",
      "+--------------------+-----+\n",
      "|     682 - DAVENPORT|  155|\n",
      "|    764 - RAPID CITY|   97|\n",
      "|  637 - CEDAR RAPIDS|  452|\n",
      "|        717 - QUINCY|   20|\n",
      "|679 - DES MOINES-...|  583|\n",
      "|    624 - SIOUX CITY|  231|\n",
      "|         687 - MINOT|    1|\n",
      "|       631 - OTTUMWA|   39|\n",
      "|         652 - OMAHA|  135|\n",
      "|   725 - SIOUX FALLS|  373|\n",
      "|     611 - ROCHESTER|   82|\n",
      "+--------------------+-----+"
     ]
    }
   ],
   "source": [
    "npi_table.groupBy('region').count().show()"
   ]
  },
  {
   "cell_type": "code",
   "execution_count": 9,
   "id": "7e11f79a",
   "metadata": {},
   "outputs": [
    {
     "data": {
      "application/vnd.jupyter.widget-view+json": {
       "model_id": "f1f7481d1cbc4e2fae68e5e490cc3696",
       "version_major": 2,
       "version_minor": 0
      },
      "text/plain": [
       "VBox()"
      ]
     },
     "metadata": {},
     "output_type": "display_data"
    },
    {
     "data": {
      "application/vnd.jupyter.widget-view+json": {
       "model_id": "",
       "version_major": 2,
       "version_minor": 0
      },
      "text/plain": [
       "FloatProgress(value=0.0, bar_style='info', description='Progress:', layout=Layout(height='25px', width='50%'),…"
      ]
     },
     "metadata": {},
     "output_type": "display_data"
    },
    {
     "name": "stdout",
     "output_type": "stream",
     "text": [
      "2168"
     ]
    }
   ],
   "source": [
    "npi_table.distinct().count()"
   ]
  },
  {
   "cell_type": "code",
   "execution_count": 10,
   "id": "b8eaa6fb",
   "metadata": {},
   "outputs": [
    {
     "data": {
      "application/vnd.jupyter.widget-view+json": {
       "model_id": "0cc95a5bf1784b29bb843c74e43e37c0",
       "version_major": 2,
       "version_minor": 0
      },
      "text/plain": [
       "VBox()"
      ]
     },
     "metadata": {},
     "output_type": "display_data"
    },
    {
     "data": {
      "application/vnd.jupyter.widget-view+json": {
       "model_id": "",
       "version_major": 2,
       "version_minor": 0
      },
      "text/plain": [
       "FloatProgress(value=0.0, bar_style='info', description='Progress:', layout=Layout(height='25px', width='50%'),…"
      ]
     },
     "metadata": {},
     "output_type": "display_data"
    },
    {
     "name": "stdout",
     "output_type": "stream",
     "text": [
      "+-------------+-----+\n",
      "|provider_type|count|\n",
      "+-------------+-----+\n",
      "|    Ancillary| 1966|\n",
      "|     Hospital|  202|\n",
      "+-------------+-----+"
     ]
    }
   ],
   "source": [
    "npi_table.groupBy('provider_type').count().show()"
   ]
  },
  {
   "cell_type": "code",
   "execution_count": 11,
   "id": "9d7666d2",
   "metadata": {},
   "outputs": [
    {
     "data": {
      "application/vnd.jupyter.widget-view+json": {
       "model_id": "2251d176b0bb43a48e2d63467df90711",
       "version_major": 2,
       "version_minor": 0
      },
      "text/plain": [
       "VBox()"
      ]
     },
     "metadata": {},
     "output_type": "display_data"
    },
    {
     "data": {
      "application/vnd.jupyter.widget-view+json": {
       "model_id": "",
       "version_major": 2,
       "version_minor": 0
      },
      "text/plain": [
       "FloatProgress(value=0.0, bar_style='info', description='Progress:', layout=Layout(height='25px', width='50%'),…"
      ]
     },
     "metadata": {},
     "output_type": "display_data"
    },
    {
     "name": "stdout",
     "output_type": "stream",
     "text": [
      "2168"
     ]
    }
   ],
   "source": [
    "npi_table[['master_npi']].distinct().count()"
   ]
  },
  {
   "cell_type": "code",
   "execution_count": null,
   "id": "f0deea9b",
   "metadata": {},
   "outputs": [],
   "source": []
  },
  {
   "cell_type": "code",
   "execution_count": 12,
   "id": "2bf5f59b",
   "metadata": {},
   "outputs": [
    {
     "data": {
      "application/vnd.jupyter.widget-view+json": {
       "model_id": "2b1486d1d76449f5a7f73c23c83a8a76",
       "version_major": 2,
       "version_minor": 0
      },
      "text/plain": [
       "VBox()"
      ]
     },
     "metadata": {},
     "output_type": "display_data"
    },
    {
     "data": {
      "application/vnd.jupyter.widget-view+json": {
       "model_id": "",
       "version_major": 2,
       "version_minor": 0
      },
      "text/plain": [
       "FloatProgress(value=0.0, bar_style='info', description='Progress:', layout=Layout(height='25px', width='50%'),…"
      ]
     },
     "metadata": {},
     "output_type": "display_data"
    }
   ],
   "source": [
    "code_table = spark.read.parquet(\"s3://zigna-nsa-data-staging/metadata/Q2-2023/helper-tables/apr-code-table/\")"
   ]
  },
  {
   "cell_type": "code",
   "execution_count": 13,
   "id": "0ac2382a",
   "metadata": {},
   "outputs": [
    {
     "data": {
      "application/vnd.jupyter.widget-view+json": {
       "model_id": "70e83f03b0dd4a34a27ab821aa5055af",
       "version_major": 2,
       "version_minor": 0
      },
      "text/plain": [
       "VBox()"
      ]
     },
     "metadata": {},
     "output_type": "display_data"
    },
    {
     "data": {
      "application/vnd.jupyter.widget-view+json": {
       "model_id": "",
       "version_major": 2,
       "version_minor": 0
      },
      "text/plain": [
       "FloatProgress(value=0.0, bar_style='info', description='Progress:', layout=Layout(height='25px', width='50%'),…"
      ]
     },
     "metadata": {},
     "output_type": "display_data"
    },
    {
     "name": "stdout",
     "output_type": "stream",
     "text": [
      "root\n",
      " |-- reference_billing_code_type: string (nullable = true)\n",
      " |-- FLAG: string (nullable = true)\n",
      " |-- reference_billing_code: string (nullable = true)\n",
      " |-- ID: string (nullable = true)\n",
      " |-- mapped_billing_code_type: string (nullable = true)\n",
      " |-- mapped_billing_code_old: string (nullable = true)\n",
      " |-- mapped_billing_code: string (nullable = true)\n",
      " |-- mapped_level1_description: string (nullable = true)\n",
      " |-- mapped_level4_description: string (nullable = true)\n",
      " |-- mapped_description: string (nullable = true)\n",
      " |-- code_mapping_category: string (nullable = true)\n",
      " |-- mapped_from: string (nullable = true)\n",
      "\n",
      "12"
     ]
    }
   ],
   "source": [
    "code_table.printSchema()\n",
    "len(code_table.columns)"
   ]
  },
  {
   "cell_type": "code",
   "execution_count": 14,
   "id": "10293a3d",
   "metadata": {},
   "outputs": [
    {
     "data": {
      "application/vnd.jupyter.widget-view+json": {
       "model_id": "61c976ecf27b4b9282bfb87005a86514",
       "version_major": 2,
       "version_minor": 0
      },
      "text/plain": [
       "VBox()"
      ]
     },
     "metadata": {},
     "output_type": "display_data"
    },
    {
     "data": {
      "application/vnd.jupyter.widget-view+json": {
       "model_id": "",
       "version_major": 2,
       "version_minor": 0
      },
      "text/plain": [
       "FloatProgress(value=0.0, bar_style='info', description='Progress:', layout=Layout(height='25px', width='50%'),…"
      ]
     },
     "metadata": {},
     "output_type": "display_data"
    },
    {
     "name": "stdout",
     "output_type": "stream",
     "text": [
      "+---------------------------+-----+\n",
      "|reference_billing_code_type|count|\n",
      "+---------------------------+-----+\n",
      "|                     AP-DRG| 1277|\n",
      "|                     MS-DRG| 1810|\n",
      "|                        APC|  894|\n",
      "|                    APR-DRG| 1277|\n",
      "|                        CPT|10295|\n",
      "|                      HCPCS| 7221|\n",
      "|                   CSTM-ALL|    1|\n",
      "+---------------------------+-----+"
     ]
    }
   ],
   "source": [
    "code_table.groupBy('reference_billing_code_type').count().show()"
   ]
  },
  {
   "cell_type": "code",
   "execution_count": 15,
   "id": "2d8dc60b",
   "metadata": {},
   "outputs": [
    {
     "data": {
      "application/vnd.jupyter.widget-view+json": {
       "model_id": "dd6bc4484d824dbf84029bfcae6d7bfe",
       "version_major": 2,
       "version_minor": 0
      },
      "text/plain": [
       "VBox()"
      ]
     },
     "metadata": {},
     "output_type": "display_data"
    },
    {
     "data": {
      "application/vnd.jupyter.widget-view+json": {
       "model_id": "",
       "version_major": 2,
       "version_minor": 0
      },
      "text/plain": [
       "FloatProgress(value=0.0, bar_style='info', description='Progress:', layout=Layout(height='25px', width='50%'),…"
      ]
     },
     "metadata": {},
     "output_type": "display_data"
    },
    {
     "name": "stdout",
     "output_type": "stream",
     "text": [
      "22775"
     ]
    }
   ],
   "source": [
    "code_table.distinct().count()"
   ]
  },
  {
   "cell_type": "code",
   "execution_count": null,
   "id": "a7c8a423",
   "metadata": {},
   "outputs": [],
   "source": []
  },
  {
   "cell_type": "code",
   "execution_count": null,
   "id": "0fac73bf",
   "metadata": {},
   "outputs": [],
   "source": []
  },
  {
   "cell_type": "code",
   "execution_count": null,
   "id": "cadf4029",
   "metadata": {},
   "outputs": [],
   "source": []
  },
  {
   "cell_type": "code",
   "execution_count": null,
   "id": "126b723e",
   "metadata": {},
   "outputs": [],
   "source": []
  },
  {
   "cell_type": "code",
   "execution_count": 306,
   "id": "44aec943",
   "metadata": {},
   "outputs": [
    {
     "data": {
      "application/vnd.jupyter.widget-view+json": {
       "model_id": "4371cbfca039468a8a6de327a1ec6ba3",
       "version_major": 2,
       "version_minor": 0
      },
      "text/plain": [
       "VBox()"
      ]
     },
     "metadata": {},
     "output_type": "display_data"
    },
    {
     "data": {
      "application/vnd.jupyter.widget-view+json": {
       "model_id": "",
       "version_major": 2,
       "version_minor": 0
      },
      "text/plain": [
       "FloatProgress(value=0.0, bar_style='info', description='Progress:', layout=Layout(height='25px', width='50%'),…"
      ]
     },
     "metadata": {},
     "output_type": "display_data"
    }
   ],
   "source": [
    "provider_ref = spark.read.parquet('s3://nsa-payers-data-backup-staging/chandan/RP/Unsaved/2023/05/16/tables/bb45f74e-91a3-4cce-8855-3adf63ff40e3')"
   ]
  },
  {
   "cell_type": "code",
   "execution_count": 307,
   "id": "b86fa3e1",
   "metadata": {},
   "outputs": [
    {
     "data": {
      "application/vnd.jupyter.widget-view+json": {
       "model_id": "b84db8fde9274c189e6bda15f6cb153d",
       "version_major": 2,
       "version_minor": 0
      },
      "text/plain": [
       "VBox()"
      ]
     },
     "metadata": {},
     "output_type": "display_data"
    },
    {
     "data": {
      "application/vnd.jupyter.widget-view+json": {
       "model_id": "",
       "version_major": 2,
       "version_minor": 0
      },
      "text/plain": [
       "FloatProgress(value=0.0, bar_style='info', description='Progress:', layout=Layout(height='25px', width='50%'),…"
      ]
     },
     "metadata": {},
     "output_type": "display_data"
    },
    {
     "name": "stdout",
     "output_type": "stream",
     "text": [
      "root\n",
      " |-- reporting_entity_name: string (nullable = true)\n",
      " |-- reporting_entity_type: string (nullable = true)\n",
      " |-- billing_code: string (nullable = true)\n",
      " |-- billing_code_type: string (nullable = true)\n",
      " |-- billing_code_type_version: string (nullable = true)\n",
      " |-- name: string (nullable = true)\n",
      " |-- description: string (nullable = true)\n",
      " |-- billing_class: string (nullable = true)\n",
      " |-- billing_code_modifier: string (nullable = true)\n",
      " |-- negotiation_arrangement: string (nullable = true)\n",
      " |-- negotiated_type: string (nullable = true)\n",
      " |-- negotiated_rate: double (nullable = true)\n",
      " |-- expiration_date: string (nullable = true)\n",
      " |-- service_code: string (nullable = true)\n",
      " |-- additional_information: string (nullable = true)\n",
      " |-- npi: string (nullable = true)"
     ]
    }
   ],
   "source": [
    "provider_ref.printSchema()"
   ]
  },
  {
   "cell_type": "code",
   "execution_count": 308,
   "id": "36606fbc",
   "metadata": {},
   "outputs": [
    {
     "data": {
      "application/vnd.jupyter.widget-view+json": {
       "model_id": "7c25c12f799246c4a5610aeb6558fc0f",
       "version_major": 2,
       "version_minor": 0
      },
      "text/plain": [
       "VBox()"
      ]
     },
     "metadata": {},
     "output_type": "display_data"
    },
    {
     "data": {
      "application/vnd.jupyter.widget-view+json": {
       "model_id": "",
       "version_major": 2,
       "version_minor": 0
      },
      "text/plain": [
       "FloatProgress(value=0.0, bar_style='info', description='Progress:', layout=Layout(height='25px', width='50%'),…"
      ]
     },
     "metadata": {},
     "output_type": "display_data"
    },
    {
     "name": "stdout",
     "output_type": "stream",
     "text": [
      "+------------+\n",
      "|service_code|\n",
      "+------------+\n",
      "|   All Other|\n",
      "+------------+"
     ]
    }
   ],
   "source": [
    "provider_ref = provider_ref.withColumnRenamed('renamed_service_code','service_code')\n",
    "# provider_ref = provider_ref.withColumn(\"service_code\", when(provider_ref[\"service_code\"] == \" Urgent\", \"Urgent Care\").otherwise(provider_ref[\"service_code\"]))\n",
    "provider_ref[['service_code']].distinct().show()"
   ]
  },
  {
   "cell_type": "code",
   "execution_count": 309,
   "id": "1ee02705",
   "metadata": {},
   "outputs": [
    {
     "data": {
      "application/vnd.jupyter.widget-view+json": {
       "model_id": "3a8880d6030d483397f8aaac8f0fe89c",
       "version_major": 2,
       "version_minor": 0
      },
      "text/plain": [
       "VBox()"
      ]
     },
     "metadata": {},
     "output_type": "display_data"
    },
    {
     "data": {
      "application/vnd.jupyter.widget-view+json": {
       "model_id": "",
       "version_major": 2,
       "version_minor": 0
      },
      "text/plain": [
       "FloatProgress(value=0.0, bar_style='info', description='Progress:', layout=Layout(height='25px', width='50%'),…"
      ]
     },
     "metadata": {},
     "output_type": "display_data"
    },
    {
     "name": "stdout",
     "output_type": "stream",
     "text": [
      "root\n",
      " |-- reporting_entity_name: string (nullable = true)\n",
      " |-- reporting_entity_type: string (nullable = true)\n",
      " |-- billing_code: string (nullable = true)\n",
      " |-- billing_code_type: string (nullable = true)\n",
      " |-- billing_code_type_version: string (nullable = true)\n",
      " |-- name: string (nullable = true)\n",
      " |-- description: string (nullable = true)\n",
      " |-- billing_class: string (nullable = true)\n",
      " |-- billing_code_modifier: string (nullable = true)\n",
      " |-- negotiation_arrangement: string (nullable = true)\n",
      " |-- negotiated_type: string (nullable = true)\n",
      " |-- negotiated_rate: double (nullable = true)\n",
      " |-- expiration_date: string (nullable = true)\n",
      " |-- service_code: string (nullable = true)\n",
      " |-- additional_information: string (nullable = true)\n",
      " |-- npi: string (nullable = true)\n",
      "\n",
      "16"
     ]
    }
   ],
   "source": [
    "provider_ref.printSchema()\n",
    "len(provider_ref.columns)"
   ]
  },
  {
   "cell_type": "code",
   "execution_count": 310,
   "id": "446aba6f",
   "metadata": {},
   "outputs": [
    {
     "data": {
      "application/vnd.jupyter.widget-view+json": {
       "model_id": "634346171ac84826975cfaea66cb792c",
       "version_major": 2,
       "version_minor": 0
      },
      "text/plain": [
       "VBox()"
      ]
     },
     "metadata": {},
     "output_type": "display_data"
    },
    {
     "data": {
      "application/vnd.jupyter.widget-view+json": {
       "model_id": "",
       "version_major": 2,
       "version_minor": 0
      },
      "text/plain": [
       "FloatProgress(value=0.0, bar_style='info', description='Progress:', layout=Layout(height='25px', width='50%'),…"
      ]
     },
     "metadata": {},
     "output_type": "display_data"
    }
   ],
   "source": [
    "# provider_ref = provider_ref.withColumn('reporting_entity_name',lit('UMR'))"
   ]
  },
  {
   "cell_type": "code",
   "execution_count": 311,
   "id": "6727d3ad",
   "metadata": {},
   "outputs": [
    {
     "data": {
      "application/vnd.jupyter.widget-view+json": {
       "model_id": "dc3ee2e18a5049668b6d814ac8e5010d",
       "version_major": 2,
       "version_minor": 0
      },
      "text/plain": [
       "VBox()"
      ]
     },
     "metadata": {},
     "output_type": "display_data"
    },
    {
     "data": {
      "application/vnd.jupyter.widget-view+json": {
       "model_id": "",
       "version_major": 2,
       "version_minor": 0
      },
      "text/plain": [
       "FloatProgress(value=0.0, bar_style='info', description='Progress:', layout=Layout(height='25px', width='50%'),…"
      ]
     },
     "metadata": {},
     "output_type": "display_data"
    },
    {
     "name": "stdout",
     "output_type": "stream",
     "text": [
      "+---------------------+\n",
      "|reporting_entity_name|\n",
      "+---------------------+\n",
      "|       MultiPlan Inc.|\n",
      "+---------------------+"
     ]
    }
   ],
   "source": [
    "provider_ref = provider_ref.withColumnRenamed('renamed_reporting_entity_name','reporting_entity_name')\n",
    "provider_ref[['reporting_entity_name']].distinct().show()"
   ]
  },
  {
   "cell_type": "code",
   "execution_count": 312,
   "id": "fc4c4589",
   "metadata": {},
   "outputs": [
    {
     "data": {
      "application/vnd.jupyter.widget-view+json": {
       "model_id": "6e1fe3b08e4f45f3bfdf64c5d9647697",
       "version_major": 2,
       "version_minor": 0
      },
      "text/plain": [
       "VBox()"
      ]
     },
     "metadata": {},
     "output_type": "display_data"
    },
    {
     "data": {
      "application/vnd.jupyter.widget-view+json": {
       "model_id": "",
       "version_major": 2,
       "version_minor": 0
      },
      "text/plain": [
       "FloatProgress(value=0.0, bar_style='info', description='Progress:', layout=Layout(height='25px', width='50%'),…"
      ]
     },
     "metadata": {},
     "output_type": "display_data"
    },
    {
     "name": "stdout",
     "output_type": "stream",
     "text": [
      "+---------------------+\n",
      "|reporting_entity_type|\n",
      "+---------------------+\n",
      "|          Third Party|\n",
      "+---------------------+"
     ]
    }
   ],
   "source": [
    "provider_ref[['reporting_entity_type']].distinct().show() #healthinsuranceissuer --> Health Insurance Insurer"
   ]
  },
  {
   "cell_type": "code",
   "execution_count": 313,
   "id": "cf3f0322",
   "metadata": {},
   "outputs": [
    {
     "data": {
      "application/vnd.jupyter.widget-view+json": {
       "model_id": "462ccde8c73d4ce9bc76d54d5c867bd6",
       "version_major": 2,
       "version_minor": 0
      },
      "text/plain": [
       "VBox()"
      ]
     },
     "metadata": {},
     "output_type": "display_data"
    },
    {
     "data": {
      "application/vnd.jupyter.widget-view+json": {
       "model_id": "",
       "version_major": 2,
       "version_minor": 0
      },
      "text/plain": [
       "FloatProgress(value=0.0, bar_style='info', description='Progress:', layout=Layout(height='25px', width='50%'),…"
      ]
     },
     "metadata": {},
     "output_type": "display_data"
    },
    {
     "name": "stdout",
     "output_type": "stream",
     "text": [
      "root\n",
      " |-- master_npi: string (nullable = true)\n",
      " |-- entity_type_code: string (nullable = true)\n",
      " |-- provider_organization_name_legal_business_name: string (nullable = true)\n",
      " |-- provider_credential_text: integer (nullable = true)\n",
      " |-- provider_city_name: string (nullable = true)\n",
      " |-- provider_state_name: string (nullable = true)\n",
      " |-- provider_postal_code: string (nullable = true)\n",
      " |-- healthcare_provider_taxonomy_code: string (nullable = true)\n",
      " |-- provider_type: string (nullable = true)\n",
      " |-- mapped_from: string (nullable = true)\n",
      " |-- feb_excellus_npi: string (nullable = true)\n",
      " |-- code: string (nullable = true)\n",
      " |-- grouping: string (nullable = true)\n",
      " |-- classification: string (nullable = true)\n",
      " |-- specialization: string (nullable = true)\n",
      " |-- display_name: string (nullable = true)\n",
      " |-- section: string (nullable = true)\n",
      " |-- provider_name: string (nullable = true)\n",
      " |-- zip: string (nullable = true)\n",
      " |-- state: string (nullable = true)\n",
      " |-- county: string (nullable = true)\n",
      " |-- region: string (nullable = true)\n",
      " |-- provider_credential: string (nullable = true)\n",
      " |-- provider_specialty_description: string (nullable = true)\n",
      " |-- provider_specialty_group: string (nullable = true)\n",
      " |-- inclusion: integer (nullable = true)\n",
      " |-- primary_city: string (nullable = true)\n",
      " |-- reporting_entity_name: string (nullable = true)\n",
      " |-- reporting_entity_type: string (nullable = true)\n",
      " |-- billing_code: string (nullable = true)\n",
      " |-- billing_code_type: string (nullable = true)\n",
      " |-- billing_code_type_version: string (nullable = true)\n",
      " |-- name: string (nullable = true)\n",
      " |-- description: string (nullable = true)\n",
      " |-- billing_class: string (nullable = true)\n",
      " |-- billing_code_modifier: string (nullable = true)\n",
      " |-- negotiation_arrangement: string (nullable = true)\n",
      " |-- negotiated_type: string (nullable = true)\n",
      " |-- negotiated_rate: double (nullable = true)\n",
      " |-- expiration_date: string (nullable = true)\n",
      " |-- service_code: string (nullable = true)\n",
      " |-- additional_information: string (nullable = true)\n",
      " |-- npi: string (nullable = true)\n",
      "\n",
      "144"
     ]
    }
   ],
   "source": [
    "filtered_provider_references = npi_table.join(provider_ref,npi_table.master_npi == provider_ref.npi, 'inner')\n",
    "filtered_provider_references.printSchema()\n",
    "len(filtered_provider_references.columns)\n",
    "filtered_provider_references.count()"
   ]
  },
  {
   "cell_type": "code",
   "execution_count": 314,
   "id": "d56034b5",
   "metadata": {},
   "outputs": [
    {
     "data": {
      "application/vnd.jupyter.widget-view+json": {
       "model_id": "cc9d5736fda4475ca765bb3dca99b0f9",
       "version_major": 2,
       "version_minor": 0
      },
      "text/plain": [
       "VBox()"
      ]
     },
     "metadata": {},
     "output_type": "display_data"
    },
    {
     "data": {
      "application/vnd.jupyter.widget-view+json": {
       "model_id": "",
       "version_major": 2,
       "version_minor": 0
      },
      "text/plain": [
       "FloatProgress(value=0.0, bar_style='info', description='Progress:', layout=Layout(height='25px', width='50%'),…"
      ]
     },
     "metadata": {},
     "output_type": "display_data"
    }
   ],
   "source": [
    "req_prov_ref_in_network = filtered_provider_references"
   ]
  },
  {
   "cell_type": "code",
   "execution_count": 315,
   "id": "61da9787",
   "metadata": {},
   "outputs": [
    {
     "data": {
      "application/vnd.jupyter.widget-view+json": {
       "model_id": "606144065a294fb790c92bfae46c55ab",
       "version_major": 2,
       "version_minor": 0
      },
      "text/plain": [
       "VBox()"
      ]
     },
     "metadata": {},
     "output_type": "display_data"
    },
    {
     "data": {
      "application/vnd.jupyter.widget-view+json": {
       "model_id": "",
       "version_major": 2,
       "version_minor": 0
      },
      "text/plain": [
       "FloatProgress(value=0.0, bar_style='info', description='Progress:', layout=Layout(height='25px', width='50%'),…"
      ]
     },
     "metadata": {},
     "output_type": "display_data"
    }
   ],
   "source": [
    "code_joined_table = req_prov_ref_in_network.join(code_table, (req_prov_ref_in_network.billing_code == code_table.reference_billing_code) & (req_prov_ref_in_network.billing_code_type == code_table.reference_billing_code_type),\"inner\")"
   ]
  },
  {
   "cell_type": "code",
   "execution_count": 316,
   "id": "fd0d3ca7",
   "metadata": {},
   "outputs": [
    {
     "data": {
      "application/vnd.jupyter.widget-view+json": {
       "model_id": "01d1dda4596a47d7bee26531aef967ff",
       "version_major": 2,
       "version_minor": 0
      },
      "text/plain": [
       "VBox()"
      ]
     },
     "metadata": {},
     "output_type": "display_data"
    },
    {
     "data": {
      "application/vnd.jupyter.widget-view+json": {
       "model_id": "",
       "version_major": 2,
       "version_minor": 0
      },
      "text/plain": [
       "FloatProgress(value=0.0, bar_style='info', description='Progress:', layout=Layout(height='25px', width='50%'),…"
      ]
     },
     "metadata": {},
     "output_type": "display_data"
    },
    {
     "name": "stdout",
     "output_type": "stream",
     "text": [
      "root\n",
      " |-- master_npi: string (nullable = true)\n",
      " |-- entity_type_code: string (nullable = true)\n",
      " |-- provider_organization_name_legal_business_name: string (nullable = true)\n",
      " |-- provider_credential_text: integer (nullable = true)\n",
      " |-- provider_city_name: string (nullable = true)\n",
      " |-- provider_state_name: string (nullable = true)\n",
      " |-- provider_postal_code: string (nullable = true)\n",
      " |-- healthcare_provider_taxonomy_code: string (nullable = true)\n",
      " |-- provider_type: string (nullable = true)\n",
      " |-- mapped_from: string (nullable = true)\n",
      " |-- feb_excellus_npi: string (nullable = true)\n",
      " |-- code: string (nullable = true)\n",
      " |-- grouping: string (nullable = true)\n",
      " |-- classification: string (nullable = true)\n",
      " |-- specialization: string (nullable = true)\n",
      " |-- display_name: string (nullable = true)\n",
      " |-- section: string (nullable = true)\n",
      " |-- provider_name: string (nullable = true)\n",
      " |-- zip: string (nullable = true)\n",
      " |-- state: string (nullable = true)\n",
      " |-- county: string (nullable = true)\n",
      " |-- region: string (nullable = true)\n",
      " |-- provider_credential: string (nullable = true)\n",
      " |-- provider_specialty_description: string (nullable = true)\n",
      " |-- provider_specialty_group: string (nullable = true)\n",
      " |-- inclusion: integer (nullable = true)\n",
      " |-- primary_city: string (nullable = true)\n",
      " |-- reporting_entity_name: string (nullable = true)\n",
      " |-- reporting_entity_type: string (nullable = true)\n",
      " |-- billing_code: string (nullable = true)\n",
      " |-- billing_code_type: string (nullable = true)\n",
      " |-- billing_code_type_version: string (nullable = true)\n",
      " |-- name: string (nullable = true)\n",
      " |-- description: string (nullable = true)\n",
      " |-- billing_class: string (nullable = true)\n",
      " |-- billing_code_modifier: string (nullable = true)\n",
      " |-- negotiation_arrangement: string (nullable = true)\n",
      " |-- negotiated_type: string (nullable = true)\n",
      " |-- negotiated_rate: double (nullable = true)\n",
      " |-- expiration_date: string (nullable = true)\n",
      " |-- service_code: string (nullable = true)\n",
      " |-- additional_information: string (nullable = true)\n",
      " |-- npi: string (nullable = true)\n",
      " |-- reference_billing_code_type: string (nullable = true)\n",
      " |-- FLAG: string (nullable = true)\n",
      " |-- reference_billing_code: string (nullable = true)\n",
      " |-- ID: string (nullable = true)\n",
      " |-- mapped_billing_code_type: string (nullable = true)\n",
      " |-- mapped_billing_code_old: string (nullable = true)\n",
      " |-- mapped_billing_code: string (nullable = true)\n",
      " |-- mapped_level1_description: string (nullable = true)\n",
      " |-- mapped_level4_description: string (nullable = true)\n",
      " |-- mapped_description: string (nullable = true)\n",
      " |-- code_mapping_category: string (nullable = true)\n",
      " |-- mapped_from: string (nullable = true)\n",
      "\n",
      "55"
     ]
    }
   ],
   "source": [
    "code_joined_table.printSchema()\n",
    "j2 = code_joined_table\n",
    "len(code_joined_table.columns)"
   ]
  },
  {
   "cell_type": "code",
   "execution_count": 317,
   "id": "b3b4a41a",
   "metadata": {},
   "outputs": [
    {
     "data": {
      "application/vnd.jupyter.widget-view+json": {
       "model_id": "1b885d8782114e2bb602cd41f393137e",
       "version_major": 2,
       "version_minor": 0
      },
      "text/plain": [
       "VBox()"
      ]
     },
     "metadata": {},
     "output_type": "display_data"
    },
    {
     "data": {
      "application/vnd.jupyter.widget-view+json": {
       "model_id": "",
       "version_major": 2,
       "version_minor": 0
      },
      "text/plain": [
       "FloatProgress(value=0.0, bar_style='info', description='Progress:', layout=Layout(height='25px', width='50%'),…"
      ]
     },
     "metadata": {},
     "output_type": "display_data"
    },
    {
     "name": "stdout",
     "output_type": "stream",
     "text": [
      "+-------------+\n",
      "|provider_type|\n",
      "+-------------+\n",
      "|    Ancillary|\n",
      "|     Hospital|\n",
      "+-------------+"
     ]
    }
   ],
   "source": [
    "j2[[\"provider_type\"]].distinct().show()"
   ]
  },
  {
   "cell_type": "code",
   "execution_count": 318,
   "id": "99147a1e",
   "metadata": {},
   "outputs": [
    {
     "data": {
      "application/vnd.jupyter.widget-view+json": {
       "model_id": "81d527897f594103bd4918736fa20e04",
       "version_major": 2,
       "version_minor": 0
      },
      "text/plain": [
       "VBox()"
      ]
     },
     "metadata": {},
     "output_type": "display_data"
    },
    {
     "data": {
      "application/vnd.jupyter.widget-view+json": {
       "model_id": "",
       "version_major": 2,
       "version_minor": 0
      },
      "text/plain": [
       "FloatProgress(value=0.0, bar_style='info', description='Progress:', layout=Layout(height='25px', width='50%'),…"
      ]
     },
     "metadata": {},
     "output_type": "display_data"
    },
    {
     "name": "stdout",
     "output_type": "stream",
     "text": [
      "+-------------------------+\n",
      "|mapped_level1_description|\n",
      "+-------------------------+\n",
      "|     MDC 03 EAR, NOSE,...|\n",
      "|     MDC 17 LYMPHATIC,...|\n",
      "|     MDC 10 ENDOCRINE,...|\n",
      "|     MDC 01 DISEASES A...|\n",
      "|     MULTIPLE SIGNIFIC...|\n",
      "|     MDC 06 DISEASES A...|\n",
      "|     MDC 16 DISEASES A...|\n",
      "|     MDC 21 POISONINGS...|\n",
      "|     MDC 04 DISEASES A...|\n",
      "|     MDC 13 DISEASES A...|\n",
      "|     MDC 11 DISEASES A...|\n",
      "|     MDC 08 DISEASES A...|\n",
      "|     MDC 23 REHABILITA...|\n",
      "|     MDC 07 DISEASES A...|\n",
      "|     MDC 09 DISEASES A...|\n",
      "|     MDC 19 MENTAL DIS...|\n",
      "|     MDC 18 INFECTIOUS...|\n",
      "|     MDC 05 DISEASES A...|\n",
      "|     MDC 14 PREGNANCY,...|\n",
      "+-------------------------+"
     ]
    }
   ],
   "source": [
    "j2[[\"mapped_level1_description\"]].distinct().show()"
   ]
  },
  {
   "cell_type": "code",
   "execution_count": 319,
   "id": "05a538b0",
   "metadata": {},
   "outputs": [
    {
     "data": {
      "application/vnd.jupyter.widget-view+json": {
       "model_id": "52170b9902a645109738e8186f4ea12a",
       "version_major": 2,
       "version_minor": 0
      },
      "text/plain": [
       "VBox()"
      ]
     },
     "metadata": {},
     "output_type": "display_data"
    },
    {
     "data": {
      "application/vnd.jupyter.widget-view+json": {
       "model_id": "",
       "version_major": 2,
       "version_minor": 0
      },
      "text/plain": [
       "FloatProgress(value=0.0, bar_style='info', description='Progress:', layout=Layout(height='25px', width='50%'),…"
      ]
     },
     "metadata": {},
     "output_type": "display_data"
    }
   ],
   "source": [
    "j2 = j2.withColumn(\"partition_column\", \\\n",
    "              when(j2[\"provider_type\"] == \"Hospital\", j2['provider_name'])\\\n",
    "              .when(j2[\"provider_type\"] == \"Ancillary\", j2['provider_name'])\\\n",
    "              .otherwise(concat_ws('~', j2.region, j2.mapped_level1_description)))"
   ]
  },
  {
   "cell_type": "code",
   "execution_count": 320,
   "id": "be6e4ee8",
   "metadata": {},
   "outputs": [
    {
     "data": {
      "application/vnd.jupyter.widget-view+json": {
       "model_id": "de8fc27d34f942d8adcf85c0623b39fd",
       "version_major": 2,
       "version_minor": 0
      },
      "text/plain": [
       "VBox()"
      ]
     },
     "metadata": {},
     "output_type": "display_data"
    },
    {
     "data": {
      "application/vnd.jupyter.widget-view+json": {
       "model_id": "",
       "version_major": 2,
       "version_minor": 0
      },
      "text/plain": [
       "FloatProgress(value=0.0, bar_style='info', description='Progress:', layout=Layout(height='25px', width='50%'),…"
      ]
     },
     "metadata": {},
     "output_type": "display_data"
    },
    {
     "name": "stdout",
     "output_type": "stream",
     "text": [
      "['master_npi', 'entity_type_code', 'provider_organization_name_legal_business_name', 'provider_credential_text', 'provider_city_name', 'provider_state_name', 'provider_postal_code', 'healthcare_provider_taxonomy_code', 'provider_type', 'mapped_from', 'feb_excellus_npi', 'code', 'grouping', 'classification', 'specialization', 'display_name', 'section', 'provider_name', 'zip', 'state', 'county', 'region', 'provider_credential', 'provider_specialty_description', 'provider_specialty_group', 'inclusion', 'primary_city', 'reporting_entity_name', 'reporting_entity_type', 'billing_code', 'billing_code_type', 'billing_code_type_version', 'name', 'description', 'billing_class', 'billing_code_modifier', 'negotiation_arrangement', 'negotiated_type', 'negotiated_rate', 'expiration_date', 'service_code', 'additional_information', 'npi', 'reference_billing_code_type', 'FLAG', 'reference_billing_code', 'ID', 'mapped_billing_code_type', 'mapped_billing_code_old', 'mapped_billing_code', 'mapped_level1_description', 'mapped_level4_description', 'mapped_description', 'code_mapping_category', 'mapped_from', 'partition_column']"
     ]
    }
   ],
   "source": [
    "j2.columns"
   ]
  },
  {
   "cell_type": "code",
   "execution_count": 321,
   "id": "db967ae1",
   "metadata": {},
   "outputs": [
    {
     "data": {
      "application/vnd.jupyter.widget-view+json": {
       "model_id": "9b1e20f8920f43599aae03a51e30f5f9",
       "version_major": 2,
       "version_minor": 0
      },
      "text/plain": [
       "VBox()"
      ]
     },
     "metadata": {},
     "output_type": "display_data"
    },
    {
     "data": {
      "application/vnd.jupyter.widget-view+json": {
       "model_id": "",
       "version_major": 2,
       "version_minor": 0
      },
      "text/plain": [
       "FloatProgress(value=0.0, bar_style='info', description='Progress:', layout=Layout(height='25px', width='50%'),…"
      ]
     },
     "metadata": {},
     "output_type": "display_data"
    },
    {
     "name": "stdout",
     "output_type": "stream",
     "text": [
      "root\n",
      " |-- reference_billing_code_type: string (nullable = true)\n",
      " |-- reference_billing_code: string (nullable = true)\n",
      " |-- ID: string (nullable = true)\n",
      " |-- mapped_billing_code_type: string (nullable = true)\n",
      " |-- mapped_billing_code: string (nullable = true)\n",
      " |-- mapped_billing_code_old: string (nullable = true)\n",
      " |-- mapped_level1_description: string (nullable = true)\n",
      " |-- mapped_level4_description: string (nullable = true)\n",
      " |-- mapped_description: string (nullable = true)\n",
      " |-- code_mapping_category: string (nullable = true)\n",
      " |-- partition_column: string (nullable = true)\n",
      " |-- reporting_entity_name: string (nullable = true)\n",
      " |-- reporting_entity_type: string (nullable = true)\n",
      " |-- provider_name: string (nullable = true)\n",
      " |-- provider_city_name: string (nullable = true)\n",
      " |-- provider_postal_code: string (nullable = true)\n",
      " |-- provider_state_name: string (nullable = true)\n",
      " |-- county: string (nullable = true)\n",
      " |-- region: string (nullable = true)\n",
      " |-- zip: string (nullable = true)\n",
      " |-- state: string (nullable = true)\n",
      " |-- primary_city: string (nullable = true)\n",
      " |-- code: string (nullable = true)\n",
      " |-- grouping: string (nullable = true)\n",
      " |-- classification: string (nullable = true)\n",
      " |-- display_name: string (nullable = true)\n",
      " |-- provider_type: string (nullable = true)\n",
      " |-- npi: string (nullable = true)\n",
      " |-- billing_code: string (nullable = true)\n",
      " |-- billing_code_type: string (nullable = true)\n",
      " |-- billing_code_type_version: string (nullable = true)\n",
      " |-- name: string (nullable = true)\n",
      " |-- description: string (nullable = true)\n",
      " |-- billing_class: string (nullable = true)\n",
      " |-- billing_code_modifier: string (nullable = true)\n",
      " |-- negotiation_arrangement: string (nullable = true)\n",
      " |-- negotiated_type: string (nullable = true)\n",
      " |-- negotiated_rate: double (nullable = true)\n",
      " |-- service_code: string (nullable = true)\n",
      " |-- provider_credential: string (nullable = true)\n",
      " |-- provider_specialty_group: string (nullable = true)\n",
      " |-- provider_specialty_description: string (nullable = true)\n",
      " |-- additional_information: string (nullable = true)\n",
      "\n",
      "43"
     ]
    }
   ],
   "source": [
    "j3 = j2.select('reference_billing_code_type', 'reference_billing_code', 'ID', 'mapped_billing_code_type', 'mapped_billing_code','mapped_billing_code_old', 'mapped_level1_description', 'mapped_level4_description', 'mapped_description','code_mapping_category' ,'partition_column','reporting_entity_name', 'reporting_entity_type','provider_name','provider_city_name','provider_postal_code','provider_state_name','county', 'region', 'zip', 'state', 'primary_city', 'code', 'grouping', 'classification', 'display_name', 'provider_type','npi', 'billing_code', 'billing_code_type', 'billing_code_type_version', 'name', 'description', 'billing_class', 'billing_code_modifier', 'negotiation_arrangement', 'negotiated_type', 'negotiated_rate', 'service_code','provider_credential','provider_specialty_group','provider_specialty_description','additional_information')\n",
    "j3.printSchema()\n",
    "len(j3.columns)"
   ]
  },
  {
   "cell_type": "code",
   "execution_count": 322,
   "id": "bdfe1b56",
   "metadata": {},
   "outputs": [
    {
     "data": {
      "application/vnd.jupyter.widget-view+json": {
       "model_id": "bc83e08c77e04dcb967c3b2fd72f1772",
       "version_major": 2,
       "version_minor": 0
      },
      "text/plain": [
       "VBox()"
      ]
     },
     "metadata": {},
     "output_type": "display_data"
    },
    {
     "data": {
      "application/vnd.jupyter.widget-view+json": {
       "model_id": "",
       "version_major": 2,
       "version_minor": 0
      },
      "text/plain": [
       "FloatProgress(value=0.0, bar_style='info', description='Progress:', layout=Layout(height='25px', width='50%'),…"
      ]
     },
     "metadata": {},
     "output_type": "display_data"
    }
   ],
   "source": [
    "j3 = j3.drop('reference_billing_code_type').drop('reference_billing_code').drop('description').drop('ID').drop('name').drop('tin_type').drop('tin_value').drop('code')\n",
    "j3 = j3.drop('billing_code_type').withColumnRenamed('code_mapping_category','r_billing_code_type').withColumnRenamed('billing_code','r_billing_code').withColumnRenamed('mapped_billing_code_type','billing_code_type').withColumnRenamed('mapped_billing_code','billing_code').withColumnRenamed('mapped_description','description').withColumnRenamed('mapped_level1_description','level1_description').withColumnRenamed('mapped_level4_description','level4_description')\n",
    "j3 = j3.withColumn('plan_name',lit('')).withColumn('date',lit('05-01-2023'))\n",
    "\n",
    "# For community and enhanced \n",
    "# j3 = j3.drop('grouping').withColumnRenamed('provider_specialty_group','grouping').drop('classification').withColumnRenamed('provider_specialty_description','classification').drop('display_name').withColumnRenamed('provider_credential','display_name')"
   ]
  },
  {
   "cell_type": "code",
   "execution_count": 323,
   "id": "a6716968",
   "metadata": {},
   "outputs": [
    {
     "data": {
      "application/vnd.jupyter.widget-view+json": {
       "model_id": "3bb52651e1a44c20af5b21f2f7bbe63a",
       "version_major": 2,
       "version_minor": 0
      },
      "text/plain": [
       "VBox()"
      ]
     },
     "metadata": {},
     "output_type": "display_data"
    },
    {
     "data": {
      "application/vnd.jupyter.widget-view+json": {
       "model_id": "",
       "version_major": 2,
       "version_minor": 0
      },
      "text/plain": [
       "FloatProgress(value=0.0, bar_style='info', description='Progress:', layout=Layout(height='25px', width='50%'),…"
      ]
     },
     "metadata": {},
     "output_type": "display_data"
    }
   ],
   "source": [
    "j4 = j3.select(\"date\",\"plan_name\", 'reporting_entity_name', 'reporting_entity_type', 'provider_name', 'npi', 'billing_class', 'negotiation_arrangement', 'negotiated_type', 'billing_code_type', 'billing_code', 'level1_description', 'level4_description', 'description', 'negotiated_rate', 'billing_code_modifier', 'provider_city_name', 'provider_postal_code', 'provider_state_name', 'county', 'region', 'zip', 'state', 'primary_city', 'grouping', 'classification', 'display_name', 'provider_type', 'r_billing_code', 'r_billing_code_type', 'billing_code_type_version', 'service_code', 'additional_information', 'partition_column')\n",
    "j4 = j4.filter(j4.negotiated_rate > 0.0)\n",
    "j4 = j4.filter(~((j4.negotiated_type == 'percentage') & (j4.negotiated_rate > 250.0)))\n",
    "j4 = j4.withColumn(\"negotiated_rate\",j4.negotiated_rate.cast(DoubleType()))\n",
    "# j4 = j4.filter(j4.billing_code_type !='DRG')\n",
    "j4 = j4.withColumn(\"npi\",j4.npi.cast(StringType()))\n"
   ]
  },
  {
   "cell_type": "code",
   "execution_count": 324,
   "id": "19bbc9bd",
   "metadata": {},
   "outputs": [
    {
     "data": {
      "application/vnd.jupyter.widget-view+json": {
       "model_id": "a8ad8bdc2ba34f45bc86795c40920a6b",
       "version_major": 2,
       "version_minor": 0
      },
      "text/plain": [
       "VBox()"
      ]
     },
     "metadata": {},
     "output_type": "display_data"
    },
    {
     "data": {
      "application/vnd.jupyter.widget-view+json": {
       "model_id": "",
       "version_major": 2,
       "version_minor": 0
      },
      "text/plain": [
       "FloatProgress(value=0.0, bar_style='info', description='Progress:', layout=Layout(height='25px', width='50%'),…"
      ]
     },
     "metadata": {},
     "output_type": "display_data"
    },
    {
     "name": "stdout",
     "output_type": "stream",
     "text": [
      "+----------+---------+---------------------+---------------------+--------------------+----------+-------------+-----------------------+---------------+-----------------+------------+--------------------+--------------------+--------------------+---------------+---------------------+------------------+--------------------+-------------------+----------+-----------------+-----+-----+------------+--------------+--------------------+--------------------+-------------+--------------+-------------------+-------------------------+------------+----------------------+--------------------+\n",
      "|      date|plan_name|reporting_entity_name|reporting_entity_type|       provider_name|       npi|billing_class|negotiation_arrangement|negotiated_type|billing_code_type|billing_code|  level1_description|  level4_description|         description|negotiated_rate|billing_code_modifier|provider_city_name|provider_postal_code|provider_state_name|    county|           region|  zip|state|primary_city|      grouping|      classification|        display_name|provider_type|r_billing_code|r_billing_code_type|billing_code_type_version|service_code|additional_information|    partition_column|\n",
      "+----------+---------+---------------------+---------------------+--------------------+----------+-------------+-----------------------+---------------+-----------------+------------+--------------------+--------------------+--------------------+---------------+---------------------+------------------+--------------------+-------------------+----------+-----------------+-----+-----+------------+--------------+--------------------+--------------------+-------------+--------------+-------------------+-------------------------+------------+----------------------+--------------------+\n",
      "|05-01-2023|         |       MultiPlan Inc.|          Third Party|BLACK HILLS SURGI...|1679535132|institutional|                    ffs|        derived|              DRG|         470|MDC 08 DISEASES A...|MAJOR HIP AND KNE...|MAJOR HIP AND KNE...|        38586.9|                 null|        RAPID CITY|               57701|                 SD|PENNINGTON| 764 - RAPID CITY|57701|   SD|        null|     Hospitals|    Special Hospital|    Special Hospital|    Ancillary|           470|           Unmapped|                      v40|   All Other|                      |BLACK HILLS SURGI...|\n",
      "|05-01-2023|         |       MultiPlan Inc.|          Third Party|MONUMENT HEALTH R...|1437122009|institutional|                    ffs|        derived|              DRG|    5601~807|MDC 14 PREGNANCY,...|VAGINAL DELIVERY~...|VAGINAL DELIVERY~...|        9779.31|                 null|        RAPID CITY|               57701|                 SD|PENNINGTON| 764 - RAPID CITY|57701|   SD|        null|     Hospitals|General Acute Car...|General Acute Car...|     Hospital|           807|          Secondary|                      v40|   All Other|                      |MONUMENT HEALTH R...|\n",
      "|05-01-2023|         |       MultiPlan Inc.|          Third Party|MONUMENT HEALTH R...|1437122009|institutional|                    ffs|        derived|              DRG|    4203~637|MDC 10 ENDOCRINE,...|DIABETES~AP-DRG (...|DIABETES~AP-DRG (...|       101156.3|                 null|        RAPID CITY|               57701|                 SD|PENNINGTON| 764 - RAPID CITY|57701|   SD|        null|     Hospitals|General Acute Car...|General Acute Car...|     Hospital|           637|          Secondary|                      v40|   All Other|                      |MONUMENT HEALTH R...|\n",
      "|05-01-2023|         |       MultiPlan Inc.|          Third Party|MONUMENT HEALTH R...|1437122009|institutional|                    ffs|        derived|              DRG|    7202~871|MDC 18 INFECTIOUS...|SEPTICEMIA AND DI...|SEPTICEMIA AND DI...|       10986.23|                 null|        RAPID CITY|               57701|                 SD|PENNINGTON| 764 - RAPID CITY|57701|   SD|        null|     Hospitals|General Acute Car...|General Acute Car...|     Hospital|           871|          Secondary|                      v40|   All Other|                      |MONUMENT HEALTH R...|\n",
      "|05-01-2023|         |       MultiPlan Inc.|          Third Party|MONUMENT HEALTH R...|1437122009|institutional|                    ffs|        derived|              DRG|         795|MDC 14 PREGNANCY,...|NORMAL NEWBORN~MS...|NORMAL NEWBORN~MS...|        3785.07|                 null|        RAPID CITY|               57701|                 SD|PENNINGTON| 764 - RAPID CITY|57701|   SD|        null|     Hospitals|General Acute Car...|General Acute Car...|     Hospital|           795|           Unmapped|                      v40|   All Other|                      |MONUMENT HEALTH R...|\n",
      "|05-01-2023|         |       MultiPlan Inc.|          Third Party|MONUMENT HEALTH R...|1437122009|institutional|                    ffs|        derived|              DRG|         794|MDC 14 PREGNANCY,...|NEONATE WITH OTHE...|NEONATE WITH OTHE...|       20655.08|                 null|        RAPID CITY|               57701|                 SD|PENNINGTON| 764 - RAPID CITY|57701|   SD|        null|     Hospitals|General Acute Car...|General Acute Car...|     Hospital|           794|           Unmapped|                      v40|   All Other|                      |MONUMENT HEALTH R...|\n",
      "|05-01-2023|         |       MultiPlan Inc.|          Third Party|MONUMENT HEALTH R...|1437122009|institutional|                    ffs|        derived|              DRG|         200|MDC 04 DISEASES A...|PNEUMOTHORAX WITH...|PNEUMOTHORAX WITH...|        9334.38|                 null|        RAPID CITY|               57701|                 SD|PENNINGTON| 764 - RAPID CITY|57701|   SD|        null|     Hospitals|General Acute Car...|General Acute Car...|     Hospital|           200|           Unmapped|                      v39|   All Other|                      |MONUMENT HEALTH R...|\n",
      "|05-01-2023|         |       MultiPlan Inc.|          Third Party|MONUMENT HEALTH R...|1437122009|institutional|                    ffs|        derived|              DRG|         644|MDC 10 ENDOCRINE,...|ENDOCRINE DISORDE...|ENDOCRINE DISORDE...|       26315.64|                 null|        RAPID CITY|               57701|                 SD|PENNINGTON| 764 - RAPID CITY|57701|   SD|        null|     Hospitals|General Acute Car...|General Acute Car...|     Hospital|           644|           Unmapped|                      v40|   All Other|                      |MONUMENT HEALTH R...|\n",
      "|05-01-2023|         |       MultiPlan Inc.|          Third Party|MONUMENT HEALTH R...|1437122009|institutional|                    ffs|        derived|              DRG|    3082~481|MDC 08 DISEASES A...|HIP AND FEMUR FRA...|HIP AND FEMUR FRA...|       44444.69|                 null|        RAPID CITY|               57701|                 SD|PENNINGTON| 764 - RAPID CITY|57701|   SD|        null|     Hospitals|General Acute Car...|General Acute Car...|     Hospital|           481|          Secondary|                      v40|   All Other|                      |MONUMENT HEALTH R...|\n",
      "|05-01-2023|         |       MultiPlan Inc.|          Third Party|MONUMENT HEALTH R...|1437122009|institutional|                    ffs|        derived|              DRG|    5423~768|MDC 14 PREGNANCY,...|VAGINAL DELIVERY ...|VAGINAL DELIVERY ...|       17203.02|                 null|        RAPID CITY|               57701|                 SD|PENNINGTON| 764 - RAPID CITY|57701|   SD|        null|     Hospitals|General Acute Car...|General Acute Car...|     Hospital|           768|            Primary|                      v40|   All Other|                      |MONUMENT HEALTH R...|\n",
      "|05-01-2023|         |       MultiPlan Inc.|          Third Party|MONUMENT HEALTH R...|1437122009|institutional|                    ffs|        derived|              DRG|    5422~768|MDC 14 PREGNANCY,...|VAGINAL DELIVERY ...|VAGINAL DELIVERY ...|       17203.02|                 null|        RAPID CITY|               57701|                 SD|PENNINGTON| 764 - RAPID CITY|57701|   SD|        null|     Hospitals|General Acute Car...|General Acute Car...|     Hospital|           768|            Primary|                      v40|   All Other|                      |MONUMENT HEALTH R...|\n",
      "|05-01-2023|         |       MultiPlan Inc.|          Third Party|MONUMENT HEALTH R...|1437122009|institutional|                    ffs|        derived|              DRG|    5421~768|MDC 14 PREGNANCY,...|VAGINAL DELIVERY ...|VAGINAL DELIVERY ...|       17203.02|                 null|        RAPID CITY|               57701|                 SD|PENNINGTON| 764 - RAPID CITY|57701|   SD|        null|     Hospitals|General Acute Car...|General Acute Car...|     Hospital|           768|            Primary|                      v40|   All Other|                      |MONUMENT HEALTH R...|\n",
      "|05-01-2023|         |       MultiPlan Inc.|          Third Party|MONUMENT HEALTH R...|1437122009|institutional|                    ffs|        derived|              DRG|         339|MDC 06 DISEASES A...|APPENDECTOMY WITH...|APPENDECTOMY WITH...|       42372.28|                 null|        RAPID CITY|               57701|                 SD|PENNINGTON| 764 - RAPID CITY|57701|   SD|        null|     Hospitals|General Acute Car...|General Acute Car...|     Hospital|           339|           Unmapped|                      v40|   All Other|                      |MONUMENT HEALTH R...|\n",
      "|05-01-2023|         |       MultiPlan Inc.|          Third Party|      AVERA ST LUKES|1003867029|institutional|                    ffs|        derived|              DRG|    7603~885|MDC 19 MENTAL DIS...|PSYCHOSES~MS-DRG ...|PSYCHOSES~MS-DRG ...|         5990.6|                 null|          ABERDEEN|               57401|                 SD|     BROWN|725 - SIOUX FALLS|57401|   SD|        null|Hospital Units|    Psychiatric Unit|Psychiatric Hospi...|    Ancillary|           885|            Primary|                      v40|   All Other|                      |      AVERA ST LUKES|\n",
      "|05-01-2023|         |       MultiPlan Inc.|          Third Party|      AVERA ST LUKES|1003867029|institutional|                    ffs|        derived|              DRG|    7533~885|MDC 19 MENTAL DIS...|PSYCHOSES~MS-DRG ...|PSYCHOSES~MS-DRG ...|         5990.6|                 null|          ABERDEEN|               57401|                 SD|     BROWN|725 - SIOUX FALLS|57401|   SD|        null|Hospital Units|    Psychiatric Unit|Psychiatric Hospi...|    Ancillary|           885|            Primary|                      v40|   All Other|                      |      AVERA ST LUKES|\n",
      "|05-01-2023|         |       MultiPlan Inc.|          Third Party|      AVERA ST LUKES|1003867029|institutional|                    ffs|        derived|              DRG|    7532~885|MDC 19 MENTAL DIS...|PSYCHOSES~MS-DRG ...|PSYCHOSES~MS-DRG ...|         5990.6|                 null|          ABERDEEN|               57401|                 SD|     BROWN|725 - SIOUX FALLS|57401|   SD|        null|Hospital Units|    Psychiatric Unit|Psychiatric Hospi...|    Ancillary|           885|            Primary|                      v40|   All Other|                      |      AVERA ST LUKES|\n",
      "|05-01-2023|         |       MultiPlan Inc.|          Third Party|      AVERA ST LUKES|1003867029|institutional|                    ffs|        derived|              DRG|    7531~885|MDC 19 MENTAL DIS...|PSYCHOSES~MS-DRG ...|PSYCHOSES~MS-DRG ...|         5990.6|                 null|          ABERDEEN|               57401|                 SD|     BROWN|725 - SIOUX FALLS|57401|   SD|        null|Hospital Units|    Psychiatric Unit|Psychiatric Hospi...|    Ancillary|           885|            Primary|                      v40|   All Other|                      |      AVERA ST LUKES|\n",
      "|05-01-2023|         |       MultiPlan Inc.|          Third Party|      AVERA ST LUKES|1003867029|institutional|                    ffs|        derived|              DRG|    7513~885|MDC 19 MENTAL DIS...|PSYCHOSES~MS-DRG ...|PSYCHOSES~MS-DRG ...|         5990.6|                 null|          ABERDEEN|               57401|                 SD|     BROWN|725 - SIOUX FALLS|57401|   SD|        null|Hospital Units|    Psychiatric Unit|Psychiatric Hospi...|    Ancillary|           885|            Primary|                      v40|   All Other|                      |      AVERA ST LUKES|\n",
      "|05-01-2023|         |       MultiPlan Inc.|          Third Party|      AVERA ST LUKES|1003867029|institutional|                    ffs|        derived|              DRG|    7512~885|MDC 19 MENTAL DIS...|PSYCHOSES~MS-DRG ...|PSYCHOSES~MS-DRG ...|         5990.6|                 null|          ABERDEEN|               57401|                 SD|     BROWN|725 - SIOUX FALLS|57401|   SD|        null|Hospital Units|    Psychiatric Unit|Psychiatric Hospi...|    Ancillary|           885|            Primary|                      v40|   All Other|                      |      AVERA ST LUKES|\n",
      "|05-01-2023|         |       MultiPlan Inc.|          Third Party|      AVERA ST LUKES|1003867029|institutional|                    ffs|        derived|              DRG|    7511~885|MDC 19 MENTAL DIS...|PSYCHOSES~MS-DRG ...|PSYCHOSES~MS-DRG ...|         5990.6|                 null|          ABERDEEN|               57401|                 SD|     BROWN|725 - SIOUX FALLS|57401|   SD|        null|Hospital Units|    Psychiatric Unit|Psychiatric Hospi...|    Ancillary|           885|            Primary|                      v40|   All Other|                      |      AVERA ST LUKES|\n",
      "+----------+---------+---------------------+---------------------+--------------------+----------+-------------+-----------------------+---------------+-----------------+------------+--------------------+--------------------+--------------------+---------------+---------------------+------------------+--------------------+-------------------+----------+-----------------+-----+-----+------------+--------------+--------------------+--------------------+-------------+--------------+-------------------+-------------------------+------------+----------------------+--------------------+\n",
      "only showing top 20 rows"
     ]
    }
   ],
   "source": [
    "j4.show()"
   ]
  },
  {
   "cell_type": "code",
   "execution_count": 325,
   "id": "ec255194",
   "metadata": {},
   "outputs": [
    {
     "data": {
      "application/vnd.jupyter.widget-view+json": {
       "model_id": "01e2ab97a22643b894ac2179d147e659",
       "version_major": 2,
       "version_minor": 0
      },
      "text/plain": [
       "VBox()"
      ]
     },
     "metadata": {},
     "output_type": "display_data"
    },
    {
     "data": {
      "application/vnd.jupyter.widget-view+json": {
       "model_id": "",
       "version_major": 2,
       "version_minor": 0
      },
      "text/plain": [
       "FloatProgress(value=0.0, bar_style='info', description='Progress:', layout=Layout(height='25px', width='50%'),…"
      ]
     },
     "metadata": {},
     "output_type": "display_data"
    },
    {
     "name": "stdout",
     "output_type": "stream",
     "text": [
      "231"
     ]
    }
   ],
   "source": [
    "j4.count()"
   ]
  },
  {
   "cell_type": "code",
   "execution_count": 326,
   "id": "019362c8",
   "metadata": {},
   "outputs": [
    {
     "data": {
      "application/vnd.jupyter.widget-view+json": {
       "model_id": "7dff67f82fcf442dae3e5f63b499ebb6",
       "version_major": 2,
       "version_minor": 0
      },
      "text/plain": [
       "VBox()"
      ]
     },
     "metadata": {},
     "output_type": "display_data"
    },
    {
     "data": {
      "application/vnd.jupyter.widget-view+json": {
       "model_id": "",
       "version_major": 2,
       "version_minor": 0
      },
      "text/plain": [
       "FloatProgress(value=0.0, bar_style='info', description='Progress:', layout=Layout(height='25px', width='50%'),…"
      ]
     },
     "metadata": {},
     "output_type": "display_data"
    },
    {
     "name": "stdout",
     "output_type": "stream",
     "text": [
      "+-----------------+\n",
      "|billing_code_type|\n",
      "+-----------------+\n",
      "|              DRG|\n",
      "+-----------------+"
     ]
    }
   ],
   "source": [
    "j4[['billing_code_type']].distinct().show()"
   ]
  },
  {
   "cell_type": "code",
   "execution_count": 327,
   "id": "ff82f477",
   "metadata": {},
   "outputs": [
    {
     "data": {
      "application/vnd.jupyter.widget-view+json": {
       "model_id": "b4f0846ad2f14650b9fe3d2f98a0a1b7",
       "version_major": 2,
       "version_minor": 0
      },
      "text/plain": [
       "VBox()"
      ]
     },
     "metadata": {},
     "output_type": "display_data"
    },
    {
     "data": {
      "application/vnd.jupyter.widget-view+json": {
       "model_id": "",
       "version_major": 2,
       "version_minor": 0
      },
      "text/plain": [
       "FloatProgress(value=0.0, bar_style='info', description='Progress:', layout=Layout(height='25px', width='50%'),…"
      ]
     },
     "metadata": {},
     "output_type": "display_data"
    },
    {
     "name": "stdout",
     "output_type": "stream",
     "text": [
      "+-------------+\n",
      "|billing_class|\n",
      "+-------------+\n",
      "|institutional|\n",
      "+-------------+"
     ]
    }
   ],
   "source": [
    "j4[['billing_class']].distinct().show()"
   ]
  },
  {
   "cell_type": "code",
   "execution_count": 328,
   "id": "c5825175",
   "metadata": {},
   "outputs": [
    {
     "data": {
      "application/vnd.jupyter.widget-view+json": {
       "model_id": "a4dd5155d9cd48c7b5561c3d50908352",
       "version_major": 2,
       "version_minor": 0
      },
      "text/plain": [
       "VBox()"
      ]
     },
     "metadata": {},
     "output_type": "display_data"
    },
    {
     "data": {
      "application/vnd.jupyter.widget-view+json": {
       "model_id": "",
       "version_major": 2,
       "version_minor": 0
      },
      "text/plain": [
       "FloatProgress(value=0.0, bar_style='info', description='Progress:', layout=Layout(height='25px', width='50%'),…"
      ]
     },
     "metadata": {},
     "output_type": "display_data"
    },
    {
     "name": "stdout",
     "output_type": "stream",
     "text": [
      "50"
     ]
    }
   ],
   "source": [
    "j4[['npi']].distinct().count()"
   ]
  },
  {
   "cell_type": "code",
   "execution_count": 329,
   "id": "f5b1889f",
   "metadata": {},
   "outputs": [
    {
     "data": {
      "application/vnd.jupyter.widget-view+json": {
       "model_id": "c941e8bfab8b487f9a588c5889ddc96c",
       "version_major": 2,
       "version_minor": 0
      },
      "text/plain": [
       "VBox()"
      ]
     },
     "metadata": {},
     "output_type": "display_data"
    },
    {
     "data": {
      "application/vnd.jupyter.widget-view+json": {
       "model_id": "",
       "version_major": 2,
       "version_minor": 0
      },
      "text/plain": [
       "FloatProgress(value=0.0, bar_style='info', description='Progress:', layout=Layout(height='25px', width='50%'),…"
      ]
     },
     "metadata": {},
     "output_type": "display_data"
    },
    {
     "name": "stdout",
     "output_type": "stream",
     "text": [
      "43"
     ]
    }
   ],
   "source": [
    "j4[['partition_column']].distinct().count()"
   ]
  },
  {
   "cell_type": "code",
   "execution_count": 330,
   "id": "288c0004",
   "metadata": {},
   "outputs": [
    {
     "data": {
      "application/vnd.jupyter.widget-view+json": {
       "model_id": "ae77b3d7a54d4f2cbb1c9f8131a26e1a",
       "version_major": 2,
       "version_minor": 0
      },
      "text/plain": [
       "VBox()"
      ]
     },
     "metadata": {},
     "output_type": "display_data"
    },
    {
     "data": {
      "application/vnd.jupyter.widget-view+json": {
       "model_id": "",
       "version_major": 2,
       "version_minor": 0
      },
      "text/plain": [
       "FloatProgress(value=0.0, bar_style='info', description='Progress:', layout=Layout(height='25px', width='50%'),…"
      ]
     },
     "metadata": {},
     "output_type": "display_data"
    },
    {
     "name": "stdout",
     "output_type": "stream",
     "text": [
      "+-------------------+\n",
      "|r_billing_code_type|\n",
      "+-------------------+\n",
      "|            Primary|\n",
      "|           Unmapped|\n",
      "|           Teritary|\n",
      "|          Secondary|\n",
      "+-------------------+"
     ]
    }
   ],
   "source": [
    "j4[['r_billing_code_type']].distinct().show()"
   ]
  },
  {
   "cell_type": "code",
   "execution_count": 331,
   "id": "8a5b297e",
   "metadata": {},
   "outputs": [
    {
     "data": {
      "application/vnd.jupyter.widget-view+json": {
       "model_id": "7281dfe173f14e5d8cf1171457c8c3e6",
       "version_major": 2,
       "version_minor": 0
      },
      "text/plain": [
       "VBox()"
      ]
     },
     "metadata": {},
     "output_type": "display_data"
    },
    {
     "data": {
      "application/vnd.jupyter.widget-view+json": {
       "model_id": "",
       "version_major": 2,
       "version_minor": 0
      },
      "text/plain": [
       "FloatProgress(value=0.0, bar_style='info', description='Progress:', layout=Layout(height='25px', width='50%'),…"
      ]
     },
     "metadata": {},
     "output_type": "display_data"
    },
    {
     "name": "stdout",
     "output_type": "stream",
     "text": [
      "+--------------------+\n",
      "|    partition_column|\n",
      "+--------------------+\n",
      "|NORTHWEST IOWA HO...|\n",
      "|MERCY HEALTH SERV...|\n",
      "|VETERANS MEMORIAL...|\n",
      "|GENESIS HEALTH SY...|\n",
      "|BLACK HILLS SURGI...|\n",
      "|IOWA SPECIALTY HO...|\n",
      "|PELLA REGIONAL HE...|\n",
      "|PRAIRIE LAKES HEA...|\n",
      "|STATE UNIVERSITY ...|\n",
      "|MARY GREELEY MEDI...|\n",
      "|      AVERA ST MARYS|\n",
      "|ORANGE CITY MUNIC...|\n",
      "|HURON REGIONAL ME...|\n",
      "|VIRGINIA GAY HOSP...|\n",
      "|STEWART MEMORIAL ...|\n",
      "|   CITY OF BROOKINGS|\n",
      "|COVENANT MEDICAL ...|\n",
      "|      AVERA MCKENNAN|\n",
      "|BROADLAWNS MEDICA...|\n",
      "|ST ANTHONY REGION...|\n",
      "+--------------------+\n",
      "only showing top 20 rows"
     ]
    }
   ],
   "source": [
    "j4[['partition_column']].distinct().show()"
   ]
  },
  {
   "cell_type": "code",
   "execution_count": 332,
   "id": "c9001411",
   "metadata": {},
   "outputs": [
    {
     "data": {
      "application/vnd.jupyter.widget-view+json": {
       "model_id": "35e40c3395ec4a4590dea132ff5f45da",
       "version_major": 2,
       "version_minor": 0
      },
      "text/plain": [
       "VBox()"
      ]
     },
     "metadata": {},
     "output_type": "display_data"
    },
    {
     "data": {
      "application/vnd.jupyter.widget-view+json": {
       "model_id": "",
       "version_major": 2,
       "version_minor": 0
      },
      "text/plain": [
       "FloatProgress(value=0.0, bar_style='info', description='Progress:', layout=Layout(height='25px', width='50%'),…"
      ]
     },
     "metadata": {},
     "output_type": "display_data"
    },
    {
     "name": "stdout",
     "output_type": "stream",
     "text": [
      "+--------------+\n",
      "|      grouping|\n",
      "+--------------+\n",
      "|Hospital Units|\n",
      "|     Hospitals|\n",
      "+--------------+"
     ]
    }
   ],
   "source": [
    "j4[['grouping']].distinct().show()"
   ]
  },
  {
   "cell_type": "code",
   "execution_count": 333,
   "id": "fb3354bb",
   "metadata": {},
   "outputs": [
    {
     "data": {
      "application/vnd.jupyter.widget-view+json": {
       "model_id": "39e9de4f4d814f5fa78dceb885380f1d",
       "version_major": 2,
       "version_minor": 0
      },
      "text/plain": [
       "VBox()"
      ]
     },
     "metadata": {},
     "output_type": "display_data"
    },
    {
     "data": {
      "application/vnd.jupyter.widget-view+json": {
       "model_id": "",
       "version_major": 2,
       "version_minor": 0
      },
      "text/plain": [
       "FloatProgress(value=0.0, bar_style='info', description='Progress:', layout=Layout(height='25px', width='50%'),…"
      ]
     },
     "metadata": {},
     "output_type": "display_data"
    },
    {
     "name": "stdout",
     "output_type": "stream",
     "text": [
      "+---------------+\n",
      "|negotiated_type|\n",
      "+---------------+\n",
      "|        derived|\n",
      "+---------------+"
     ]
    }
   ],
   "source": [
    "j4[['negotiated_type']].distinct().show()"
   ]
  },
  {
   "cell_type": "code",
   "execution_count": 334,
   "id": "00a3154e",
   "metadata": {},
   "outputs": [
    {
     "data": {
      "application/vnd.jupyter.widget-view+json": {
       "model_id": "d1db1093ca354088ba78ab55b904e221",
       "version_major": 2,
       "version_minor": 0
      },
      "text/plain": [
       "VBox()"
      ]
     },
     "metadata": {},
     "output_type": "display_data"
    },
    {
     "data": {
      "application/vnd.jupyter.widget-view+json": {
       "model_id": "",
       "version_major": 2,
       "version_minor": 0
      },
      "text/plain": [
       "FloatProgress(value=0.0, bar_style='info', description='Progress:', layout=Layout(height='25px', width='50%'),…"
      ]
     },
     "metadata": {},
     "output_type": "display_data"
    },
    {
     "name": "stdout",
     "output_type": "stream",
     "text": [
      "+----------------+------------------+\n",
      "|partition_column|level1_description|\n",
      "+----------------+------------------+\n",
      "+----------------+------------------+"
     ]
    }
   ],
   "source": [
    "b = j4.filter(j4.negotiated_type.isin(['negotiated']))\n",
    "b[['partition_column', 'level1_description']].distinct().show()"
   ]
  },
  {
   "cell_type": "code",
   "execution_count": 335,
   "id": "0f89eb84",
   "metadata": {},
   "outputs": [
    {
     "data": {
      "application/vnd.jupyter.widget-view+json": {
       "model_id": "5aee81effe454f5eaedfd45533dfd884",
       "version_major": 2,
       "version_minor": 0
      },
      "text/plain": [
       "VBox()"
      ]
     },
     "metadata": {},
     "output_type": "display_data"
    },
    {
     "data": {
      "application/vnd.jupyter.widget-view+json": {
       "model_id": "",
       "version_major": 2,
       "version_minor": 0
      },
      "text/plain": [
       "FloatProgress(value=0.0, bar_style='info', description='Progress:', layout=Layout(height='25px', width='50%'),…"
      ]
     },
     "metadata": {},
     "output_type": "display_data"
    },
    {
     "name": "stdout",
     "output_type": "stream",
     "text": [
      "+--------------------+\n",
      "|      classification|\n",
      "+--------------------+\n",
      "| Rehabilitation Unit|\n",
      "|    Special Hospital|\n",
      "|General Acute Car...|\n",
      "|    Psychiatric Unit|\n",
      "|Psychiatric Hospital|\n",
      "+--------------------+"
     ]
    }
   ],
   "source": [
    "j4[['classification']].distinct().show()"
   ]
  },
  {
   "cell_type": "code",
   "execution_count": 336,
   "id": "985d78f0",
   "metadata": {},
   "outputs": [
    {
     "data": {
      "application/vnd.jupyter.widget-view+json": {
       "model_id": "2814a7cb8bd44c7caa135e84eead4e1d",
       "version_major": 2,
       "version_minor": 0
      },
      "text/plain": [
       "VBox()"
      ]
     },
     "metadata": {},
     "output_type": "display_data"
    },
    {
     "data": {
      "application/vnd.jupyter.widget-view+json": {
       "model_id": "",
       "version_major": 2,
       "version_minor": 0
      },
      "text/plain": [
       "FloatProgress(value=0.0, bar_style='info', description='Progress:', layout=Layout(height='25px', width='50%'),…"
      ]
     },
     "metadata": {},
     "output_type": "display_data"
    },
    {
     "name": "stdout",
     "output_type": "stream",
     "text": [
      "+-------------+\n",
      "|provider_type|\n",
      "+-------------+\n",
      "|     Hospital|\n",
      "+-------------+"
     ]
    }
   ],
   "source": [
    "a = j4.filter(j4.classification == 'General Acute Care Hospital')\n",
    "a[['provider_type']].distinct().show()"
   ]
  },
  {
   "cell_type": "code",
   "execution_count": 337,
   "id": "6232c02a",
   "metadata": {},
   "outputs": [
    {
     "data": {
      "application/vnd.jupyter.widget-view+json": {
       "model_id": "4921ea55c4db456d88a7a8150dcf715e",
       "version_major": 2,
       "version_minor": 0
      },
      "text/plain": [
       "VBox()"
      ]
     },
     "metadata": {},
     "output_type": "display_data"
    },
    {
     "data": {
      "application/vnd.jupyter.widget-view+json": {
       "model_id": "",
       "version_major": 2,
       "version_minor": 0
      },
      "text/plain": [
       "FloatProgress(value=0.0, bar_style='info', description='Progress:', layout=Layout(height='25px', width='50%'),…"
      ]
     },
     "metadata": {},
     "output_type": "display_data"
    },
    {
     "name": "stdout",
     "output_type": "stream",
     "text": [
      "+--------------------+\n",
      "|        display_name|\n",
      "+--------------------+\n",
      "|Psychiatric Hospi...|\n",
      "|Rural Acute Care ...|\n",
      "|Critical Access H...|\n",
      "|    Special Hospital|\n",
      "|Rehabilitation Ho...|\n",
      "|General Acute Car...|\n",
      "|Psychiatric Hospital|\n",
      "+--------------------+"
     ]
    }
   ],
   "source": [
    "j4[['display_name']].distinct().show()"
   ]
  },
  {
   "cell_type": "code",
   "execution_count": 338,
   "id": "77a806bd",
   "metadata": {},
   "outputs": [
    {
     "data": {
      "application/vnd.jupyter.widget-view+json": {
       "model_id": "0f7550b1b3304a66b22efa29e091572c",
       "version_major": 2,
       "version_minor": 0
      },
      "text/plain": [
       "VBox()"
      ]
     },
     "metadata": {},
     "output_type": "display_data"
    },
    {
     "data": {
      "application/vnd.jupyter.widget-view+json": {
       "model_id": "",
       "version_major": 2,
       "version_minor": 0
      },
      "text/plain": [
       "FloatProgress(value=0.0, bar_style='info', description='Progress:', layout=Layout(height='25px', width='50%'),…"
      ]
     },
     "metadata": {},
     "output_type": "display_data"
    },
    {
     "name": "stdout",
     "output_type": "stream",
     "text": [
      "+--------------------+\n",
      "|  level1_description|\n",
      "+--------------------+\n",
      "|MDC 03 EAR, NOSE,...|\n",
      "|MDC 17 LYMPHATIC,...|\n",
      "|MDC 10 ENDOCRINE,...|\n",
      "|MDC 01 DISEASES A...|\n",
      "|MULTIPLE SIGNIFIC...|\n",
      "|MDC 06 DISEASES A...|\n",
      "|MDC 16 DISEASES A...|\n",
      "|MDC 21 POISONINGS...|\n",
      "|MDC 04 DISEASES A...|\n",
      "|MDC 13 DISEASES A...|\n",
      "|MDC 11 DISEASES A...|\n",
      "|MDC 08 DISEASES A...|\n",
      "|MDC 23 REHABILITA...|\n",
      "|MDC 07 DISEASES A...|\n",
      "|MDC 09 DISEASES A...|\n",
      "|MDC 19 MENTAL DIS...|\n",
      "|MDC 18 INFECTIOUS...|\n",
      "|MDC 05 DISEASES A...|\n",
      "|MDC 14 PREGNANCY,...|\n",
      "+--------------------+"
     ]
    }
   ],
   "source": [
    "j4[['level1_description']].distinct().show()"
   ]
  },
  {
   "cell_type": "code",
   "execution_count": 339,
   "id": "9317948d",
   "metadata": {},
   "outputs": [
    {
     "data": {
      "application/vnd.jupyter.widget-view+json": {
       "model_id": "41c9635073344a36ab78e8b7cea9bde5",
       "version_major": 2,
       "version_minor": 0
      },
      "text/plain": [
       "VBox()"
      ]
     },
     "metadata": {},
     "output_type": "display_data"
    },
    {
     "data": {
      "application/vnd.jupyter.widget-view+json": {
       "model_id": "",
       "version_major": 2,
       "version_minor": 0
      },
      "text/plain": [
       "FloatProgress(value=0.0, bar_style='info', description='Progress:', layout=Layout(height='25px', width='50%'),…"
      ]
     },
     "metadata": {},
     "output_type": "display_data"
    },
    {
     "name": "stdout",
     "output_type": "stream",
     "text": [
      "+-------------+\n",
      "|provider_type|\n",
      "+-------------+\n",
      "|    Ancillary|\n",
      "|     Hospital|\n",
      "+-------------+"
     ]
    }
   ],
   "source": [
    "j4[['provider_type']].distinct().show()"
   ]
  },
  {
   "cell_type": "code",
   "execution_count": 340,
   "id": "679fbcc2",
   "metadata": {},
   "outputs": [
    {
     "data": {
      "application/vnd.jupyter.widget-view+json": {
       "model_id": "1a22e9a9aa1045fc9e8f211c22eab153",
       "version_major": 2,
       "version_minor": 0
      },
      "text/plain": [
       "VBox()"
      ]
     },
     "metadata": {},
     "output_type": "display_data"
    },
    {
     "data": {
      "application/vnd.jupyter.widget-view+json": {
       "model_id": "",
       "version_major": 2,
       "version_minor": 0
      },
      "text/plain": [
       "FloatProgress(value=0.0, bar_style='info', description='Progress:', layout=Layout(height='25px', width='50%'),…"
      ]
     },
     "metadata": {},
     "output_type": "display_data"
    }
   ],
   "source": [
    "ui_table = j4"
   ]
  },
  {
   "cell_type": "code",
   "execution_count": null,
   "id": "de806839",
   "metadata": {},
   "outputs": [],
   "source": []
  },
  {
   "cell_type": "code",
   "execution_count": null,
   "id": "71bf1215",
   "metadata": {},
   "outputs": [],
   "source": []
  },
  {
   "cell_type": "code",
   "execution_count": null,
   "id": "8639de29",
   "metadata": {},
   "outputs": [],
   "source": []
  },
  {
   "cell_type": "code",
   "execution_count": null,
   "id": "c8b34c40",
   "metadata": {},
   "outputs": [],
   "source": []
  },
  {
   "cell_type": "code",
   "execution_count": null,
   "id": "e21493b2",
   "metadata": {},
   "outputs": [],
   "source": []
  },
  {
   "cell_type": "code",
   "execution_count": 341,
   "id": "049958b2",
   "metadata": {},
   "outputs": [
    {
     "data": {
      "application/vnd.jupyter.widget-view+json": {
       "model_id": "c686e6acd52f4623b14e1901de71214c",
       "version_major": 2,
       "version_minor": 0
      },
      "text/plain": [
       "VBox()"
      ]
     },
     "metadata": {},
     "output_type": "display_data"
    },
    {
     "data": {
      "application/vnd.jupyter.widget-view+json": {
       "model_id": "",
       "version_major": 2,
       "version_minor": 0
      },
      "text/plain": [
       "FloatProgress(value=0.0, bar_style='info', description='Progress:', layout=Layout(height='25px', width='50%'),…"
      ]
     },
     "metadata": {},
     "output_type": "display_data"
    },
    {
     "name": "stdout",
     "output_type": "stream",
     "text": [
      "true"
     ]
    }
   ],
   "source": [
    "if str(ui_table.schema[\"date\"].dataType) == 'StringType' and str(ui_table.schema[\"npi\"].dataType) == 'StringType' and str(ui_table.schema[\"state\"].dataType) == 'StringType' and str(ui_table.schema[\"r_billing_code_type\"].dataType) == 'StringType' and str(ui_table.schema[\"r_billing_code\"].dataType) == 'StringType' and str(ui_table.schema[\"negotiated_rate\"].dataType) == 'DoubleType' and str(ui_table.schema[\"partition_column\"].dataType) == 'StringType' and len(ui_table.columns) == 34 and str(ui_table.schema[\"reporting_entity_name\"].dataType) == 'StringType' and str(ui_table.schema[\"billing_code\"].dataType) == 'StringType' and str(ui_table.schema[\"billing_code_type\"].dataType) == 'StringType' and str(ui_table.schema[\"billing_code_type_version\"].dataType) == 'StringType' and str(ui_table.schema[\"billing_class\"].dataType) == 'StringType' and str(ui_table.schema[\"billing_code_modifier\"].dataType) == 'StringType' and str(ui_table.schema[\"negotiation_arrangement\"].dataType) == 'StringType' and str(ui_table.schema[\"negotiated_type\"].dataType) == 'StringType' and str(ui_table.schema[\"service_code\"].dataType) == 'StringType' and str(ui_table.schema[\"additional_information\"].dataType) == 'StringType' and str(ui_table.schema[\"level1_description\"].dataType) == 'StringType' and str(ui_table.schema[\"description\"].dataType) == 'StringType' and str(ui_table.schema[\"provider_name\"].dataType) == 'StringType' and str(ui_table.schema[\"provider_city_name\"].dataType) == 'StringType' and str(ui_table.schema[\"provider_state_name\"].dataType) == 'StringType' and str(ui_table.schema[\"provider_postal_code\"].dataType) == 'StringType' and str(ui_table.schema[\"county\"].dataType) == 'StringType' and str(ui_table.schema[\"region\"].dataType) == 'StringType' and str(ui_table.schema[\"provider_type\"].dataType) == 'StringType' and str(ui_table.schema[\"grouping\"].dataType) == 'StringType' and str(ui_table.schema[\"classification\"].dataType) == 'StringType' and str(ui_table.schema[\"display_name\"].dataType) == 'StringType' and str(ui_table.schema[\"plan_name\"].dataType) == 'StringType' and str(ui_table.schema[\"reporting_entity_type\"].dataType) == 'StringType' and str(ui_table.schema[\"level4_description\"].dataType) == 'StringType' and str(ui_table.schema[\"zip\"].dataType) == 'StringType' and str(ui_table.schema[\"primary_city\"].dataType) == 'StringType':\n",
    "    j4.write.partitionBy('partition_column').mode(\"append\").parquet(\"s3://zigna-nsa-payer-data-parquet-staging/Q2-2023/wellmark/ui-table/wellmark/partitioned_parquet/wellmark-hospital-ancillary/may/datazigna_final_data_model_ui_partitioned_v1/\")\n",
    "    print('true')\n",
    "else:\n",
    "    print('error')"
   ]
  },
  {
   "cell_type": "code",
   "execution_count": null,
   "id": "97cf7e91",
   "metadata": {},
   "outputs": [],
   "source": []
  },
  {
   "cell_type": "code",
   "execution_count": null,
   "id": "1edb3dfe",
   "metadata": {},
   "outputs": [],
   "source": []
  },
  {
   "cell_type": "code",
   "execution_count": null,
   "id": "d00d20b5",
   "metadata": {},
   "outputs": [],
   "source": []
  },
  {
   "cell_type": "code",
   "execution_count": null,
   "id": "d80babdf",
   "metadata": {},
   "outputs": [],
   "source": []
  },
  {
   "cell_type": "code",
   "execution_count": null,
   "id": "454565c7",
   "metadata": {},
   "outputs": [],
   "source": []
  },
  {
   "cell_type": "code",
   "execution_count": null,
   "id": "286c3316",
   "metadata": {},
   "outputs": [],
   "source": []
  },
  {
   "cell_type": "code",
   "execution_count": 19,
   "id": "b8ca370d",
   "metadata": {},
   "outputs": [
    {
     "data": {
      "application/vnd.jupyter.widget-view+json": {
       "model_id": "b39ac8b558e04ac1aded959e84fbfe0b",
       "version_major": 2,
       "version_minor": 0
      },
      "text/plain": [
       "VBox()"
      ]
     },
     "metadata": {},
     "output_type": "display_data"
    },
    {
     "data": {
      "application/vnd.jupyter.widget-view+json": {
       "model_id": "",
       "version_major": 2,
       "version_minor": 0
      },
      "text/plain": [
       "FloatProgress(value=0.0, bar_style='info', description='Progress:', layout=Layout(height='25px', width='50%'),…"
      ]
     },
     "metadata": {},
     "output_type": "display_data"
    },
    {
     "name": "stdout",
     "output_type": "stream",
     "text": [
      "true\n",
      "true\n",
      "true\n",
      "true\n",
      "true\n",
      "true\n",
      "true\n",
      "true\n",
      "true\n",
      "true\n",
      "true\n",
      "true\n",
      "true\n",
      "true\n",
      "true\n",
      "true\n",
      "true\n",
      "true\n",
      "true\n",
      "true"
     ]
    }
   ],
   "source": [
    "for i in range(54,64):    \n",
    "    idx = 's3://zigna-nsa-payer-data-parquet-staging/Q2-2023/excellus/april-uhc/april-uhc-test-in-network/uhc-test9/' + in_net[i]\n",
    "    fname = idx\n",
    "    prname = idx.replace('april-uhc-test-in-network','april-uhc-test-provider-references')\n",
    "    in_network = spark.read.parquet(fname)\n",
    "    sc = in_network[['service_code']].distinct().collect()\n",
    "    scl = []\n",
    "    for i in sc:\n",
    "        scl.append(i['service_code'])\n",
    "    if not 'Office' or 'Urgent Care' or 'IP/OP/ED' or 'All Other' in scl :\n",
    "        in_network = in_network.withColumn(\"service_code_v1\", when(in_network.service_code == \"11\",\"Office\")\n",
    "                                        .when(in_network.service_code == \"20\",\"Urgent Care\")                            \n",
    "                                        .when(in_network.service_code.isin(['21','22','23']),\"IP/OP/ED\")\n",
    "                                        .otherwise(\"All Other\"))\n",
    "        in_network = in_network.drop('service_code').withColumnRenamed('service_code_v1','service_code')\n",
    "    in_network = in_network.distinct()\n",
    "    provider_ref = spark.read.parquet(prname)\n",
    "    provider_ref = provider_ref.drop('file_name').drop('processed_file_name')\n",
    "    filtered_provider_references = npi_table.join(provider_ref,npi_table.master_npi == provider_ref.npi, 'inner')\n",
    "    unique_pgi = filtered_provider_references[['provider_group_id']].distinct().collect()\n",
    "    unique_provider_group_id = []\n",
    "    for i in unique_pgi:\n",
    "        unique_provider_group_id.append(i['provider_group_id']) \n",
    "    filtered_bct = in_network.filter(in_network.billing_code_type.isin(['AP-DRG','APR-DRG','APC','CPT','CSTM-ALL','HCPCS','MS-DRG']))\n",
    "    req_prov_ref_in_network = filtered_bct.filter(filtered_bct.provider_references.isin(unique_provider_group_id))\n",
    "    code_joined_table = req_prov_ref_in_network.join(code_table, (req_prov_ref_in_network.billing_code == code_table.reference_billing_code) & (req_prov_ref_in_network.billing_code_type == code_table.reference_billing_code_type),\"inner\")\n",
    "    j2 = filtered_provider_references.join(code_joined_table,filtered_provider_references.provider_group_id == code_joined_table.provider_references,\"inner\")\n",
    "    j2 = j2.withColumn(\"provider_group_id\",j2.provider_group_id.cast(StringType())).withColumn(\"provider_references\",j2.provider_references.cast(StringType()))\n",
    "    j2 = j2.withColumn(\"partition_column\", \\\n",
    "                  when(j2[\"provider_type\"] == \"Hospital\", j2['provider_name'])\\\n",
    "                  .when(j2[\"provider_type\"] == \"Ancillary\", j2['provider_name'])\\\n",
    "                  .otherwise(concat_ws('~', j2.region, j2.mapped_level1_description)))\n",
    "    j3 = j2.select('file_name','reference_billing_code_type', 'reference_billing_code', 'ID', 'mapped_billing_code_type', 'mapped_billing_code','mapped_billing_code_old', 'mapped_level1_description', 'mapped_level4_description', 'mapped_description','code_mapping_category' ,'partition_column','reporting_entity_name', 'reporting_entity_type','provider_name','provider_city_name','provider_postal_code','provider_state_name','county', 'region', 'zip', 'state', 'primary_city', 'code', 'grouping', 'classification', 'display_name', 'provider_type','npi', 'tin_type', 'tin_value', 'billing_code', 'billing_code_type', 'billing_code_type_version', 'name', 'description', 'billing_class', 'billing_code_modifier', 'negotiation_arrangement', 'negotiated_type', 'negotiated_rate', 'service_code','provider_credential','provider_specialty_group','provider_specialty_description','additional_information')\n",
    "    j3 = j3.drop('reference_billing_code_type').drop('reference_billing_code').drop('description').drop('ID').drop('name').drop('tin_type').drop('tin_value').drop('code')\n",
    "    j3 = j3.drop('billing_code_type').withColumnRenamed('code_mapping_category','r_billing_code_type').withColumnRenamed('billing_code','r_billing_code').withColumnRenamed('mapped_billing_code_type','billing_code_type').withColumnRenamed('mapped_billing_code','billing_code').withColumnRenamed('mapped_description','description').withColumnRenamed('mapped_level1_description','level1_description').withColumnRenamed('mapped_level4_description','level4_description')\n",
    "    j3 = j3.withColumn('plan_name',lit('')).withColumn('date',lit('04-01-2023'))\n",
    "    # For community and enhanced \n",
    "    j3 = j3.drop('grouping').withColumnRenamed('provider_specialty_group','grouping').drop('classification').withColumnRenamed('provider_specialty_description','classification').drop('display_name').withColumnRenamed('provider_credential','display_name')\n",
    "    j4 = j3.select(\"date\",\"plan_name\", 'reporting_entity_name', 'reporting_entity_type', 'provider_name', 'npi', 'billing_class', 'negotiation_arrangement', 'negotiated_type', 'billing_code_type', 'billing_code', 'level1_description', 'level4_description', 'description', 'negotiated_rate', 'billing_code_modifier', 'provider_city_name', 'provider_postal_code', 'provider_state_name', 'county', 'region', 'zip', 'state', 'primary_city', 'grouping', 'classification', 'display_name', 'provider_type', 'r_billing_code', 'r_billing_code_type', 'billing_code_type_version', 'service_code', 'additional_information', 'partition_column')\n",
    "    j4 = j4.filter(j4.negotiated_rate > 0.0)\n",
    "    j4 = j4.filter(~((j4.negotiated_type == 'percentage') & (j4.negotiated_rate > 250.0)))\n",
    "    j4 = j4.filter(j4.billing_code_type != 'DRG') # remove this for hospitals\n",
    "    j4 = j4.withColumn(\"negotiated_rate\",j4.negotiated_rate.cast(DoubleType()))\n",
    "    j4 = j4.withColumn(\"npi\",j4.npi.cast(StringType()))\n",
    "    cnts = j4.count()\n",
    "    counts.append(cnts)\n",
    "    if cnts < 300000000:\n",
    "        for i in ['Community - IA','Community - SD']:\n",
    "            j5 = j4.filter(j4.provider_type == i) # remove this for hospitals\n",
    "            ui_table = j5\n",
    "            if str(ui_table.schema[\"date\"].dataType) == 'StringType' and str(ui_table.schema[\"npi\"].dataType) == 'StringType' and str(ui_table.schema[\"state\"].dataType) == 'StringType' and str(ui_table.schema[\"r_billing_code_type\"].dataType) == 'StringType' and str(ui_table.schema[\"r_billing_code\"].dataType) == 'StringType' and str(ui_table.schema[\"negotiated_rate\"].dataType) == 'DoubleType' and str(ui_table.schema[\"partition_column\"].dataType) == 'StringType' and len(ui_table.columns) == 34 and str(ui_table.schema[\"reporting_entity_name\"].dataType) == 'StringType' and str(ui_table.schema[\"billing_code\"].dataType) == 'StringType' and str(ui_table.schema[\"billing_code_type\"].dataType) == 'StringType' and str(ui_table.schema[\"billing_code_type_version\"].dataType) == 'StringType' and str(ui_table.schema[\"billing_class\"].dataType) == 'StringType' and str(ui_table.schema[\"billing_code_modifier\"].dataType) == 'StringType' and str(ui_table.schema[\"negotiation_arrangement\"].dataType) == 'StringType' and str(ui_table.schema[\"negotiated_type\"].dataType) == 'StringType' and str(ui_table.schema[\"service_code\"].dataType) == 'StringType' and str(ui_table.schema[\"additional_information\"].dataType) == 'StringType' and str(ui_table.schema[\"level1_description\"].dataType) == 'StringType' and str(ui_table.schema[\"description\"].dataType) == 'StringType' and str(ui_table.schema[\"provider_name\"].dataType) == 'StringType' and str(ui_table.schema[\"provider_city_name\"].dataType) == 'StringType' and str(ui_table.schema[\"provider_state_name\"].dataType) == 'StringType' and str(ui_table.schema[\"provider_postal_code\"].dataType) == 'StringType' and str(ui_table.schema[\"county\"].dataType) == 'StringType' and str(ui_table.schema[\"region\"].dataType) == 'StringType' and str(ui_table.schema[\"provider_type\"].dataType) == 'StringType' and str(ui_table.schema[\"grouping\"].dataType) == 'StringType' and str(ui_table.schema[\"classification\"].dataType) == 'StringType' and str(ui_table.schema[\"display_name\"].dataType) == 'StringType' and str(ui_table.schema[\"plan_name\"].dataType) == 'StringType' and str(ui_table.schema[\"reporting_entity_type\"].dataType) == 'StringType' and str(ui_table.schema[\"level4_description\"].dataType) == 'StringType' and str(ui_table.schema[\"zip\"].dataType) == 'StringType' and str(ui_table.schema[\"primary_city\"].dataType) == 'StringType':\n",
    "                j5.write.mode(\"append\").parquet(f\"s3://zigna-nsa-payer-data-parquet-staging/Q2-2023/wellmark/ui-table/wellmark/flat-table/apr-umr/{i}/6/\")\n",
    "                print('true')\n",
    "            else:\n",
    "                print('error')\n",
    "                error.append(i)\n",
    "    else:\n",
    "        big_files.append(i)"
   ]
  },
  {
   "cell_type": "code",
   "execution_count": 20,
   "id": "b9753081",
   "metadata": {},
   "outputs": [
    {
     "data": {
      "application/vnd.jupyter.widget-view+json": {
       "model_id": "03701e32f40443548264a88b4141f26c",
       "version_major": 2,
       "version_minor": 0
      },
      "text/plain": [
       "VBox()"
      ]
     },
     "metadata": {},
     "output_type": "display_data"
    },
    {
     "data": {
      "application/vnd.jupyter.widget-view+json": {
       "model_id": "",
       "version_major": 2,
       "version_minor": 0
      },
      "text/plain": [
       "FloatProgress(value=0.0, bar_style='info', description='Progress:', layout=Layout(height='25px', width='50%'),…"
      ]
     },
     "metadata": {},
     "output_type": "display_data"
    },
    {
     "name": "stdout",
     "output_type": "stream",
     "text": [
      "[] [] [172110011, 169935095, 208970595, 172040905, 172008294, 172127421, 172023497, 169950561, 172127419, 172588945]"
     ]
    }
   ],
   "source": [
    "print(error, big_files,counts)"
   ]
  },
  {
   "cell_type": "code",
   "execution_count": 22,
   "id": "d5b73e87",
   "metadata": {},
   "outputs": [
    {
     "data": {
      "application/vnd.jupyter.widget-view+json": {
       "model_id": "d268219b261b494c90b0a3e78b48b74f",
       "version_major": 2,
       "version_minor": 0
      },
      "text/plain": [
       "VBox()"
      ]
     },
     "metadata": {},
     "output_type": "display_data"
    },
    {
     "data": {
      "application/vnd.jupyter.widget-view+json": {
       "model_id": "",
       "version_major": 2,
       "version_minor": 0
      },
      "text/plain": [
       "FloatProgress(value=0.0, bar_style='info', description='Progress:', layout=Layout(height='25px', width='50%'),…"
      ]
     },
     "metadata": {},
     "output_type": "display_data"
    },
    {
     "name": "stdout",
     "output_type": "stream",
     "text": [
      "'s3://zigna-nsa-payer-data-parquet-staging/Q2-2023/excellus/april-uhc/april-uhc-test-in-network/uhc-test9/2023-04-01_UMR--Inc-_Third-Party-Administrator_UNITEDHEALTHCARE-NEW-BUSINESS-RATE_UNITEDHEALTHCARE-SELECT-PLUS-NETWORK_-MMI_SEL_in-network-rates'"
     ]
    }
   ],
   "source": [
    "idx"
   ]
  },
  {
   "cell_type": "code",
   "execution_count": 23,
   "id": "0ef5f365",
   "metadata": {},
   "outputs": [
    {
     "data": {
      "application/vnd.jupyter.widget-view+json": {
       "model_id": "ced50171e97b47c39d9aac07adf3b77d",
       "version_major": 2,
       "version_minor": 0
      },
      "text/plain": [
       "VBox()"
      ]
     },
     "metadata": {},
     "output_type": "display_data"
    },
    {
     "data": {
      "application/vnd.jupyter.widget-view+json": {
       "model_id": "",
       "version_major": 2,
       "version_minor": 0
      },
      "text/plain": [
       "FloatProgress(value=0.0, bar_style='info', description='Progress:', layout=Layout(height='25px', width='50%'),…"
      ]
     },
     "metadata": {},
     "output_type": "display_data"
    },
    {
     "name": "stdout",
     "output_type": "stream",
     "text": [
      "'2023-04-01_UMR--Inc-_Third-Party-Administrator_UNITEDHEALTHCARE-NEW-BUSINESS-RATE_UNITEDHEALTHCARE-SELECT-PLUS-NETWORK_-MMI_SEL_in-network-rates'"
     ]
    }
   ],
   "source": [
    "in_net[53]"
   ]
  },
  {
   "cell_type": "code",
   "execution_count": 21,
   "id": "b925365b",
   "metadata": {},
   "outputs": [
    {
     "data": {
      "application/vnd.jupyter.widget-view+json": {
       "model_id": "e2068660321f487dbd6d8fb2a8c9e616",
       "version_major": 2,
       "version_minor": 0
      },
      "text/plain": [
       "VBox()"
      ]
     },
     "metadata": {},
     "output_type": "display_data"
    },
    {
     "data": {
      "application/vnd.jupyter.widget-view+json": {
       "model_id": "",
       "version_major": 2,
       "version_minor": 0
      },
      "text/plain": [
       "FloatProgress(value=0.0, bar_style='info', description='Progress:', layout=Layout(height='25px', width='50%'),…"
      ]
     },
     "metadata": {},
     "output_type": "display_data"
    }
   ],
   "source": [
    "a = spark.read.options(recursiveFileLookup = True).parquet('s3://zigna-nsa-payer-data-parquet-staging/Q2-2023/wellmark/ui-table/wellmark/flat-table/apr-umr/Community - IA/')"
   ]
  },
  {
   "cell_type": "code",
   "execution_count": 22,
   "id": "8e5cf5e4",
   "metadata": {},
   "outputs": [
    {
     "data": {
      "application/vnd.jupyter.widget-view+json": {
       "model_id": "0a9a03a978b14a65ac40e958c08eb294",
       "version_major": 2,
       "version_minor": 0
      },
      "text/plain": [
       "VBox()"
      ]
     },
     "metadata": {},
     "output_type": "display_data"
    },
    {
     "data": {
      "application/vnd.jupyter.widget-view+json": {
       "model_id": "",
       "version_major": 2,
       "version_minor": 0
      },
      "text/plain": [
       "FloatProgress(value=0.0, bar_style='info', description='Progress:', layout=Layout(height='25px', width='50%'),…"
      ]
     },
     "metadata": {},
     "output_type": "display_data"
    },
    {
     "name": "stdout",
     "output_type": "stream",
     "text": [
      "5750179748"
     ]
    }
   ],
   "source": [
    "a.count()"
   ]
  },
  {
   "cell_type": "code",
   "execution_count": 24,
   "id": "d8db1757",
   "metadata": {},
   "outputs": [
    {
     "data": {
      "application/vnd.jupyter.widget-view+json": {
       "model_id": "c66ed25628b24649ae03b915afa3b3e1",
       "version_major": 2,
       "version_minor": 0
      },
      "text/plain": [
       "VBox()"
      ]
     },
     "metadata": {},
     "output_type": "display_data"
    },
    {
     "data": {
      "application/vnd.jupyter.widget-view+json": {
       "model_id": "",
       "version_major": 2,
       "version_minor": 0
      },
      "text/plain": [
       "FloatProgress(value=0.0, bar_style='info', description='Progress:', layout=Layout(height='25px', width='50%'),…"
      ]
     },
     "metadata": {},
     "output_type": "display_data"
    }
   ],
   "source": [
    "b= a.distinct()"
   ]
  },
  {
   "cell_type": "code",
   "execution_count": 25,
   "id": "6116161d",
   "metadata": {},
   "outputs": [
    {
     "data": {
      "application/vnd.jupyter.widget-view+json": {
       "model_id": "cf6b3d00ebf44865a35a36e42f690f83",
       "version_major": 2,
       "version_minor": 0
      },
      "text/plain": [
       "VBox()"
      ]
     },
     "metadata": {},
     "output_type": "display_data"
    },
    {
     "data": {
      "application/vnd.jupyter.widget-view+json": {
       "model_id": "eb08faf421924cdb8f628a9909deb12a",
       "version_major": 2,
       "version_minor": 0
      },
      "text/plain": [
       "FloatProgress(value=0.0, bar_style='info', description='Progress:', layout=Layout(height='25px', width='50%'),…"
      ]
     },
     "metadata": {},
     "output_type": "display_data"
    },
    {
     "name": "stdout",
     "output_type": "stream",
     "text": [
      "Traceback (most recent call last):\n",
      "  File \"/mnt/notebook-env/lib/python3.7/site-packages/sparkmagic/livyclientlib/command.py\", line 50, in execute\n",
      "    output = self._get_statement_output(session, statement_id)\n",
      "  File \"/mnt/notebook-env/lib/python3.7/site-packages/sparkmagic/livyclientlib/command.py\", line 94, in _get_statement_output\n",
      "    session.sleep(retries)\n",
      "  File \"/mnt/notebook-env/lib/python3.7/site-packages/sparkmagic/livyclientlib/livysession.py\", line 294, in sleep\n",
      "    sleep(self._policy.seconds_to_sleep(retries))\n",
      "KeyboardInterrupt\n",
      "\n",
      "During handling of the above exception, another exception occurred:\n",
      "\n",
      "Traceback (most recent call last):\n",
      "  File \"/mnt/notebook-env/lib/python3.7/site-packages/sparkmagic/livyclientlib/command.py\", line 58, in execute\n",
      "    session.wait_for_idle()\n",
      "  File \"/mnt/notebook-env/lib/python3.7/site-packages/sparkmagic/livyclientlib/livysession.py\", line 290, in wait_for_idle\n",
      "    sleep(sleep_time)\n",
      "KeyboardInterrupt\n",
      "\n",
      "During handling of the above exception, another exception occurred:\n",
      "\n",
      "Traceback (most recent call last):\n",
      "  File \"/mnt/notebook-env/lib/python3.7/site-packages/IPython/core/interactiveshell.py\", line 3457, in run_code\n",
      "    exec(code_obj, self.user_global_ns, self.user_ns)\n",
      "  File \"<ipython-input-25-20a1b982692f>\", line 1, in <module>\n",
      "    get_ipython().run_cell_magic('spark', '', 'b.count()\\n')\n",
      "  File \"/mnt/notebook-env/lib/python3.7/site-packages/IPython/core/interactiveshell.py\", line 2419, in run_cell_magic\n",
      "    result = fn(*args, **kwargs)\n",
      "  File \"/mnt/notebook-env/lib/python3.7/site-packages/decorator.py\", line 232, in fun\n",
      "    return caller(func, *(extras + args), **kw)\n",
      "  File \"/mnt/notebook-env/lib/python3.7/site-packages/IPython/core/magic.py\", line 187, in <lambda>\n",
      "    call = lambda f, *a, **k: f(*a, **k)\n",
      "  File \"/mnt/notebook-env/lib/python3.7/site-packages/sparkmagic/livyclientlib/exceptions.py\", line 140, in wrapped\n",
      "    out = f(self, *args, **kwargs)\n",
      "  File \"/mnt/notebook-env/lib/python3.7/site-packages/sparkmagic/livyclientlib/exceptions.py\", line 107, in wrapped\n",
      "    out = f(self, *args, **kwargs)\n",
      "  File \"/mnt/notebook-env/lib/python3.7/site-packages/sparkmagic/kernels/kernelmagics.py\", line 380, in spark\n",
      "    self.execute_spark(cell, args.output, args.samplemethod, args.maxrows, args.samplefraction, None, coerce)\n",
      "  File \"/mnt/notebook-env/lib/python3.7/site-packages/sparkmagic/magics/sparkmagicsbase.py\", line 89, in execute_spark\n",
      "    (success, out, mimetype) = self.spark_controller.run_command(Command(cell, None, cell_kind), session_name)\n",
      "  File \"/mnt/notebook-env/lib/python3.7/site-packages/sparkmagic/livyclientlib/sparkcontroller.py\", line 42, in run_command\n",
      "    return command.execute(session_to_use)\n",
      "  File \"/mnt/notebook-env/lib/python3.7/site-packages/sparkmagic/livyclientlib/command.py\", line 60, in execute\n",
      "    raise SparkStatementCancellationFailedException(COMMAND_CANCELLATION_FAILED_MSG)\n",
      "sparkmagic.livyclientlib.exceptions.SparkStatementCancellationFailedException: Interrupted by user but Livy failed to cancel the Spark statement. The Livy session might have become unusable.\n",
      "\n",
      "During handling of the above exception, another exception occurred:\n",
      "\n",
      "Traceback (most recent call last):\n",
      "  File \"/mnt/notebook-env/lib/python3.7/site-packages/IPython/core/interactiveshell.py\", line 2077, in showtraceback\n",
      "    stb = value._render_traceback_()\n",
      "AttributeError: 'SparkStatementCancellationFailedException' object has no attribute '_render_traceback_'\n",
      "\n",
      "During handling of the above exception, another exception occurred:\n",
      "\n",
      "Traceback (most recent call last):\n",
      "  File \"/mnt/notebook-env/lib/python3.7/site-packages/IPython/core/ultratb.py\", line 1101, in get_records\n",
      "    return _fixed_getinnerframes(etb, number_of_lines_of_context, tb_offset)\n",
      "  File \"/mnt/notebook-env/lib/python3.7/site-packages/IPython/core/ultratb.py\", line 248, in wrapped\n",
      "    return f(*args, **kwargs)\n",
      "  File \"/mnt/notebook-env/lib/python3.7/site-packages/IPython/core/ultratb.py\", line 281, in _fixed_getinnerframes\n",
      "    records = fix_frame_records_filenames(inspect.getinnerframes(etb, context))\n",
      "  File \"/mnt/notebook-env/lib/python3.7/inspect.py\", line 1502, in getinnerframes\n",
      "    frameinfo = (tb.tb_frame,) + getframeinfo(tb, context)\n",
      "  File \"/mnt/notebook-env/lib/python3.7/inspect.py\", line 1460, in getframeinfo\n",
      "    filename = getsourcefile(frame) or getfile(frame)\n",
      "  File \"/mnt/notebook-env/lib/python3.7/inspect.py\", line 696, in getsourcefile\n",
      "    if getattr(getmodule(object, filename), '__loader__', None) is not None:\n",
      "  File \"/mnt/notebook-env/lib/python3.7/inspect.py\", line 742, in getmodule\n",
      "    os.path.realpath(f)] = module.__name__\n",
      "  File \"/mnt/notebook-env/lib/python3.7/posixpath.py\", line 395, in realpath\n",
      "    path, ok = _joinrealpath(filename[:0], filename, {})\n",
      "  File \"/mnt/notebook-env/lib/python3.7/posixpath.py\", line 429, in _joinrealpath\n",
      "    if not islink(newpath):\n",
      "  File \"/mnt/notebook-env/lib/python3.7/posixpath.py\", line 171, in islink\n",
      "    st = os.lstat(path)\n",
      "KeyboardInterrupt\n"
     ]
    },
    {
     "ename": "TypeError",
     "evalue": "object of type 'NoneType' has no len()",
     "output_type": "error",
     "traceback": [
      "\u001b[0;31m---------------------------------------------------------------------------\u001b[0m",
      "\u001b[0;31mKeyboardInterrupt\u001b[0m                         Traceback (most recent call last)",
      "\u001b[0;32m/mnt/notebook-env/lib/python3.7/site-packages/sparkmagic/livyclientlib/command.py\u001b[0m in \u001b[0;36mexecute\u001b[0;34m(self, session)\u001b[0m\n\u001b[1;32m     49\u001b[0m             \u001b[0mstatement_id\u001b[0m \u001b[0;34m=\u001b[0m \u001b[0mresponse\u001b[0m\u001b[0;34m[\u001b[0m\u001b[0;34mu'id'\u001b[0m\u001b[0;34m]\u001b[0m\u001b[0;34m\u001b[0m\u001b[0;34m\u001b[0m\u001b[0m\n\u001b[0;32m---> 50\u001b[0;31m             \u001b[0moutput\u001b[0m \u001b[0;34m=\u001b[0m \u001b[0mself\u001b[0m\u001b[0;34m.\u001b[0m\u001b[0m_get_statement_output\u001b[0m\u001b[0;34m(\u001b[0m\u001b[0msession\u001b[0m\u001b[0;34m,\u001b[0m \u001b[0mstatement_id\u001b[0m\u001b[0;34m)\u001b[0m\u001b[0;34m\u001b[0m\u001b[0;34m\u001b[0m\u001b[0m\n\u001b[0m\u001b[1;32m     51\u001b[0m         \u001b[0;32mexcept\u001b[0m \u001b[0mKeyboardInterrupt\u001b[0m \u001b[0;32mas\u001b[0m \u001b[0me\u001b[0m\u001b[0;34m:\u001b[0m\u001b[0;34m\u001b[0m\u001b[0;34m\u001b[0m\u001b[0m\n",
      "\u001b[0;32m/mnt/notebook-env/lib/python3.7/site-packages/sparkmagic/livyclientlib/command.py\u001b[0m in \u001b[0;36m_get_statement_output\u001b[0;34m(self, session, statement_id)\u001b[0m\n\u001b[1;32m     93\u001b[0m                 \u001b[0mprogress\u001b[0m\u001b[0;34m.\u001b[0m\u001b[0mvalue\u001b[0m \u001b[0;34m=\u001b[0m \u001b[0mstatement\u001b[0m\u001b[0;34m.\u001b[0m\u001b[0mget\u001b[0m\u001b[0;34m(\u001b[0m\u001b[0;34m'progress'\u001b[0m\u001b[0;34m,\u001b[0m \u001b[0;36m0.0\u001b[0m\u001b[0;34m)\u001b[0m\u001b[0;34m\u001b[0m\u001b[0;34m\u001b[0m\u001b[0m\n\u001b[0;32m---> 94\u001b[0;31m                 \u001b[0msession\u001b[0m\u001b[0;34m.\u001b[0m\u001b[0msleep\u001b[0m\u001b[0;34m(\u001b[0m\u001b[0mretries\u001b[0m\u001b[0;34m)\u001b[0m\u001b[0;34m\u001b[0m\u001b[0;34m\u001b[0m\u001b[0m\n\u001b[0m\u001b[1;32m     95\u001b[0m                 \u001b[0mretries\u001b[0m \u001b[0;34m+=\u001b[0m \u001b[0;36m1\u001b[0m\u001b[0;34m\u001b[0m\u001b[0;34m\u001b[0m\u001b[0m\n",
      "\u001b[0;32m/mnt/notebook-env/lib/python3.7/site-packages/sparkmagic/livyclientlib/livysession.py\u001b[0m in \u001b[0;36msleep\u001b[0;34m(self, retries)\u001b[0m\n\u001b[1;32m    293\u001b[0m     \u001b[0;32mdef\u001b[0m \u001b[0msleep\u001b[0m\u001b[0;34m(\u001b[0m\u001b[0mself\u001b[0m\u001b[0;34m,\u001b[0m \u001b[0mretries\u001b[0m\u001b[0;34m)\u001b[0m\u001b[0;34m:\u001b[0m\u001b[0;34m\u001b[0m\u001b[0;34m\u001b[0m\u001b[0m\n\u001b[0;32m--> 294\u001b[0;31m         \u001b[0msleep\u001b[0m\u001b[0;34m(\u001b[0m\u001b[0mself\u001b[0m\u001b[0;34m.\u001b[0m\u001b[0m_policy\u001b[0m\u001b[0;34m.\u001b[0m\u001b[0mseconds_to_sleep\u001b[0m\u001b[0;34m(\u001b[0m\u001b[0mretries\u001b[0m\u001b[0;34m)\u001b[0m\u001b[0;34m)\u001b[0m\u001b[0;34m\u001b[0m\u001b[0;34m\u001b[0m\u001b[0m\n\u001b[0m\u001b[1;32m    295\u001b[0m \u001b[0;34m\u001b[0m\u001b[0m\n",
      "\u001b[0;31mKeyboardInterrupt\u001b[0m: ",
      "\nDuring handling of the above exception, another exception occurred:\n",
      "\u001b[0;31mKeyboardInterrupt\u001b[0m                         Traceback (most recent call last)",
      "\u001b[0;32m/mnt/notebook-env/lib/python3.7/site-packages/sparkmagic/livyclientlib/command.py\u001b[0m in \u001b[0;36mexecute\u001b[0;34m(self, session)\u001b[0m\n\u001b[1;32m     57\u001b[0m                     \u001b[0mresponse\u001b[0m \u001b[0;34m=\u001b[0m \u001b[0msession\u001b[0m\u001b[0;34m.\u001b[0m\u001b[0mhttp_client\u001b[0m\u001b[0;34m.\u001b[0m\u001b[0mcancel_statement\u001b[0m\u001b[0;34m(\u001b[0m\u001b[0msession\u001b[0m\u001b[0;34m.\u001b[0m\u001b[0mid\u001b[0m\u001b[0;34m,\u001b[0m \u001b[0mstatement_id\u001b[0m\u001b[0;34m)\u001b[0m\u001b[0;34m\u001b[0m\u001b[0;34m\u001b[0m\u001b[0m\n\u001b[0;32m---> 58\u001b[0;31m                     \u001b[0msession\u001b[0m\u001b[0;34m.\u001b[0m\u001b[0mwait_for_idle\u001b[0m\u001b[0;34m(\u001b[0m\u001b[0;34m)\u001b[0m\u001b[0;34m\u001b[0m\u001b[0;34m\u001b[0m\u001b[0m\n\u001b[0m\u001b[1;32m     59\u001b[0m             \u001b[0;32mexcept\u001b[0m\u001b[0;34m:\u001b[0m\u001b[0;34m\u001b[0m\u001b[0;34m\u001b[0m\u001b[0m\n",
      "\u001b[0;32m/mnt/notebook-env/lib/python3.7/site-packages/sparkmagic/livyclientlib/livysession.py\u001b[0m in \u001b[0;36mwait_for_idle\u001b[0;34m(self, seconds_to_wait)\u001b[0m\n\u001b[1;32m    289\u001b[0m                               .format(self.id, self.status, sleep_time))\n\u001b[0;32m--> 290\u001b[0;31m             \u001b[0msleep\u001b[0m\u001b[0;34m(\u001b[0m\u001b[0msleep_time\u001b[0m\u001b[0;34m)\u001b[0m\u001b[0;34m\u001b[0m\u001b[0;34m\u001b[0m\u001b[0m\n\u001b[0m\u001b[1;32m    291\u001b[0m             \u001b[0mseconds_to_wait\u001b[0m \u001b[0;34m-=\u001b[0m \u001b[0mtime\u001b[0m\u001b[0;34m(\u001b[0m\u001b[0;34m)\u001b[0m \u001b[0;34m-\u001b[0m \u001b[0mstart_time\u001b[0m\u001b[0;34m\u001b[0m\u001b[0;34m\u001b[0m\u001b[0m\n",
      "\u001b[0;31mKeyboardInterrupt\u001b[0m: ",
      "\nDuring handling of the above exception, another exception occurred:\n",
      "\u001b[0;31mSparkStatementCancellationFailedException\u001b[0m Traceback (most recent call last)",
      "    \u001b[0;31m[... skipping hidden 1 frame]\u001b[0m\n",
      "\u001b[0;32m<ipython-input-25-20a1b982692f>\u001b[0m in \u001b[0;36m<module>\u001b[0;34m\u001b[0m\n\u001b[0;32m----> 1\u001b[0;31m \u001b[0mget_ipython\u001b[0m\u001b[0;34m(\u001b[0m\u001b[0;34m)\u001b[0m\u001b[0;34m.\u001b[0m\u001b[0mrun_cell_magic\u001b[0m\u001b[0;34m(\u001b[0m\u001b[0;34m'spark'\u001b[0m\u001b[0;34m,\u001b[0m \u001b[0;34m''\u001b[0m\u001b[0;34m,\u001b[0m \u001b[0;34m'b.count()\\n'\u001b[0m\u001b[0;34m)\u001b[0m\u001b[0;34m\u001b[0m\u001b[0;34m\u001b[0m\u001b[0m\n\u001b[0m",
      "\u001b[0;32m/mnt/notebook-env/lib/python3.7/site-packages/IPython/core/interactiveshell.py\u001b[0m in \u001b[0;36mrun_cell_magic\u001b[0;34m(self, magic_name, line, cell)\u001b[0m\n\u001b[1;32m   2418\u001b[0m                 \u001b[0margs\u001b[0m \u001b[0;34m=\u001b[0m \u001b[0;34m(\u001b[0m\u001b[0mmagic_arg_s\u001b[0m\u001b[0;34m,\u001b[0m \u001b[0mcell\u001b[0m\u001b[0;34m)\u001b[0m\u001b[0;34m\u001b[0m\u001b[0;34m\u001b[0m\u001b[0m\n\u001b[0;32m-> 2419\u001b[0;31m                 \u001b[0mresult\u001b[0m \u001b[0;34m=\u001b[0m \u001b[0mfn\u001b[0m\u001b[0;34m(\u001b[0m\u001b[0;34m*\u001b[0m\u001b[0margs\u001b[0m\u001b[0;34m,\u001b[0m \u001b[0;34m**\u001b[0m\u001b[0mkwargs\u001b[0m\u001b[0;34m)\u001b[0m\u001b[0;34m\u001b[0m\u001b[0;34m\u001b[0m\u001b[0m\n\u001b[0m\u001b[1;32m   2420\u001b[0m             \u001b[0;32mreturn\u001b[0m \u001b[0mresult\u001b[0m\u001b[0;34m\u001b[0m\u001b[0;34m\u001b[0m\u001b[0m\n",
      "\u001b[0;32m/mnt/notebook-env/lib/python3.7/site-packages/decorator.py\u001b[0m in \u001b[0;36mfun\u001b[0;34m(*args, **kw)\u001b[0m\n\u001b[1;32m    231\u001b[0m                 \u001b[0margs\u001b[0m\u001b[0;34m,\u001b[0m \u001b[0mkw\u001b[0m \u001b[0;34m=\u001b[0m \u001b[0mfix\u001b[0m\u001b[0;34m(\u001b[0m\u001b[0margs\u001b[0m\u001b[0;34m,\u001b[0m \u001b[0mkw\u001b[0m\u001b[0;34m,\u001b[0m \u001b[0msig\u001b[0m\u001b[0;34m)\u001b[0m\u001b[0;34m\u001b[0m\u001b[0;34m\u001b[0m\u001b[0m\n\u001b[0;32m--> 232\u001b[0;31m             \u001b[0;32mreturn\u001b[0m \u001b[0mcaller\u001b[0m\u001b[0;34m(\u001b[0m\u001b[0mfunc\u001b[0m\u001b[0;34m,\u001b[0m \u001b[0;34m*\u001b[0m\u001b[0;34m(\u001b[0m\u001b[0mextras\u001b[0m \u001b[0;34m+\u001b[0m \u001b[0margs\u001b[0m\u001b[0;34m)\u001b[0m\u001b[0;34m,\u001b[0m \u001b[0;34m**\u001b[0m\u001b[0mkw\u001b[0m\u001b[0;34m)\u001b[0m\u001b[0;34m\u001b[0m\u001b[0;34m\u001b[0m\u001b[0m\n\u001b[0m\u001b[1;32m    233\u001b[0m     \u001b[0mfun\u001b[0m\u001b[0;34m.\u001b[0m\u001b[0m__name__\u001b[0m \u001b[0;34m=\u001b[0m \u001b[0mfunc\u001b[0m\u001b[0;34m.\u001b[0m\u001b[0m__name__\u001b[0m\u001b[0;34m\u001b[0m\u001b[0;34m\u001b[0m\u001b[0m\n",
      "\u001b[0;32m/mnt/notebook-env/lib/python3.7/site-packages/IPython/core/magic.py\u001b[0m in \u001b[0;36m<lambda>\u001b[0;34m(f, *a, **k)\u001b[0m\n\u001b[1;32m    186\u001b[0m     \u001b[0;32mdef\u001b[0m \u001b[0mmagic_deco\u001b[0m\u001b[0;34m(\u001b[0m\u001b[0marg\u001b[0m\u001b[0;34m)\u001b[0m\u001b[0;34m:\u001b[0m\u001b[0;34m\u001b[0m\u001b[0;34m\u001b[0m\u001b[0m\n\u001b[0;32m--> 187\u001b[0;31m         \u001b[0mcall\u001b[0m \u001b[0;34m=\u001b[0m \u001b[0;32mlambda\u001b[0m \u001b[0mf\u001b[0m\u001b[0;34m,\u001b[0m \u001b[0;34m*\u001b[0m\u001b[0ma\u001b[0m\u001b[0;34m,\u001b[0m \u001b[0;34m**\u001b[0m\u001b[0mk\u001b[0m\u001b[0;34m:\u001b[0m \u001b[0mf\u001b[0m\u001b[0;34m(\u001b[0m\u001b[0;34m*\u001b[0m\u001b[0ma\u001b[0m\u001b[0;34m,\u001b[0m \u001b[0;34m**\u001b[0m\u001b[0mk\u001b[0m\u001b[0;34m)\u001b[0m\u001b[0;34m\u001b[0m\u001b[0;34m\u001b[0m\u001b[0m\n\u001b[0m\u001b[1;32m    188\u001b[0m \u001b[0;34m\u001b[0m\u001b[0m\n",
      "\u001b[0;32m/mnt/notebook-env/lib/python3.7/site-packages/sparkmagic/livyclientlib/exceptions.py\u001b[0m in \u001b[0;36mwrapped\u001b[0;34m(self, *args, **kwargs)\u001b[0m\n\u001b[1;32m    139\u001b[0m         \u001b[0;32mtry\u001b[0m\u001b[0;34m:\u001b[0m\u001b[0;34m\u001b[0m\u001b[0;34m\u001b[0m\u001b[0m\n\u001b[0;32m--> 140\u001b[0;31m             \u001b[0mout\u001b[0m \u001b[0;34m=\u001b[0m \u001b[0mf\u001b[0m\u001b[0;34m(\u001b[0m\u001b[0mself\u001b[0m\u001b[0;34m,\u001b[0m \u001b[0;34m*\u001b[0m\u001b[0margs\u001b[0m\u001b[0;34m,\u001b[0m \u001b[0;34m**\u001b[0m\u001b[0mkwargs\u001b[0m\u001b[0;34m)\u001b[0m\u001b[0;34m\u001b[0m\u001b[0;34m\u001b[0m\u001b[0m\n\u001b[0m\u001b[1;32m    141\u001b[0m         \u001b[0;32mexcept\u001b[0m \u001b[0mException\u001b[0m \u001b[0;32mas\u001b[0m \u001b[0merr\u001b[0m\u001b[0;34m:\u001b[0m\u001b[0;34m\u001b[0m\u001b[0;34m\u001b[0m\u001b[0m\n",
      "\u001b[0;32m/mnt/notebook-env/lib/python3.7/site-packages/sparkmagic/livyclientlib/exceptions.py\u001b[0m in \u001b[0;36mwrapped\u001b[0;34m(self, *args, **kwargs)\u001b[0m\n\u001b[1;32m    106\u001b[0m         \u001b[0;32mtry\u001b[0m\u001b[0;34m:\u001b[0m\u001b[0;34m\u001b[0m\u001b[0;34m\u001b[0m\u001b[0m\n\u001b[0;32m--> 107\u001b[0;31m             \u001b[0mout\u001b[0m \u001b[0;34m=\u001b[0m \u001b[0mf\u001b[0m\u001b[0;34m(\u001b[0m\u001b[0mself\u001b[0m\u001b[0;34m,\u001b[0m \u001b[0;34m*\u001b[0m\u001b[0margs\u001b[0m\u001b[0;34m,\u001b[0m \u001b[0;34m**\u001b[0m\u001b[0mkwargs\u001b[0m\u001b[0;34m)\u001b[0m\u001b[0;34m\u001b[0m\u001b[0;34m\u001b[0m\u001b[0m\n\u001b[0m\u001b[1;32m    108\u001b[0m         \u001b[0;32mexcept\u001b[0m \u001b[0mexceptions_to_handle\u001b[0m \u001b[0;32mas\u001b[0m \u001b[0merr\u001b[0m\u001b[0;34m:\u001b[0m\u001b[0;34m\u001b[0m\u001b[0;34m\u001b[0m\u001b[0m\n",
      "\u001b[0;32m/mnt/notebook-env/lib/python3.7/site-packages/sparkmagic/kernels/kernelmagics.py\u001b[0m in \u001b[0;36mspark\u001b[0;34m(self, line, cell, local_ns)\u001b[0m\n\u001b[1;32m    379\u001b[0m \u001b[0;34m\u001b[0m\u001b[0m\n\u001b[0;32m--> 380\u001b[0;31m         \u001b[0mself\u001b[0m\u001b[0;34m.\u001b[0m\u001b[0mexecute_spark\u001b[0m\u001b[0;34m(\u001b[0m\u001b[0mcell\u001b[0m\u001b[0;34m,\u001b[0m \u001b[0margs\u001b[0m\u001b[0;34m.\u001b[0m\u001b[0moutput\u001b[0m\u001b[0;34m,\u001b[0m \u001b[0margs\u001b[0m\u001b[0;34m.\u001b[0m\u001b[0msamplemethod\u001b[0m\u001b[0;34m,\u001b[0m \u001b[0margs\u001b[0m\u001b[0;34m.\u001b[0m\u001b[0mmaxrows\u001b[0m\u001b[0;34m,\u001b[0m \u001b[0margs\u001b[0m\u001b[0;34m.\u001b[0m\u001b[0msamplefraction\u001b[0m\u001b[0;34m,\u001b[0m \u001b[0;32mNone\u001b[0m\u001b[0;34m,\u001b[0m \u001b[0mcoerce\u001b[0m\u001b[0;34m)\u001b[0m\u001b[0;34m\u001b[0m\u001b[0;34m\u001b[0m\u001b[0m\n\u001b[0m\u001b[1;32m    381\u001b[0m \u001b[0;34m\u001b[0m\u001b[0m\n",
      "\u001b[0;32m/mnt/notebook-env/lib/python3.7/site-packages/sparkmagic/magics/sparkmagicsbase.py\u001b[0m in \u001b[0;36mexecute_spark\u001b[0;34m(self, cell, output_var, samplemethod, maxrows, samplefraction, session_name, coerce, output_handler, cell_kind)\u001b[0m\n\u001b[1;32m     88\u001b[0m                                           default=self.ipython_display.display)\n\u001b[0;32m---> 89\u001b[0;31m         \u001b[0;34m(\u001b[0m\u001b[0msuccess\u001b[0m\u001b[0;34m,\u001b[0m \u001b[0mout\u001b[0m\u001b[0;34m,\u001b[0m \u001b[0mmimetype\u001b[0m\u001b[0;34m)\u001b[0m \u001b[0;34m=\u001b[0m \u001b[0mself\u001b[0m\u001b[0;34m.\u001b[0m\u001b[0mspark_controller\u001b[0m\u001b[0;34m.\u001b[0m\u001b[0mrun_command\u001b[0m\u001b[0;34m(\u001b[0m\u001b[0mCommand\u001b[0m\u001b[0;34m(\u001b[0m\u001b[0mcell\u001b[0m\u001b[0;34m,\u001b[0m \u001b[0;32mNone\u001b[0m\u001b[0;34m,\u001b[0m \u001b[0mcell_kind\u001b[0m\u001b[0;34m)\u001b[0m\u001b[0;34m,\u001b[0m \u001b[0msession_name\u001b[0m\u001b[0;34m)\u001b[0m\u001b[0;34m\u001b[0m\u001b[0;34m\u001b[0m\u001b[0m\n\u001b[0m\u001b[1;32m     90\u001b[0m         \u001b[0;32mif\u001b[0m \u001b[0;32mnot\u001b[0m \u001b[0msuccess\u001b[0m\u001b[0;34m:\u001b[0m\u001b[0;34m\u001b[0m\u001b[0;34m\u001b[0m\u001b[0m\n",
      "\u001b[0;32m/mnt/notebook-env/lib/python3.7/site-packages/sparkmagic/livyclientlib/sparkcontroller.py\u001b[0m in \u001b[0;36mrun_command\u001b[0;34m(self, command, client_name)\u001b[0m\n\u001b[1;32m     41\u001b[0m         \u001b[0msession_to_use\u001b[0m \u001b[0;34m=\u001b[0m \u001b[0mself\u001b[0m\u001b[0;34m.\u001b[0m\u001b[0mget_session_by_name_or_default\u001b[0m\u001b[0;34m(\u001b[0m\u001b[0mclient_name\u001b[0m\u001b[0;34m)\u001b[0m\u001b[0;34m\u001b[0m\u001b[0;34m\u001b[0m\u001b[0m\n\u001b[0;32m---> 42\u001b[0;31m         \u001b[0;32mreturn\u001b[0m \u001b[0mcommand\u001b[0m\u001b[0;34m.\u001b[0m\u001b[0mexecute\u001b[0m\u001b[0;34m(\u001b[0m\u001b[0msession_to_use\u001b[0m\u001b[0;34m)\u001b[0m\u001b[0;34m\u001b[0m\u001b[0;34m\u001b[0m\u001b[0m\n\u001b[0m\u001b[1;32m     43\u001b[0m \u001b[0;34m\u001b[0m\u001b[0m\n",
      "\u001b[0;32m/mnt/notebook-env/lib/python3.7/site-packages/sparkmagic/livyclientlib/command.py\u001b[0m in \u001b[0;36mexecute\u001b[0;34m(self, session)\u001b[0m\n\u001b[1;32m     59\u001b[0m             \u001b[0;32mexcept\u001b[0m\u001b[0;34m:\u001b[0m\u001b[0;34m\u001b[0m\u001b[0;34m\u001b[0m\u001b[0m\n\u001b[0;32m---> 60\u001b[0;31m                 \u001b[0;32mraise\u001b[0m \u001b[0mSparkStatementCancellationFailedException\u001b[0m\u001b[0;34m(\u001b[0m\u001b[0mCOMMAND_CANCELLATION_FAILED_MSG\u001b[0m\u001b[0;34m)\u001b[0m\u001b[0;34m\u001b[0m\u001b[0;34m\u001b[0m\u001b[0m\n\u001b[0m\u001b[1;32m     61\u001b[0m             \u001b[0;32melse\u001b[0m\u001b[0;34m:\u001b[0m\u001b[0;34m\u001b[0m\u001b[0;34m\u001b[0m\u001b[0m\n",
      "\u001b[0;31mSparkStatementCancellationFailedException\u001b[0m: Interrupted by user but Livy failed to cancel the Spark statement. The Livy session might have become unusable.",
      "\nDuring handling of the above exception, another exception occurred:\n",
      "\u001b[0;31mAttributeError\u001b[0m                            Traceback (most recent call last)",
      "\u001b[0;32m/mnt/notebook-env/lib/python3.7/site-packages/IPython/core/interactiveshell.py\u001b[0m in \u001b[0;36mshowtraceback\u001b[0;34m(self, exc_tuple, filename, tb_offset, exception_only, running_compiled_code)\u001b[0m\n\u001b[1;32m   2076\u001b[0m                         \u001b[0;31m# in the engines. This should return a list of strings.\u001b[0m\u001b[0;34m\u001b[0m\u001b[0;34m\u001b[0m\u001b[0;34m\u001b[0m\u001b[0m\n\u001b[0;32m-> 2077\u001b[0;31m                         \u001b[0mstb\u001b[0m \u001b[0;34m=\u001b[0m \u001b[0mvalue\u001b[0m\u001b[0;34m.\u001b[0m\u001b[0m_render_traceback_\u001b[0m\u001b[0;34m(\u001b[0m\u001b[0;34m)\u001b[0m\u001b[0;34m\u001b[0m\u001b[0;34m\u001b[0m\u001b[0m\n\u001b[0m\u001b[1;32m   2078\u001b[0m                     \u001b[0;32mexcept\u001b[0m \u001b[0mException\u001b[0m\u001b[0;34m:\u001b[0m\u001b[0;34m\u001b[0m\u001b[0;34m\u001b[0m\u001b[0m\n",
      "\u001b[0;31mAttributeError\u001b[0m: 'SparkStatementCancellationFailedException' object has no attribute '_render_traceback_'",
      "\nDuring handling of the above exception, another exception occurred:\n",
      "\u001b[0;31mTypeError\u001b[0m                                 Traceback (most recent call last)",
      "    \u001b[0;31m[... skipping hidden 1 frame]\u001b[0m\n",
      "\u001b[0;32m/mnt/notebook-env/lib/python3.7/site-packages/IPython/core/interactiveshell.py\u001b[0m in \u001b[0;36mshowtraceback\u001b[0;34m(self, exc_tuple, filename, tb_offset, exception_only, running_compiled_code)\u001b[0m\n\u001b[1;32m   2078\u001b[0m                     \u001b[0;32mexcept\u001b[0m \u001b[0mException\u001b[0m\u001b[0;34m:\u001b[0m\u001b[0;34m\u001b[0m\u001b[0;34m\u001b[0m\u001b[0m\n\u001b[1;32m   2079\u001b[0m                         stb = self.InteractiveTB.structured_traceback(etype,\n\u001b[0;32m-> 2080\u001b[0;31m                                             value, tb, tb_offset=tb_offset)\n\u001b[0m\u001b[1;32m   2081\u001b[0m \u001b[0;34m\u001b[0m\u001b[0m\n\u001b[1;32m   2082\u001b[0m                     \u001b[0mself\u001b[0m\u001b[0;34m.\u001b[0m\u001b[0m_showtraceback\u001b[0m\u001b[0;34m(\u001b[0m\u001b[0metype\u001b[0m\u001b[0;34m,\u001b[0m \u001b[0mvalue\u001b[0m\u001b[0;34m,\u001b[0m \u001b[0mstb\u001b[0m\u001b[0;34m)\u001b[0m\u001b[0;34m\u001b[0m\u001b[0;34m\u001b[0m\u001b[0m\n",
      "\u001b[0;32m/mnt/notebook-env/lib/python3.7/site-packages/IPython/core/ultratb.py\u001b[0m in \u001b[0;36mstructured_traceback\u001b[0;34m(self, etype, value, tb, tb_offset, number_of_lines_of_context)\u001b[0m\n\u001b[1;32m   1366\u001b[0m             \u001b[0mself\u001b[0m\u001b[0;34m.\u001b[0m\u001b[0mtb\u001b[0m \u001b[0;34m=\u001b[0m \u001b[0mtb\u001b[0m\u001b[0;34m\u001b[0m\u001b[0;34m\u001b[0m\u001b[0m\n\u001b[1;32m   1367\u001b[0m         return FormattedTB.structured_traceback(\n\u001b[0;32m-> 1368\u001b[0;31m             self, etype, value, tb, tb_offset, number_of_lines_of_context)\n\u001b[0m\u001b[1;32m   1369\u001b[0m \u001b[0;34m\u001b[0m\u001b[0m\n\u001b[1;32m   1370\u001b[0m \u001b[0;34m\u001b[0m\u001b[0m\n",
      "\u001b[0;32m/mnt/notebook-env/lib/python3.7/site-packages/IPython/core/ultratb.py\u001b[0m in \u001b[0;36mstructured_traceback\u001b[0;34m(self, etype, value, tb, tb_offset, number_of_lines_of_context)\u001b[0m\n\u001b[1;32m   1266\u001b[0m             \u001b[0;31m# Verbose modes need a full traceback\u001b[0m\u001b[0;34m\u001b[0m\u001b[0;34m\u001b[0m\u001b[0;34m\u001b[0m\u001b[0m\n\u001b[1;32m   1267\u001b[0m             return VerboseTB.structured_traceback(\n\u001b[0;32m-> 1268\u001b[0;31m                 \u001b[0mself\u001b[0m\u001b[0;34m,\u001b[0m \u001b[0metype\u001b[0m\u001b[0;34m,\u001b[0m \u001b[0mvalue\u001b[0m\u001b[0;34m,\u001b[0m \u001b[0mtb\u001b[0m\u001b[0;34m,\u001b[0m \u001b[0mtb_offset\u001b[0m\u001b[0;34m,\u001b[0m \u001b[0mnumber_of_lines_of_context\u001b[0m\u001b[0;34m\u001b[0m\u001b[0;34m\u001b[0m\u001b[0m\n\u001b[0m\u001b[1;32m   1269\u001b[0m             )\n\u001b[1;32m   1270\u001b[0m         \u001b[0;32melif\u001b[0m \u001b[0mmode\u001b[0m \u001b[0;34m==\u001b[0m \u001b[0;34m'Minimal'\u001b[0m\u001b[0;34m:\u001b[0m\u001b[0;34m\u001b[0m\u001b[0;34m\u001b[0m\u001b[0m\n",
      "\u001b[0;32m/mnt/notebook-env/lib/python3.7/site-packages/IPython/core/ultratb.py\u001b[0m in \u001b[0;36mstructured_traceback\u001b[0;34m(self, etype, evalue, etb, tb_offset, number_of_lines_of_context)\u001b[0m\n\u001b[1;32m   1123\u001b[0m \u001b[0;34m\u001b[0m\u001b[0m\n\u001b[1;32m   1124\u001b[0m         formatted_exception = self.format_exception_as_a_whole(etype, evalue, etb, number_of_lines_of_context,\n\u001b[0;32m-> 1125\u001b[0;31m                                                                tb_offset)\n\u001b[0m\u001b[1;32m   1126\u001b[0m \u001b[0;34m\u001b[0m\u001b[0m\n\u001b[1;32m   1127\u001b[0m         \u001b[0mcolors\u001b[0m \u001b[0;34m=\u001b[0m \u001b[0mself\u001b[0m\u001b[0;34m.\u001b[0m\u001b[0mColors\u001b[0m  \u001b[0;31m# just a shorthand + quicker name lookup\u001b[0m\u001b[0;34m\u001b[0m\u001b[0;34m\u001b[0m\u001b[0m\n",
      "\u001b[0;32m/mnt/notebook-env/lib/python3.7/site-packages/IPython/core/ultratb.py\u001b[0m in \u001b[0;36mformat_exception_as_a_whole\u001b[0;34m(self, etype, evalue, etb, number_of_lines_of_context, tb_offset)\u001b[0m\n\u001b[1;32m   1080\u001b[0m \u001b[0;34m\u001b[0m\u001b[0m\n\u001b[1;32m   1081\u001b[0m \u001b[0;34m\u001b[0m\u001b[0m\n\u001b[0;32m-> 1082\u001b[0;31m         \u001b[0mlast_unique\u001b[0m\u001b[0;34m,\u001b[0m \u001b[0mrecursion_repeat\u001b[0m \u001b[0;34m=\u001b[0m \u001b[0mfind_recursion\u001b[0m\u001b[0;34m(\u001b[0m\u001b[0morig_etype\u001b[0m\u001b[0;34m,\u001b[0m \u001b[0mevalue\u001b[0m\u001b[0;34m,\u001b[0m \u001b[0mrecords\u001b[0m\u001b[0;34m)\u001b[0m\u001b[0;34m\u001b[0m\u001b[0;34m\u001b[0m\u001b[0m\n\u001b[0m\u001b[1;32m   1083\u001b[0m \u001b[0;34m\u001b[0m\u001b[0m\n\u001b[1;32m   1084\u001b[0m         \u001b[0mframes\u001b[0m \u001b[0;34m=\u001b[0m \u001b[0mself\u001b[0m\u001b[0;34m.\u001b[0m\u001b[0mformat_records\u001b[0m\u001b[0;34m(\u001b[0m\u001b[0mrecords\u001b[0m\u001b[0;34m,\u001b[0m \u001b[0mlast_unique\u001b[0m\u001b[0;34m,\u001b[0m \u001b[0mrecursion_repeat\u001b[0m\u001b[0;34m)\u001b[0m\u001b[0;34m\u001b[0m\u001b[0;34m\u001b[0m\u001b[0m\n",
      "\u001b[0;32m/mnt/notebook-env/lib/python3.7/site-packages/IPython/core/ultratb.py\u001b[0m in \u001b[0;36mfind_recursion\u001b[0;34m(etype, value, records)\u001b[0m\n\u001b[1;32m    380\u001b[0m     \u001b[0;31m# first frame (from in to out) that looks different.\u001b[0m\u001b[0;34m\u001b[0m\u001b[0;34m\u001b[0m\u001b[0;34m\u001b[0m\u001b[0m\n\u001b[1;32m    381\u001b[0m     \u001b[0;32mif\u001b[0m \u001b[0;32mnot\u001b[0m \u001b[0mis_recursion_error\u001b[0m\u001b[0;34m(\u001b[0m\u001b[0metype\u001b[0m\u001b[0;34m,\u001b[0m \u001b[0mvalue\u001b[0m\u001b[0;34m,\u001b[0m \u001b[0mrecords\u001b[0m\u001b[0;34m)\u001b[0m\u001b[0;34m:\u001b[0m\u001b[0;34m\u001b[0m\u001b[0;34m\u001b[0m\u001b[0m\n\u001b[0;32m--> 382\u001b[0;31m         \u001b[0;32mreturn\u001b[0m \u001b[0mlen\u001b[0m\u001b[0;34m(\u001b[0m\u001b[0mrecords\u001b[0m\u001b[0;34m)\u001b[0m\u001b[0;34m,\u001b[0m \u001b[0;36m0\u001b[0m\u001b[0;34m\u001b[0m\u001b[0;34m\u001b[0m\u001b[0m\n\u001b[0m\u001b[1;32m    383\u001b[0m \u001b[0;34m\u001b[0m\u001b[0m\n\u001b[1;32m    384\u001b[0m     \u001b[0;31m# Select filename, lineno, func_name to track frames with\u001b[0m\u001b[0;34m\u001b[0m\u001b[0;34m\u001b[0m\u001b[0;34m\u001b[0m\u001b[0m\n",
      "\u001b[0;31mTypeError\u001b[0m: object of type 'NoneType' has no len()"
     ]
    }
   ],
   "source": [
    "b.count()"
   ]
  },
  {
   "cell_type": "code",
   "execution_count": null,
   "id": "b5a8863a",
   "metadata": {},
   "outputs": [],
   "source": []
  },
  {
   "cell_type": "code",
   "execution_count": null,
   "id": "270afa4b",
   "metadata": {},
   "outputs": [],
   "source": []
  }
 ],
 "metadata": {
  "kernelspec": {
   "display_name": "PySpark",
   "language": "python",
   "name": "pysparkkernel"
  },
  "language_info": {
   "codemirror_mode": {
    "name": "python",
    "version": 3
   },
   "file_extension": ".py",
   "mimetype": "text/x-python",
   "name": "pyspark",
   "pygments_lexer": "python3"
  }
 },
 "nbformat": 4,
 "nbformat_minor": 5
}
