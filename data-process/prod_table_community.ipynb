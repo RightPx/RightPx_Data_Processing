{
 "cells": [
  {
   "cell_type": "code",
   "execution_count": 1,
   "id": "1c93ba67",
   "metadata": {},
   "outputs": [
    {
     "data": {
      "text/html": [
       "Current session configs: <tt>{'executorMemory': '200G', 'proxyUser': 'assumed-role_DataScienceandSolutionArchitect_suriya_zignaai_com', 'kind': 'pyspark'}</tt><br>"
      ],
      "text/plain": [
       "<IPython.core.display.HTML object>"
      ]
     },
     "metadata": {},
     "output_type": "display_data"
    },
    {
     "data": {
      "text/html": [
       "<table>\n",
       "<tr><th>ID</th><th>YARN Application ID</th><th>Kind</th><th>State</th><th>Spark UI</th><th>Driver log</th><th>User</th><th>Current session?</th></tr><tr><td>0</td><td>application_1683391505311_0001</td><td>pyspark</td><td>busy</td><td><a target=\"_blank\" href=\"http://ip-192-168-37-221.ec2.internal:20888/proxy/application_1683391505311_0001/\" class=\"emr-proxy-link\" emr-resource=\"j-1WFD5QKD6C2LF\n",
       "\" application-id=\"application_1683391505311_0001\">Link</a></td><td><a target=\"_blank\" href=\"http://ip-192-168-44-100.ec2.internal:8042/node/containerlogs/container_1683391505311_0001_01_000001/livy\" >Link</a></td><td>None</td><td></td></tr></table>"
      ],
      "text/plain": [
       "<IPython.core.display.HTML object>"
      ]
     },
     "metadata": {},
     "output_type": "display_data"
    }
   ],
   "source": [
    "%%configure -f \n",
    "{\"executorMemory\":\"200G\"}"
   ]
  },
  {
   "cell_type": "code",
   "execution_count": 2,
   "id": "93582922",
   "metadata": {},
   "outputs": [
    {
     "data": {
      "text/html": [
       "Current session configs: <tt>{'conf': {'spark.sql.files.maxPartitionBytes': '1073741824'}, 'proxyUser': 'assumed-role_DataScienceandSolutionArchitect_suriya_zignaai_com', 'kind': 'pyspark'}</tt><br>"
      ],
      "text/plain": [
       "<IPython.core.display.HTML object>"
      ]
     },
     "metadata": {},
     "output_type": "display_data"
    },
    {
     "data": {
      "text/html": [
       "<table>\n",
       "<tr><th>ID</th><th>YARN Application ID</th><th>Kind</th><th>State</th><th>Spark UI</th><th>Driver log</th><th>User</th><th>Current session?</th></tr><tr><td>0</td><td>application_1683391505311_0001</td><td>pyspark</td><td>busy</td><td><a target=\"_blank\" href=\"http://ip-192-168-37-221.ec2.internal:20888/proxy/application_1683391505311_0001/\" class=\"emr-proxy-link\" emr-resource=\"j-1WFD5QKD6C2LF\n",
       "\" application-id=\"application_1683391505311_0001\">Link</a></td><td><a target=\"_blank\" href=\"http://ip-192-168-44-100.ec2.internal:8042/node/containerlogs/container_1683391505311_0001_01_000001/livy\" >Link</a></td><td>None</td><td></td></tr></table>"
      ],
      "text/plain": [
       "<IPython.core.display.HTML object>"
      ]
     },
     "metadata": {},
     "output_type": "display_data"
    }
   ],
   "source": [
    "%%configure -f\n",
    "{\n",
    "  \"conf\": {\n",
    "    \"spark.sql.files.maxPartitionBytes\": \"1073741824\"\n",
    "  }\n",
    "}"
   ]
  },
  {
   "cell_type": "code",
   "execution_count": 3,
   "id": "89aadd8b",
   "metadata": {},
   "outputs": [
    {
     "data": {
      "application/vnd.jupyter.widget-view+json": {
       "model_id": "de57e72af9f04b78b619394c17684cfb",
       "version_major": 2,
       "version_minor": 0
      },
      "text/plain": [
       "VBox()"
      ]
     },
     "metadata": {},
     "output_type": "display_data"
    },
    {
     "name": "stdout",
     "output_type": "stream",
     "text": [
      "Starting Spark application\n"
     ]
    },
    {
     "data": {
      "text/html": [
       "<table>\n",
       "<tr><th>ID</th><th>YARN Application ID</th><th>Kind</th><th>State</th><th>Spark UI</th><th>Driver log</th><th>User</th><th>Current session?</th></tr><tr><td>1</td><td>application_1683391505311_0002</td><td>pyspark</td><td>idle</td><td><a target=\"_blank\" href=\"http://ip-192-168-37-221.ec2.internal:20888/proxy/application_1683391505311_0002/\" class=\"emr-proxy-link\" emr-resource=\"j-1WFD5QKD6C2LF\n",
       "\" application-id=\"application_1683391505311_0002\">Link</a></td><td><a target=\"_blank\" href=\"http://ip-192-168-44-100.ec2.internal:8042/node/containerlogs/container_1683391505311_0002_01_000002/livy\" >Link</a></td><td>None</td><td>✔</td></tr></table>"
      ],
      "text/plain": [
       "<IPython.core.display.HTML object>"
      ]
     },
     "metadata": {},
     "output_type": "display_data"
    },
    {
     "data": {
      "application/vnd.jupyter.widget-view+json": {
       "model_id": "",
       "version_major": 2,
       "version_minor": 0
      },
      "text/plain": [
       "FloatProgress(value=0.0, bar_style='info', description='Progress:', layout=Layout(height='25px', width='50%'),…"
      ]
     },
     "metadata": {},
     "output_type": "display_data"
    },
    {
     "name": "stdout",
     "output_type": "stream",
     "text": [
      "SparkSession available as 'spark'.\n"
     ]
    },
    {
     "data": {
      "application/vnd.jupyter.widget-view+json": {
       "model_id": "",
       "version_major": 2,
       "version_minor": 0
      },
      "text/plain": [
       "FloatProgress(value=0.0, bar_style='info', description='Progress:', layout=Layout(height='25px', width='50%'),…"
      ]
     },
     "metadata": {},
     "output_type": "display_data"
    }
   ],
   "source": [
    "from pyspark.sql import SparkSession\n",
    "from pyspark.sql import types as T\n",
    "import pyspark.sql.functions as F\n",
    "from pyspark.sql.functions import lit\n",
    "from pyspark.sql.types import IntegerType,BooleanType,DateType,LongType,DoubleType, StringType\n",
    "from pyspark.sql.functions import row_number,lit,col,when, concat_ws\n",
    "from pyspark.sql.window import Window\n",
    "import time\n",
    "spark = SparkSession.builder \\\n",
    "    .master(\"yarn\") \\\n",
    "    .appName(\"Wellmark-UI\") \\\n",
    "    .getOrCreate()"
   ]
  },
  {
   "cell_type": "code",
   "execution_count": null,
   "id": "41afd0ca",
   "metadata": {},
   "outputs": [],
   "source": [
    "npi_table = spark.read.parquet(\"s3://zigna-nsa-data-staging/metadata/Q2-2023/helper-tables/apr-wellmark-hosp-ancillary/april_wellmark_npi_table.parquet\")"
   ]
  },
  {
   "cell_type": "code",
   "execution_count": null,
   "id": "9ac7a610",
   "metadata": {},
   "outputs": [],
   "source": [
    "npi_table.printSchema()\n",
    "len(npi_table.columns)"
   ]
  },
  {
   "cell_type": "code",
   "execution_count": null,
   "id": "3a2981bf",
   "metadata": {},
   "outputs": [],
   "source": [
    "npi_table = npi_table.withColumnRenamed('provider_business_practice_location_address_city_name', 'provider_city_name').withColumnRenamed(\n",
    "    'provider_business_practice_location_address_state_name', 'provider_state_name').withColumnRenamed('postal_code', 'provider_postal_code').withColumnRenamed('npi', 'master_npi')\n",
    "npi_table = npi_table.withColumn(\"primary_city\",npi_table.primary_city.cast(StringType()))"
   ]
  },
  {
   "cell_type": "code",
   "execution_count": null,
   "id": "d24c432f",
   "metadata": {},
   "outputs": [],
   "source": [
    "npi_table=npi_table.orderBy('provider_name')"
   ]
  },
  {
   "cell_type": "code",
   "execution_count": null,
   "id": "8517c4c8",
   "metadata": {},
   "outputs": [],
   "source": [
    "npi_table.groupBy('region').count().show()"
   ]
  },
  {
   "cell_type": "code",
   "execution_count": null,
   "id": "2875d993",
   "metadata": {},
   "outputs": [],
   "source": [
    "npi_table.distinct().count()"
   ]
  },
  {
   "cell_type": "code",
   "execution_count": null,
   "id": "0eb6a206",
   "metadata": {},
   "outputs": [],
   "source": [
    "npi_table.groupBy('provider_type').count().show()"
   ]
  },
  {
   "cell_type": "code",
   "execution_count": null,
   "id": "0c4c9d08",
   "metadata": {},
   "outputs": [],
   "source": []
  },
  {
   "cell_type": "code",
   "execution_count": null,
   "id": "90ee6a35",
   "metadata": {},
   "outputs": [],
   "source": []
  },
  {
   "cell_type": "code",
   "execution_count": null,
   "id": "513e1682",
   "metadata": {},
   "outputs": [],
   "source": [
    "data = spark.read.parquet(\"s3://zigna-nsa-payer-data-parquet-staging/Q2-2023/wellmark/ui-table/wellmark/flat-table/apr-sanford/\")"
   ]
  },
  {
   "cell_type": "code",
   "execution_count": null,
   "id": "8e967f2b",
   "metadata": {},
   "outputs": [],
   "source": [
    "data.printSchema()\n",
    "len(data.columns)"
   ]
  },
  {
   "cell_type": "code",
   "execution_count": null,
   "id": "61bbd83e",
   "metadata": {},
   "outputs": [],
   "source": [
    "data[['reporting_entity_name']].distinct().show()"
   ]
  },
  {
   "cell_type": "code",
   "execution_count": null,
   "id": "abccc07c",
   "metadata": {},
   "outputs": [],
   "source": [
    "data[['reporting_entity_type']].distinct().show()"
   ]
  },
  {
   "cell_type": "code",
   "execution_count": null,
   "id": "7865346e",
   "metadata": {},
   "outputs": [],
   "source": [
    "data[['service_code']].distinct().show()"
   ]
  },
  {
   "cell_type": "code",
   "execution_count": null,
   "id": "15a69cf7",
   "metadata": {},
   "outputs": [],
   "source": [
    "data = data.filter(data.negotiated_rate > 0.0)\n",
    "data = data.filter(~((data.negotiated_type == 'percentage') & (data.negotiated_rate > 250.0)))\n",
    "data = data.withColumn(\"negotiated_rate\",data.negotiated_rate.cast(DoubleType()))\n",
    "data = data.withColumn(\"npi\",data.npi.cast(StringType()))"
   ]
  },
  {
   "cell_type": "code",
   "execution_count": null,
   "id": "9a6f8c38",
   "metadata": {},
   "outputs": [],
   "source": [
    "data.count()"
   ]
  },
  {
   "cell_type": "code",
   "execution_count": null,
   "id": "3e9a97eb",
   "metadata": {},
   "outputs": [],
   "source": [
    "data1 = npi_table.join(data,npi_table.master_npi == data.npi, 'inner')\n",
    "data1.printSchema()\n",
    "len(data1.columns)"
   ]
  },
  {
   "cell_type": "code",
   "execution_count": null,
   "id": "b80f549b",
   "metadata": {},
   "outputs": [],
   "source": [
    "data1 = data1.drop('grouping').withColumnRenamed('provider_specialty_group','grouping').drop('classification').withColumnRenamed('provider_specialty_description','classification').drop('display_name').withColumnRenamed('provider_credential','display_name')"
   ]
  },
  {
   "cell_type": "code",
   "execution_count": null,
   "id": "1d4c0049",
   "metadata": {},
   "outputs": [],
   "source": [
    "data1[['grouping']].distinct().show()"
   ]
  },
  {
   "cell_type": "code",
   "execution_count": null,
   "id": "818f85ab",
   "metadata": {},
   "outputs": [],
   "source": [
    "data1[['classification']].distinct().show()"
   ]
  },
  {
   "cell_type": "code",
   "execution_count": null,
   "id": "3148057e",
   "metadata": {},
   "outputs": [],
   "source": [
    "data1[['display_name']].distinct().show()"
   ]
  },
  {
   "cell_type": "code",
   "execution_count": null,
   "id": "f6279376",
   "metadata": {},
   "outputs": [],
   "source": [
    "data1.count()"
   ]
  },
  {
   "cell_type": "code",
   "execution_count": null,
   "id": "e3d26f17",
   "metadata": {},
   "outputs": [],
   "source": [
    "data2 = data1.filter(data1.provider_type.isin(['Hospital','Ancillary']))"
   ]
  },
  {
   "cell_type": "code",
   "execution_count": null,
   "id": "7d213c4f",
   "metadata": {},
   "outputs": [],
   "source": [
    "data2 = data2.distinct()\n",
    "data2.count()"
   ]
  },
  {
   "cell_type": "code",
   "execution_count": null,
   "id": "75dcc989",
   "metadata": {},
   "outputs": [],
   "source": [
    "ui_table = data2"
   ]
  },
  {
   "cell_type": "code",
   "execution_count": null,
   "id": "3c0595d7",
   "metadata": {},
   "outputs": [],
   "source": [
    "data2.show()"
   ]
  },
  {
   "cell_type": "code",
   "execution_count": null,
   "id": "5a2e4c05",
   "metadata": {},
   "outputs": [],
   "source": []
  },
  {
   "cell_type": "code",
   "execution_count": null,
   "id": "c34b9568",
   "metadata": {},
   "outputs": [],
   "source": []
  },
  {
   "cell_type": "code",
   "execution_count": null,
   "id": "d17516e8",
   "metadata": {},
   "outputs": [],
   "source": []
  },
  {
   "cell_type": "code",
   "execution_count": null,
   "id": "fc67b7d7",
   "metadata": {},
   "outputs": [],
   "source": []
  },
  {
   "cell_type": "code",
   "execution_count": null,
   "id": "7a962efa",
   "metadata": {},
   "outputs": [],
   "source": []
  },
  {
   "cell_type": "code",
   "execution_count": null,
   "id": "ff22a367",
   "metadata": {},
   "outputs": [],
   "source": [
    "if str(ui_table.schema[\"date\"].dataType) == 'StringType' and str(ui_table.schema[\"npi\"].dataType) == 'StringType' and str(ui_table.schema[\"state\"].dataType) == 'StringType' and str(ui_table.schema[\"r_billing_code_type\"].dataType) == 'StringType' and str(ui_table.schema[\"r_billing_code\"].dataType) == 'StringType' and str(ui_table.schema[\"negotiated_rate\"].dataType) == 'DoubleType' and str(ui_table.schema[\"partition_column\"].dataType) == 'StringType' and len(ui_table.columns) == 34 and str(ui_table.schema[\"reporting_entity_name\"].dataType) == 'StringType' and str(ui_table.schema[\"billing_code\"].dataType) == 'StringType' and str(ui_table.schema[\"billing_code_type\"].dataType) == 'StringType' and str(ui_table.schema[\"billing_code_type_version\"].dataType) == 'StringType' and str(ui_table.schema[\"billing_class\"].dataType) == 'StringType' and str(ui_table.schema[\"billing_code_modifier\"].dataType) == 'StringType' and str(ui_table.schema[\"negotiation_arrangement\"].dataType) == 'StringType' and str(ui_table.schema[\"negotiated_type\"].dataType) == 'StringType' and str(ui_table.schema[\"service_code\"].dataType) == 'StringType' and str(ui_table.schema[\"additional_information\"].dataType) == 'StringType' and str(ui_table.schema[\"level1_description\"].dataType) == 'StringType' and str(ui_table.schema[\"description\"].dataType) == 'StringType' and str(ui_table.schema[\"provider_name\"].dataType) == 'StringType' and str(ui_table.schema[\"provider_city_name\"].dataType) == 'StringType' and str(ui_table.schema[\"provider_state_name\"].dataType) == 'StringType' and str(ui_table.schema[\"provider_postal_code\"].dataType) == 'StringType' and str(ui_table.schema[\"county\"].dataType) == 'StringType' and str(ui_table.schema[\"region\"].dataType) == 'StringType' and str(ui_table.schema[\"provider_type\"].dataType) == 'StringType' and str(ui_table.schema[\"grouping\"].dataType) == 'StringType' and str(ui_table.schema[\"classification\"].dataType) == 'StringType' and str(ui_table.schema[\"display_name\"].dataType) == 'StringType' and str(ui_table.schema[\"plan_name\"].dataType) == 'StringType' and str(ui_table.schema[\"reporting_entity_type\"].dataType) == 'StringType' and str(ui_table.schema[\"level4_description\"].dataType) == 'StringType' and str(ui_table.schema[\"zip\"].dataType) == 'StringType' and str(ui_table.schema[\"primary_city\"].dataType) == 'StringType':\n",
    "    data2.write.partitionBy('partition_column').mode(\"append\").parquet(\"s3://zigna-nsa-payer-data-parquet-staging/Q2-2023/wellmark/ui-table/wellmark/partitioned_parquet/hospital_ancillary/datazigna_final_data_model_ui_partitioned_v1/\")\n",
    "    print('true')\n",
    "else:\n",
    "    print('error')"
   ]
  },
  {
   "cell_type": "code",
   "execution_count": null,
   "id": "71c4582c",
   "metadata": {},
   "outputs": [],
   "source": []
  },
  {
   "cell_type": "code",
   "execution_count": null,
   "id": "c16fcf20",
   "metadata": {},
   "outputs": [],
   "source": []
  },
  {
   "cell_type": "code",
   "execution_count": null,
   "id": "351a46eb",
   "metadata": {},
   "outputs": [],
   "source": []
  },
  {
   "cell_type": "code",
   "execution_count": null,
   "id": "40a91a7d",
   "metadata": {},
   "outputs": [],
   "source": []
  },
  {
   "cell_type": "code",
   "execution_count": null,
   "id": "4482f801",
   "metadata": {},
   "outputs": [],
   "source": []
  },
  {
   "cell_type": "code",
   "execution_count": 7,
   "id": "288bfe59",
   "metadata": {},
   "outputs": [
    {
     "data": {
      "application/vnd.jupyter.widget-view+json": {
       "model_id": "7a6e5cb1cfaa4706b924c9a626a29209",
       "version_major": 2,
       "version_minor": 0
      },
      "text/plain": [
       "VBox()"
      ]
     },
     "metadata": {},
     "output_type": "display_data"
    },
    {
     "data": {
      "application/vnd.jupyter.widget-view+json": {
       "model_id": "",
       "version_major": 2,
       "version_minor": 0
      },
      "text/plain": [
       "FloatProgress(value=0.0, bar_style='info', description='Progress:', layout=Layout(height='25px', width='50%'),…"
      ]
     },
     "metadata": {},
     "output_type": "display_data"
    }
   ],
   "source": [
    "df = spark.read.options(header = True).csv(\"s3://zignaai-deidentified-claimsdata/pi-claims-201901-202203-deidentified.txt\", sep=\"|\")\n"
   ]
  },
  {
   "cell_type": "code",
   "execution_count": 14,
   "id": "7217747e",
   "metadata": {},
   "outputs": [
    {
     "data": {
      "application/vnd.jupyter.widget-view+json": {
       "model_id": "acdc44834e1c4dbfb6a54c1a695e7f8f",
       "version_major": 2,
       "version_minor": 0
      },
      "text/plain": [
       "VBox()"
      ]
     },
     "metadata": {},
     "output_type": "display_data"
    },
    {
     "data": {
      "application/vnd.jupyter.widget-view+json": {
       "model_id": "",
       "version_major": 2,
       "version_minor": 0
      },
      "text/plain": [
       "FloatProgress(value=0.0, bar_style='info', description='Progress:', layout=Layout(height='25px', width='50%'),…"
      ]
     },
     "metadata": {},
     "output_type": "display_data"
    },
    {
     "name": "stdout",
     "output_type": "stream",
     "text": [
      "root\n",
      " |-- CLAIM_CONTROL_INFORMATION: string (nullable = true)\n",
      " |-- CLAIM_ID: string (nullable = true)\n",
      " |-- CLAIM_RECORD_LOCATOR: string (nullable = true)\n",
      " |-- ADJUDICATION_ID: string (nullable = true)\n",
      " |-- ADJUDICATION_RECORD_LOCATOR: string (nullable = true)\n",
      " |-- ADJUDICATION_CREATED_AT: string (nullable = true)\n",
      " |-- ADJUDICATION_FINALIZED_AT: string (nullable = true)\n",
      " |-- CLAIM_FAMILY_ID: string (nullable = true)\n",
      " |-- CLAIM_TYPE: string (nullable = true)\n",
      " |-- CLAIM_FREQUENCY: string (nullable = true)\n",
      " |-- CLAIM_SUBMISSION_TYPE: string (nullable = true)\n",
      " |-- AUTO_ADJUDICATED: string (nullable = true)\n",
      " |-- ADJUDICATOR_ID: string (nullable = true)\n",
      " |-- OON_INDICATOR: string (nullable = true)\n",
      " |-- DENIED_INDICATOR: string (nullable = true)\n",
      " |-- ADJUDICATION_STATUS: string (nullable = true)\n",
      " |-- ADJUDICATION_SEQUENCE_NUMBER: string (nullable = true)\n",
      " |-- PAYER_CONTROL_NUMBER: string (nullable = true)\n",
      " |-- REMIT_STATUS: string (nullable = true)\n",
      " |-- PAYMENT_TRACKING_NUMBER: string (nullable = true)\n",
      " |-- REMIT_PAYEE: string (nullable = true)\n",
      " |-- PAYEE_IDENTIFIER: string (nullable = true)\n",
      " |-- PAYEE_ADDRESS_LINE1: string (nullable = true)\n",
      " |-- PAYEE_ADDRESS_LINE2: string (nullable = true)\n",
      " |-- PAYEE_ADDRESS_CITY: string (nullable = true)\n",
      " |-- PAYEE_ADDRESS_STATE: string (nullable = true)\n",
      " |-- PAYEE_ADDRESS_POSTAL_CODE: string (nullable = true)\n",
      " |-- SPLIT_CLAIM_ID: string (nullable = true)\n",
      " |-- IS_DELEGATED: string (nullable = true)\n",
      " |-- CAPITATED_FEE_SCHEDULE: string (nullable = true)\n",
      " |-- ENCOUNTER_DOCUMENTATION: string (nullable = true)\n",
      " |-- ENCOUNTER_FLAG: string (nullable = true)\n",
      " |-- IS_DMG_CLAIM: string (nullable = true)\n",
      " |-- FINAL_CLAIM_INDICATOR: string (nullable = true)\n",
      " |-- FINANCIAL_RECOVERY_INDICATOR: string (nullable = true)\n",
      " |-- ATTACHMENT_INDICATOR: string (nullable = true)\n",
      " |-- MEMBER_INFORMATION: string (nullable = true)\n",
      " |-- MEMBER_HEX: string (nullable = true)\n",
      " |-- MEMBER_RECORD_LOCATOR: string (nullable = true)\n",
      " |-- MEMBER_MEDICARE_ID: string (nullable = true)\n",
      " |-- MEMBER_FIRST_NAME: string (nullable = true)\n",
      " |-- MEMBER_MI: string (nullable = true)\n",
      " |-- MEMBER_LAST_NAME: string (nullable = true)\n",
      " |-- MEMBER_SUFFIX: string (nullable = true)\n",
      " |-- MEMBER_DOB: string (nullable = true)\n",
      " |-- GENDER: string (nullable = true)\n",
      " |-- MEMBER_ADDRESS_LINE1: string (nullable = true)\n",
      " |-- MEMBER_ADDRESS_LINE2: string (nullable = true)\n",
      " |-- MEMBER_ADDRESS_LINE3: string (nullable = true)\n",
      " |-- MEMBER_ADDRESS_CITY: string (nullable = true)\n",
      " |-- MEMBER_ADDRESS_STATE: string (nullable = true)\n",
      " |-- MEMBER_ADDRESS_ZIP: string (nullable = true)\n",
      " |-- COUNTY: string (nullable = true)\n",
      " |-- LOB: string (nullable = true)\n",
      " |-- MARKET: string (nullable = true)\n",
      " |-- PRODUCT: string (nullable = true)\n",
      " |-- PLAN_NAME: string (nullable = true)\n",
      " |-- GROUPNUMBER: string (nullable = true)\n",
      " |-- GROUPNAME: string (nullable = true)\n",
      " |-- GROUPADDRESS: string (nullable = true)\n",
      " |-- GROUPPHONE: string (nullable = true)\n",
      " |-- GROUPSIZE: string (nullable = true)\n",
      " |-- FUNDINGTYPE: string (nullable = true)\n",
      " |-- PROVIDER_INFORMATION: string (nullable = true)\n",
      " |-- PROVIDER_TYPE: string (nullable = true)\n",
      " |-- REFERRING_PROVIDER_ID: string (nullable = true)\n",
      " |-- REFERRING_PROVIDER_NPI: string (nullable = true)\n",
      " |-- REFERRING_PROVIDER_NAME: string (nullable = true)\n",
      " |-- RENDERING_PROVIDER_ID: string (nullable = true)\n",
      " |-- RENDERING_PROVIDER_NPI: string (nullable = true)\n",
      " |-- RENDERING_PROVIDER_NAME: string (nullable = true)\n",
      " |-- RENDERING_PROVIDER_TAXONOMY_CODE: string (nullable = true)\n",
      " |-- RENDERING_PROVIDER_SPECIALIZATION: string (nullable = true)\n",
      " |-- BILLING_PROVIDER_ID: string (nullable = true)\n",
      " |-- BILLING_PROVIDER_TIN: string (nullable = true)\n",
      " |-- BILLING_PROVIDER_NPI: string (nullable = true)\n",
      " |-- BILLING_PROVIDER_NAME: string (nullable = true)\n",
      " |-- BILLING_PROVIDER_ADDRESS_LINE1: string (nullable = true)\n",
      " |-- BILLING_PROVIDER_ADDRESS_LINE2: string (nullable = true)\n",
      " |-- BILLING_PROVIDER_ADDRESS_CITY: string (nullable = true)\n",
      " |-- BILLING_PROVIDER_ADDRESS_STATE: string (nullable = true)\n",
      " |-- BILLING_PROVIDER_ADDRESS_POSTAL_CODE: string (nullable = true)\n",
      " |-- FACILITY_ID: string (nullable = true)\n",
      " |-- SERVICING_PROVIDER_NPI: string (nullable = true)\n",
      " |-- SERVICING_PROVIDER_NAME: string (nullable = true)\n",
      " |-- SERVICE_LOCATION_ADDRESS_1: string (nullable = true)\n",
      " |-- SERVICE_LOCATION_ADDRESS_2: string (nullable = true)\n",
      " |-- SERVICE_LOCATION_CITY: string (nullable = true)\n",
      " |-- SERVICE_LOCATION_STATE: string (nullable = true)\n",
      " |-- SERVICE_LOCATION_ZIP: string (nullable = true)\n",
      " |-- PRIMARY_TAXONOMY: string (nullable = true)\n",
      " |-- PROVIDER_GROUPING: string (nullable = true)\n",
      " |-- PROVIDER_SPECIALIZATION: string (nullable = true)\n",
      " |-- BILLING_GROUP_ID: string (nullable = true)\n",
      " |-- BILLING_GROUP_NAME: string (nullable = true)\n",
      " |-- ENTITY_TO_BE_PAID: string (nullable = true)\n",
      " |-- CLAIM_PROCESSING_INFORMATION: string (nullable = true)\n",
      " |-- CLAIM_RECEIVED_DATE: string (nullable = true)\n",
      " |-- CLAIM_PREPAY_PEND_DATE: string (nullable = true)\n",
      " |-- FINALIZED_DATE_EASTERN: string (nullable = true)\n",
      " |-- STATEMENT_START_DATE: string (nullable = true)\n",
      " |-- STATEMENT_END_DATE: string (nullable = true)\n",
      " |-- FIRST_SERVICE_DATE: date (nullable = true)\n",
      " |-- LAST_SERVICE_DATE: string (nullable = true)\n",
      " |-- ADMISSION_DATE: string (nullable = true)\n",
      " |-- DISCHARGE_DATE: string (nullable = true)\n",
      " |-- LENGTH_OF_STAY: string (nullable = true)\n",
      " |-- PAYMENT_SUBMITTED_DATE: string (nullable = true)\n",
      " |-- PAYMENT_EFFECTIVE_DATE: string (nullable = true)\n",
      " |-- EXTRACT_DATE: string (nullable = true)\n",
      " |-- ORDERING_PROVIDER_ID: string (nullable = true)\n",
      " |-- ORDERING_PROVIDER_NPI: string (nullable = true)\n",
      " |-- ORDERING_PROVIDER_NAME: string (nullable = true)\n",
      " |-- SUPERVISING_PROVIDER_ID: string (nullable = true)\n",
      " |-- SUPERVISING_PROVIDER_NPI: string (nullable = true)\n",
      " |-- SUPERVISING_PROVIDER_NAME: string (nullable = true)\n",
      " |-- CLAIM_HEADER_INFORMATION: string (nullable = true)\n",
      " |-- TYPE_OF_SERVICE_CODE: string (nullable = true)\n",
      " |-- BILL_TYPE_CODE: string (nullable = true)\n",
      " |-- BILL_TYPE_NAME: string (nullable = true)\n",
      " |-- PLACE_OF_SERVICE_CODE: string (nullable = true)\n",
      " |-- PLACE_OF_SERVICE_NAME: string (nullable = true)\n",
      " |-- CC1: string (nullable = true)\n",
      " |-- CC2: string (nullable = true)\n",
      " |-- CC3: string (nullable = true)\n",
      " |-- CC4: string (nullable = true)\n",
      " |-- CC5: string (nullable = true)\n",
      " |-- CC6: string (nullable = true)\n",
      " |-- CC7: string (nullable = true)\n",
      " |-- CC8: string (nullable = true)\n",
      " |-- CC9: string (nullable = true)\n",
      " |-- CC10: string (nullable = true)\n",
      " |-- CC11: string (nullable = true)\n",
      " |-- CC12: string (nullable = true)\n",
      " |-- CC13: string (nullable = true)\n",
      " |-- CC14: string (nullable = true)\n",
      " |-- CC15: string (nullable = true)\n",
      " |-- CC16: string (nullable = true)\n",
      " |-- CC17: string (nullable = true)\n",
      " |-- CC18: string (nullable = true)\n",
      " |-- CC19: string (nullable = true)\n",
      " |-- CC20: string (nullable = true)\n",
      " |-- CC21: string (nullable = true)\n",
      " |-- CC22: string (nullable = true)\n",
      " |-- CC23: string (nullable = true)\n",
      " |-- CC24: string (nullable = true)\n",
      " |-- OC1: string (nullable = true)\n",
      " |-- OC2: string (nullable = true)\n",
      " |-- OC3: string (nullable = true)\n",
      " |-- OC4: string (nullable = true)\n",
      " |-- OC5: string (nullable = true)\n",
      " |-- OC6: string (nullable = true)\n",
      " |-- OC7: string (nullable = true)\n",
      " |-- OC8: string (nullable = true)\n",
      " |-- OC9: string (nullable = true)\n",
      " |-- OC10: string (nullable = true)\n",
      " |-- OC11: string (nullable = true)\n",
      " |-- OC12: string (nullable = true)\n",
      " |-- OC13: string (nullable = true)\n",
      " |-- OC14: string (nullable = true)\n",
      " |-- OC15: string (nullable = true)\n",
      " |-- OC16: string (nullable = true)\n",
      " |-- OC17: string (nullable = true)\n",
      " |-- OC18: string (nullable = true)\n",
      " |-- OC19: string (nullable = true)\n",
      " |-- OC20: string (nullable = true)\n",
      " |-- OC21: string (nullable = true)\n",
      " |-- OC22: string (nullable = true)\n",
      " |-- OC23: string (nullable = true)\n",
      " |-- OC24: string (nullable = true)\n",
      " |-- OCDT1: string (nullable = true)\n",
      " |-- OCDT2: string (nullable = true)\n",
      " |-- OCDT3: string (nullable = true)\n",
      " |-- OCDT4: string (nullable = true)\n",
      " |-- OCDT5: string (nullable = true)\n",
      " |-- OCDT6: string (nullable = true)\n",
      " |-- OCDT7: string (nullable = true)\n",
      " |-- OCDT8: string (nullable = true)\n",
      " |-- OCDT9: string (nullable = true)\n",
      " |-- OCDT10: string (nullable = true)\n",
      " |-- OCDT11: string (nullable = true)\n",
      " |-- OCDT12: string (nullable = true)\n",
      " |-- OCDT13: string (nullable = true)\n",
      " |-- OCDT14: string (nullable = true)\n",
      " |-- OCDT15: string (nullable = true)\n",
      " |-- OCDT16: string (nullable = true)\n",
      " |-- OCDT17: string (nullable = true)\n",
      " |-- OCDT18: string (nullable = true)\n",
      " |-- OCDT19: string (nullable = true)\n",
      " |-- OCDT20: string (nullable = true)\n",
      " |-- OCDT21: string (nullable = true)\n",
      " |-- OCDT22: string (nullable = true)\n",
      " |-- OCDT23: string (nullable = true)\n",
      " |-- OCDT24: string (nullable = true)\n",
      " |-- OCSC1: string (nullable = true)\n",
      " |-- OCSC2: string (nullable = true)\n",
      " |-- OCSC3: string (nullable = true)\n",
      " |-- OCSC4: string (nullable = true)\n",
      " |-- OCSC5: string (nullable = true)\n",
      " |-- OCSC6: string (nullable = true)\n",
      " |-- OCSC7: string (nullable = true)\n",
      " |-- OCSC8: string (nullable = true)\n",
      " |-- OCSC9: string (nullable = true)\n",
      " |-- OCSC10: string (nullable = true)\n",
      " |-- OCSC11: string (nullable = true)\n",
      " |-- OCSC12: string (nullable = true)\n",
      " |-- OCSC13: string (nullable = true)\n",
      " |-- OCSC14: string (nullable = true)\n",
      " |-- OCSC15: string (nullable = true)\n",
      " |-- OCSC16: string (nullable = true)\n",
      " |-- OCSC17: string (nullable = true)\n",
      " |-- OCSC18: string (nullable = true)\n",
      " |-- OCSC19: string (nullable = true)\n",
      " |-- OCSC20: string (nullable = true)\n",
      " |-- OCSC21: string (nullable = true)\n",
      " |-- OCSC22: string (nullable = true)\n",
      " |-- OCSC23: string (nullable = true)\n",
      " |-- OCSC24: string (nullable = true)\n",
      " |-- OCSDT1: string (nullable = true)\n",
      " |-- OCSDT2: string (nullable = true)\n",
      " |-- OCSDT3: string (nullable = true)\n",
      " |-- OCSDT4: string (nullable = true)\n",
      " |-- OCSDT5: string (nullable = true)\n",
      " |-- OCSDT6: string (nullable = true)\n",
      " |-- OCSDT7: string (nullable = true)\n",
      " |-- OCSDT8: string (nullable = true)\n",
      " |-- OCSDT9: string (nullable = true)\n",
      " |-- OCSDT10: string (nullable = true)\n",
      " |-- OCSDT11: string (nullable = true)\n",
      " |-- OCSDT12: string (nullable = true)\n",
      " |-- OCSDT13: string (nullable = true)\n",
      " |-- OCSDT14: string (nullable = true)\n",
      " |-- OCSDT15: string (nullable = true)\n",
      " |-- OCSDT16: string (nullable = true)\n",
      " |-- OCSDT17: string (nullable = true)\n",
      " |-- OCSDT18: string (nullable = true)\n",
      " |-- OCSDT19: string (nullable = true)\n",
      " |-- OCSDT20: string (nullable = true)\n",
      " |-- OCSDT21: string (nullable = true)\n",
      " |-- OCSDT22: string (nullable = true)\n",
      " |-- OCSDT23: string (nullable = true)\n",
      " |-- OCSDT24: string (nullable = true)\n",
      " |-- VCC1: string (nullable = true)\n",
      " |-- VCC2: string (nullable = true)\n",
      " |-- VCC3: string (nullable = true)\n",
      " |-- VCC4: string (nullable = true)\n",
      " |-- VCC5: string (nullable = true)\n",
      " |-- VCC6: string (nullable = true)\n",
      " |-- VCC7: string (nullable = true)\n",
      " |-- VCC8: string (nullable = true)\n",
      " |-- VCC9: string (nullable = true)\n",
      " |-- VCC10: string (nullable = true)\n",
      " |-- VCC11: string (nullable = true)\n",
      " |-- VCC12: string (nullable = true)\n",
      " |-- VCC13: string (nullable = true)\n",
      " |-- VCC14: string (nullable = true)\n",
      " |-- VCC15: string (nullable = true)\n",
      " |-- VCC16: string (nullable = true)\n",
      " |-- VCC17: string (nullable = true)\n",
      " |-- VCC18: string (nullable = true)\n",
      " |-- VCC19: string (nullable = true)\n",
      " |-- VCC20: string (nullable = true)\n",
      " |-- VCC21: string (nullable = true)\n",
      " |-- VCC22: string (nullable = true)\n",
      " |-- VCC23: string (nullable = true)\n",
      " |-- VCC24: string (nullable = true)\n",
      " |-- VCA1: string (nullable = true)\n",
      " |-- VCA2: string (nullable = true)\n",
      " |-- VCA3: string (nullable = true)\n",
      " |-- VCA4: string (nullable = true)\n",
      " |-- VCA5: string (nullable = true)\n",
      " |-- VCA6: string (nullable = true)\n",
      " |-- VCA7: string (nullable = true)\n",
      " |-- VCA8: string (nullable = true)\n",
      " |-- VCA9: string (nullable = true)\n",
      " |-- VCA10: string (nullable = true)\n",
      " |-- VCA11: string (nullable = true)\n",
      " |-- VCA12: string (nullable = true)\n",
      " |-- VCA13: string (nullable = true)\n",
      " |-- VCA14: string (nullable = true)\n",
      " |-- VCA15: string (nullable = true)\n",
      " |-- VCA16: string (nullable = true)\n",
      " |-- VCA17: string (nullable = true)\n",
      " |-- VCA18: string (nullable = true)\n",
      " |-- VCA19: string (nullable = true)\n",
      " |-- VCA20: string (nullable = true)\n",
      " |-- VCA21: string (nullable = true)\n",
      " |-- VCA22: string (nullable = true)\n",
      " |-- VCA23: string (nullable = true)\n",
      " |-- VCA24: string (nullable = true)\n",
      " |-- ADMISSION_SOURCE_CODE: string (nullable = true)\n",
      " |-- ADMISSION_TYPE_CODE: string (nullable = true)\n",
      " |-- ADMISSION_HOUR: string (nullable = true)\n",
      " |-- DISCHARGE_STATUS_CODE: string (nullable = true)\n",
      " |-- DISCHARGE_HOUR: string (nullable = true)\n",
      " |-- BILLED_DRG: string (nullable = true)\n",
      " |-- PRICED_DRG: string (nullable = true)\n",
      " |-- DRG_WEIGHT: string (nullable = true)\n",
      " |-- CLAIM_LINE_COUNT: string (nullable = true)\n",
      " |-- PRINCIPAL_ICD_10_PCS_CODE: string (nullable = true)\n",
      " |-- PCS_DATE: string (nullable = true)\n",
      " |-- PCS1: string (nullable = true)\n",
      " |-- PCS2: string (nullable = true)\n",
      " |-- PCS3: string (nullable = true)\n",
      " |-- PCS4: string (nullable = true)\n",
      " |-- PCS5: string (nullable = true)\n",
      " |-- PCS6: string (nullable = true)\n",
      " |-- PCS7: string (nullable = true)\n",
      " |-- PCS8: string (nullable = true)\n",
      " |-- PCS9: string (nullable = true)\n",
      " |-- PCS10: string (nullable = true)\n",
      " |-- PCS11: string (nullable = true)\n",
      " |-- PCS12: string (nullable = true)\n",
      " |-- PCS13: string (nullable = true)\n",
      " |-- PCS14: string (nullable = true)\n",
      " |-- PCS15: string (nullable = true)\n",
      " |-- PCS16: string (nullable = true)\n",
      " |-- PCS17: string (nullable = true)\n",
      " |-- PCS18: string (nullable = true)\n",
      " |-- PCS19: string (nullable = true)\n",
      " |-- PCS20: string (nullable = true)\n",
      " |-- PCS21: string (nullable = true)\n",
      " |-- PCS22: string (nullable = true)\n",
      " |-- PCS23: string (nullable = true)\n",
      " |-- PCS24: string (nullable = true)\n",
      " |-- PCS25: string (nullable = true)\n",
      " |-- PCSDT1: string (nullable = true)\n",
      " |-- PCSDT2: string (nullable = true)\n",
      " |-- PCSDT3: string (nullable = true)\n",
      " |-- PCSDT4: string (nullable = true)\n",
      " |-- PCSDT5: string (nullable = true)\n",
      " |-- PCSDT6: string (nullable = true)\n",
      " |-- PCSDT7: string (nullable = true)\n",
      " |-- PCSDT8: string (nullable = true)\n",
      " |-- PCSDT9: string (nullable = true)\n",
      " |-- PCSDT10: string (nullable = true)\n",
      " |-- PCSDT11: string (nullable = true)\n",
      " |-- PCSDT12: string (nullable = true)\n",
      " |-- PCSDT13: string (nullable = true)\n",
      " |-- PCSDT14: string (nullable = true)\n",
      " |-- PCSDT15: string (nullable = true)\n",
      " |-- PCSDT16: string (nullable = true)\n",
      " |-- PCSDT17: string (nullable = true)\n",
      " |-- PCSDT18: string (nullable = true)\n",
      " |-- PCSDT19: string (nullable = true)\n",
      " |-- PCSDT20: string (nullable = true)\n",
      " |-- PCSDT21: string (nullable = true)\n",
      " |-- PCSDT22: string (nullable = true)\n",
      " |-- PCSDT23: string (nullable = true)\n",
      " |-- PCSDT24: string (nullable = true)\n",
      " |-- PCSDT25: string (nullable = true)\n",
      " |-- CLAIM_LEVEL_CHARGED_AMOUNT: string (nullable = true)\n",
      " |-- CLAIM_LEVEL_ALLOWED_AMOUNT: string (nullable = true)\n",
      " |-- MEDICARE_ALLOWABLE_CLAIM_LEVEL: string (nullable = true)\n",
      " |-- CLAIM_LEVEL_COINSURANCE_AMOUNT: string (nullable = true)\n",
      " |-- CLAIM_LEVEL_COPAY_AMOUNT: string (nullable = true)\n",
      " |-- CLAIM_LEVEL_MEMBER_COST_SHARE: string (nullable = true)\n",
      " |-- CLAIM_LEVEL_PAID_AMOUNT: string (nullable = true)\n",
      " |-- BONUS_PAYMENT_DAYS: string (nullable = true)\n",
      " |-- BONUS_PAYMENT_AMOUNT: string (nullable = true)\n",
      " |-- PATACCTNUM: string (nullable = true)\n",
      " |-- CLAIM_LEVEL_REMARK_CODES: string (nullable = true)\n",
      " |-- HEADER_AUTHORIZATION: string (nullable = true)\n",
      " |-- LINE_AUTHORIZATION: string (nullable = true)\n",
      " |-- CLAIM_DIAGNOSIS_INFORMATION: string (nullable = true)\n",
      " |-- ICDINDICATOR: string (nullable = true)\n",
      " |-- ADMIT_DX: string (nullable = true)\n",
      " |-- PRIM_DX: string (nullable = true)\n",
      " |-- PRIM_DX_POA: string (nullable = true)\n",
      " |-- ICD10_DIAG1: string (nullable = true)\n",
      " |-- POA1: string (nullable = true)\n",
      " |-- ICD10_DIAG2: string (nullable = true)\n",
      " |-- POA2: string (nullable = true)\n",
      " |-- ICD10_DIAG3: string (nullable = true)\n",
      " |-- POA3: string (nullable = true)\n",
      " |-- ICD10_DIAG4: string (nullable = true)\n",
      " |-- POA4: string (nullable = true)\n",
      " |-- ICD10_DIAG5: string (nullable = true)\n",
      " |-- POA5: string (nullable = true)\n",
      " |-- ICD10_DIAG6: string (nullable = true)\n",
      " |-- POA6: string (nullable = true)\n",
      " |-- ICD10_DIAG7: string (nullable = true)\n",
      " |-- POA7: string (nullable = true)\n",
      " |-- ICD10_DIAG8: string (nullable = true)\n",
      " |-- POA8: string (nullable = true)\n",
      " |-- ICD10_DIAG9: string (nullable = true)\n",
      " |-- POA9: string (nullable = true)\n",
      " |-- ICD10_DIAG10: string (nullable = true)\n",
      " |-- POA10: string (nullable = true)\n",
      " |-- ICD10_DIAG11: string (nullable = true)\n",
      " |-- POA11: string (nullable = true)\n",
      " |-- ICD10_DIAG12: string (nullable = true)\n",
      " |-- POA12: string (nullable = true)\n",
      " |-- ICD10_DIAG13: string (nullable = true)\n",
      " |-- POA13: string (nullable = true)\n",
      " |-- ICD10_DIAG14: string (nullable = true)\n",
      " |-- POA14: string (nullable = true)\n",
      " |-- ICD10_DIAG15: string (nullable = true)\n",
      " |-- POA15: string (nullable = true)\n",
      " |-- ICD10_DIAG16: string (nullable = true)\n",
      " |-- POA16: string (nullable = true)\n",
      " |-- ICD10_DIAG17: string (nullable = true)\n",
      " |-- POA17: string (nullable = true)\n",
      " |-- ICD10_DIAG18: string (nullable = true)\n",
      " |-- POA18: string (nullable = true)\n",
      " |-- ICD10_DIAG19: string (nullable = true)\n",
      " |-- POA19: string (nullable = true)\n",
      " |-- ICD10_DIAG20: string (nullable = true)\n",
      " |-- POA20: string (nullable = true)\n",
      " |-- ICD10_DIAG21: string (nullable = true)\n",
      " |-- POA21: string (nullable = true)\n",
      " |-- ICD10_DIAG22: string (nullable = true)\n",
      " |-- POA22: string (nullable = true)\n",
      " |-- ICD10_DIAG23: string (nullable = true)\n",
      " |-- POA23: string (nullable = true)\n",
      " |-- ICD10_DIAG24: string (nullable = true)\n",
      " |-- POA24: string (nullable = true)\n",
      " |-- ICD10_DIAG25: string (nullable = true)\n",
      " |-- POA25: string (nullable = true)\n",
      " |-- ICD10_DIAG26: string (nullable = true)\n",
      " |-- POA26: string (nullable = true)\n",
      " |-- ICD10_DIAG27: string (nullable = true)\n",
      " |-- POA27: string (nullable = true)\n",
      " |-- ICD10_DIAG28: string (nullable = true)\n",
      " |-- POA28: string (nullable = true)\n",
      " |-- ICD10_DIAG29: string (nullable = true)\n",
      " |-- POA29: string (nullable = true)\n",
      " |-- ICD10_DIAG30: string (nullable = true)\n",
      " |-- POA30: string (nullable = true)\n",
      " |-- ICD10_DIAG31: string (nullable = true)\n",
      " |-- POA31: string (nullable = true)\n",
      " |-- ICD10_DIAG32: string (nullable = true)\n",
      " |-- POA32: string (nullable = true)\n",
      " |-- ICD10_DIAG33: string (nullable = true)\n",
      " |-- POA33: string (nullable = true)\n",
      " |-- ICD10_DIAG34: string (nullable = true)\n",
      " |-- POA34: string (nullable = true)\n",
      " |-- ICD10_DIAG35: string (nullable = true)\n",
      " |-- POA35: string (nullable = true)\n",
      " |-- ICD10_DIAG36: string (nullable = true)\n",
      " |-- POA36: string (nullable = true)\n",
      " |-- ICD10_DIAG37: string (nullable = true)\n",
      " |-- POA37: string (nullable = true)\n",
      " |-- ICD10_DIAG38: string (nullable = true)\n",
      " |-- POA38: string (nullable = true)\n",
      " |-- ICD10_DIAG39: string (nullable = true)\n",
      " |-- POA39: string (nullable = true)\n",
      " |-- ICD10_DIAG40: string (nullable = true)\n",
      " |-- POA40: string (nullable = true)\n",
      " |-- ICD10_DIAG41: string (nullable = true)\n",
      " |-- POA41: string (nullable = true)\n",
      " |-- ICD10_DIAG42: string (nullable = true)\n",
      " |-- POA42: string (nullable = true)\n",
      " |-- ICD10_DIAG43: string (nullable = true)\n",
      " |-- POA43: string (nullable = true)\n",
      " |-- ICD10_DIAG44: string (nullable = true)\n",
      " |-- POA44: string (nullable = true)\n",
      " |-- ICD10_DIAG45: string (nullable = true)\n",
      " |-- POA45: string (nullable = true)\n",
      " |-- ICD10_DIAG46: string (nullable = true)\n",
      " |-- POA46: string (nullable = true)\n",
      " |-- ICD10_DIAG47: string (nullable = true)\n",
      " |-- POA47: string (nullable = true)\n",
      " |-- ICD10_DIAG48: string (nullable = true)\n",
      " |-- POA48: string (nullable = true)\n",
      " |-- EC1: string (nullable = true)\n",
      " |-- EC2: string (nullable = true)\n",
      " |-- EC3: string (nullable = true)\n",
      " |-- EC4: string (nullable = true)\n",
      " |-- EC5: string (nullable = true)\n",
      " |-- EC6: string (nullable = true)\n",
      " |-- EC7: string (nullable = true)\n",
      " |-- EC8: string (nullable = true)\n",
      " |-- EC9: string (nullable = true)\n",
      " |-- EC10: string (nullable = true)\n",
      " |-- EC11: string (nullable = true)\n",
      " |-- EC12: string (nullable = true)\n",
      " |-- ECP1: string (nullable = true)\n",
      " |-- ECP2: string (nullable = true)\n",
      " |-- ECP3: string (nullable = true)\n",
      " |-- ECP4: string (nullable = true)\n",
      " |-- ECP5: string (nullable = true)\n",
      " |-- ECP6: string (nullable = true)\n",
      " |-- ECP7: string (nullable = true)\n",
      " |-- ECP8: string (nullable = true)\n",
      " |-- ECP9: string (nullable = true)\n",
      " |-- ECP10: string (nullable = true)\n",
      " |-- ECP11: string (nullable = true)\n",
      " |-- ECP12: string (nullable = true)\n",
      " |-- PATREAS_DIAG1: string (nullable = true)\n",
      " |-- PATREAS_DIAG2: string (nullable = true)\n",
      " |-- PATREAS_DIAG3: string (nullable = true)\n",
      " |-- CLAIM_LINE_INFORMATION: string (nullable = true)\n",
      " |-- LINE_ADJUDICATION_ID: string (nullable = true)\n",
      " |-- SERVICE_LINE_INDEX: string (nullable = true)\n",
      " |-- SERVICE_DATE: string (nullable = true)\n",
      " |-- SERVICE_END_DATE: string (nullable = true)\n",
      " |-- REVENUE_CODE: string (nullable = true)\n",
      " |-- PROCEDURE_CODE: string (nullable = true)\n",
      " |-- PROC_MODIFIER: string (nullable = true)\n",
      " |-- PROC_MODIFIER2: string (nullable = true)\n",
      " |-- PROC_MODIFIER3: string (nullable = true)\n",
      " |-- PROC_MODIFIER4: string (nullable = true)\n",
      " |-- PROC_MODIFIER5: string (nullable = true)\n",
      " |-- DXP1: string (nullable = true)\n",
      " |-- DXP2: string (nullable = true)\n",
      " |-- DXP3: string (nullable = true)\n",
      " |-- DXP4: string (nullable = true)\n",
      " |-- NATIONAL_DRUG_CODE: string (nullable = true)\n",
      " |-- DRUG_COUNT: string (nullable = true)\n",
      " |-- DRUG_COUNT_UNITS: string (nullable = true)\n",
      " |-- QUANTITY: string (nullable = true)\n",
      " |-- CHARGE_AMOUNT: string (nullable = true)\n",
      " |-- APPROVED_AMOUNT: string (nullable = true)\n",
      " |-- LINE_LEVEL_MEDICARE_ALLOWED_AMOUNT: string (nullable = true)\n",
      " |-- COINSURANCE_AMOUNT: string (nullable = true)\n",
      " |-- COPAY_AMOUNT: string (nullable = true)\n",
      " |-- MEMBER_TOTAL_LINE_LEVEL_COST_SHARE: string (nullable = true)\n",
      " |-- NOT_COVERED_AMOUNT: string (nullable = true)\n",
      " |-- PLAN_PAID_AMOUNT: string (nullable = true)\n",
      " |-- MOPID: string (nullable = true)\n",
      " |-- SEQAMT: string (nullable = true)\n",
      " |-- CARC1: string (nullable = true)\n",
      " |-- CARC2: string (nullable = true)\n",
      " |-- CARC3: string (nullable = true)\n",
      " |-- CARC4: string (nullable = true)\n",
      " |-- CARC5: string (nullable = true)\n",
      " |-- RARC1: string (nullable = true)\n",
      " |-- RARC2: string (nullable = true)\n",
      " |-- RARC3: string (nullable = true)\n",
      " |-- RARC4: string (nullable = true)\n",
      " |-- RARC5: string (nullable = true)\n",
      " |-- NON_MEDICARE_COVERED: string (nullable = true)\n",
      " |-- LINE_STATUS: string (nullable = true)\n",
      " |-- PAYER_RESPONSIBILITY_CODE: string (nullable = true)\n",
      " |-- OTHER_PAYER_ADJUDICATION_ORGANIZATION: string (nullable = true)\n",
      " |-- OTHER_PAYER_ORGANIZATION_RESPONSIBILITY_CODE: string (nullable = true)\n",
      " |-- COB_SERVICE_LINE_INDEX: string (nullable = true)\n",
      " |-- SERVICE_LINE_OTHER_PAYER_PAID_AMOUNT: string (nullable = true)\n",
      " |-- SERVICE_LINE_CLAIM_PAID_DATE: string (nullable = true)\n",
      " |-- COBADJG1: string (nullable = true)\n",
      " |-- COBADJ1: string (nullable = true)\n",
      " |-- COBAMT1: string (nullable = true)\n",
      " |-- COBADJG2: string (nullable = true)\n",
      " |-- COBADJ2: string (nullable = true)\n",
      " |-- COBAMT2: string (nullable = true)\n",
      " |-- COBADJG3: string (nullable = true)\n",
      " |-- COBADJ3: string (nullable = true)\n",
      " |-- COBAMT3: string (nullable = true)\n",
      " |-- COBADJG4: string (nullable = true)\n",
      " |-- COBADJ4: string (nullable = true)\n",
      " |-- COBAMT4: string (nullable = true)\n",
      " |-- COBADJG5: string (nullable = true)\n",
      " |-- COBADJ5: string (nullable = true)\n",
      " |-- COBAMT5: string (nullable = true)\n",
      " |-- COBTAMT1: string (nullable = true)\n",
      " |-- COBTAMTC1: string (nullable = true)\n",
      " |-- COBTAMT2: string (nullable = true)\n",
      " |-- COBTAMTC2: string (nullable = true)\n",
      " |-- COBTAMT3: string (nullable = true)\n",
      " |-- COBTAMTC3: string (nullable = true)\n",
      " |-- COBTAMT4: string (nullable = true)\n",
      " |-- COBTAMTC4: string (nullable = true)\n",
      " |-- ATTENDING_PROVIDER_ID: string (nullable = true)\n",
      " |-- ATTENDING_PROVIDER_NPI: string (nullable = true)\n",
      " |-- ATTENDING_PROVIDER_NAME: string (nullable = true)\n",
      " |-- OPERATING_PROVIDER_ID: string (nullable = true)\n",
      " |-- OPERATING_PROVIDER_NPI: string (nullable = true)\n",
      " |-- OPERATING_PROVIDER_NAME: string (nullable = true)\n",
      " |-- OTHER_OPERATING_PROVIDER_ID: string (nullable = true)\n",
      " |-- OTHER_OPERATING_PROVIDER_NPI: string (nullable = true)\n",
      " |-- OTHER_OPERATING_PROVIDER_NAME: string (nullable = true)\n",
      " |-- DEDUCTIBLE_AMT: string (nullable = true)\n",
      " |-- CORRECTION_REASON: string (nullable = true)\n",
      " |-- CORRECTION_REASON_DETAIL: string (nullable = true)\n",
      " |-- SERVICE_PROVIDER_ID: string (nullable = true)\n",
      " |-- ALLOWED_QUANTITY: string (nullable = true)"
     ]
    }
   ],
   "source": [
    "df.printSchema()"
   ]
  },
  {
   "cell_type": "code",
   "execution_count": 9,
   "id": "c55a03c6",
   "metadata": {},
   "outputs": [
    {
     "data": {
      "application/vnd.jupyter.widget-view+json": {
       "model_id": "5e8e235683db4cd0be863d16fb925586",
       "version_major": 2,
       "version_minor": 0
      },
      "text/plain": [
       "VBox()"
      ]
     },
     "metadata": {},
     "output_type": "display_data"
    },
    {
     "data": {
      "application/vnd.jupyter.widget-view+json": {
       "model_id": "",
       "version_major": 2,
       "version_minor": 0
      },
      "text/plain": [
       "FloatProgress(value=0.0, bar_style='info', description='Progress:', layout=Layout(height='25px', width='50%'),…"
      ]
     },
     "metadata": {},
     "output_type": "display_data"
    },
    {
     "name": "stdout",
     "output_type": "stream",
     "text": [
      "+-------------------------+--------------------+--------------------+--------------------+---------------------------+-----------------------+-------------------------+--------------------+-------------+---------------+---------------------+----------------+--------------------+-------------+----------------+-------------------+----------------------------+--------------------+------------+-----------------------+--------------------+----------------+--------------------+-------------------+------------------+-------------------+-------------------------+--------------+------------+----------------------+-----------------------+--------------+------------+---------------------+----------------------------+--------------------+------------------+--------------------+---------------------+------------------+-----------------+---------+----------------+-------------+----------+------+--------------------+--------------------+--------------------+-------------------+--------------------+------------------+------+--------+------+----------+--------------------+-----------+---------+------------+----------+---------+-----------+--------------------+------------------+---------------------+----------------------+-----------------------+---------------------+----------------------+-----------------------+--------------------------------+---------------------------------+-------------------+--------------------+--------------------+---------------------+------------------------------+------------------------------+-----------------------------+------------------------------+------------------------------------+-----------+----------------------+-----------------------+--------------------------+--------------------------+---------------------+----------------------+--------------------+----------------+--------------------+-----------------------+--------------------+--------------------+--------------------+----------------------------+-------------------+----------------------+----------------------+--------------------+------------------+------------------+-----------------+--------------+--------------+--------------+----------------------+----------------------+------------+--------------------+---------------------+----------------------+-----------------------+------------------------+-------------------------+------------------------+--------------------+--------------+--------------------+---------------------+---------------------+----+----+----+----+----+----+----+----+----+----+----+----+----+----+----+----+----+----+----+----+----+----+----+----+----+----+----+----+----+----+----+----+----+----+----+----+----+----+----+----+----+----+----+----+----+----+----+----+--------+--------+--------+-----+-----+-----+-----+-----+-----+------+------+------+------+------+------+------+------+------+------+------+------+------+------+------+-----+-----+-----+-----+-----+-----+-----+-----+-----+------+------+------+------+------+------+------+------+------+------+------+------+------+------+------+-----------------+------+------+------+------+------+------+------+------+-------+-------+-------+-------+-------+-------+-------+-------+-------+-------+-------+-------+-------+-------+-------+----+----+----+----+----+----+----+----+----+-----+-----+-----+-----+-----+-----+-----+-----+-----+-----+-----+-----+-----+-----+-----+----+----+----+----+----+----+----+----+----+-----+-----+-----+-----+-----+-----+-----+-----+-----+-----+-----+-----+-----+-----+-----+---------------------+-------------------+--------------+---------------------+--------------+----------+----------+----------+----------------+-------------------------+--------+----+----+----+----+----+----+----+----+----+-----+-----+-----+-----+-----+-----+-----+-----+-----+-----+-----+-----+-----+-----+-----+-----+------+------+------+------+------+------+------+------+------+-------+-------+-------+-------+-------+-------+-------+-------+-------+-------+-------+-------+-------+-------+-------+-------+--------------------------+--------------------------+------------------------------+------------------------------+------------------------+-----------------------------+-----------------------+------------------+--------------------+-----------------+------------------------+--------------------+------------------+---------------------------+------------+--------+-------+-----------+-----------+----+-----------+----+-----------+----+-----------+----+-----------+----+-----------+----+-----------+----+-----------+----+-----------+----+------------+-----+------------+-----+------------+-----+------------+-----+------------+-----+------------+-----+------------+-----+------------+-----+------------+-----+------------+-----+------------+-----+------------+-----+------------+-----+------------+-----+------------+-----+------------+-----+------------+-----+------------+-----+------------+-----+------------+-----+------------+-----+------------+-----+------------+-----+------------+-----+------------+-----+------------+-----+------------+-----+------------+-----+------------+-----+------------+-----+------------+-----+------------+-----+------------+-----+------------+-----+------------+-----+------------+-----+------------+-----+------------+-----+------------+-----+----+----+----+----+----+----+----+----+----+----+----+----+----+----+----+----+----+----+----+----+----+-----+-----+-----+-------------+-------------+-------------+----------------------+--------------------+------------------+------------+----------------+------------+--------------+-------------+--------------+--------------+--------------+--------------+----+----+----+----+------------------+----------+----------------+--------+-------------+---------------+----------------------------------+------------------+------------+----------------------------------+------------------+----------------+-----+------+------+-----+-----+-----+-----+-----+-----+-----+-----+-----+--------------------+-----------+-------------------------+-------------------------------------+--------------------------------------------+----------------------+------------------------------------+----------------------------+--------+-------+-------+--------+-------+-------+--------+-------+-------+--------+-------+-------+--------+-------+-------+--------+---------+--------+---------+--------+---------+--------+---------+---------------------+----------------------+-----------------------+---------------------+----------------------+-----------------------+---------------------------+----------------------------+-----------------------------+--------------+--------------------+------------------------+-------------------+----------------+\n",
      "|CLAIM_CONTROL_INFORMATION|            CLAIM_ID|CLAIM_RECORD_LOCATOR|     ADJUDICATION_ID|ADJUDICATION_RECORD_LOCATOR|ADJUDICATION_CREATED_AT|ADJUDICATION_FINALIZED_AT|     CLAIM_FAMILY_ID|   CLAIM_TYPE|CLAIM_FREQUENCY|CLAIM_SUBMISSION_TYPE|AUTO_ADJUDICATED|      ADJUDICATOR_ID|OON_INDICATOR|DENIED_INDICATOR|ADJUDICATION_STATUS|ADJUDICATION_SEQUENCE_NUMBER|PAYER_CONTROL_NUMBER|REMIT_STATUS|PAYMENT_TRACKING_NUMBER|         REMIT_PAYEE|PAYEE_IDENTIFIER| PAYEE_ADDRESS_LINE1|PAYEE_ADDRESS_LINE2|PAYEE_ADDRESS_CITY|PAYEE_ADDRESS_STATE|PAYEE_ADDRESS_POSTAL_CODE|SPLIT_CLAIM_ID|IS_DELEGATED|CAPITATED_FEE_SCHEDULE|ENCOUNTER_DOCUMENTATION|ENCOUNTER_FLAG|IS_DMG_CLAIM|FINAL_CLAIM_INDICATOR|FINANCIAL_RECOVERY_INDICATOR|ATTACHMENT_INDICATOR|MEMBER_INFORMATION|          MEMBER_HEX|MEMBER_RECORD_LOCATOR|MEMBER_MEDICARE_ID|MEMBER_FIRST_NAME|MEMBER_MI|MEMBER_LAST_NAME|MEMBER_SUFFIX|MEMBER_DOB|GENDER|MEMBER_ADDRESS_LINE1|MEMBER_ADDRESS_LINE2|MEMBER_ADDRESS_LINE3|MEMBER_ADDRESS_CITY|MEMBER_ADDRESS_STATE|MEMBER_ADDRESS_ZIP|COUNTY|     LOB|MARKET|   PRODUCT|           PLAN_NAME|GROUPNUMBER|GROUPNAME|GROUPADDRESS|GROUPPHONE|GROUPSIZE|FUNDINGTYPE|PROVIDER_INFORMATION|     PROVIDER_TYPE|REFERRING_PROVIDER_ID|REFERRING_PROVIDER_NPI|REFERRING_PROVIDER_NAME|RENDERING_PROVIDER_ID|RENDERING_PROVIDER_NPI|RENDERING_PROVIDER_NAME|RENDERING_PROVIDER_TAXONOMY_CODE|RENDERING_PROVIDER_SPECIALIZATION|BILLING_PROVIDER_ID|BILLING_PROVIDER_TIN|BILLING_PROVIDER_NPI|BILLING_PROVIDER_NAME|BILLING_PROVIDER_ADDRESS_LINE1|BILLING_PROVIDER_ADDRESS_LINE2|BILLING_PROVIDER_ADDRESS_CITY|BILLING_PROVIDER_ADDRESS_STATE|BILLING_PROVIDER_ADDRESS_POSTAL_CODE|FACILITY_ID|SERVICING_PROVIDER_NPI|SERVICING_PROVIDER_NAME|SERVICE_LOCATION_ADDRESS_1|SERVICE_LOCATION_ADDRESS_2|SERVICE_LOCATION_CITY|SERVICE_LOCATION_STATE|SERVICE_LOCATION_ZIP|PRIMARY_TAXONOMY|   PROVIDER_GROUPING|PROVIDER_SPECIALIZATION|    BILLING_GROUP_ID|  BILLING_GROUP_NAME|   ENTITY_TO_BE_PAID|CLAIM_PROCESSING_INFORMATION|CLAIM_RECEIVED_DATE|CLAIM_PREPAY_PEND_DATE|FINALIZED_DATE_EASTERN|STATEMENT_START_DATE|STATEMENT_END_DATE|FIRST_SERVICE_DATE|LAST_SERVICE_DATE|ADMISSION_DATE|DISCHARGE_DATE|LENGTH_OF_STAY|PAYMENT_SUBMITTED_DATE|PAYMENT_EFFECTIVE_DATE|EXTRACT_DATE|ORDERING_PROVIDER_ID|ORDERING_PROVIDER_NPI|ORDERING_PROVIDER_NAME|SUPERVISING_PROVIDER_ID|SUPERVISING_PROVIDER_NPI|SUPERVISING_PROVIDER_NAME|CLAIM_HEADER_INFORMATION|TYPE_OF_SERVICE_CODE|BILL_TYPE_CODE|      BILL_TYPE_NAME|PLACE_OF_SERVICE_CODE|PLACE_OF_SERVICE_NAME| CC1| CC2| CC3| CC4| CC5| CC6| CC7| CC8| CC9|CC10|CC11|CC12|CC13|CC14|CC15|CC16|CC17|CC18|CC19|CC20|CC21|CC22|CC23|CC24| OC1| OC2| OC3| OC4| OC5| OC6| OC7| OC8| OC9|OC10|OC11|OC12|OC13|OC14|OC15|OC16|OC17|OC18|OC19|OC20|OC21|OC22|OC23|OC24|   OCDT1|   OCDT2|   OCDT3|OCDT4|OCDT5|OCDT6|OCDT7|OCDT8|OCDT9|OCDT10|OCDT11|OCDT12|OCDT13|OCDT14|OCDT15|OCDT16|OCDT17|OCDT18|OCDT19|OCDT20|OCDT21|OCDT22|OCDT23|OCDT24|OCSC1|OCSC2|OCSC3|OCSC4|OCSC5|OCSC6|OCSC7|OCSC8|OCSC9|OCSC10|OCSC11|OCSC12|OCSC13|OCSC14|OCSC15|OCSC16|OCSC17|OCSC18|OCSC19|OCSC20|OCSC21|OCSC22|OCSC23|OCSC24|           OCSDT1|OCSDT2|OCSDT3|OCSDT4|OCSDT5|OCSDT6|OCSDT7|OCSDT8|OCSDT9|OCSDT10|OCSDT11|OCSDT12|OCSDT13|OCSDT14|OCSDT15|OCSDT16|OCSDT17|OCSDT18|OCSDT19|OCSDT20|OCSDT21|OCSDT22|OCSDT23|OCSDT24|VCC1|VCC2|VCC3|VCC4|VCC5|VCC6|VCC7|VCC8|VCC9|VCC10|VCC11|VCC12|VCC13|VCC14|VCC15|VCC16|VCC17|VCC18|VCC19|VCC20|VCC21|VCC22|VCC23|VCC24|VCA1|VCA2|VCA3|VCA4|VCA5|VCA6|VCA7|VCA8|VCA9|VCA10|VCA11|VCA12|VCA13|VCA14|VCA15|VCA16|VCA17|VCA18|VCA19|VCA20|VCA21|VCA22|VCA23|VCA24|ADMISSION_SOURCE_CODE|ADMISSION_TYPE_CODE|ADMISSION_HOUR|DISCHARGE_STATUS_CODE|DISCHARGE_HOUR|BILLED_DRG|PRICED_DRG|DRG_WEIGHT|CLAIM_LINE_COUNT|PRINCIPAL_ICD_10_PCS_CODE|PCS_DATE|PCS1|PCS2|PCS3|PCS4|PCS5|PCS6|PCS7|PCS8|PCS9|PCS10|PCS11|PCS12|PCS13|PCS14|PCS15|PCS16|PCS17|PCS18|PCS19|PCS20|PCS21|PCS22|PCS23|PCS24|PCS25|PCSDT1|PCSDT2|PCSDT3|PCSDT4|PCSDT5|PCSDT6|PCSDT7|PCSDT8|PCSDT9|PCSDT10|PCSDT11|PCSDT12|PCSDT13|PCSDT14|PCSDT15|PCSDT16|PCSDT17|PCSDT18|PCSDT19|PCSDT20|PCSDT21|PCSDT22|PCSDT23|PCSDT24|PCSDT25|CLAIM_LEVEL_CHARGED_AMOUNT|CLAIM_LEVEL_ALLOWED_AMOUNT|MEDICARE_ALLOWABLE_CLAIM_LEVEL|CLAIM_LEVEL_COINSURANCE_AMOUNT|CLAIM_LEVEL_COPAY_AMOUNT|CLAIM_LEVEL_MEMBER_COST_SHARE|CLAIM_LEVEL_PAID_AMOUNT|BONUS_PAYMENT_DAYS|BONUS_PAYMENT_AMOUNT|       PATACCTNUM|CLAIM_LEVEL_REMARK_CODES|HEADER_AUTHORIZATION|LINE_AUTHORIZATION|CLAIM_DIAGNOSIS_INFORMATION|ICDINDICATOR|ADMIT_DX|PRIM_DX|PRIM_DX_POA|ICD10_DIAG1|POA1|ICD10_DIAG2|POA2|ICD10_DIAG3|POA3|ICD10_DIAG4|POA4|ICD10_DIAG5|POA5|ICD10_DIAG6|POA6|ICD10_DIAG7|POA7|ICD10_DIAG8|POA8|ICD10_DIAG9|POA9|ICD10_DIAG10|POA10|ICD10_DIAG11|POA11|ICD10_DIAG12|POA12|ICD10_DIAG13|POA13|ICD10_DIAG14|POA14|ICD10_DIAG15|POA15|ICD10_DIAG16|POA16|ICD10_DIAG17|POA17|ICD10_DIAG18|POA18|ICD10_DIAG19|POA19|ICD10_DIAG20|POA20|ICD10_DIAG21|POA21|ICD10_DIAG22|POA22|ICD10_DIAG23|POA23|ICD10_DIAG24|POA24|ICD10_DIAG25|POA25|ICD10_DIAG26|POA26|ICD10_DIAG27|POA27|ICD10_DIAG28|POA28|ICD10_DIAG29|POA29|ICD10_DIAG30|POA30|ICD10_DIAG31|POA31|ICD10_DIAG32|POA32|ICD10_DIAG33|POA33|ICD10_DIAG34|POA34|ICD10_DIAG35|POA35|ICD10_DIAG36|POA36|ICD10_DIAG37|POA37|ICD10_DIAG38|POA38|ICD10_DIAG39|POA39|ICD10_DIAG40|POA40|ICD10_DIAG41|POA41|ICD10_DIAG42|POA42|ICD10_DIAG43|POA43|ICD10_DIAG44|POA44|ICD10_DIAG45|POA45|ICD10_DIAG46|POA46|ICD10_DIAG47|POA47|ICD10_DIAG48|POA48| EC1| EC2| EC3| EC4| EC5| EC6| EC7| EC8| EC9|EC10|EC11|EC12|ECP1|ECP2|ECP3|ECP4|ECP5|ECP6|ECP7|ECP8|ECP9|ECP10|ECP11|ECP12|PATREAS_DIAG1|PATREAS_DIAG2|PATREAS_DIAG3|CLAIM_LINE_INFORMATION|LINE_ADJUDICATION_ID|SERVICE_LINE_INDEX|SERVICE_DATE|SERVICE_END_DATE|REVENUE_CODE|PROCEDURE_CODE|PROC_MODIFIER|PROC_MODIFIER2|PROC_MODIFIER3|PROC_MODIFIER4|PROC_MODIFIER5|DXP1|DXP2|DXP3|DXP4|NATIONAL_DRUG_CODE|DRUG_COUNT|DRUG_COUNT_UNITS|QUANTITY|CHARGE_AMOUNT|APPROVED_AMOUNT|LINE_LEVEL_MEDICARE_ALLOWED_AMOUNT|COINSURANCE_AMOUNT|COPAY_AMOUNT|MEMBER_TOTAL_LINE_LEVEL_COST_SHARE|NOT_COVERED_AMOUNT|PLAN_PAID_AMOUNT|MOPID|SEQAMT| CARC1|CARC2|CARC3|CARC4|CARC5|RARC1|RARC2|RARC3|RARC4|RARC5|NON_MEDICARE_COVERED|LINE_STATUS|PAYER_RESPONSIBILITY_CODE|OTHER_PAYER_ADJUDICATION_ORGANIZATION|OTHER_PAYER_ORGANIZATION_RESPONSIBILITY_CODE|COB_SERVICE_LINE_INDEX|SERVICE_LINE_OTHER_PAYER_PAID_AMOUNT|SERVICE_LINE_CLAIM_PAID_DATE|COBADJG1|COBADJ1|COBAMT1|COBADJG2|COBADJ2|COBAMT2|COBADJG3|COBADJ3|COBAMT3|COBADJG4|COBADJ4|COBAMT4|COBADJG5|COBADJ5|COBAMT5|COBTAMT1|COBTAMTC1|COBTAMT2|COBTAMTC2|COBTAMT3|COBTAMTC3|COBTAMT4|COBTAMTC4|ATTENDING_PROVIDER_ID|ATTENDING_PROVIDER_NPI|ATTENDING_PROVIDER_NAME|OPERATING_PROVIDER_ID|OPERATING_PROVIDER_NPI|OPERATING_PROVIDER_NAME|OTHER_OPERATING_PROVIDER_ID|OTHER_OPERATING_PROVIDER_NPI|OTHER_OPERATING_PROVIDER_NAME|DEDUCTIBLE_AMT|   CORRECTION_REASON|CORRECTION_REASON_DETAIL|SERVICE_PROVIDER_ID|ALLOWED_QUANTITY|\n",
      "+-------------------------+--------------------+--------------------+--------------------+---------------------------+-----------------------+-------------------------+--------------------+-------------+---------------+---------------------+----------------+--------------------+-------------+----------------+-------------------+----------------------------+--------------------+------------+-----------------------+--------------------+----------------+--------------------+-------------------+------------------+-------------------+-------------------------+--------------+------------+----------------------+-----------------------+--------------+------------+---------------------+----------------------------+--------------------+------------------+--------------------+---------------------+------------------+-----------------+---------+----------------+-------------+----------+------+--------------------+--------------------+--------------------+-------------------+--------------------+------------------+------+--------+------+----------+--------------------+-----------+---------+------------+----------+---------+-----------+--------------------+------------------+---------------------+----------------------+-----------------------+---------------------+----------------------+-----------------------+--------------------------------+---------------------------------+-------------------+--------------------+--------------------+---------------------+------------------------------+------------------------------+-----------------------------+------------------------------+------------------------------------+-----------+----------------------+-----------------------+--------------------------+--------------------------+---------------------+----------------------+--------------------+----------------+--------------------+-----------------------+--------------------+--------------------+--------------------+----------------------------+-------------------+----------------------+----------------------+--------------------+------------------+------------------+-----------------+--------------+--------------+--------------+----------------------+----------------------+------------+--------------------+---------------------+----------------------+-----------------------+------------------------+-------------------------+------------------------+--------------------+--------------+--------------------+---------------------+---------------------+----+----+----+----+----+----+----+----+----+----+----+----+----+----+----+----+----+----+----+----+----+----+----+----+----+----+----+----+----+----+----+----+----+----+----+----+----+----+----+----+----+----+----+----+----+----+----+----+--------+--------+--------+-----+-----+-----+-----+-----+-----+------+------+------+------+------+------+------+------+------+------+------+------+------+------+------+-----+-----+-----+-----+-----+-----+-----+-----+-----+------+------+------+------+------+------+------+------+------+------+------+------+------+------+------+-----------------+------+------+------+------+------+------+------+------+-------+-------+-------+-------+-------+-------+-------+-------+-------+-------+-------+-------+-------+-------+-------+----+----+----+----+----+----+----+----+----+-----+-----+-----+-----+-----+-----+-----+-----+-----+-----+-----+-----+-----+-----+-----+----+----+----+----+----+----+----+----+----+-----+-----+-----+-----+-----+-----+-----+-----+-----+-----+-----+-----+-----+-----+-----+---------------------+-------------------+--------------+---------------------+--------------+----------+----------+----------+----------------+-------------------------+--------+----+----+----+----+----+----+----+----+----+-----+-----+-----+-----+-----+-----+-----+-----+-----+-----+-----+-----+-----+-----+-----+-----+------+------+------+------+------+------+------+------+------+-------+-------+-------+-------+-------+-------+-------+-------+-------+-------+-------+-------+-------+-------+-------+-------+--------------------------+--------------------------+------------------------------+------------------------------+------------------------+-----------------------------+-----------------------+------------------+--------------------+-----------------+------------------------+--------------------+------------------+---------------------------+------------+--------+-------+-----------+-----------+----+-----------+----+-----------+----+-----------+----+-----------+----+-----------+----+-----------+----+-----------+----+-----------+----+------------+-----+------------+-----+------------+-----+------------+-----+------------+-----+------------+-----+------------+-----+------------+-----+------------+-----+------------+-----+------------+-----+------------+-----+------------+-----+------------+-----+------------+-----+------------+-----+------------+-----+------------+-----+------------+-----+------------+-----+------------+-----+------------+-----+------------+-----+------------+-----+------------+-----+------------+-----+------------+-----+------------+-----+------------+-----+------------+-----+------------+-----+------------+-----+------------+-----+------------+-----+------------+-----+------------+-----+------------+-----+------------+-----+------------+-----+----+----+----+----+----+----+----+----+----+----+----+----+----+----+----+----+----+----+----+----+----+-----+-----+-----+-------------+-------------+-------------+----------------------+--------------------+------------------+------------+----------------+------------+--------------+-------------+--------------+--------------+--------------+--------------+----+----+----+----+------------------+----------+----------------+--------+-------------+---------------+----------------------------------+------------------+------------+----------------------------------+------------------+----------------+-----+------+------+-----+-----+-----+-----+-----+-----+-----+-----+-----+--------------------+-----------+-------------------------+-------------------------------------+--------------------------------------------+----------------------+------------------------------------+----------------------------+--------+-------+-------+--------+-------+-------+--------+-------+-------+--------+-------+-------+--------+-------+-------+--------+---------+--------+---------+--------+---------+--------+---------+---------------------+----------------------+-----------------------+---------------------+----------------------+-----------------------+---------------------------+----------------------------+-----------------------------+--------------+--------------------+------------------------+-------------------+----------------+\n",
      "|     Claim Control Inf...|18e8d9b7-920a-4ef...|           CX2JC539U|1cbfceed-b861-434...|                 AJX2KSUZGS|   2021-09-24T17:34:...|     2021-09-25T03:04:...|96364208-2f84-5e8...| PROFESSIONAL|              1|                  EDI|            TRUE|508abe1d-e794-4d2...|        FALSE|            TRUE|             DENIED|                           1|          AJX2KSUZGS|  RECONCILED|                 309700|INTEGRATED HOME C...|      1881061695|  3700 COMMERCE PKWY|               null|           MIRAMAR|                 FL|                330253912|          NULL|       FALSE|                 FALSE|                  FALSE|         FALSE|       FALSE|                FALSE|                       FALSE|                   N|Member Information|81a464fd-a500-47b...|               DYH4E7|       3X37XV2WH67|             ****|     ****|            ****|         ****|      1959|     F|                ****|                ****|                ****|               ****|                  FL|              ****|  ****|Medicare|    FL|     prime|Devoted Health Pr...|       null|     null|        null|      null|     null|       null|Provider Information|Provider Type ToDo|              PXWAJY3|            1851351050|   Judella Haddad-Lacle|           1881061695|            1881061695|                   null|                      332B00000X|                             null|         1881061695|           474693271|          1881061695| INTEGRATED HOME C...|            3700 COMMERCE PKWY|                          null|                      MIRAMAR|                            FL|                           330253912|   FXF54HAE|                  null|                   null|                      null|                      null|                 null|                  null|                null|      332B00000X|           Suppliers|                   null|7b784554-05be-47c...|Integrated Home C...|INTEGRATED HOME C...|        Claim Processing ...|         2021-09-24|                  null|            2021-09-24|                null|              null|        2021-09-23|       2021-09-23|          null|          null|          null|            2021-09-27|            2021-09-28|  2022-04-28|             PXWAJY3|           1851351050|  Judella Haddad-Lacle|                   null|                    null|                     null|    Claim Header Info...|                 TBD|          null|                null|                   12|                 Home|null|null|null|null|null|null|null|null|null|null|null|null|null|null|null|null|null|null|null|null|null|null|null|null|null|null|null|null|null|null|null|null|null|null|null|null|null|null|null|null|null|null|null|null|null|null|null|null|    null|    null|    null| null| null| null| null| null| null|  null|  null|  null|  null|  null|  null|  null|  null|  null|  null|  null|  null|  null|  null|  null| null| null| null| null| null| null| null| null| null|  null|  null|  null|  null|  null|  null|  null|  null|  null|  null|  null|  null|  null|  null|  null|             null|  null|  null|  null|  null|  null|  null|  null|  null|   null|   null|   null|   null|   null|   null|   null|   null|   null|   null|   null|   null|   null|   null|   null|null|null|null|null|null|null|null|null|null| null| null| null| null| null| null| null| null| null| null| null| null| null| null| null|null|null|null|null|null|null|null|null|null| null| null| null| null| null| null| null| null| null| null| null| null| null| null| null|                 null|               null|          null|                 null|          null|      null|      null|      null|               2|                     null|    null|null|null|null|null|null|null|null|null|null| null| null| null| null| null| null| null| null| null| null| null| null| null| null| null| null|  null|  null|  null|  null|  null|  null|  null|  null|  null|   null|   null|   null|   null|   null|   null|   null|   null|   null|   null|   null|   null|   null|   null|   null|   null|                    526.23|                      0.00|                        526.23|                          null|                    null|                         0.00|                   0.00|              null|                null|  I7882880S543706|                    null|               FALSE|             FALSE|       Claim Diagnosis I...|           0|    null|   J449|       null|       E271|null|      R2681|null|       null|null|       null|null|       null|null|       null|null|       null|null|       null|null|       null|null|        null| null|        null| null|        null| null|        null| null|        null| null|        null| null|        null| null|        null| null|        null| null|        null| null|        null| null|        null| null|        null| null|        null| null|        null| null|        null| null|        null| null|        null| null|        null| null|        null| null|        null| null|        null| null|        null| null|        null| null|        null| null|        null| null|        null| null|        null| null|        null| null|        null| null|        null| null|        null| null|        null| null|        null| null|        null| null|        null| null|        null| null|        null| null|        null| null|null|null|null|null|null|null|null|null|null|null|null|null|null|null|null|null|null|null|null|null|null| null| null| null|         null|         null|         null|  Claim Line Inform...|227232f5-5829-4d4...|                 1|  2021-09-23|      2021-09-23|        null|         E2365|           RR|          null|          null|          null|          null|   1|   2|   3|null|              null|      null|            null| 2.00000|        17.04|           0.00|                             17.04|              null|        null|                              0.00|             17.04|            0.00| null|  0.00|  OA-4| null| null| null| null| N657| null| null| null| null|               FALSE|     DENIED|                     null|                                 null|                                        null|                  null|                                null|                        null|    null|   null|   null|    null|   null|   null|    null|   null|   null|    null|   null|   null|    null|   null|   null|    null|     null|    null|     null|    null|     null|    null|     null|                 null|                  null|                   null|                 null|                  null|                   null|                       null|                        null|                         null|          null|                null|                    null|               null|               2|\n",
      "|     Claim Control Inf...|216df36c-2455-4a2...|           CXFK4F65R|6610772d-6f87-470...|                 AJX7WY722G|   2021-12-13T17:20:...|     2021-12-13T17:24:...|2316be60-23bb-5c3...|       DENTAL|              1|                  EDI|            null|508abe1d-e794-4d2...|        FALSE|            TRUE|             DENIED|                           1|          AJX7WY722G|        null|                   null|                null|            null|                null|               null|              null|               null|                     null|          NULL|        TRUE|                  TRUE|                  FALSE|          TRUE|       FALSE|                 TRUE|                       FALSE|                   N|Member Information|7e0a724f-6ac3-4db...|               D94ER8|       1D25DD4VC52|             ****|     ****|            ****|         ****|      1953|     M|                ****|                ****|                ****|               ****|                  FL|              ****|  ****|Medicare|    FL|     prime|Devoted Health Pr...|       null|     null|        null|      null|     null|       null|Provider Information|Provider Type ToDo|                 null|                  null|                   null|              PX833KZ|            1053803494|            DILLON BALE|                      122300000X|             Dental Providers/...|         1730287673|           593365515|          1730287673|    COAST FLORIDA| PA|          7777 N WICKHAM RD...|                          null|                    MELBOURNE|                            FL|                           329409998|       null|            1730287673|   COAST DENTAL - TO...|       7340 W. WATERS AVE.|                      null|                TAMPA|                    FL|           336342222|      122300000X|    Dental Providers|                   null|1c2e189d-1b07-4f4...|Liberty Dental Pl...|   COAST FLORIDA| PA|        Claim Processing ...|         2021-12-13|                  null|            2021-12-03|                null|              null|        2021-12-02|       2021-12-02|          null|          null|          null|                  null|            2021-12-06|  2022-04-28|                null|                 null|                  null|                   null|                    null|                     null|    Claim Header Info...|                 TBD|          null|                null|                   11|               Office|null|null|null|null|null|null|null|null|null|null|null|null|null|null|null|null|null|null|null|null|null|null|null|null|null|null|null|null|null|null|null|null|null|null|null|null|null|null|null|null|null|null|null|null|null|null|null|null|    null|    null|    null| null| null| null| null| null| null|  null|  null|  null|  null|  null|  null|  null|  null|  null|  null|  null|  null|  null|  null|  null| null| null| null| null| null| null| null| null| null|  null|  null|  null|  null|  null|  null|  null|  null|  null|  null|  null|  null|  null|  null|  null|             null|  null|  null|  null|  null|  null|  null|  null|  null|   null|   null|   null|   null|   null|   null|   null|   null|   null|   null|   null|   null|   null|   null|   null|null|null|null|null|null|null|null|null|null| null| null| null| null| null| null| null| null| null| null| null| null| null| null| null|null|null|null|null|null|null|null|null|null| null| null| null| null| null| null| null| null| null| null| null| null| null| null| null|                 null|               null|          null|                 null|          null|      null|      null|      null|               3|                     null|    null|null|null|null|null|null|null|null|null|null| null| null| null| null| null| null| null| null| null| null| null| null| null| null| null| null|  null|  null|  null|  null|  null|  null|  null|  null|  null|   null|   null|   null|   null|   null|   null|   null|   null|   null|   null|   null|   null|   null|   null|   null|   null|                    227.00|                      0.00|                          null|                          null|                    null|                         0.00|                   0.00|              null|                null|       0034797424|                    null|               FALSE|             FALSE|       Claim Diagnosis I...|           0|    null|   null|       null|       null|null|       null|null|       null|null|       null|null|       null|null|       null|null|       null|null|       null|null|       null|null|        null| null|        null| null|        null| null|        null| null|        null| null|        null| null|        null| null|        null| null|        null| null|        null| null|        null| null|        null| null|        null| null|        null| null|        null| null|        null| null|        null| null|        null| null|        null| null|        null| null|        null| null|        null| null|        null| null|        null| null|        null| null|        null| null|        null| null|        null| null|        null| null|        null| null|        null| null|        null| null|        null| null|        null| null|        null| null|        null| null|        null| null|        null| null|        null| null|null|null|null|null|null|null|null|null|null|null|null|null|null|null|null|null|null|null|null|null|null| null| null| null|         null|         null|         null|  Claim Line Inform...|c7f843b0-334c-4b4...|                 2|  2021-12-02|            null|        null|         D1999|         null|          null|          null|          null|          null|null|null|null|null|              null|      null|            null|    null|        10.00|           0.00|                              null|              null|        null|                              0.00|             10.00|            0.00| null|  0.00| CO-45| null| null| null| null| null| null| null| null| null|                TRUE|     DENIED|                        P|                  LIBERTY DENTAL PLAN|                                           S|                     2|                                   0|                  2021-12-06|      CO|     45|     10|    null|   null|   null|    null|   null|   null|    null|   null|   null|    null|   null|   null|       0|        D|    null|     null|    null|     null|    null|     null|                 null|                  null|                   null|                 null|                  null|                   null|                       null|                        null|                         null|          null|                null|                    null|          ORPXJFUUE|               0|\n",
      "|     Claim Control Inf...|18d4c51e-3d9d-44d...|           CXU7FW4CK|19464ab8-e765-478...|                 AJXS78EZUF|   2021-04-01T18:33:...|     2021-04-02T12:48:...|0573173a-b937-5f7...| PROFESSIONAL|              1|                  EDI|            TRUE|5e1436b8-2983-493...|        FALSE|           FALSE|               PAID|                           1|          AJXS78EZUF|  RECONCILED|                  89037|     PCP FOR LIFE PA|      1497071955|12015 LOUETTA RD ...|               null|           HOUSTON|                 TX|                770701148|          NULL|       FALSE|                 FALSE|                  FALSE|         FALSE|       FALSE|                 TRUE|                       FALSE|                   N|Member Information|02e31082-a5b3-489...|               DWH9UC|       6NM2WC7FP10|             ****|     ****|            ****|         ****|      1947|     F|                ****|                ****|                ****|               ****|                  TX|              ****|  ****|Medicare|    TX|      core|Devoted Health Gr...|       null|     null|        null|      null|     null|       null|Provider Information|Provider Type ToDo|              PXUZYK6|            1285660241|     Najmuddin Karimjee|              PXUZYK6|            1285660241|     NAJMUDDIN KARIMJEE|                      207R00000X|             Allopathic & Oste...|            PXUZYK6|           272273286|          1497071955|   Najmuddin Karimjee|          12015 LOUETTA RD ...|                          null|                      HOUSTON|                            TX|                           770701148|       null|            1497071955|   PCP FOR LIFE TIDWELL|           2302 TIDWELL RD|                      null|              HOUSTON|                    TX|           770936731|      207R00000X|Allopathic & Oste...|                   null|b5ea71be-768d-4de...|PCP for Life| PA ...|     PCP FOR LIFE PA|        Claim Processing ...|         2021-04-01|                  null|            2021-04-02|                null|              null|        2021-03-29|       2021-03-29|          null|          null|          null|            2021-04-02|            2021-04-05|  2022-04-28|                null|                 null|                  null|                   null|                    null|                     null|    Claim Header Info...|                 TBD|          null|                null|                   11|               Office|null|null|null|null|null|null|null|null|null|null|null|null|null|null|null|null|null|null|null|null|null|null|null|null|null|null|null|null|null|null|null|null|null|null|null|null|null|null|null|null|null|null|null|null|null|null|null|null|    null|    null|    null| null| null| null| null| null| null|  null|  null|  null|  null|  null|  null|  null|  null|  null|  null|  null|  null|  null|  null|  null| null| null| null| null| null| null| null| null| null|  null|  null|  null|  null|  null|  null|  null|  null|  null|  null|  null|  null|  null|  null|  null|             null|  null|  null|  null|  null|  null|  null|  null|  null|   null|   null|   null|   null|   null|   null|   null|   null|   null|   null|   null|   null|   null|   null|   null|null|null|null|null|null|null|null|null|null| null| null| null| null| null| null| null| null| null| null| null| null| null| null| null|null|null|null|null|null|null|null|null|null| null| null| null| null| null| null| null| null| null| null| null| null| null| null| null|                 null|               null|          null|                 null|          null|      null|      null|      null|              14|                     null|    null|null|null|null|null|null|null|null|null|null| null| null| null| null| null| null| null| null| null| null| null| null| null| null| null| null|  null|  null|  null|  null|  null|  null|  null|  null|  null|   null|   null|   null|   null|   null|   null|   null|   null|   null|   null|   null|   null|   null|   null|   null|   null|                    304.19|                     98.31|                         98.31|                          null|                    null|                         0.00|                  98.31|              null|                null|           955487|                    null|               FALSE|             FALSE|       Claim Diagnosis I...|           0|    null|  R1084|       null|       E782|null|      M5440|null|       M150|null|      N3281|null|      Z7189|null|       null|null|       null|null|       null|null|       null|null|        null| null|        null| null|        null| null|        null| null|        null| null|        null| null|        null| null|        null| null|        null| null|        null| null|        null| null|        null| null|        null| null|        null| null|        null| null|        null| null|        null| null|        null| null|        null| null|        null| null|        null| null|        null| null|        null| null|        null| null|        null| null|        null| null|        null| null|        null| null|        null| null|        null| null|        null| null|        null| null|        null| null|        null| null|        null| null|        null| null|        null| null|        null| null|        null| null|null|null|null|null|null|null|null|null|null|null|null|null|null|null|null|null|null|null|null|null|null| null| null| null|         null|         null|         null|  Claim Line Inform...|1b8f9041-53d9-4c3...|                 2|  2021-03-29|            null|        null|         3008F|         null|          null|          null|          null|          null|   6|null|null|null|              null|      null|            null| 1.00000|         1.00|           0.00|                              0.00|              null|        null|                              0.00|              1.00|            0.00| null|  0.00|OA-246| null| null| null| null| null| null| null| null| null|               FALSE|     DENIED|                     null|                                 null|                                        null|                  null|                                null|                        null|    null|   null|   null|    null|   null|   null|    null|   null|   null|    null|   null|   null|    null|   null|   null|    null|     null|    null|     null|    null|     null|    null|     null|                 null|                  null|                   null|                 null|                  null|                   null|                       null|                        null|                         null|          null|                null|                    null|          ORPX87AH6|               0|\n",
      "|     Claim Control Inf...|73d09024-4ef5-4d5...|           CXRJCJY5W|0061ef99-3edc-46a...|                 AJXG67A47R|   2020-08-27T14:55:...|     2020-10-10T03:28:...|f84465c6-04a4-5a9...|INSTITUTIONAL|              1|              Not_EDI|           FALSE|d7d741f6-35b6-418...|        FALSE|            TRUE|             DENIED|                           2|        AJXHYK4KFC-1|  RECONCILED|                 146002|WELLINGTON REGION...|      1720078702|       PO BOX 100704|               null|           ATLANTA|                 GA|                    30384|          NULL|       FALSE|                 FALSE|                  FALSE|         FALSE|       FALSE|                FALSE|                       FALSE|                   N|Member Information|e8c57889-b8cd-43b...|               DHJ46H|       5V32G17MF16|             ****|     ****|            ****|         ****|      1938|     M|                ****|                ****|                ****|               ****|                  FL|              ****|  ****|Medicare|    FL|     prime|Devoted Health Pr...|       null|     null|        null|      null|     null|       null|Provider Information|Provider Type ToDo|                 null|                  null|                   null|           1720078702|            1720078702|                   null|                      282N00000X|                             null|         1720078702|           232306491|          1720078702| WELLINGTON REGION...|            10101 FORREST HILL|                          null|                   WELLINGTON|                            FL|                               33414|   FXKHZ5G3|                  null|                   null|                      null|                      null|                 null|                  null|                null|      282N00000X|           Hospitals|                   null|d846bff1-495d-41a...|UHS of Delaware I...|WELLINGTON REGION...|        Claim Processing ...|         2020-08-25|                  null|            2020-10-09|          2020-02-24|        2020-02-24|        2020-02-24|       2020-02-24|          null|    2020-02-24|          null|            2020-10-12|            2020-10-13|  2022-04-28|                null|                 null|                  null|                   null|                    null|                     null|    Claim Header Info...|                 TBD|            13| Hospital Outpatient|                   22| On Campus - Outpa...|null|null|null|null|null|null|null|null|null|null|null|null|null|null|null|null|null|null|null|null|null|null|null|null|null|null|null|null|null|null|null|null|null|null|null|null|null|null|null|null|null|null|null|null|null|null|null|null|    null|    null|    null| null| null| null| null| null| null|  null|  null|  null|  null|  null|  null|  null|  null|  null|  null|  null|  null|  null|  null|  null| null| null| null| null| null| null| null| null| null|  null|  null|  null|  null|  null|  null|  null|  null|  null|  null|  null|  null|  null|  null|  null|             null|  null|  null|  null|  null|  null|  null|  null|  null|   null|   null|   null|   null|   null|   null|   null|   null|   null|   null|   null|   null|   null|   null|   null|null|null|null|null|null|null|null|null|null| null| null| null| null| null| null| null| null| null| null| null| null| null| null| null|null|null|null|null|null|null|null|null|null| null| null| null| null| null| null| null| null| null| null| null| null| null| null| null|                    1|                  9|          null|                   01|          null|      null|      null|      null|              25|                     null|    null|null|null|null|null|null|null|null|null|null| null| null| null| null| null| null| null| null| null| null| null| null| null| null| null| null|  null|  null|  null|  null|  null|  null|  null|  null|  null|   null|   null|   null|   null|   null|   null|   null|   null|   null|   null|   null|   null|   null|   null|   null|   null|                  11911.00|                      0.00|                       1306.80|                          null|                    null|                         0.00|                   0.00|              null|                null|        114182181|                    null|               FALSE|             FALSE|       Claim Diagnosis I...|           0|    null|   null|       null|       E119|null|       K219|null|       D469|null|      Z8546|null|      Z7984|null|       null|null|       null|null|       null|null|       null|null|        null| null|        null| null|        null| null|        null| null|        null| null|        null| null|        null| null|        null| null|        null| null|        null| null|        null| null|        null| null|        null| null|        null| null|        null| null|        null| null|        null| null|        null| null|        null| null|        null| null|        null| null|        null| null|        null| null|        null| null|        null| null|        null| null|        null| null|        null| null|        null| null|        null| null|        null| null|        null| null|        null| null|        null| null|        null| null|        null| null|        null| null|        null| null|        null| null|null|null|null|null|null|null|null|null|null|null|null|null|null|null|null|null|null|null|null|null|null| null| null| null|         R188|         null|         null|  Claim Line Inform...|734bfd79-1ab1-4ae...|                24|  2020-02-24|            null|        0636|         J2001|         null|          null|          null|          null|          null|null|null|null|null|       00409427701|        20|              ML|40.00000|        61.00|           0.00|                              0.00|              null|        null|                              0.00|             61.00|            0.00| null|  0.00|CO-146| null| null| null| null| MA63| null| null| null| null|               FALSE|     DENIED|                     null|                                 null|                                        null|                  null|                                null|                        null|    null|   null|   null|    null|   null|   null|    null|   null|   null|    null|   null|   null|    null|   null|   null|    null|     null|    null|     null|    null|     null|    null|     null|              PX48RJR|            1053426783|          Miguel Araneo|              PX48RJR|            1053426783|          Miguel Araneo|                       null|                        null|                         null|          null|ERROR- by Claim p...|                    null|               null|               0|\n",
      "|     Claim Control Inf...|6c7244e1-1ca2-4cf...|           CX7KYYR23|c10d0b38-2e4a-48f...|                 AJXW5K36ZK|   2021-10-01T13:27:...|     2021-10-01T17:17:...|c8e0296d-5316-564...| PROFESSIONAL|              1|                  EDI|            TRUE|508abe1d-e794-4d2...|        FALSE|           FALSE|               PAID|                           2|        AJX7H68WZH-1|  RECONCILED|                 168040|TMH PHYSICIAN ASS...|      1275779225|         PO BOX 4719|               null|           HOUSTON|                 TX|                772104719|          NULL|       FALSE|                 FALSE|                  FALSE|         FALSE|       FALSE|                 TRUE|                       FALSE|                   N|Member Information|75402625-8115-491...|               DJCY2G|       6W78QR1QG51|             ****|     ****|            ****|         ****|      1947|     F|                ****|                ****|                ****|               ****|                  TX|              ****|  ****|Medicare|    TX|     prime|Devoted Health Pr...|       null|     null|        null|      null|     null|       null|Provider Information|Provider Type ToDo|              PXZ56HK|            1275760738|            Mary Henson|              PX4S37F|            1275779225|                   null|                      103G00000X|                             null|            PX4S37F|           300520570|          1275779225|     Maritza Figueroa|          6550 FANNIN ST SU...|                          null|                      HOUSTON|                            TX|                           770302717|   FX3RUZZS|                  null|      NEURO PSY WDL 640|      17183 I 45 S STE 640|                      null|        THE WOODLANDS|                    TX|           773853316|      103G00000X|Behavioral Health...|                   null|6e759132-1269-46a...|TMH Physician Org...|TMH PHYSICIAN ASS...|        Claim Processing ...|         2021-09-02|                  null|            2021-10-01|                null|              null|        2021-08-09|       2021-08-09|          null|          null|          null|            2021-10-04|            2021-10-05|  2022-04-28|                null|                 null|                  null|                   null|                    null|                     null|    Claim Header Info...|                 TBD|          null|                null|                   11|               Office|null|null|null|null|null|null|null|null|null|null|null|null|null|null|null|null|null|null|null|null|null|null|null|null|null|null|null|null|null|null|null|null|null|null|null|null|null|null|null|null|null|null|null|null|null|null|null|null|    null|    null|    null| null| null| null| null| null| null|  null|  null|  null|  null|  null|  null|  null|  null|  null|  null|  null|  null|  null|  null|  null| null| null| null| null| null| null| null| null| null|  null|  null|  null|  null|  null|  null|  null|  null|  null|  null|  null|  null|  null|  null|  null|             null|  null|  null|  null|  null|  null|  null|  null|  null|   null|   null|   null|   null|   null|   null|   null|   null|   null|   null|   null|   null|   null|   null|   null|null|null|null|null|null|null|null|null|null| null| null| null| null| null| null| null| null| null| null| null| null| null| null| null|null|null|null|null|null|null|null|null|null| null| null| null| null| null| null| null| null| null| null| null| null| null| null| null|                 null|               null|          null|                 null|          null|      null|      null|      null|               5|                     null|    null|null|null|null|null|null|null|null|null|null| null| null| null| null| null| null| null| null| null| null| null| null| null| null| null| null|  null|  null|  null|  null|  null|  null|  null|  null|  null|   null|   null|   null|   null|   null|   null|   null|   null|   null|   null|   null|   null|   null|   null|   null|   null|                   4170.25|                    870.40|                        813.45|                          null|                    null|                         0.00|                 870.40|              null|                null|      P1124948790|                    null|               FALSE|             FALSE|       Claim Diagnosis I...|           0|    null|   R413|       null|       null|null|       null|null|       null|null|       null|null|       null|null|       null|null|       null|null|       null|null|       null|null|        null| null|        null| null|        null| null|        null| null|        null| null|        null| null|        null| null|        null| null|        null| null|        null| null|        null| null|        null| null|        null| null|        null| null|        null| null|        null| null|        null| null|        null| null|        null| null|        null| null|        null| null|        null| null|        null| null|        null| null|        null| null|        null| null|        null| null|        null| null|        null| null|        null| null|        null| null|        null| null|        null| null|        null| null|        null| null|        null| null|        null| null|        null| null|        null| null|null|null|null|null|null|null|null|null|null|null|null|null|null|null|null|null|null|null|null|null|null| null| null| null|         null|         null|         null|  Claim Line Inform...|b7a4803f-0146-47f...|                 2|  2021-08-09|            null|        null|         96132|         null|          null|          null|          null|          null|   1|null|null|null|              null|      null|            null| 1.00000|       679.00|         139.12|                            130.02|              null|        null|                              0.00|            539.88|          139.12|   %M|  0.00| CO-45| null| null| null| null| null| null| null| null| null|               FALSE|       PAID|                     null|                                 null|                                        null|                  null|                                null|                        null|    null|   null|   null|    null|   null|   null|    null|   null|   null|    null|   null|   null|    null|   null|   null|    null|     null|    null|     null|    null|     null|    null|     null|                 null|                  null|                   null|                 null|                  null|                   null|                       null|                        null|                         null|          null|  PREPAY EDIT CHANGE|                    null|               null|               1|\n",
      "|     Claim Control Inf...|58685ae6-ff43-47b...|           CXREJ8E4A|186d891e-989b-4f9...|                 AJXWFFES38|   2022-02-24T22:55:...|     2022-02-24T23:24:...|0c879a49-51db-5d3...|       DENTAL|              1|                  EDI|            null|508abe1d-e794-4d2...|        FALSE|           FALSE|               PAID|                           2|        AJX53J5972-1|        null|                   null|                null|            null|                null|               null|              null|               null|                     null|          NULL|        TRUE|                  TRUE|                  FALSE|          TRUE|       FALSE|                 TRUE|                       FALSE|                   N|Member Information|7aec4da3-e557-4e8...|               D7F42H|       5FV6NY4GN74|             ****|     ****|            ****|         ****|      1933|     F|                ****|                ****|                ****|               ****|                  TX|              ****|  ****|Medicare|    TX|     prime|Devoted Health Pr...|       null|     null|        null|      null|     null|       null|Provider Information|Provider Type ToDo|                 null|                  null|                   null|           1003017096|            1003017096|                   null|                      1223G0001X|                 General Practice|         1003017096|           752518300|          1003017096|  JDC HEALTHCARE PLLC|              1632 SPENCER HWY|                          null|                SOUTH HOUSTON|                            TX|                           775873752|       null|                  null|                   null|                      null|                      null|                 null|                  null|                null|      1223G0001X|    Dental Providers|       General Practice|413339a8-db1a-484...|     DentaQuest (TX)| JDC HEALTHCARE PLLC|        Claim Processing ...|         2021-02-05|                  null|            2021-01-29|                null|              null|        2021-01-12|       2021-01-12|          null|          null|          null|                  null|            2021-01-29|  2022-04-28|                null|                 null|                  null|                   null|                    null|                     null|    Claim Header Info...|                 TBD|          null|                null|                   11|               Office|null|null|null|null|null|null|null|null|null|null|null|null|null|null|null|null|null|null|null|null|null|null|null|null|null|null|null|null|null|null|null|null|null|null|null|null|null|null|null|null|null|null|null|null|null|null|null|null|    null|    null|    null| null| null| null| null| null| null|  null|  null|  null|  null|  null|  null|  null|  null|  null|  null|  null|  null|  null|  null|  null| null| null| null| null| null| null| null| null| null|  null|  null|  null|  null|  null|  null|  null|  null|  null|  null|  null|  null|  null|  null|  null|             null|  null|  null|  null|  null|  null|  null|  null|  null|   null|   null|   null|   null|   null|   null|   null|   null|   null|   null|   null|   null|   null|   null|   null|null|null|null|null|null|null|null|null|null| null| null| null| null| null| null| null| null| null| null| null| null| null| null| null|null|null|null|null|null|null|null|null|null| null| null| null| null| null| null| null| null| null| null| null| null| null| null| null|                 null|               null|          null|                 null|          null|      null|      null|      null|               4|                     null|    null|null|null|null|null|null|null|null|null|null| null| null| null| null| null| null| null| null| null| null| null| null| null| null| null| null|  null|  null|  null|  null|  null|  null|  null|  null|  null|   null|   null|   null|   null|   null|   null|   null|   null|   null|   null|   null|   null|   null|   null|   null|   null|                    255.01|                    105.96|                          null|                          null|                    null|                         0.00|                 105.96|              null|                null|  202102640133000|                    null|               FALSE|             FALSE|       Claim Diagnosis I...|           0|    null|   null|       null|       null|null|       null|null|       null|null|       null|null|       null|null|       null|null|       null|null|       null|null|       null|null|        null| null|        null| null|        null| null|        null| null|        null| null|        null| null|        null| null|        null| null|        null| null|        null| null|        null| null|        null| null|        null| null|        null| null|        null| null|        null| null|        null| null|        null| null|        null| null|        null| null|        null| null|        null| null|        null| null|        null| null|        null| null|        null| null|        null| null|        null| null|        null| null|        null| null|        null| null|        null| null|        null| null|        null| null|        null| null|        null| null|        null| null|        null| null|        null| null|null|null|null|null|null|null|null|null|null|null|null|null|null|null|null|null|null|null|null|null|null| null| null| null|         null|         null|         null|  Claim Line Inform...|6ae06360-475b-49d...|                 0|  2021-01-12|            null|        null|         D0150|         null|          null|          null|          null|          null|null|null|null|null|              null|      null|            null|    null|        80.00|          35.32|                              null|              null|        null|                              0.00|             44.68|           35.32|    O|  0.00| CO-45| null| null| null| null| null| null| null| null| null|                TRUE|       PAID|                        S|                           DENTAQUEST|                                           P|                     0|                               35.32|                  2021-01-29|      CO|     45|  44.68|    null|   null|   null|    null|   null|   null|    null|   null|   null|    null|   null|   null|  105.96|        D|    null|     null|    null|     null|    null|     null|                 null|                  null|                   null|                 null|                  null|                   null|                       null|                        null|                         null|          null|POLICY CHANGE- Re...|                    null|               null|               0|\n",
      "|     Claim Control Inf...|a3cee48f-6eee-45b...|           CXKSS4Y6R|088bab43-220f-45e...|                 AJXS6KCK67|   2021-04-28T19:33:...|     2021-04-29T12:35:...|d90b551a-c957-503...| PROFESSIONAL|              1|                  EDI|            TRUE|5e1436b8-2983-493...|        FALSE|           FALSE|               PAID|                           1|          AJXS6KCK67|  RECONCILED|                 229197|MEM PRIMARY CARE ...|      1134102080|       PO BOX 538500|               null|           ATLANTA|                 GA|                303538500|          NULL|       FALSE|                 FALSE|                  FALSE|         FALSE|       FALSE|                 TRUE|                       FALSE|                   N|Member Information|a42cfd6b-8cb8-421...|               DA954W|       6NF5PD3AU98|             ****|     ****|            ****|         ****|      1955|     M|                ****|                ****|                ****|               ****|                  FL|              ****|  ****|Medicare|    FL|essentials|Devoted Health Es...|       null|     null|        null|      null|     null|       null|Provider Information|Provider Type ToDo|              PX9889K|            1154301828|          Salvador Mora|              PX9889K|            1154301828|          SALVADOR MORA|                      207R00000X|             Allopathic & Oste...|            PX9889K|           596014973|          1134102080|        Salvador Mora|             10910 PEMBROKE RD|                          null|                      MIRAMAR|                            FL|                           330251706|   FXGAG38J|                  null|                   null|                      null|                      null|                 null|                  null|                null|      207R00000X|Allopathic & Oste...|                   null|d5bb68ca-3c09-455...|MEMORIAL HEALTHCA...|MEM PRIMARY CARE ...|        Claim Processing ...|         2021-04-28|                  null|            2021-04-29|                null|              null|        2021-04-27|       2021-04-27|          null|          null|          null|            2021-04-29|            2021-04-30|  2022-04-28|                null|                 null|                  null|                   null|                    null|                     null|    Claim Header Info...|                 TBD|          null|                null|                   11|               Office|null|null|null|null|null|null|null|null|null|null|null|null|null|null|null|null|null|null|null|null|null|null|null|null|null|null|null|null|null|null|null|null|null|null|null|null|null|null|null|null|null|null|null|null|null|null|null|null|    null|    null|    null| null| null| null| null| null| null|  null|  null|  null|  null|  null|  null|  null|  null|  null|  null|  null|  null|  null|  null|  null| null| null| null| null| null| null| null| null| null|  null|  null|  null|  null|  null|  null|  null|  null|  null|  null|  null|  null|  null|  null|  null|             null|  null|  null|  null|  null|  null|  null|  null|  null|   null|   null|   null|   null|   null|   null|   null|   null|   null|   null|   null|   null|   null|   null|   null|null|null|null|null|null|null|null|null|null| null| null| null| null| null| null| null| null| null| null| null| null| null| null| null|null|null|null|null|null|null|null|null|null| null| null| null| null| null| null| null| null| null| null| null| null| null| null| null|                 null|               null|          null|                 null|          null|      null|      null|      null|              13|                     null|    null|null|null|null|null|null|null|null|null|null| null| null| null| null| null| null| null| null| null| null| null| null| null| null| null| null|  null|  null|  null|  null|  null|  null|  null|  null|  null|   null|   null|   null|   null|   null|   null|   null|   null|   null|   null|   null|   null|   null|   null|   null|   null|                    340.00|                    142.23|                        135.46|                          null|                    null|                         0.00|                 142.23|              null|                null|    P101055965750|                    null|               FALSE|             FALSE|       Claim Diagnosis I...|           0|    null|  E1159|       null|      E1169|null|      Z6828|null|       C182|null|       K029|null|       I152|null|       E785|null|       null|null|       null|null|       null|null|        null| null|        null| null|        null| null|        null| null|        null| null|        null| null|        null| null|        null| null|        null| null|        null| null|        null| null|        null| null|        null| null|        null| null|        null| null|        null| null|        null| null|        null| null|        null| null|        null| null|        null| null|        null| null|        null| null|        null| null|        null| null|        null| null|        null| null|        null| null|        null| null|        null| null|        null| null|        null| null|        null| null|        null| null|        null| null|        null| null|        null| null|        null| null|        null| null|null|null|null|null|null|null|null|null|null|null|null|null|null|null|null|null|null|null|null|null|null| null| null| null|         null|         null|         null|  Claim Line Inform...|6b2cdc94-4a6d-439...|                 8|  2021-04-27|            null|        null|         3725F|         null|          null|          null|          null|          null|   1|null|null|null|              null|      null|            null| 1.00000|         0.00|           0.00|                              0.00|              null|        null|                              0.00|              0.00|            0.00| null|  0.00|  null| null| null| null| null| null| null| null| null| null|               FALSE|  ENCOUNTER|                     null|                                 null|                                        null|                  null|                                null|                        null|    null|   null|   null|    null|   null|   null|    null|   null|   null|    null|   null|   null|    null|   null|   null|    null|     null|    null|     null|    null|     null|    null|     null|                 null|                  null|                   null|                 null|                  null|                   null|                       null|                        null|                         null|          null|                null|                    null|               null|               0|\n",
      "|     Claim Control Inf...|ff9be4db-ff2a-46d...|           CXJ262H63|7a15f24a-545e-487...|                 AJXA3EGHH8|   2021-04-28T20:34:...|     2021-04-28T20:35:...|f7bb8cd5-9e6c-5ee...| PROFESSIONAL|              1|                  EDI|            null|                null|        FALSE|            null|          REPORTING|                           1|          AJXA3EGHH8|        null|                   null|                null|            null|                null|               null|              null|               null|                     null|          NULL|       FALSE|                 FALSE|                   TRUE|          TRUE|       FALSE|                 TRUE|                       FALSE|                   N|Member Information|14467ddc-4a62-4b6...|               DYC86A|       6CY5DR0TP89|             ****|     ****|            ****|         ****|      1956|     F|                ****|                ****|                ****|               ****|                  FL|              ****|  ****|Medicare|    FL|essentials|Devoted Health Es...|       null|     null|        null|      null|     null|       null|Provider Information|Provider Type ToDo|                 null|                  null|                   null|              PX72Z9J|            1669073847|     LINEY RIVERO RAMOS|                      193200000X|             Group/Multi-Speci...|            PX72Z9J|           202539389|          1245385095|   Liney Rivero Ramos|               12171 SW 268 ST|                          null|                    HOMESTEAD|                            FL|                           330328001|       null|                  null|   AMERICAN CARE OF ...|      11211 N NEBRASKA ...|                      null|                TAMPA|                    FL|           336125777|      363LF0000X|Physician Assista...|                 Family|998192de-cf34-414...|American Care of ...|AMERICAN CARE OF ...|        Claim Processing ...|         2021-04-28|                  null|            2021-04-28|                null|              null|        2021-04-19|       2021-04-19|          null|          null|          null|                  null|                  null|  2022-04-28|                null|                 null|                  null|                   null|                    null|                     null|    Claim Header Info...|                 TBD|          null|                null|                   11|               Office|null|null|null|null|null|null|null|null|null|null|null|null|null|null|null|null|null|null|null|null|null|null|null|null|null|null|null|null|null|null|null|null|null|null|null|null|null|null|null|null|null|null|null|null|null|null|null|null|    null|    null|    null| null| null| null| null| null| null|  null|  null|  null|  null|  null|  null|  null|  null|  null|  null|  null|  null|  null|  null|  null| null| null| null| null| null| null| null| null| null|  null|  null|  null|  null|  null|  null|  null|  null|  null|  null|  null|  null|  null|  null|  null|             null|  null|  null|  null|  null|  null|  null|  null|  null|   null|   null|   null|   null|   null|   null|   null|   null|   null|   null|   null|   null|   null|   null|   null|null|null|null|null|null|null|null|null|null| null| null| null| null| null| null| null| null| null| null| null| null| null| null| null|null|null|null|null|null|null|null|null|null| null| null| null| null| null| null| null| null| null| null| null| null| null| null| null|                 null|               null|          null|                 null|          null|      null|      null|      null|               1|                     null|    null|null|null|null|null|null|null|null|null|null| null| null| null| null| null| null| null| null| null| null| null| null| null| null| null| null|  null|  null|  null|  null|  null|  null|  null|  null|  null|   null|   null|   null|   null|   null|   null|   null|   null|   null|   null|   null|   null|   null|   null|   null|   null|                      1.00|                      0.00|                          null|                          null|                    null|                         0.00|                   0.00|              null|                null|           504371|                    null|               FALSE|             FALSE|       Claim Diagnosis I...|           0|    null|  Z6835|       null|       null|null|       null|null|       null|null|       null|null|       null|null|       null|null|       null|null|       null|null|       null|null|        null| null|        null| null|        null| null|        null| null|        null| null|        null| null|        null| null|        null| null|        null| null|        null| null|        null| null|        null| null|        null| null|        null| null|        null| null|        null| null|        null| null|        null| null|        null| null|        null| null|        null| null|        null| null|        null| null|        null| null|        null| null|        null| null|        null| null|        null| null|        null| null|        null| null|        null| null|        null| null|        null| null|        null| null|        null| null|        null| null|        null| null|        null| null|        null| null|null|null|null|null|null|null|null|null|null|null|null|null|null|null|null|null|null|null|null|null|null| null| null| null|         null|         null|         null|  Claim Line Inform...|2367eea1-17ae-405...|                 0|  2021-04-19|            null|        null|         3008F|         null|          null|          null|          null|          null|   1|null|null|null|              null|      null|            null| 1.00000|         1.00|           0.00|                              null|              null|        null|                              0.00|              1.00|            0.00| null|  0.00|OA-246| null| null| null| null| null| null| null| null| null|               FALSE|  REPORTING|                     null|                                 null|                                        null|                  null|                                null|                        null|    null|   null|   null|    null|   null|   null|    null|   null|   null|    null|   null|   null|    null|   null|   null|    null|     null|    null|     null|    null|     null|    null|     null|                 null|                  null|                   null|                 null|                  null|                   null|                       null|                        null|                         null|          null|                null|                    null|               null|               0|\n",
      "|     Claim Control Inf...|93203930-663c-45f...|           CXJG9AE54|5078a3f4-82d5-45b...|                 AJXGC8HJY2|   2022-02-28T18:33:...|     2022-03-01T17:30:...|beba490f-647c-5b3...| PROFESSIONAL|              1|                  EDI|            TRUE|5e1436b8-2983-493...|        FALSE|           FALSE|               PAID|                           1|          AJXGC8HJY2|  RECONCILED|                  36896|   THE MAXWELL GROUP|      1912188384|14678 N DEL WEBB ...|               null|          SUN CITY|                 AZ|                853512137|          NULL|       FALSE|                 FALSE|                  FALSE|         FALSE|       FALSE|                 TRUE|                       FALSE|                   N|Member Information|f6cfe6a4-0670-48d...|               DAHHF2|       8YQ7K04FU36|             ****|     ****|            ****|         ****|      1949|     F|                ****|                ****|                ****|               ****|                  AZ|              ****|  ****|Medicare|    AZ|      core|Devoted Health Co...|       null|     null|        null|      null|     null|       null|Provider Information|Provider Type ToDo|              PX3R737|            1710064183|         Cynthia Medina|              PX3R737|            1710064183|         CYNTHIA MEDINA|                      207Q00000X|             Allopathic & Oste...|            PX3R737|           860674198|          1912188384|       Cynthia Medina|          14678 N DEL WEBB ...|                          null|                     SUN CITY|                            AZ|                           853512137|       null|                  null|                   null|                      null|                      null|                 null|                  null|                null|      207Q00000X|Allopathic & Oste...|                   null|02dfce36-2018-47c...|The Maxwell Group...|   THE MAXWELL GROUP|        Claim Processing ...|         2022-02-28|                  null|            2022-03-01|                null|              null|        2022-02-24|       2022-02-24|          null|          null|          null|            2022-03-01|            2022-03-02|  2022-04-28|                null|                 null|                  null|                   null|                    null|                     null|    Claim Header Info...|                 TBD|          null|                null|                   11|               Office|null|null|null|null|null|null|null|null|null|null|null|null|null|null|null|null|null|null|null|null|null|null|null|null|null|null|null|null|null|null|null|null|null|null|null|null|null|null|null|null|null|null|null|null|null|null|null|null|    null|    null|    null| null| null| null| null| null| null|  null|  null|  null|  null|  null|  null|  null|  null|  null|  null|  null|  null|  null|  null|  null| null| null| null| null| null| null| null| null| null|  null|  null|  null|  null|  null|  null|  null|  null|  null|  null|  null|  null|  null|  null|  null|             null|  null|  null|  null|  null|  null|  null|  null|  null|   null|   null|   null|   null|   null|   null|   null|   null|   null|   null|   null|   null|   null|   null|   null|null|null|null|null|null|null|null|null|null| null| null| null| null| null| null| null| null| null| null| null| null| null| null| null|null|null|null|null|null|null|null|null|null| null| null| null| null| null| null| null| null| null| null| null| null| null| null| null|                 null|               null|          null|                 null|          null|      null|      null|      null|               7|                     null|    null|null|null|null|null|null|null|null|null|null| null| null| null| null| null| null| null| null| null| null| null| null| null| null| null| null|  null|  null|  null|  null|  null|  null|  null|  null|  null|   null|   null|   null|   null|   null|   null|   null|   null|   null|   null|   null|   null|   null|   null|   null|   null|                    180.00|                    132.53|                        110.44|                          null|                    null|                         0.00|                 132.53|              null|                null|       111D340523|                    null|               FALSE|             FALSE|       Claim Diagnosis I...|           0|    null|    I10|       null|       E039|null|       R519|null|      F5101|null|       null|null|       null|null|       null|null|       null|null|       null|null|       null|null|        null| null|        null| null|        null| null|        null| null|        null| null|        null| null|        null| null|        null| null|        null| null|        null| null|        null| null|        null| null|        null| null|        null| null|        null| null|        null| null|        null| null|        null| null|        null| null|        null| null|        null| null|        null| null|        null| null|        null| null|        null| null|        null| null|        null| null|        null| null|        null| null|        null| null|        null| null|        null| null|        null| null|        null| null|        null| null|        null| null|        null| null|        null| null|        null| null|null|null|null|null|null|null|null|null|null|null|null|null|null|null|null|null|null|null|null|null|null| null| null| null|         null|         null|         null|  Claim Line Inform...|3fccab5c-30c7-47b...|                 4|  2022-02-24|            null|        null|         G8427|         null|          null|          null|          null|          null|   1|null|null|null|              null|      null|            null| 1.00000|         0.00|           0.00|                              0.00|              null|        null|                              0.00|              0.00|            0.00| null|  0.00|  null| null| null| null| null| null| null| null| null| null|               FALSE|  ENCOUNTER|                     null|                                 null|                                        null|                  null|                                null|                        null|    null|   null|   null|    null|   null|   null|    null|   null|   null|    null|   null|   null|    null|   null|   null|    null|     null|    null|     null|    null|     null|    null|     null|                 null|                  null|                   null|                 null|                  null|                   null|                       null|                        null|                         null|          null|                null|                    null|               null|               0|\n",
      "|     Claim Control Inf...|1c42876f-0624-4b2...|           CXYJF3W4F|c48132e7-f900-4d7...|                 AJX38RW53G|   2019-03-01T16:06:...|     2019-03-03T02:00:...|804245ff-8620-533...| PROFESSIONAL|              1|                  EDI|           FALSE|07419615-ab31-4d4...|         null|            TRUE|             DENIED|                           1|          AJX38RW53G|  RECONCILED|                   7822|     GESSLERCLINICPA|      1154399533|635 FIRST STREET ...|               null|      WINTER HAVEN|                 FL|                338814129|          NULL|       FALSE|                 FALSE|                  FALSE|         FALSE|       FALSE|                 TRUE|                       FALSE|                   N|Member Information|c313ba85-bb1d-44f...|                 null|              null|             ****|     ****|            ****|         ****|      null|  null|                ****|                ****|                ****|               ****|                null|              ****|  ****|Medicare|  null|      null|                null|       null|     null|        null|      null|     null|       null|Provider Information|Provider Type ToDo|                 null|                  null|                   null|              PX3RAH4|            1891704581|       TRISTAN HARRISON|                      207Q00000X|             Allopathic & Oste...|            PX3RAH4|           591407610|          1154399533|     Tristan Harrison|          635 FIRST STREET ...|                          null|                 WINTER HAVEN|                            FL|                           338814129|       null|            1154399533|     GESSLER CLINIC P A|        635 FIRST ST NORTH|                      null|         WINTER HAVEN|                    FL|           338814129|      207Q00000X|Allopathic & Oste...|                   null|2181df71-8e8f-4b8...|GESSLER CLINIC PR...|     GESSLERCLINICPA|        Claim Processing ...|         2019-03-01|                  null|            2019-03-02|                null|              null|        2019-02-21|       2019-02-21|          null|          null|          null|            2019-03-04|            2019-03-06|  2022-04-28|             PX3RAH4|           1891704581|      Tristan Harrison|                   null|                    null|                     null|    Claim Header Info...|                 TBD|          null|                null|                   11|               Office|null|null|null|null|null|null|null|null|null|null|null|null|null|null|null|null|null|null|null|null|null|null|null|null|null|null|null|null|null|null|null|null|null|null|null|null|null|null|null|null|null|null|null|null|null|null|null|null|    null|    null|    null| null| null| null| null| null| null|  null|  null|  null|  null|  null|  null|  null|  null|  null|  null|  null|  null|  null|  null|  null| null| null| null| null| null| null| null| null| null|  null|  null|  null|  null|  null|  null|  null|  null|  null|  null|  null|  null|  null|  null|  null|             null|  null|  null|  null|  null|  null|  null|  null|  null|   null|   null|   null|   null|   null|   null|   null|   null|   null|   null|   null|   null|   null|   null|   null|null|null|null|null|null|null|null|null|null| null| null| null| null| null| null| null| null| null| null| null| null| null| null| null|null|null|null|null|null|null|null|null|null| null| null| null| null| null| null| null| null| null| null| null| null| null| null| null|                 null|               null|          null|                 null|          null|      null|      null|      null|               5|                     null|    null|null|null|null|null|null|null|null|null|null| null| null| null| null| null| null| null| null| null| null| null| null| null| null| null| null|  null|  null|  null|  null|  null|  null|  null|  null|  null|   null|   null|   null|   null|   null|   null|   null|   null|   null|   null|   null|   null|   null|   null|   null|   null|                    218.00|                      0.00|                         84.11|                          null|                    null|                         0.00|                   0.00|              null|                null|000439514GES67652|                    null|               FALSE|             FALSE|       Claim Diagnosis I...|           0|    null|   N184|       null|       E782|null|        I10|null|       null|null|       null|null|       null|null|       null|null|       null|null|       null|null|       null|null|        null| null|        null| null|        null| null|        null| null|        null| null|        null| null|        null| null|        null| null|        null| null|        null| null|        null| null|        null| null|        null| null|        null| null|        null| null|        null| null|        null| null|        null| null|        null| null|        null| null|        null| null|        null| null|        null| null|        null| null|        null| null|        null| null|        null| null|        null| null|        null| null|        null| null|        null| null|        null| null|        null| null|        null| null|        null| null|        null| null|        null| null|        null| null|        null| null|null|null|null|null|null|null|null|null|null|null|null|null|null|null|null|null|null|null|null|null|null| null| null| null|         null|         null|         null|  Claim Line Inform...|b3f4dd60-94df-426...|                 3|  2019-02-21|            null|        null|         85025|         null|          null|          null|          null|          null|   3|null|null|null|              null|      null|            null| 1.00000|        25.00|           0.00|                              8.63|              null|        null|                              0.00|             25.00|            0.00| null|  0.00|OA-109| null| null| null| null| null| null| null| null| null|               FALSE|     DENIED|                     null|                                 null|                                        null|                  null|                                null|                        null|    null|   null|   null|    null|   null|   null|    null|   null|   null|    null|   null|   null|    null|   null|   null|    null|     null|    null|     null|    null|     null|    null|     null|                 null|                  null|                   null|                 null|                  null|                   null|                       null|                        null|                         null|          null|                null|                    null|          ORPX6FJ4F|               0|\n",
      "|     Claim Control Inf...|3bb89c50-7647-419...|           CX8UY3C9G|7e7810ec-cf9c-4d4...|                 AJXY8ERY56|   2022-03-06T12:07:...|     2022-03-08T19:07:...|f1ab2e49-0039-5ac...|INSTITUTIONAL|              1|                  EDI|            TRUE|5e1436b8-2983-493...|        FALSE|           FALSE|               PAID|                           1|          AJXY8ERY56|  RECONCILED|                  38331|FRESENIUS MEDICAL...|      1134231939|       PO BOX 842244|               null|       LOS ANGELES|                 CA|                900842244|          NULL|       FALSE|                 FALSE|                  FALSE|         FALSE|       FALSE|                 TRUE|                       FALSE|                   N|Member Information|45060cf2-bae0-41f...|               DJRHSK|       4J76QK3KD50|             ****|     ****|            ****|         ****|      1946|     M|                ****|                ****|                ****|               ****|                  AZ|              ****|  ****|Medicare|    AZ|      core|Devoted Health Co...|       null|     null|        null|      null|     null|       null|Provider Information|Provider Type ToDo|                 null|                  null|                   null|           1134231939|            1134231939|                   null|                      261QE0700X|             End-Stage Renal D...|         1134231939|           042977283|          1134231939| FRESENIUS MEDICAL...|          10750 W MCDOWELL ...|                          null|                     AVONDALE|                            AZ|                           853925960|   FX8Y7K7U|                  null|                   null|                      null|                      null|                 null|                  null|                null|      261QE0700X|Ambulatory Health...|   End-Stage Renal D...|efe7deaa-c2d8-430...|Fresenius Kidney ...|FRESENIUS MEDICAL...|        Claim Processing ...|         2022-03-06|                  null|            2022-03-08|          2022-02-02|        2022-02-28|        2022-02-02|       2022-02-28|    2022-02-02|    2022-02-28|            26|            2022-03-08|            2022-03-09|  2022-04-28|                null|                 null|                  null|                   null|                    null|                     null|    Claim Header Info...|                 TBD|            72|Clinic - Hospital...|                   65| End-Stage Renal D...|  71|null|null|null|null|null|null|null|null|null|null|null|null|null|null|null|null|null|null|null|null|null|null|null|  33|  51|null|null|null|null|null|null|null|null|null|null|null|null|null|null|null|null|null|null|null|null|null|null|20170317|20220214|    null| null| null| null| null| null| null|  null|  null|  null|  null|  null|  null|  null|  null|  null|  null|  null|  null|  null|  null|  null| null| null| null| null| null| null| null| null| null|  null|  null|  null|  null|  null|  null|  null|  null|  null|  null|  null|  null|  null|  null|  null|             null|  null|  null|  null|  null|  null|  null|  null|  null|   null|   null|   null|   null|   null|   null|   null|   null|   null|   null|   null|   null|   null|   null|   null|  48|  A8|  A9|  D5|null|null|null|null|null| null| null| null| null| null| null| null| null| null| null| null| null| null| null| null|10.7|78.8| 168| 1.6|null|null|null|null|null| null| null| null| null| null| null| null| null| null| null| null| null| null| null| null|                    1|                  2|          null|                   01|          null|      null|      null|      null|              45|                     null|    null|null|null|null|null|null|null|null|null|null| null| null| null| null| null| null| null| null| null| null| null| null| null| null| null| null|  null|  null|  null|  null|  null|  null|  null|  null|  null|   null|   null|   null|   null|   null|   null|   null|   null|   null|   null|   null|   null|   null|   null|   null|   null|                 109383.38|                   3450.50|                       2545.30|                         69.01|                    null|                       690.10|                2760.40|              null|                null|     SRN161906214|                    null|               FALSE|             FALSE|       Claim Diagnosis I...|           0|    null|   N186|       null|      N2581|null|       Z992|null|       D509|null|       E875|null|       D631|null|       null|null|       null|null|       null|null|       null|null|        null| null|        null| null|        null| null|        null| null|        null| null|        null| null|        null| null|        null| null|        null| null|        null| null|        null| null|        null| null|        null| null|        null| null|        null| null|        null| null|        null| null|        null| null|        null| null|        null| null|        null| null|        null| null|        null| null|        null| null|        null| null|        null| null|        null| null|        null| null|        null| null|        null| null|        null| null|        null| null|        null| null|        null| null|        null| null|        null| null|        null| null|        null| null|        null| null|null|null|null|null|null|null|null|null|null|null|null|null|null|null|null|null|null|null|null|null|null| null| null| null|         N186|         null|         null|  Claim Line Inform...|cc382305-9171-451...|                20|  2022-02-07|            null|        0304|         83970|         null|          null|          null|          null|          null|null|null|null|null|              null|      null|            null| 1.00000|      1637.94|           0.00|                              0.00|              null|        null|                              0.00|           1637.94|            0.00| null|  0.00| PI-97| null| null| null| null| null| null| null| null| null|               FALSE|     DENIED|                     null|                                 null|                                        null|                  null|                                null|                        null|    null|   null|   null|    null|   null|   null|    null|   null|   null|    null|   null|   null|    null|   null|   null|    null|     null|    null|     null|    null|     null|    null|     null|              PX52FGH|            1497118889|         Golnaz Vahdani|                 null|                  null|                   null|                       null|                        null|                         null|          null|                null|                    null|               null|               1|\n",
      "|     Claim Control Inf...|d0ee1bce-895a-418...|           CXR2RU543|4f05479b-d31c-450...|                 AJXAZ73JR4|   2021-10-25T22:57:...|     2021-10-26T16:16:...|8ac3ee56-4a5d-540...|INSTITUTIONAL|              1|                  EDI|            TRUE|5e1436b8-2983-493...|        FALSE|           FALSE|               PAID|                           1|          AJXAZ73JR4|  RECONCILED|                 328223|Southern Baptist ...|      1578620449|        PO BOX 45094|               null|      Jacksonville|                 FL|                    32232|          NULL|       FALSE|                 FALSE|                  FALSE|         FALSE|       FALSE|                 TRUE|                       FALSE|                   N|Member Information|4f68f39c-cdf2-40e...|               DY9SU2|       4CU4A50AC94|             ****|     ****|            ****|         ****|      1952|     M|                ****|                ****|                ****|               ****|                  FL|              ****|  ****|Medicare|    FL|      core|Devoted Health Co...|       null|     null|        null|      null|     null|       null|Provider Information|Provider Type ToDo|                 null|                  null|                   null|           1578620449|            1578620449|                   null|                      282N00000X|                             null|         1578620449|           590747311|          1578620449| BAPTIST MEDICAL C...|          14550 ST AUGUSTIN...|                          null|                 JACKSONVILLE|                            FL|                           322582460|   FX35Z4HY|                  null|                   null|                      null|                      null|                 null|                  null|                null|      282N00000X|           Hospitals|                   null|1e97e4fb-353e-441...|Southern Baptist ...|BAPTIST MEDICAL C...|        Claim Processing ...|         2021-10-25|                  null|            2021-10-26|          2021-09-22|        2021-09-29|        2021-09-22|       2021-09-29|    2021-09-22|    2021-09-29|             7|            2021-10-26|            2021-10-27|  2022-04-28|                null|                 null|                  null|                   null|                    null|                     null|    Claim Header Info...|                 TBD|            13| Hospital Outpatient|                   22| On Campus - Outpa...|null|null|null|null|null|null|null|null|null|null|null|null|null|null|null|null|null|null|null|null|null|null|null|null|  11|  A1|  B1|null|null|null|null|null|null|null|null|null|null|null|null|null|null|null|null|null|null|null|null|null|20210922|19521029|19521029| null| null| null| null| null| null|  null|  null|  null|  null|  null|  null|  null|  null|  null|  null|  null|  null|  null|  null|  null| null| null| null| null| null| null| null| null| null|  null|  null|  null|  null|  null|  null|  null|  null|  null|  null|  null|  null|  null|  null|  null|             null|  null|  null|  null|  null|  null|  null|  null|  null|   null|   null|   null|   null|   null|   null|   null|   null|   null|   null|   null|   null|   null|   null|   null|null|null|null|null|null|null|null|null|null| null| null| null| null| null| null| null| null| null| null| null| null| null| null| null|null|null|null|null|null|null|null|null|null| null| null| null| null| null| null| null| null| null| null| null| null| null| null| null|                    1|                  3|          null|                   01|          null|      null|      null|      null|              12|                     null|    null|null|null|null|null|null|null|null|null|null| null| null| null| null| null| null| null| null| null| null| null| null| null| null| null| null|  null|  null|  null|  null|  null|  null|  null|  null|  null|   null|   null|   null|   null|   null|   null|   null|   null|   null|   null|   null|   null|   null|   null|   null|   null|                  21379.81|                   3112.63|                       2936.44|                          null|                  125.00|                       125.00|                2987.63|              null|                null|         63945646|                    null|               FALSE|             FALSE|       Claim Diagnosis I...|           0|    null|  K4090|       null|        I10|null|     Z79899|null|     Z87891|null|     Z01812|null|     Z20822|null|       null|null|       null|null|       null|null|       null|null|        null| null|        null| null|        null| null|        null| null|        null| null|        null| null|        null| null|        null| null|        null| null|        null| null|        null| null|        null| null|        null| null|        null| null|        null| null|        null| null|        null| null|        null| null|        null| null|        null| null|        null| null|        null| null|        null| null|        null| null|        null| null|        null| null|        null| null|        null| null|        null| null|        null| null|        null| null|        null| null|        null| null|        null| null|        null| null|        null| null|        null| null|        null| null|        null| null|null|null|null|null|null|null|null|null|null|null|null|null|null|null|null|null|null|null|null|null|null| null| null| null|        K4090|         null|         null|  Claim Line Inform...|a751763f-ba33-46c...|                 3|  2021-09-29|            null|        0272|          null|         null|          null|          null|          null|          null|null|null|null|null|              null|      null|            null| 1.00000|        36.00|           0.00|                              0.00|              null|        null|                              0.00|             36.00|            0.00| null|  0.00| PI-97| null| null| null| null| null| null| null| null| null|               FALSE|     DENIED|                     null|                                 null|                                        null|                  null|                                null|                        null|    null|   null|   null|    null|   null|   null|    null|   null|   null|    null|   null|   null|    null|   null|   null|    null|     null|    null|     null|    null|     null|    null|     null|              PXHARCR|            1518925395|      Jefferson Edwards|              PXHARCR|            1518925395|      Jefferson Edwards|                       null|                        null|                         null|          null|                null|                    null|               null|               1|\n",
      "|     Claim Control Inf...|124a3846-e6a2-406...|           CXS68UF6E|6a2212f1-de56-4cd...|                 AJXH8776SJ|   2021-10-05T04:33:...|     2021-10-05T16:57:...|ff3b9c51-6a9f-55a...| PROFESSIONAL|              1|                  EDI|            TRUE|5e1436b8-2983-493...|        FALSE|           FALSE|               PAID|                           1|          AJXH8776SJ|  RECONCILED|                 169365|     PCP FOR LIFE PA|      1497071955|12015 LOUETTA RD ...|               null|           HOUSTON|                 TX|                770701148|          NULL|       FALSE|                 FALSE|                  FALSE|         FALSE|       FALSE|                 TRUE|                       FALSE|                   N|Member Information|4b970ae4-6d87-44b...|               D3HYHY|       5JH0UF9PA15|             ****|     ****|            ****|         ****|      1948|     F|                ****|                ****|                ****|               ****|                  TX|              ****|  ****|Medicare|    TX|      core|Devoted Health Gr...|       null|     null|        null|      null|     null|       null|Provider Information|Provider Type ToDo|              PXUZYK6|            1285660241|     Najmuddin Karimjee|              PXUZYK6|            1285660241|     NAJMUDDIN KARIMJEE|                      207R00000X|             Allopathic & Oste...|            PXUZYK6|           272273286|          1497071955|   Najmuddin Karimjee|          12015 LOUETTA RD ...|                          null|                      HOUSTON|                            TX|                           770701148|       null|            1497071955|   EAST MONTGOMERY C...|      16401 FIRST ST ST...|                      null|            SPLENDORA|                    TX|           773724026|      207R00000X|Allopathic & Oste...|                   null|b5ea71be-768d-4de...|PCP for Life| PA ...|     PCP FOR LIFE PA|        Claim Processing ...|         2021-10-05|                  null|            2021-10-05|                null|              null|        2021-10-01|       2021-10-01|          null|          null|          null|            2021-10-05|            2021-10-06|  2022-04-28|                null|                 null|                  null|                   null|                    null|                     null|    Claim Header Info...|                 TBD|          null|                null|                   11|               Office|null|null|null|null|null|null|null|null|null|null|null|null|null|null|null|null|null|null|null|null|null|null|null|null|null|null|null|null|null|null|null|null|null|null|null|null|null|null|null|null|null|null|null|null|null|null|null|null|    null|    null|    null| null| null| null| null| null| null|  null|  null|  null|  null|  null|  null|  null|  null|  null|  null|  null|  null|  null|  null|  null| null| null| null| null| null| null| null| null| null|  null|  null|  null|  null|  null|  null|  null|  null|  null|  null|  null|  null|  null|  null|  null|             null|  null|  null|  null|  null|  null|  null|  null|  null|   null|   null|   null|   null|   null|   null|   null|   null|   null|   null|   null|   null|   null|   null|   null|null|null|null|null|null|null|null|null|null| null| null| null| null| null| null| null| null| null| null| null| null| null| null| null|null|null|null|null|null|null|null|null|null| null| null| null| null| null| null| null| null| null| null| null| null| null| null| null|                 null|               null|          null|                 null|          null|      null|      null|      null|              14|                     null|    null|null|null|null|null|null|null|null|null|null| null| null| null| null| null| null| null| null| null| null| null| null| null| null| null| null|  null|  null|  null|  null|  null|  null|  null|  null|  null|   null|   null|   null|   null|   null|   null|   null|   null|   null|   null|   null|   null|   null|   null|   null|   null|                    390.01|                    126.50|                        126.50|                          null|                    null|                         0.00|                 126.50|              null|                null|          1023033|                    null|               FALSE|             FALSE|       Claim Diagnosis I...|           0|    null|   E782|       null|      K2100|null|     J45998|null|     F17210|null|     M25511|null|      Z7189|null|       M810|null|     Z86010|null|      Z6823|null|       null|null|        null| null|        null| null|        null| null|        null| null|        null| null|        null| null|        null| null|        null| null|        null| null|        null| null|        null| null|        null| null|        null| null|        null| null|        null| null|        null| null|        null| null|        null| null|        null| null|        null| null|        null| null|        null| null|        null| null|        null| null|        null| null|        null| null|        null| null|        null| null|        null| null|        null| null|        null| null|        null| null|        null| null|        null| null|        null| null|        null| null|        null| null|        null| null|        null| null|null|null|null|null|null|null|null|null|null|null|null|null|null|null|null|null|null|null|null|null|null| null| null| null|         null|         null|         null|  Claim Line Inform...|b1345806-3451-4bc...|                 2|  2021-10-01|            null|        null|         0518F|         null|          null|          null|          null|          null|   6|null|null|null|              null|      null|            null| 1.00000|        20.00|           0.00|                              0.00|              null|        null|                              0.00|             20.00|            0.00| null|  0.00|OA-246| null| null| null| null| null| null| null| null| null|               FALSE|     DENIED|                     null|                                 null|                                        null|                  null|                                null|                        null|    null|   null|   null|    null|   null|   null|    null|   null|   null|    null|   null|   null|    null|   null|   null|    null|     null|    null|     null|    null|     null|    null|     null|                 null|                  null|                   null|                 null|                  null|                   null|                       null|                        null|                         null|          null|                null|                    null|          ORPX87AH6|               0|\n",
      "|     Claim Control Inf...|a1e32631-958b-4cd...|           CX3YEZK3S|991e6d76-4c44-486...|                 AJXREWFEE4|   2020-11-24T17:19:...|     2020-11-24T17:24:...|ef5a6eb6-76bc-50b...|       DENTAL|              1|                  EDI|            null|508abe1d-e794-4d2...|        FALSE|           FALSE|               PAID|                           1|          AJXREWFEE4|        null|                   null|                null|            null|                null|               null|              null|               null|                     null|          NULL|        TRUE|                  TRUE|                  FALSE|          TRUE|       FALSE|                 TRUE|                       FALSE|                   N|Member Information|762e4de5-5161-4c9...|               D463W6|       1VC2CN0UR03|             ****|     ****|            ****|         ****|      1955|     F|                ****|                ****|                ****|               ****|                  TX|              ****|  ****|Medicare|    TX|     prime|Devoted Health Pr...|       null|     null|        null|      null|     null|       null|Provider Information|Provider Type ToDo|                 null|                  null|                   null|              PX6S66U|            1659865624|         JATINDER SINGH|                      122300000X|             Dental Providers/...|         1659865624|           841792090|          1659865624|       JATINDER SINGH|          2001 KATY MILLS B...|                          null|                         KATY|                            TX|                           774944880|       null|                  null|                   null|                      null|                      null|                 null|                  null|                null|      122300000X|    Dental Providers|                   null|9d8554dc-9169-4f5...| Liberty Dental (TX)|      JATINDER SINGH|        Claim Processing ...|         2020-11-24|                  null|            2020-11-09|                null|              null|        2020-10-13|       2020-10-13|          null|          null|          null|                  null|            2020-11-16|  2022-04-28|                null|                 null|                  null|                   null|                    null|                     null|    Claim Header Info...|                 TBD|          null|                null|                   11|               Office|null|null|null|null|null|null|null|null|null|null|null|null|null|null|null|null|null|null|null|null|null|null|null|null|null|null|null|null|null|null|null|null|null|null|null|null|null|null|null|null|null|null|null|null|null|null|null|null|    null|    null|    null| null| null| null| null| null| null|  null|  null|  null|  null|  null|  null|  null|  null|  null|  null|  null|  null|  null|  null|  null| null| null| null| null| null| null| null| null| null|  null|  null|  null|  null|  null|  null|  null|  null|  null|  null|  null|  null|  null|  null|  null|             null|  null|  null|  null|  null|  null|  null|  null|  null|   null|   null|   null|   null|   null|   null|   null|   null|   null|   null|   null|   null|   null|   null|   null|null|null|null|null|null|null|null|null|null| null| null| null| null| null| null| null| null| null| null| null| null| null| null| null|null|null|null|null|null|null|null|null|null| null| null| null| null| null| null| null| null| null| null| null| null| null| null| null|                 null|               null|          null|                 null|          null|      null|      null|      null|               7|                     null|    null|null|null|null|null|null|null|null|null|null| null| null| null| null| null| null| null| null| null| null| null| null| null| null| null| null|  null|  null|  null|  null|  null|  null|  null|  null|  null|   null|   null|   null|   null|   null|   null|   null|   null|   null|   null|   null|   null|   null|   null|   null|   null|                    410.00|                    182.00|                          null|                          null|                    null|                         0.00|                 182.00|              null|                null|       0029180137|                    null|               FALSE|             FALSE|       Claim Diagnosis I...|           0|    null|   null|       null|       null|null|       null|null|       null|null|       null|null|       null|null|       null|null|       null|null|       null|null|       null|null|        null| null|        null| null|        null| null|        null| null|        null| null|        null| null|        null| null|        null| null|        null| null|        null| null|        null| null|        null| null|        null| null|        null| null|        null| null|        null| null|        null| null|        null| null|        null| null|        null| null|        null| null|        null| null|        null| null|        null| null|        null| null|        null| null|        null| null|        null| null|        null| null|        null| null|        null| null|        null| null|        null| null|        null| null|        null| null|        null| null|        null| null|        null| null|        null| null|null|null|null|null|null|null|null|null|null|null|null|null|null|null|null|null|null|null|null|null|null| null| null| null|         null|         null|         null|  Claim Line Inform...|293e5758-fdbf-47a...|                 1|  2020-10-13|            null|        null|         D0220|         null|          null|          null|          null|          null|null|null|null|null|              null|      null|            null|    null|        50.00|          14.00|                              null|              null|        null|                              0.00|             36.00|           14.00|    O|  0.00| CO-45| null| null| null| null| null| null| null| null| null|                TRUE|       PAID|                        P|                  LIBERTY DENTAL PLAN|                                           S|                     1|                                  14|                  2020-11-16|      CO|     45|     36|    null|   null|   null|    null|   null|   null|    null|   null|   null|    null|   null|   null|     182|        D|    null|     null|    null|     null|    null|     null|                 null|                  null|                   null|                 null|                  null|                   null|                       null|                        null|                         null|          null|                null|                    null|               null|               0|\n",
      "|     Claim Control Inf...|d00c7fc7-4684-4ca...|           CXS422RYK|c8861499-008a-4d7...|                 AJXW77HCKY|   2019-04-05T09:06:...|     2019-04-09T05:00:...|d0bf3e2c-06b1-52f...| PROFESSIONAL|              1|                  EDI|           FALSE|de6bd6f2-5dac-477...|        FALSE|           FALSE|               PAID|                           1|          AJXW77HCKY|  RECONCILED|                  18933|ORLANDO FAMILY PH...|      1568563187|    121 S ORANGE AVE|          SUITE 940|           ORLANDO|                 FL|                328013221|          NULL|       FALSE|                  TRUE|                  FALSE|         FALSE|       FALSE|                 TRUE|                       FALSE|                   N|Member Information|abc010f4-d769-4d8...|               DKRG6C|       7AK4UK9VQ99|             ****|     ****|            ****|         ****|      1971|     F|                ****|                ****|                ****|               ****|                  FL|              ****|  ****|Medicare|    FL|     prime|Devoted Health Pr...|       null|     null|        null|      null|     null|       null|Provider Information|Provider Type ToDo|              PX83EA8|            1548480825|    Alexander Rodriguez|              PXZ2GHA|            1326234949|           LUIS CASIANO|                      207V00000X|             Allopathic & Oste...|         1568563187|           593635929|          1568563187| ORLANDO FAMILY PH...|              121 S ORANGE AVE|                     SUITE 940|                      ORLANDO|                            FL|                           328013221|       null|            1568563187|   JOHN YOUNG - ORLA...|      920 N JOHN YOUNG ...|                      null|            KISSIMMEE|                    FL|           347414914|      207V00000X|Allopathic & Oste...|                   null|ec655109-bab4-456...|Premier Health Ne...|ORLANDO FAMILY PH...|        Claim Processing ...|         2019-04-05|                  null|            2019-04-09|                null|              null|        2019-02-15|       2019-02-15|          null|          null|          null|            2019-04-10|            2019-04-12|  2022-04-28|                null|                 null|                  null|                   null|                    null|                     null|    Claim Header Info...|                 TBD|          null|                null|                   11|               Office|null|null|null|null|null|null|null|null|null|null|null|null|null|null|null|null|null|null|null|null|null|null|null|null|null|null|null|null|null|null|null|null|null|null|null|null|null|null|null|null|null|null|null|null|null|null|null|null|    null|    null|    null| null| null| null| null| null| null|  null|  null|  null|  null|  null|  null|  null|  null|  null|  null|  null|  null|  null|  null|  null| null| null| null| null| null| null| null| null| null|  null|  null|  null|  null|  null|  null|  null|  null|  null|  null|  null|  null|  null|  null|  null|             null|  null|  null|  null|  null|  null|  null|  null|  null|   null|   null|   null|   null|   null|   null|   null|   null|   null|   null|   null|   null|   null|   null|   null|null|null|null|null|null|null|null|null|null| null| null| null| null| null| null| null| null| null| null| null| null| null| null| null|null|null|null|null|null|null|null|null|null| null| null| null| null| null| null| null| null| null| null| null| null| null| null| null|                 null|               null|          null|                 null|          null|      null|      null|      null|               9|                     null|    null|null|null|null|null|null|null|null|null|null| null| null| null| null| null| null| null| null| null| null| null| null| null| null| null| null|  null|  null|  null|  null|  null|  null|  null|  null|  null|   null|   null|   null|   null|   null|   null|   null|   null|   null|   null|   null|   null|   null|   null|   null|   null|                    137.57|                     82.69|                         82.68|                          null|                    null|                         0.00|                   0.00|              null|                null|          1380351|                    null|               FALSE|             FALSE|       Claim Diagnosis I...|           0|    null| Z01419|       null|       N951|null|       Z113|null|      Z6838|null|       null|null|       null|null|       null|null|       null|null|       null|null|       null|null|        null| null|        null| null|        null| null|        null| null|        null| null|        null| null|        null| null|        null| null|        null| null|        null| null|        null| null|        null| null|        null| null|        null| null|        null| null|        null| null|        null| null|        null| null|        null| null|        null| null|        null| null|        null| null|        null| null|        null| null|        null| null|        null| null|        null| null|        null| null|        null| null|        null| null|        null| null|        null| null|        null| null|        null| null|        null| null|        null| null|        null| null|        null| null|        null| null|null|null|null|null|null|null|null|null|null|null|null|null|null|null|null|null|null|null|null|null|null| null| null| null|         null|         null|         null|  Claim Line Inform...|714c7a4d-f4e7-471...|                 7|  2019-02-15|            null|        null|         1036F|         null|          null|          null|          null|          null|   1|   2|   3|   4|              null|      null|            null| 1.00000|         0.01|           0.00|                              0.00|              null|        null|                              0.00|              0.01|            0.00| null|  0.00|OA-246| null| null| null| null| null| null| null| null| null|               FALSE|     DENIED|                     null|                                 null|                                        null|                  null|                                null|                        null|    null|   null|   null|    null|   null|   null|    null|   null|   null|    null|   null|   null|    null|   null|   null|    null|     null|    null|     null|    null|     null|    null|     null|                 null|                  null|                   null|                 null|                  null|                   null|                       null|                        null|                         null|          null|                null|                    null|          ORPXK5SK7|               0|\n",
      "|     Claim Control Inf...|b82aa09f-eaaf-4b3...|           CX3U3K6KR|672dfa94-1fea-41d...|                 AJXW92HKRZ|   2021-01-13T20:41:...|     2021-01-13T22:25:...|6636afc6-c25e-512...| PROFESSIONAL|           null|              Not_EDI|            null|508abe1d-e794-4d2...|        FALSE|           FALSE|               PAID|                           1|          AJXW92HKRZ|        null|                   null|                null|            null|                null|               null|              null|               null|                     null|          NULL|        TRUE|                 FALSE|                  FALSE|          TRUE|       FALSE|                 TRUE|                       FALSE|                   N|Member Information|1105f11e-64df-4cb...|               D3CYG3|       2AC5G10HY89|             ****|     ****|            ****|         ****|      1938|     F|                ****|                ****|                ****|               ****|                  FL|              ****|  ****|Medicare|    FL|      core|Devoted Health Mi...|       null|     null|        null|      null|     null|       null|Provider Information|Provider Type ToDo|                 null|                  null|                   null|                 null|                  null|                   null|                            null|                             null|               null|           391945651|                null| SilverSneakers (T...|          TIVITY HEALTH SER...|          701 Cool Springs ...|                     Franklin|                            TN|                               37067|       null|                  null|                   null|                      null|                      null|                 null|                  null|                null|            null|                null|                   null|1c5fd89d-21af-452...|Tivity Health Ser...|SilverSneakers (T...|        Claim Processing ...|         2021-01-13|                  null|            2020-02-01|                null|              null|        2020-02-01|       2020-02-25|          null|          null|          null|                  null|            2020-02-25|  2022-04-28|                null|                 null|                  null|                   null|                    null|                     null|    Claim Header Info...|                 TBD|          null|                null|                   99| Other Place of Se...|null|null|null|null|null|null|null|null|null|null|null|null|null|null|null|null|null|null|null|null|null|null|null|null|null|null|null|null|null|null|null|null|null|null|null|null|null|null|null|null|null|null|null|null|null|null|null|null|    null|    null|    null| null| null| null| null| null| null|  null|  null|  null|  null|  null|  null|  null|  null|  null|  null|  null|  null|  null|  null|  null| null| null| null| null| null| null| null| null| null|  null|  null|  null|  null|  null|  null|  null|  null|  null|  null|  null|  null|  null|  null|  null|             null|  null|  null|  null|  null|  null|  null|  null|  null|   null|   null|   null|   null|   null|   null|   null|   null|   null|   null|   null|   null|   null|   null|   null|null|null|null|null|null|null|null|null|null| null| null| null| null| null| null| null| null| null| null| null| null| null| null| null|null|null|null|null|null|null|null|null|null| null| null| null| null| null| null| null| null| null| null| null| null| null| null| null|                 null|               null|          null|                 null|          null|      null|      null|      null|               7|                     null|    null|null|null|null|null|null|null|null|null|null| null| null| null| null| null| null| null| null| null| null| null| null| null| null| null| null|  null|  null|  null|  null|  null|  null|  null|  null|  null|   null|   null|   null|   null|   null|   null|   null|   null|   null|   null|   null|   null|   null|   null|   null|   null|                     34.65|                     34.65|                          null|                          null|                    null|                         0.00|                  34.65|              null|                null|233942858-2020-02|                    null|               FALSE|             FALSE|       Claim Diagnosis I...|           0|    null|   null|       null|       null|null|       null|null|       null|null|       null|null|       null|null|       null|null|       null|null|       null|null|       null|null|        null| null|        null| null|        null| null|        null| null|        null| null|        null| null|        null| null|        null| null|        null| null|        null| null|        null| null|        null| null|        null| null|        null| null|        null| null|        null| null|        null| null|        null| null|        null| null|        null| null|        null| null|        null| null|        null| null|        null| null|        null| null|        null| null|        null| null|        null| null|        null| null|        null| null|        null| null|        null| null|        null| null|        null| null|        null| null|        null| null|        null| null|        null| null|        null| null|null|null|null|null|null|null|null|null|null|null|null|null|null|null|null|null|null|null|null|null|null| null| null| null|         null|         null|         null|  Claim Line Inform...|1889ceb6-8cca-4e6...|                 2|  2020-02-11|            null|        null|     GYM-VISIT|         null|          null|          null|          null|          null|null|null|null|null|              null|      null|            null|    null|         4.95|           4.95|                              null|              null|        null|                              0.00|              0.00|            4.95|    O|  0.00|  null| null| null| null| null| null| null| null| null| null|                TRUE|       PAID|                     null|                                 null|                                        null|                  null|                                null|                        null|    null|   null|   null|    null|   null|   null|    null|   null|   null|    null|   null|   null|    null|   null|   null|    null|     null|    null|     null|    null|     null|    null|     null|                 null|                  null|                   null|                 null|                  null|                   null|                       null|                        null|                         null|          null|                null|                    null|               null|               0|\n",
      "|     Claim Control Inf...|c314b7dd-bb20-44b...|           CXJ9F2GA5|6923896f-3736-40f...|                 AJXJ49WG9U|   2021-09-14T12:00:...|     2021-09-15T16:27:...|0c1f97d6-d6fd-569...| PROFESSIONAL|              1|                  EDI|            TRUE|5e1436b8-2983-493...|        FALSE|           FALSE|               PAID|                           1|          AJXJ49WG9U|  RECONCILED|                 303849|FLORIDA CANCER SP...|      1760590962|       PO BOX 102222|               null|           ATLANTA|                 GA|                303682222|          NULL|       FALSE|                 FALSE|                  FALSE|         FALSE|       FALSE|                 TRUE|                       FALSE|                   N|Member Information|103a8c1d-0c9e-46f...|               D35J5K|       2T68KU0EE47|             ****|     ****|            ****|         ****|      1954|     F|                ****|                ****|                ****|               ****|                  FL|              ****|  ****|Medicare|    FL|essentials|Devoted Health Es...|       null|     null|        null|      null|     null|       null|Provider Information|Provider Type ToDo|              PXUWGWZ|            1396826640|           Jason Wilson|              PXZ48WU|            1801898614|         VIVIAN GRIFFIN|                      2085R0001X|             Allopathic & Oste...|            PXZ48WU|           650825133|          1760590962|       Vivian Griffin|          4371 VERONICA S S...|                          null|                   FORT MYERS|                            FL|                           339162216|   FX69AR4W|            1679876395|   FLORIDA CANCER SP...|          100 HIGHLAND AVE|                      null|                LARGO|                    FL|           337702542|      2085R0001X|Allopathic & Oste...|     Radiation Oncology|1bc8b979-e6db-473...|Florida Cancer Sp...|FLORIDA CANCER SP...|        Claim Processing ...|         2021-09-14|                  null|            2021-09-15|                null|              null|        2021-09-03|       2021-09-03|          null|          null|          null|            2021-09-15|            2021-09-16|  2022-04-28|                null|                 null|                  null|                   null|                    null|                     null|    Claim Header Info...|                 TBD|          null|                null|                   11|               Office|null|null|null|null|null|null|null|null|null|null|null|null|null|null|null|null|null|null|null|null|null|null|null|null|null|null|null|null|null|null|null|null|null|null|null|null|null|null|null|null|null|null|null|null|null|null|null|null|    null|    null|    null| null| null| null| null| null| null|  null|  null|  null|  null|  null|  null|  null|  null|  null|  null|  null|  null|  null|  null|  null| null| null| null| null| null| null| null| null| null|  null|  null|  null|  null|  null|  null|  null|  null|  null|  null|  null|  null|  null|  null|  null|             null|  null|  null|  null|  null|  null|  null|  null|  null|   null|   null|   null|   null|   null|   null|   null|   null|   null|   null|   null|   null|   null|   null|   null|null|null|null|null|null|null|null|null|null| null| null| null| null| null| null| null| null| null| null| null| null| null| null| null|null|null|null|null|null|null|null|null|null| null| null| null| null| null| null| null| null| null| null| null| null| null| null| null|                 null|               null|          null|                 null|          null|      null|      null|      null|               2|                     null|    null|null|null|null|null|null|null|null|null|null| null| null| null| null| null| null| null| null| null| null| null| null| null| null| null| null|  null|  null|  null|  null|  null|  null|  null|  null|  null|   null|   null|   null|   null|   null|   null|   null|   null|   null|   null|   null|   null|   null|   null|   null|   null|                    857.00|                    322.62|                        322.62|                         64.53|                    null|                        64.53|                 258.09|              null|                null|        HLD407166|                    null|               FALSE|              TRUE|       Claim Diagnosis I...|           0|    null|  D0512|       null|       Z170|null|       null|null|       null|null|       null|null|       null|null|       null|null|       null|null|       null|null|       null|null|        null| null|        null| null|        null| null|        null| null|        null| null|        null| null|        null| null|        null| null|        null| null|        null| null|        null| null|        null| null|        null| null|        null| null|        null| null|        null| null|        null| null|        null| null|        null| null|        null| null|        null| null|        null| null|        null| null|        null| null|        null| null|        null| null|        null| null|        null| null|        null| null|        null| null|        null| null|        null| null|        null| null|        null| null|        null| null|        null| null|        null| null|        null| null|        null| null|null|null|null|null|null|null|null|null|null|null|null|null|null|null|null|null|null|null|null|null|null| null| null| null|         null|         null|         null|  Claim Line Inform...|a5e01c83-2156-4de...|                 0|  2021-09-03|            null|        null|         G6002|         null|          null|          null|          null|          null|   1|   2|null|null|              null|      null|            null| 1.00000|       270.00|          73.59|                             73.59|             14.72|        null|                             14.72|            196.41|           58.87|   %M|  0.00|  PR-2|CO-45| null| null| null| null| null| null| null| null|               FALSE|       PAID|                     null|                                 null|                                        null|                  null|                                null|                        null|    null|   null|   null|    null|   null|   null|    null|   null|   null|    null|   null|   null|    null|   null|   null|    null|     null|    null|     null|    null|     null|    null|     null|                 null|                  null|                   null|                 null|                  null|                   null|                       null|                        null|                         null|          null|                null|                    null|          ORPX45792|               1|\n",
      "|     Claim Control Inf...|91588438-5508-4ce...|           CX5UJURR3|992e51bc-2637-4c3...|                 AJXH4H39W6|   2021-04-02T16:33:...|     2021-04-13T12:38:...|5f7808a4-cf2f-583...|INSTITUTIONAL|              1|                  EDI|           FALSE|427d66ad-06da-4dc...|        FALSE|           FALSE|               PAID|                           1|          AJXH4H39W6|  RECONCILED|                 220250|LAKELAND HILLS CE...|      1174527907|610 E BELLA VISTA DR|               null|          LAKELAND|                 FL|                338053006|          NULL|       FALSE|                 FALSE|                  FALSE|         FALSE|       FALSE|                 TRUE|                       FALSE|                   N|Member Information|052a773f-b587-430...|               DUAWC3|       4A84K36CX04|             ****|     ****|            ****|         ****|      1946|     M|                ****|                ****|                ****|               ****|                  FL|              ****|  ****|Medicare|    FL|      core|Devoted Health Gr...|       null|     null|        null|      null|     null|       null|Provider Information|Provider Type ToDo|                 null|                  null|                   null|           1174527907|            1174527907|                   null|                      314000000X|                             null|         1174527907|           263411839|          1174527907| LAKELAND HILLS CE...|          610 E BELLA VISTA DR|                          null|                     LAKELAND|                            FL|                           338053006|   FXYR53GH|                  null|                   null|                      null|                      null|                 null|                  null|                null|      314000000X|Nursing & Custodi...|                   null|87993454-78a7-496...|Senior Health-Con...|LAKELAND HILLS CE...|        Claim Processing ...|         2021-04-02|                  null|            2021-04-13|          2021-03-01|        2021-03-27|        2021-03-01|       2021-03-21|    2021-03-01|    2021-03-27|            26|            2021-04-13|            2021-04-14|  2022-04-28|                null|                 null|                  null|                   null|                    null|                     null|    Claim Header Info...|                 TBD|            21|Skilled Nursing -...|                   31| Skilled Nursing F...|null|null|null|null|null|null|null|null|null|null|null|null|null|null|null|null|null|null|null|null|null|null|null|null|  50|null|null|null|null|null|null|null|null|null|null|null|null|null|null|null|null|null|null|null|null|null|null|null|20210306|    null|    null| null| null| null| null| null| null|  null|  null|  null|  null|  null|  null|  null|  null|  null|  null|  null|  null|  null|  null|  null|   70| null| null| null| null| null| null| null| null|  null|  null|  null|  null|  null|  null|  null|  null|  null|  null|  null|  null|  null|  null|  null|20210227-20210301|  null|  null|  null|  null|  null|  null|  null|  null|   null|   null|   null|   null|   null|   null|   null|   null|   null|   null|   null|   null|   null|   null|   null|  80|null|null|null|null|null|null|null|null| null| null| null| null| null| null| null| null| null| null| null| null| null| null| null|  26|null|null|null|null|null|null|null|null| null| null| null| null| null| null| null| null| null| null| null| null| null| null| null|                    4|                  3|          1700|                   01|          1300|      null|      null|      null|              12|                     null|    null|null|null|null|null|null|null|null|null|null| null| null| null| null| null| null| null| null| null| null| null| null| null| null| null| null|  null|  null|  null|  null|  null|  null|  null|  null|  null|   null|   null|   null|   null|   null|   null|   null|   null|   null|   null|   null|   null|   null|   null|   null|   null|                  20457.41|                  12907.29|                      14341.43|                          null|                 1104.00|                      1104.00|               11803.29|              null|                null|    261220006FRK9|                    null|               FALSE|              TRUE|       Claim Diagnosis I...|           0|  I69998| I69998|       null|        R42|null|      M6259|null|       Z741|null|      I2510|null|       E785|null|        I10|null|       E039|null|       E119|null|       F339|null|       E6601| null|       G9009| null|        null| null|        null| null|        null| null|        null| null|        null| null|        null| null|        null| null|        null| null|        null| null|        null| null|        null| null|        null| null|        null| null|        null| null|        null| null|        null| null|        null| null|        null| null|        null| null|        null| null|        null| null|        null| null|        null| null|        null| null|        null| null|        null| null|        null| null|        null| null|        null| null|        null| null|        null| null|        null| null|        null| null|        null| null|        null| null|        null| null|        null| null|null|null|null|null|null|null|null|null|null|null|null|null|null|null|null|null|null|null|null|null|null| null| null| null|         null|         null|         null|  Claim Line Inform...|ad06f079-e2bb-40a...|                 0|  2021-03-01|            null|        0022|         OGPC1|         null|          null|          null|          null|          null|null|null|null|null|              null|      null|            null| 3.00000|         0.00|           0.00|                              0.00|              null|        null|                              0.00|              0.00|            0.00| null|  0.00|  null| null| null| null| null| null| null| null| null| null|               FALSE|       PAID|                     null|                                 null|                                        null|                  null|                                null|                        null|    null|   null|   null|    null|   null|   null|    null|   null|   null|    null|   null|   null|    null|   null|   null|    null|     null|    null|     null|    null|     null|    null|     null|              PX6REWE|            1992725048|       Mohammad Ibrahim|                 null|                  null|                   null|                       null|                        null|                         null|          null|                null|                    null|               null|               3|\n",
      "|     Claim Control Inf...|7e90ef51-d093-440...|           CX6956323|9823ff96-bc40-4fe...|                 AJX327WJ9Y|   2021-07-29T09:33:...|     2021-08-02T14:09:...|3e12bb30-749e-5e0...| PROFESSIONAL|              1|                  EDI|            TRUE|5e1436b8-2983-493...|        FALSE|           FALSE|               PAID|                           1|          AJX327WJ9Y|  RECONCILED|                 139793|PULMONARY CONSULT...|      1558367706|        PO BOX 19506|               null|           BELFAST|                 ME|                049154090|          NULL|       FALSE|                 FALSE|                  FALSE|         FALSE|       FALSE|                 TRUE|                       FALSE|                   N|Member Information|c917dad5-bb08-41b...|               DEH4R4|       6Q59HY7TC45|             ****|     ****|            ****|         ****|      1952|     M|                ****|                ****|                ****|               ****|                  TX|              ****|  ****|Medicare|    TX|     prime|Devoted Health Pr...|       null|     null|        null|      null|     null|       null|Provider Information|Provider Type ToDo|              PX8CWA4|            1114181666|             Carla Acra|              PXWCCFA|            1457580334|    CESAR ARTILES FELIZ|                      207RP1001X|             Allopathic & Oste...|            PXWCCFA|           742981597|          1558367706|  Cesar Artiles Feliz|              10007 HUEBNER RD|                BLDG 4 STE 402|                  SAN ANTONIO|                            TX|                           782401640|       null|                  null|   PULMONARY CONSULT...|      10007 HUEBNER RD ...|                   STE 402|          SAN ANTONIO|                    TX|           782401640|      207RP1001X|Allopathic & Oste...|      Pulmonary Disease|39a62af8-b68e-44a...|SAN ANTONIO - Ten...|PULMONARY CONSULT...|        Claim Processing ...|         2021-07-29|                  null|            2021-08-02|                null|              null|        2021-07-12|       2021-07-12|          null|          null|          null|            2021-08-02|            2021-08-03|  2022-04-28|                null|                 null|                  null|                   null|                    null|                     null|    Claim Header Info...|                 TBD|          null|                null|                   11|               Office|null|null|null|null|null|null|null|null|null|null|null|null|null|null|null|null|null|null|null|null|null|null|null|null|null|null|null|null|null|null|null|null|null|null|null|null|null|null|null|null|null|null|null|null|null|null|null|null|    null|    null|    null| null| null| null| null| null| null|  null|  null|  null|  null|  null|  null|  null|  null|  null|  null|  null|  null|  null|  null|  null| null| null| null| null| null| null| null| null| null|  null|  null|  null|  null|  null|  null|  null|  null|  null|  null|  null|  null|  null|  null|  null|             null|  null|  null|  null|  null|  null|  null|  null|  null|   null|   null|   null|   null|   null|   null|   null|   null|   null|   null|   null|   null|   null|   null|   null|null|null|null|null|null|null|null|null|null| null| null| null| null| null| null| null| null| null| null| null| null| null| null| null|null|null|null|null|null|null|null|null|null| null| null| null| null| null| null| null| null| null| null| null| null| null| null| null|                 null|               null|          null|                 null|          null|      null|      null|      null|               3|                     null|    null|null|null|null|null|null|null|null|null|null| null| null| null| null| null| null| null| null| null| null| null| null| null| null| null| null|  null|  null|  null|  null|  null|  null|  null|  null|  null|   null|   null|   null|   null|   null|   null|   null|   null|   null|   null|   null|   null|   null|   null|   null|   null|                    387.48|                    129.16|                        129.16|                          null|                    null|                         0.00|                 129.16|              null|                null|     254873V14591|                    null|               FALSE|             FALSE|       Claim Diagnosis I...|           0|    null|  R0609|       null|       null|null|       null|null|       null|null|       null|null|       null|null|       null|null|       null|null|       null|null|       null|null|        null| null|        null| null|        null| null|        null| null|        null| null|        null| null|        null| null|        null| null|        null| null|        null| null|        null| null|        null| null|        null| null|        null| null|        null| null|        null| null|        null| null|        null| null|        null| null|        null| null|        null| null|        null| null|        null| null|        null| null|        null| null|        null| null|        null| null|        null| null|        null| null|        null| null|        null| null|        null| null|        null| null|        null| null|        null| null|        null| null|        null| null|        null| null|        null| null|null|null|null|null|null|null|null|null|null|null|null|null|null|null|null|null|null|null|null|null|null| null| null| null|         null|         null|         null|  Claim Line Inform...|ac249cff-a2b9-488...|                 1|  2021-07-12|            null|        null|         94727|           59|          null|          null|          null|          null|   1|null|null|null|              null|      null|            null| 1.00000|       128.40|          42.80|                             42.80|              null|        null|                              0.00|             85.60|           42.80|   %M|  0.00| CO-45| null| null| null| null| null| null| null| null| null|               FALSE|       PAID|                     null|                                 null|                                        null|                  null|                                null|                        null|    null|   null|   null|    null|   null|   null|    null|   null|   null|    null|   null|   null|    null|   null|   null|    null|     null|    null|     null|    null|     null|    null|     null|                 null|                  null|                   null|                 null|                  null|                   null|                       null|                        null|                         null|          null|                null|                    null|               null|               1|\n",
      "|     Claim Control Inf...|9a4cca9d-333f-475...|           CXKAYJUEH|a00bdec2-855c-46b...|                 AJX3KY2K9J|   2020-10-16T02:57:...|     2020-10-16T03:22:...|0301be69-9ee2-590...| PROFESSIONAL|              1|                  EDI|            TRUE|508abe1d-e794-4d2...|        FALSE|           FALSE|               PAID|                           1|          AJX3KY2K9J|  RECONCILED|                 147697|    CANO HEALTH| LLC|      1689901688|   9725 NW 117TH AVE|               FL 2|             MIAMI|                 FL|                331781212|          NULL|       FALSE|                  TRUE|                  FALSE|         FALSE|       FALSE|                 TRUE|                       FALSE|                   N|Member Information|8e0ae701-c985-48f...|               DE4ZH4|       7A31AN0FV98|             ****|     ****|            ****|         ****|      1954|     F|                ****|                ****|                ****|               ****|                  FL|              ****|  ****|Medicare|    FL|essentials|Devoted Health Es...|       null|     null|        null|      null|     null|       null|Provider Information|Provider Type ToDo|              PXRH46Z|            1528570223|       Ruben Valderrama|              PX63K99|            1467410431|          GLORIA PIEDRA|                      207R00000X|             Allopathic & Oste...|            PX63K99|           264543872|          1689901688|        Gloria Piedra|             9725 NW 117TH AVE|                          FL 2|                        MIAMI|                            FL|                           331781212|       null|            1689901688|         26-HIALEAH GMP|           3986 W 16TH AVE|                      null|              HIALEAH|                    FL|           330127000|      207R00000X|Allopathic & Oste...|                   null|8dbe9be2-03b4-42c...|CANO HEALTH| LLC ...|    CANO HEALTH| LLC|        Claim Processing ...|         2020-10-15|                  null|            2020-10-15|                null|              null|        2020-09-28|       2020-09-28|          null|          null|          null|            2020-10-16|            2020-10-19|  2022-04-28|                null|                 null|                  null|                   null|                    null|                     null|    Claim Header Info...|                 TBD|          null|                null|                   11|               Office|null|null|null|null|null|null|null|null|null|null|null|null|null|null|null|null|null|null|null|null|null|null|null|null|null|null|null|null|null|null|null|null|null|null|null|null|null|null|null|null|null|null|null|null|null|null|null|null|    null|    null|    null| null| null| null| null| null| null|  null|  null|  null|  null|  null|  null|  null|  null|  null|  null|  null|  null|  null|  null|  null| null| null| null| null| null| null| null| null| null|  null|  null|  null|  null|  null|  null|  null|  null|  null|  null|  null|  null|  null|  null|  null|             null|  null|  null|  null|  null|  null|  null|  null|  null|   null|   null|   null|   null|   null|   null|   null|   null|   null|   null|   null|   null|   null|   null|   null|null|null|null|null|null|null|null|null|null| null| null| null| null| null| null| null| null| null| null| null| null| null| null| null|null|null|null|null|null|null|null|null|null| null| null| null| null| null| null| null| null| null| null| null| null| null| null| null|                 null|               null|          null|                 null|          null|      null|      null|      null|               3|                     null|    null|null|null|null|null|null|null|null|null|null| null| null| null| null| null| null| null| null| null| null| null| null| null| null| null| null|  null|  null|  null|  null|  null|  null|  null|  null|  null|   null|   null|   null|   null|   null|   null|   null|   null|   null|   null|   null|   null|   null|   null|   null|   null|                    120.02|                     78.77|                         78.77|                          null|                    null|                         0.00|                   0.00|              null|                null|           725599|                    null|               FALSE|             FALSE|       Claim Diagnosis I...|           0|    null|  K2950|       null|      E7800|null|      N3090|null|       M545|null|      G8929|null|      Z6829|null|       null|null|       null|null|       null|null|       null|null|        null| null|        null| null|        null| null|        null| null|        null| null|        null| null|        null| null|        null| null|        null| null|        null| null|        null| null|        null| null|        null| null|        null| null|        null| null|        null| null|        null| null|        null| null|        null| null|        null| null|        null| null|        null| null|        null| null|        null| null|        null| null|        null| null|        null| null|        null| null|        null| null|        null| null|        null| null|        null| null|        null| null|        null| null|        null| null|        null| null|        null| null|        null| null|        null| null|null|null|null|null|null|null|null|null|null|null|null|null|null|null|null|null|null|null|null|null|null| null| null| null|         null|         null|         null|  Claim Line Inform...|c5793a23-c9f7-402...|                 1|  2020-09-28|      2020-09-28|        null|         4013F|         null|          null|          null|          null|          null|   2|null|null|null|              null|      null|            null| 1.00000|         0.01|           0.00|                              0.00|              null|        null|                              0.00|              0.01|            0.00| null|  0.00|OA-246| null| null| null| null| null| null| null| null| null|               FALSE|     DENIED|                     null|                                 null|                                        null|                  null|                                null|                        null|    null|   null|   null|    null|   null|   null|    null|   null|   null|    null|   null|   null|    null|   null|   null|    null|     null|    null|     null|    null|     null|    null|     null|                 null|                  null|                   null|                 null|                  null|                   null|                       null|                        null|                         null|          null|                null|                    null|          ORPX35J7G|               0|\n",
      "+-------------------------+--------------------+--------------------+--------------------+---------------------------+-----------------------+-------------------------+--------------------+-------------+---------------+---------------------+----------------+--------------------+-------------+----------------+-------------------+----------------------------+--------------------+------------+-----------------------+--------------------+----------------+--------------------+-------------------+------------------+-------------------+-------------------------+--------------+------------+----------------------+-----------------------+--------------+------------+---------------------+----------------------------+--------------------+------------------+--------------------+---------------------+------------------+-----------------+---------+----------------+-------------+----------+------+--------------------+--------------------+--------------------+-------------------+--------------------+------------------+------+--------+------+----------+--------------------+-----------+---------+------------+----------+---------+-----------+--------------------+------------------+---------------------+----------------------+-----------------------+---------------------+----------------------+-----------------------+--------------------------------+---------------------------------+-------------------+--------------------+--------------------+---------------------+------------------------------+------------------------------+-----------------------------+------------------------------+------------------------------------+-----------+----------------------+-----------------------+--------------------------+--------------------------+---------------------+----------------------+--------------------+----------------+--------------------+-----------------------+--------------------+--------------------+--------------------+----------------------------+-------------------+----------------------+----------------------+--------------------+------------------+------------------+-----------------+--------------+--------------+--------------+----------------------+----------------------+------------+--------------------+---------------------+----------------------+-----------------------+------------------------+-------------------------+------------------------+--------------------+--------------+--------------------+---------------------+---------------------+----+----+----+----+----+----+----+----+----+----+----+----+----+----+----+----+----+----+----+----+----+----+----+----+----+----+----+----+----+----+----+----+----+----+----+----+----+----+----+----+----+----+----+----+----+----+----+----+--------+--------+--------+-----+-----+-----+-----+-----+-----+------+------+------+------+------+------+------+------+------+------+------+------+------+------+------+-----+-----+-----+-----+-----+-----+-----+-----+-----+------+------+------+------+------+------+------+------+------+------+------+------+------+------+------+-----------------+------+------+------+------+------+------+------+------+-------+-------+-------+-------+-------+-------+-------+-------+-------+-------+-------+-------+-------+-------+-------+----+----+----+----+----+----+----+----+----+-----+-----+-----+-----+-----+-----+-----+-----+-----+-----+-----+-----+-----+-----+-----+----+----+----+----+----+----+----+----+----+-----+-----+-----+-----+-----+-----+-----+-----+-----+-----+-----+-----+-----+-----+-----+---------------------+-------------------+--------------+---------------------+--------------+----------+----------+----------+----------------+-------------------------+--------+----+----+----+----+----+----+----+----+----+-----+-----+-----+-----+-----+-----+-----+-----+-----+-----+-----+-----+-----+-----+-----+-----+------+------+------+------+------+------+------+------+------+-------+-------+-------+-------+-------+-------+-------+-------+-------+-------+-------+-------+-------+-------+-------+-------+--------------------------+--------------------------+------------------------------+------------------------------+------------------------+-----------------------------+-----------------------+------------------+--------------------+-----------------+------------------------+--------------------+------------------+---------------------------+------------+--------+-------+-----------+-----------+----+-----------+----+-----------+----+-----------+----+-----------+----+-----------+----+-----------+----+-----------+----+-----------+----+------------+-----+------------+-----+------------+-----+------------+-----+------------+-----+------------+-----+------------+-----+------------+-----+------------+-----+------------+-----+------------+-----+------------+-----+------------+-----+------------+-----+------------+-----+------------+-----+------------+-----+------------+-----+------------+-----+------------+-----+------------+-----+------------+-----+------------+-----+------------+-----+------------+-----+------------+-----+------------+-----+------------+-----+------------+-----+------------+-----+------------+-----+------------+-----+------------+-----+------------+-----+------------+-----+------------+-----+------------+-----+------------+-----+------------+-----+----+----+----+----+----+----+----+----+----+----+----+----+----+----+----+----+----+----+----+----+----+-----+-----+-----+-------------+-------------+-------------+----------------------+--------------------+------------------+------------+----------------+------------+--------------+-------------+--------------+--------------+--------------+--------------+----+----+----+----+------------------+----------+----------------+--------+-------------+---------------+----------------------------------+------------------+------------+----------------------------------+------------------+----------------+-----+------+------+-----+-----+-----+-----+-----+-----+-----+-----+-----+--------------------+-----------+-------------------------+-------------------------------------+--------------------------------------------+----------------------+------------------------------------+----------------------------+--------+-------+-------+--------+-------+-------+--------+-------+-------+--------+-------+-------+--------+-------+-------+--------+---------+--------+---------+--------+---------+--------+---------+---------------------+----------------------+-----------------------+---------------------+----------------------+-----------------------+---------------------------+----------------------------+-----------------------------+--------------+--------------------+------------------------+-------------------+----------------+\n",
      "only showing top 20 rows"
     ]
    }
   ],
   "source": [
    "df.show()"
   ]
  },
  {
   "cell_type": "code",
   "execution_count": 11,
   "id": "486053ed",
   "metadata": {},
   "outputs": [
    {
     "data": {
      "application/vnd.jupyter.widget-view+json": {
       "model_id": "be5033e726344013b2d803abf7f82bd4",
       "version_major": 2,
       "version_minor": 0
      },
      "text/plain": [
       "VBox()"
      ]
     },
     "metadata": {},
     "output_type": "display_data"
    },
    {
     "data": {
      "application/vnd.jupyter.widget-view+json": {
       "model_id": "",
       "version_major": 2,
       "version_minor": 0
      },
      "text/plain": [
       "FloatProgress(value=0.0, bar_style='info', description='Progress:', layout=Layout(height='25px', width='50%'),…"
      ]
     },
     "metadata": {},
     "output_type": "display_data"
    }
   ],
   "source": [
    "from pyspark.sql.functions import *\n",
    "\n",
    "df = df.withColumn(\"FIRST_SERVICE_DATE\",to_date(\"FIRST_SERVICE_DATE\"))"
   ]
  },
  {
   "cell_type": "code",
   "execution_count": 13,
   "id": "59d96715",
   "metadata": {},
   "outputs": [
    {
     "data": {
      "application/vnd.jupyter.widget-view+json": {
       "model_id": "d50b39eab4f542cba23d336700a408c1",
       "version_major": 2,
       "version_minor": 0
      },
      "text/plain": [
       "VBox()"
      ]
     },
     "metadata": {},
     "output_type": "display_data"
    },
    {
     "data": {
      "application/vnd.jupyter.widget-view+json": {
       "model_id": "",
       "version_major": 2,
       "version_minor": 0
      },
      "text/plain": [
       "FloatProgress(value=0.0, bar_style='info', description='Progress:', layout=Layout(height='25px', width='50%'),…"
      ]
     },
     "metadata": {},
     "output_type": "display_data"
    },
    {
     "name": "stdout",
     "output_type": "stream",
     "text": [
      "+------------------+\n",
      "|FIRST_SERVICE_DATE|\n",
      "+------------------+\n",
      "|        2021-09-23|\n",
      "|        2021-12-02|\n",
      "|        2021-03-29|\n",
      "|        2020-02-24|\n",
      "|        2021-08-09|\n",
      "|        2021-01-12|\n",
      "|        2021-04-27|\n",
      "|        2021-04-19|\n",
      "|        2022-02-24|\n",
      "|        2019-02-21|\n",
      "|        2022-02-02|\n",
      "|        2021-09-22|\n",
      "|        2021-10-01|\n",
      "|        2020-10-13|\n",
      "|        2019-02-15|\n",
      "|        2020-02-01|\n",
      "|        2021-09-03|\n",
      "|        2021-03-01|\n",
      "|        2021-07-12|\n",
      "|        2020-09-28|\n",
      "+------------------+\n",
      "only showing top 20 rows"
     ]
    }
   ],
   "source": [
    "df[['FIRST_SERVICE_DATE']].show()"
   ]
  },
  {
   "cell_type": "code",
   "execution_count": null,
   "id": "0285f313",
   "metadata": {},
   "outputs": [],
   "source": []
  }
 ],
 "metadata": {
  "kernelspec": {
   "display_name": "PySpark",
   "language": "python",
   "name": "pysparkkernel"
  },
  "language_info": {
   "codemirror_mode": {
    "name": "python",
    "version": 3
   },
   "file_extension": ".py",
   "mimetype": "text/x-python",
   "name": "pyspark",
   "pygments_lexer": "python3"
  }
 },
 "nbformat": 4,
 "nbformat_minor": 5
}
